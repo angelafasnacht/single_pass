{
 "cells": [
  {
   "attachments": {},
   "cell_type": "markdown",
   "metadata": {},
   "source": [
    "#### Correlación por Parámetro 80ft y 1100ft por día VS Concentración del Glifosato (C= 0, 0.4, 1.5, 3 y juntos)\n",
    " "
   ]
  },
  {
   "cell_type": "markdown",
   "metadata": {},
   "source": [
    "### Se importan las librerias"
   ]
  },
  {
   "cell_type": "code",
   "execution_count": 1,
   "metadata": {},
   "outputs": [],
   "source": [
    "# Se importan las librerias\n",
    "import numpy as np\n",
    "import pandas as pd\n",
    "import seaborn as sb\n",
    "import matplotlib.pyplot as plt"
   ]
  },
  {
   "cell_type": "markdown",
   "metadata": {},
   "source": [
    "### Se cargan los datos"
   ]
  },
  {
   "cell_type": "code",
   "execution_count": 2,
   "metadata": {},
   "outputs": [
    {
     "data": {
      "text/html": [
       "<div>\n",
       "<style scoped>\n",
       "    .dataframe tbody tr th:only-of-type {\n",
       "        vertical-align: middle;\n",
       "    }\n",
       "\n",
       "    .dataframe tbody tr th {\n",
       "        vertical-align: top;\n",
       "    }\n",
       "\n",
       "    .dataframe thead th {\n",
       "        text-align: right;\n",
       "    }\n",
       "</style>\n",
       "<table border=\"1\" class=\"dataframe\">\n",
       "  <thead>\n",
       "    <tr style=\"text-align: right;\">\n",
       "      <th></th>\n",
       "      <th>date</th>\n",
       "      <th>date(m/d/y)</th>\n",
       "      <th>time</th>\n",
       "      <th>day</th>\n",
       "      <th>concentration</th>\n",
       "      <th>chloride_80ft(mg/L)</th>\n",
       "      <th>chloride_1100ft(mg/L)</th>\n",
       "      <th>difference_chloride</th>\n",
       "      <th>CL2_80ft(PPM)</th>\n",
       "      <th>CL2_1100ft(PPM)</th>\n",
       "      <th>...</th>\n",
       "      <th>difference_ORP_YSI</th>\n",
       "      <th>pH_YSI_80ft</th>\n",
       "      <th>pH_YSI_1100ft</th>\n",
       "      <th>difference_pH</th>\n",
       "      <th>sp_cond_YSI_80ft(µS/cm)</th>\n",
       "      <th>sp_cond_YSI_1100ft(µS/cm)</th>\n",
       "      <th>difference_sp_cond_YSI</th>\n",
       "      <th>turbidity_YSI_80ft(NTU+)</th>\n",
       "      <th>turbidity_YSI_1100ft(NTU+)</th>\n",
       "      <th>difference_turbidity</th>\n",
       "    </tr>\n",
       "  </thead>\n",
       "  <tbody>\n",
       "    <tr>\n",
       "      <th>0</th>\n",
       "      <td>25/01/05 12:30</td>\n",
       "      <td>25/01/05</td>\n",
       "      <td>12.30</td>\n",
       "      <td>1</td>\n",
       "      <td>0.0</td>\n",
       "      <td>16.33</td>\n",
       "      <td>17.02</td>\n",
       "      <td>0.69</td>\n",
       "      <td>1.02</td>\n",
       "      <td>1.05</td>\n",
       "      <td>...</td>\n",
       "      <td>75</td>\n",
       "      <td>7.23</td>\n",
       "      <td>8.68</td>\n",
       "      <td>1.45</td>\n",
       "      <td>281</td>\n",
       "      <td>284</td>\n",
       "      <td>3</td>\n",
       "      <td>0.5</td>\n",
       "      <td>0.1</td>\n",
       "      <td>-0.4</td>\n",
       "    </tr>\n",
       "    <tr>\n",
       "      <th>1</th>\n",
       "      <td>25/01/05 12:31</td>\n",
       "      <td>25/01/05</td>\n",
       "      <td>12.31</td>\n",
       "      <td>1</td>\n",
       "      <td>0.0</td>\n",
       "      <td>16.39</td>\n",
       "      <td>17.12</td>\n",
       "      <td>0.73</td>\n",
       "      <td>1.02</td>\n",
       "      <td>1.05</td>\n",
       "      <td>...</td>\n",
       "      <td>75</td>\n",
       "      <td>7.22</td>\n",
       "      <td>8.67</td>\n",
       "      <td>1.45</td>\n",
       "      <td>281</td>\n",
       "      <td>283</td>\n",
       "      <td>2</td>\n",
       "      <td>0.8</td>\n",
       "      <td>0.1</td>\n",
       "      <td>-0.7</td>\n",
       "    </tr>\n",
       "    <tr>\n",
       "      <th>2</th>\n",
       "      <td>25/01/05 12:32</td>\n",
       "      <td>25/01/05</td>\n",
       "      <td>12.32</td>\n",
       "      <td>1</td>\n",
       "      <td>0.0</td>\n",
       "      <td>16.39</td>\n",
       "      <td>17.12</td>\n",
       "      <td>0.73</td>\n",
       "      <td>1.02</td>\n",
       "      <td>1.05</td>\n",
       "      <td>...</td>\n",
       "      <td>75</td>\n",
       "      <td>7.22</td>\n",
       "      <td>8.68</td>\n",
       "      <td>1.46</td>\n",
       "      <td>281</td>\n",
       "      <td>283</td>\n",
       "      <td>2</td>\n",
       "      <td>0.8</td>\n",
       "      <td>0.1</td>\n",
       "      <td>-0.7</td>\n",
       "    </tr>\n",
       "    <tr>\n",
       "      <th>3</th>\n",
       "      <td>25/01/05 12:33</td>\n",
       "      <td>25/01/05</td>\n",
       "      <td>12.33</td>\n",
       "      <td>1</td>\n",
       "      <td>0.0</td>\n",
       "      <td>16.38</td>\n",
       "      <td>17.11</td>\n",
       "      <td>0.73</td>\n",
       "      <td>1.02</td>\n",
       "      <td>1.04</td>\n",
       "      <td>...</td>\n",
       "      <td>76</td>\n",
       "      <td>7.22</td>\n",
       "      <td>8.68</td>\n",
       "      <td>1.46</td>\n",
       "      <td>281</td>\n",
       "      <td>283</td>\n",
       "      <td>2</td>\n",
       "      <td>0.8</td>\n",
       "      <td>0.1</td>\n",
       "      <td>-0.7</td>\n",
       "    </tr>\n",
       "    <tr>\n",
       "      <th>4</th>\n",
       "      <td>25/01/05 12:34</td>\n",
       "      <td>25/01/05</td>\n",
       "      <td>12.34</td>\n",
       "      <td>1</td>\n",
       "      <td>0.0</td>\n",
       "      <td>16.39</td>\n",
       "      <td>17.03</td>\n",
       "      <td>0.64</td>\n",
       "      <td>1.02</td>\n",
       "      <td>1.04</td>\n",
       "      <td>...</td>\n",
       "      <td>76</td>\n",
       "      <td>7.22</td>\n",
       "      <td>8.68</td>\n",
       "      <td>1.46</td>\n",
       "      <td>281</td>\n",
       "      <td>284</td>\n",
       "      <td>3</td>\n",
       "      <td>0.7</td>\n",
       "      <td>0.1</td>\n",
       "      <td>-0.6</td>\n",
       "    </tr>\n",
       "    <tr>\n",
       "      <th>...</th>\n",
       "      <td>...</td>\n",
       "      <td>...</td>\n",
       "      <td>...</td>\n",
       "      <td>...</td>\n",
       "      <td>...</td>\n",
       "      <td>...</td>\n",
       "      <td>...</td>\n",
       "      <td>...</td>\n",
       "      <td>...</td>\n",
       "      <td>...</td>\n",
       "      <td>...</td>\n",
       "      <td>...</td>\n",
       "      <td>...</td>\n",
       "      <td>...</td>\n",
       "      <td>...</td>\n",
       "      <td>...</td>\n",
       "      <td>...</td>\n",
       "      <td>...</td>\n",
       "      <td>...</td>\n",
       "      <td>...</td>\n",
       "      <td>...</td>\n",
       "    </tr>\n",
       "    <tr>\n",
       "      <th>621</th>\n",
       "      <td>26/01/05 15:56</td>\n",
       "      <td>26/01/05</td>\n",
       "      <td>15.56</td>\n",
       "      <td>2</td>\n",
       "      <td>3.0</td>\n",
       "      <td>16.37</td>\n",
       "      <td>17.93</td>\n",
       "      <td>1.56</td>\n",
       "      <td>1.00</td>\n",
       "      <td>1.02</td>\n",
       "      <td>...</td>\n",
       "      <td>95</td>\n",
       "      <td>7.17</td>\n",
       "      <td>8.72</td>\n",
       "      <td>1.55</td>\n",
       "      <td>287</td>\n",
       "      <td>289</td>\n",
       "      <td>2</td>\n",
       "      <td>0.8</td>\n",
       "      <td>0.0</td>\n",
       "      <td>-0.8</td>\n",
       "    </tr>\n",
       "    <tr>\n",
       "      <th>622</th>\n",
       "      <td>26/01/05 15:57</td>\n",
       "      <td>26/01/05</td>\n",
       "      <td>15.57</td>\n",
       "      <td>2</td>\n",
       "      <td>3.0</td>\n",
       "      <td>16.38</td>\n",
       "      <td>17.92</td>\n",
       "      <td>1.54</td>\n",
       "      <td>1.00</td>\n",
       "      <td>1.01</td>\n",
       "      <td>...</td>\n",
       "      <td>96</td>\n",
       "      <td>7.17</td>\n",
       "      <td>8.72</td>\n",
       "      <td>1.55</td>\n",
       "      <td>287</td>\n",
       "      <td>289</td>\n",
       "      <td>2</td>\n",
       "      <td>0.9</td>\n",
       "      <td>0.0</td>\n",
       "      <td>-0.9</td>\n",
       "    </tr>\n",
       "    <tr>\n",
       "      <th>623</th>\n",
       "      <td>26/01/05 15:58</td>\n",
       "      <td>26/01/05</td>\n",
       "      <td>15.58</td>\n",
       "      <td>2</td>\n",
       "      <td>3.0</td>\n",
       "      <td>16.37</td>\n",
       "      <td>17.90</td>\n",
       "      <td>1.53</td>\n",
       "      <td>1.00</td>\n",
       "      <td>1.01</td>\n",
       "      <td>...</td>\n",
       "      <td>96</td>\n",
       "      <td>7.17</td>\n",
       "      <td>8.71</td>\n",
       "      <td>1.54</td>\n",
       "      <td>287</td>\n",
       "      <td>289</td>\n",
       "      <td>2</td>\n",
       "      <td>0.8</td>\n",
       "      <td>0.0</td>\n",
       "      <td>-0.8</td>\n",
       "    </tr>\n",
       "    <tr>\n",
       "      <th>624</th>\n",
       "      <td>26/01/05 15:59</td>\n",
       "      <td>26/01/05</td>\n",
       "      <td>15.59</td>\n",
       "      <td>2</td>\n",
       "      <td>3.0</td>\n",
       "      <td>16.35</td>\n",
       "      <td>17.91</td>\n",
       "      <td>1.56</td>\n",
       "      <td>1.00</td>\n",
       "      <td>1.01</td>\n",
       "      <td>...</td>\n",
       "      <td>97</td>\n",
       "      <td>7.16</td>\n",
       "      <td>8.71</td>\n",
       "      <td>1.55</td>\n",
       "      <td>287</td>\n",
       "      <td>289</td>\n",
       "      <td>2</td>\n",
       "      <td>0.9</td>\n",
       "      <td>0.0</td>\n",
       "      <td>-0.9</td>\n",
       "    </tr>\n",
       "    <tr>\n",
       "      <th>625</th>\n",
       "      <td>26/01/05 16:00</td>\n",
       "      <td>26/01/05</td>\n",
       "      <td>16.00</td>\n",
       "      <td>2</td>\n",
       "      <td>3.0</td>\n",
       "      <td>16.31</td>\n",
       "      <td>17.87</td>\n",
       "      <td>1.56</td>\n",
       "      <td>0.99</td>\n",
       "      <td>1.01</td>\n",
       "      <td>...</td>\n",
       "      <td>97</td>\n",
       "      <td>7.16</td>\n",
       "      <td>8.72</td>\n",
       "      <td>1.56</td>\n",
       "      <td>287</td>\n",
       "      <td>289</td>\n",
       "      <td>2</td>\n",
       "      <td>0.8</td>\n",
       "      <td>0.1</td>\n",
       "      <td>-0.7</td>\n",
       "    </tr>\n",
       "  </tbody>\n",
       "</table>\n",
       "<p>626 rows × 32 columns</p>\n",
       "</div>"
      ],
      "text/plain": [
       "               date date(m/d/y)   time  day  concentration  \\\n",
       "0    25/01/05 12:30    25/01/05  12.30    1            0.0   \n",
       "1    25/01/05 12:31    25/01/05  12.31    1            0.0   \n",
       "2    25/01/05 12:32    25/01/05  12.32    1            0.0   \n",
       "3    25/01/05 12:33    25/01/05  12.33    1            0.0   \n",
       "4    25/01/05 12:34    25/01/05  12.34    1            0.0   \n",
       "..              ...         ...    ...  ...            ...   \n",
       "621  26/01/05 15:56    26/01/05  15.56    2            3.0   \n",
       "622  26/01/05 15:57    26/01/05  15.57    2            3.0   \n",
       "623  26/01/05 15:58    26/01/05  15.58    2            3.0   \n",
       "624  26/01/05 15:59    26/01/05  15.59    2            3.0   \n",
       "625  26/01/05 16:00    26/01/05  16.00    2            3.0   \n",
       "\n",
       "     chloride_80ft(mg/L)  chloride_1100ft(mg/L)  difference_chloride  \\\n",
       "0                  16.33                  17.02                 0.69   \n",
       "1                  16.39                  17.12                 0.73   \n",
       "2                  16.39                  17.12                 0.73   \n",
       "3                  16.38                  17.11                 0.73   \n",
       "4                  16.39                  17.03                 0.64   \n",
       "..                   ...                    ...                  ...   \n",
       "621                16.37                  17.93                 1.56   \n",
       "622                16.38                  17.92                 1.54   \n",
       "623                16.37                  17.90                 1.53   \n",
       "624                16.35                  17.91                 1.56   \n",
       "625                16.31                  17.87                 1.56   \n",
       "\n",
       "     CL2_80ft(PPM)  CL2_1100ft(PPM)  ...  difference_ORP_YSI  pH_YSI_80ft  \\\n",
       "0             1.02             1.05  ...                  75         7.23   \n",
       "1             1.02             1.05  ...                  75         7.22   \n",
       "2             1.02             1.05  ...                  75         7.22   \n",
       "3             1.02             1.04  ...                  76         7.22   \n",
       "4             1.02             1.04  ...                  76         7.22   \n",
       "..             ...              ...  ...                 ...          ...   \n",
       "621           1.00             1.02  ...                  95         7.17   \n",
       "622           1.00             1.01  ...                  96         7.17   \n",
       "623           1.00             1.01  ...                  96         7.17   \n",
       "624           1.00             1.01  ...                  97         7.16   \n",
       "625           0.99             1.01  ...                  97         7.16   \n",
       "\n",
       "     pH_YSI_1100ft  difference_pH  sp_cond_YSI_80ft(µS/cm)  \\\n",
       "0             8.68           1.45                      281   \n",
       "1             8.67           1.45                      281   \n",
       "2             8.68           1.46                      281   \n",
       "3             8.68           1.46                      281   \n",
       "4             8.68           1.46                      281   \n",
       "..             ...            ...                      ...   \n",
       "621           8.72           1.55                      287   \n",
       "622           8.72           1.55                      287   \n",
       "623           8.71           1.54                      287   \n",
       "624           8.71           1.55                      287   \n",
       "625           8.72           1.56                      287   \n",
       "\n",
       "     sp_cond_YSI_1100ft(µS/cm)  difference_sp_cond_YSI  \\\n",
       "0                          284                       3   \n",
       "1                          283                       2   \n",
       "2                          283                       2   \n",
       "3                          283                       2   \n",
       "4                          284                       3   \n",
       "..                         ...                     ...   \n",
       "621                        289                       2   \n",
       "622                        289                       2   \n",
       "623                        289                       2   \n",
       "624                        289                       2   \n",
       "625                        289                       2   \n",
       "\n",
       "     turbidity_YSI_80ft(NTU+)  turbidity_YSI_1100ft(NTU+)  \\\n",
       "0                         0.5                         0.1   \n",
       "1                         0.8                         0.1   \n",
       "2                         0.8                         0.1   \n",
       "3                         0.8                         0.1   \n",
       "4                         0.7                         0.1   \n",
       "..                        ...                         ...   \n",
       "621                       0.8                         0.0   \n",
       "622                       0.9                         0.0   \n",
       "623                       0.8                         0.0   \n",
       "624                       0.9                         0.0   \n",
       "625                       0.8                         0.1   \n",
       "\n",
       "     difference_turbidity  \n",
       "0                    -0.4  \n",
       "1                    -0.7  \n",
       "2                    -0.7  \n",
       "3                    -0.7  \n",
       "4                    -0.6  \n",
       "..                    ...  \n",
       "621                  -0.8  \n",
       "622                  -0.9  \n",
       "623                  -0.8  \n",
       "624                  -0.9  \n",
       "625                  -0.7  \n",
       "\n",
       "[626 rows x 32 columns]"
      ]
     },
     "execution_count": 2,
     "metadata": {},
     "output_type": "execute_result"
    }
   ],
   "source": [
    "data = pd.read_csv(\"data/data_all.csv\", sep=\";\")\n",
    "\n",
    "data"
   ]
  },
  {
   "cell_type": "markdown",
   "metadata": {},
   "source": [
    "### Preprocesamiento"
   ]
  },
  {
   "cell_type": "code",
   "execution_count": 3,
   "metadata": {
    "scrolled": true
   },
   "outputs": [
    {
     "name": "stdout",
     "output_type": "stream",
     "text": [
      "Columna      Cantidad NaN\n",
      "date                           0\n",
      "date(m/d/y)                    0\n",
      "time                           0\n",
      "day                            0\n",
      "concentration                  0\n",
      "chloride_80ft(mg/L)            0\n",
      "chloride_1100ft(mg/L)          0\n",
      "difference_chloride            0\n",
      "CL2_80ft(PPM)                  0\n",
      "CL2_1100ft(PPM)                0\n",
      "difference_CL2                 0\n",
      "DO_YSI_80ft(mg/L)              0\n",
      "DO_YSI_1100ft(mg/L)            0\n",
      "difference_DO_YSI              0\n",
      "FreeClorine_ATI_80ft(PPM)      0\n",
      "FreeClorine_ATI_1100ft(PPM)    0\n",
      "difference_FreeClorine_ATI     0\n",
      "FreeClorine_X_80ft(PPM)        0\n",
      "FreeClorine_X_1100ft(PPM)      0\n",
      "difference_FreeClorine_X       0\n",
      "ORP_YSI_80ft(mV)               0\n",
      "ORP_YSI_1100ft(mV)             0\n",
      "difference_ORP_YSI             0\n",
      "pH_YSI_80ft                    0\n",
      "pH_YSI_1100ft                  0\n",
      "difference_pH                  0\n",
      "sp_cond_YSI_80ft(µS/cm)        0\n",
      "sp_cond_YSI_1100ft(µS/cm)      0\n",
      "difference_sp_cond_YSI         0\n",
      "turbidity_YSI_80ft(NTU+)       0\n",
      "turbidity_YSI_1100ft(NTU+)     0\n",
      "difference_turbidity           0\n",
      "dtype: int64\n",
      "(626, 32)\n"
     ]
    }
   ],
   "source": [
    "# Se buscan registros NaN para eliminarlos\n",
    "print('Columna      Cantidad NaN')\n",
    "print(data.isnull().sum(axis = 0))\n",
    "print(data.shape)"
   ]
  },
  {
   "cell_type": "code",
   "execution_count": 4,
   "metadata": {},
   "outputs": [],
   "source": [
    "# Se eliminan los registros NaN del DataFrame\n",
    "#data = data.dropna()"
   ]
  },
  {
   "cell_type": "code",
   "execution_count": 5,
   "metadata": {},
   "outputs": [
    {
     "data": {
      "text/html": [
       "<div>\n",
       "<style scoped>\n",
       "    .dataframe tbody tr th:only-of-type {\n",
       "        vertical-align: middle;\n",
       "    }\n",
       "\n",
       "    .dataframe tbody tr th {\n",
       "        vertical-align: top;\n",
       "    }\n",
       "\n",
       "    .dataframe thead th {\n",
       "        text-align: right;\n",
       "    }\n",
       "</style>\n",
       "<table border=\"1\" class=\"dataframe\">\n",
       "  <thead>\n",
       "    <tr style=\"text-align: right;\">\n",
       "      <th></th>\n",
       "      <th>time</th>\n",
       "      <th>day</th>\n",
       "      <th>concentration</th>\n",
       "      <th>chloride_80ft(mg/L)</th>\n",
       "      <th>chloride_1100ft(mg/L)</th>\n",
       "      <th>difference_chloride</th>\n",
       "      <th>CL2_80ft(PPM)</th>\n",
       "      <th>CL2_1100ft(PPM)</th>\n",
       "      <th>difference_CL2</th>\n",
       "      <th>DO_YSI_80ft(mg/L)</th>\n",
       "      <th>...</th>\n",
       "      <th>difference_ORP_YSI</th>\n",
       "      <th>pH_YSI_80ft</th>\n",
       "      <th>pH_YSI_1100ft</th>\n",
       "      <th>difference_pH</th>\n",
       "      <th>sp_cond_YSI_80ft(µS/cm)</th>\n",
       "      <th>sp_cond_YSI_1100ft(µS/cm)</th>\n",
       "      <th>difference_sp_cond_YSI</th>\n",
       "      <th>turbidity_YSI_80ft(NTU+)</th>\n",
       "      <th>turbidity_YSI_1100ft(NTU+)</th>\n",
       "      <th>difference_turbidity</th>\n",
       "    </tr>\n",
       "  </thead>\n",
       "  <tbody>\n",
       "    <tr>\n",
       "      <th>count</th>\n",
       "      <td>626.000000</td>\n",
       "      <td>626.000000</td>\n",
       "      <td>626.000000</td>\n",
       "      <td>626.000000</td>\n",
       "      <td>626.000000</td>\n",
       "      <td>626.000000</td>\n",
       "      <td>626.000000</td>\n",
       "      <td>626.000000</td>\n",
       "      <td>626.000000</td>\n",
       "      <td>626.000000</td>\n",
       "      <td>...</td>\n",
       "      <td>626.000000</td>\n",
       "      <td>626.000000</td>\n",
       "      <td>626.000000</td>\n",
       "      <td>626.000000</td>\n",
       "      <td>626.000000</td>\n",
       "      <td>626.000000</td>\n",
       "      <td>626.000000</td>\n",
       "      <td>626.000000</td>\n",
       "      <td>626.000000</td>\n",
       "      <td>626.000000</td>\n",
       "    </tr>\n",
       "    <tr>\n",
       "      <th>mean</th>\n",
       "      <td>13.869968</td>\n",
       "      <td>1.504792</td>\n",
       "      <td>1.161981</td>\n",
       "      <td>16.382061</td>\n",
       "      <td>17.323882</td>\n",
       "      <td>0.941821</td>\n",
       "      <td>0.932812</td>\n",
       "      <td>0.953690</td>\n",
       "      <td>0.020911</td>\n",
       "      <td>14.553035</td>\n",
       "      <td>...</td>\n",
       "      <td>103.948882</td>\n",
       "      <td>7.156677</td>\n",
       "      <td>8.652077</td>\n",
       "      <td>1.495399</td>\n",
       "      <td>283.683706</td>\n",
       "      <td>286.035144</td>\n",
       "      <td>2.351438</td>\n",
       "      <td>0.745367</td>\n",
       "      <td>0.068371</td>\n",
       "      <td>-0.676997</td>\n",
       "    </tr>\n",
       "    <tr>\n",
       "      <th>std</th>\n",
       "      <td>1.857436</td>\n",
       "      <td>0.500377</td>\n",
       "      <td>1.164567</td>\n",
       "      <td>0.285729</td>\n",
       "      <td>0.511636</td>\n",
       "      <td>0.600773</td>\n",
       "      <td>0.155687</td>\n",
       "      <td>0.158904</td>\n",
       "      <td>0.234459</td>\n",
       "      <td>0.145409</td>\n",
       "      <td>...</td>\n",
       "      <td>32.323375</td>\n",
       "      <td>0.050923</td>\n",
       "      <td>0.091153</td>\n",
       "      <td>0.110395</td>\n",
       "      <td>2.617900</td>\n",
       "      <td>2.224671</td>\n",
       "      <td>0.625695</td>\n",
       "      <td>0.167960</td>\n",
       "      <td>0.101617</td>\n",
       "      <td>0.192369</td>\n",
       "    </tr>\n",
       "    <tr>\n",
       "      <th>min</th>\n",
       "      <td>10.050000</td>\n",
       "      <td>1.000000</td>\n",
       "      <td>0.000000</td>\n",
       "      <td>15.620000</td>\n",
       "      <td>16.550000</td>\n",
       "      <td>-0.360000</td>\n",
       "      <td>0.470000</td>\n",
       "      <td>0.490000</td>\n",
       "      <td>-0.510000</td>\n",
       "      <td>14.130000</td>\n",
       "      <td>...</td>\n",
       "      <td>56.000000</td>\n",
       "      <td>6.980000</td>\n",
       "      <td>8.240000</td>\n",
       "      <td>1.060000</td>\n",
       "      <td>281.000000</td>\n",
       "      <td>283.000000</td>\n",
       "      <td>1.000000</td>\n",
       "      <td>0.000000</td>\n",
       "      <td>-0.100000</td>\n",
       "      <td>-2.500000</td>\n",
       "    </tr>\n",
       "    <tr>\n",
       "      <th>25%</th>\n",
       "      <td>12.562500</td>\n",
       "      <td>1.000000</td>\n",
       "      <td>0.000000</td>\n",
       "      <td>16.290000</td>\n",
       "      <td>16.880000</td>\n",
       "      <td>0.460000</td>\n",
       "      <td>0.982500</td>\n",
       "      <td>1.000000</td>\n",
       "      <td>0.000000</td>\n",
       "      <td>14.530000</td>\n",
       "      <td>...</td>\n",
       "      <td>79.000000</td>\n",
       "      <td>7.140000</td>\n",
       "      <td>8.650000</td>\n",
       "      <td>1.470000</td>\n",
       "      <td>281.000000</td>\n",
       "      <td>284.000000</td>\n",
       "      <td>2.000000</td>\n",
       "      <td>0.700000</td>\n",
       "      <td>0.000000</td>\n",
       "      <td>-0.800000</td>\n",
       "    </tr>\n",
       "    <tr>\n",
       "      <th>50%</th>\n",
       "      <td>14.120000</td>\n",
       "      <td>2.000000</td>\n",
       "      <td>0.400000</td>\n",
       "      <td>16.390000</td>\n",
       "      <td>17.105000</td>\n",
       "      <td>0.870000</td>\n",
       "      <td>1.000000</td>\n",
       "      <td>1.020000</td>\n",
       "      <td>0.020000</td>\n",
       "      <td>14.610000</td>\n",
       "      <td>...</td>\n",
       "      <td>100.000000</td>\n",
       "      <td>7.150000</td>\n",
       "      <td>8.670000</td>\n",
       "      <td>1.490000</td>\n",
       "      <td>285.000000</td>\n",
       "      <td>287.000000</td>\n",
       "      <td>2.000000</td>\n",
       "      <td>0.800000</td>\n",
       "      <td>0.000000</td>\n",
       "      <td>-0.700000</td>\n",
       "    </tr>\n",
       "    <tr>\n",
       "      <th>75%</th>\n",
       "      <td>15.287500</td>\n",
       "      <td>2.000000</td>\n",
       "      <td>1.500000</td>\n",
       "      <td>16.470000</td>\n",
       "      <td>17.880000</td>\n",
       "      <td>1.590000</td>\n",
       "      <td>1.010000</td>\n",
       "      <td>1.040000</td>\n",
       "      <td>0.030000</td>\n",
       "      <td>14.640000</td>\n",
       "      <td>...</td>\n",
       "      <td>114.000000</td>\n",
       "      <td>7.190000</td>\n",
       "      <td>8.700000</td>\n",
       "      <td>1.560000</td>\n",
       "      <td>286.000000</td>\n",
       "      <td>288.000000</td>\n",
       "      <td>3.000000</td>\n",
       "      <td>0.800000</td>\n",
       "      <td>0.100000</td>\n",
       "      <td>-0.600000</td>\n",
       "    </tr>\n",
       "    <tr>\n",
       "      <th>max</th>\n",
       "      <td>17.300000</td>\n",
       "      <td>2.000000</td>\n",
       "      <td>3.000000</td>\n",
       "      <td>17.120000</td>\n",
       "      <td>18.350000</td>\n",
       "      <td>1.930000</td>\n",
       "      <td>1.030000</td>\n",
       "      <td>1.050000</td>\n",
       "      <td>0.560000</td>\n",
       "      <td>14.740000</td>\n",
       "      <td>...</td>\n",
       "      <td>251.000000</td>\n",
       "      <td>7.230000</td>\n",
       "      <td>8.730000</td>\n",
       "      <td>1.750000</td>\n",
       "      <td>287.000000</td>\n",
       "      <td>289.000000</td>\n",
       "      <td>3.000000</td>\n",
       "      <td>2.600000</td>\n",
       "      <td>0.500000</td>\n",
       "      <td>0.100000</td>\n",
       "    </tr>\n",
       "  </tbody>\n",
       "</table>\n",
       "<p>8 rows × 30 columns</p>\n",
       "</div>"
      ],
      "text/plain": [
       "             time         day  concentration  chloride_80ft(mg/L)  \\\n",
       "count  626.000000  626.000000     626.000000           626.000000   \n",
       "mean    13.869968    1.504792       1.161981            16.382061   \n",
       "std      1.857436    0.500377       1.164567             0.285729   \n",
       "min     10.050000    1.000000       0.000000            15.620000   \n",
       "25%     12.562500    1.000000       0.000000            16.290000   \n",
       "50%     14.120000    2.000000       0.400000            16.390000   \n",
       "75%     15.287500    2.000000       1.500000            16.470000   \n",
       "max     17.300000    2.000000       3.000000            17.120000   \n",
       "\n",
       "       chloride_1100ft(mg/L)  difference_chloride  CL2_80ft(PPM)  \\\n",
       "count             626.000000           626.000000     626.000000   \n",
       "mean               17.323882             0.941821       0.932812   \n",
       "std                 0.511636             0.600773       0.155687   \n",
       "min                16.550000            -0.360000       0.470000   \n",
       "25%                16.880000             0.460000       0.982500   \n",
       "50%                17.105000             0.870000       1.000000   \n",
       "75%                17.880000             1.590000       1.010000   \n",
       "max                18.350000             1.930000       1.030000   \n",
       "\n",
       "       CL2_1100ft(PPM)  difference_CL2  DO_YSI_80ft(mg/L)  ...  \\\n",
       "count       626.000000      626.000000         626.000000  ...   \n",
       "mean          0.953690        0.020911          14.553035  ...   \n",
       "std           0.158904        0.234459           0.145409  ...   \n",
       "min           0.490000       -0.510000          14.130000  ...   \n",
       "25%           1.000000        0.000000          14.530000  ...   \n",
       "50%           1.020000        0.020000          14.610000  ...   \n",
       "75%           1.040000        0.030000          14.640000  ...   \n",
       "max           1.050000        0.560000          14.740000  ...   \n",
       "\n",
       "       difference_ORP_YSI  pH_YSI_80ft  pH_YSI_1100ft  difference_pH  \\\n",
       "count          626.000000   626.000000     626.000000     626.000000   \n",
       "mean           103.948882     7.156677       8.652077       1.495399   \n",
       "std             32.323375     0.050923       0.091153       0.110395   \n",
       "min             56.000000     6.980000       8.240000       1.060000   \n",
       "25%             79.000000     7.140000       8.650000       1.470000   \n",
       "50%            100.000000     7.150000       8.670000       1.490000   \n",
       "75%            114.000000     7.190000       8.700000       1.560000   \n",
       "max            251.000000     7.230000       8.730000       1.750000   \n",
       "\n",
       "       sp_cond_YSI_80ft(µS/cm)  sp_cond_YSI_1100ft(µS/cm)  \\\n",
       "count               626.000000                 626.000000   \n",
       "mean                283.683706                 286.035144   \n",
       "std                   2.617900                   2.224671   \n",
       "min                 281.000000                 283.000000   \n",
       "25%                 281.000000                 284.000000   \n",
       "50%                 285.000000                 287.000000   \n",
       "75%                 286.000000                 288.000000   \n",
       "max                 287.000000                 289.000000   \n",
       "\n",
       "       difference_sp_cond_YSI  turbidity_YSI_80ft(NTU+)  \\\n",
       "count              626.000000                626.000000   \n",
       "mean                 2.351438                  0.745367   \n",
       "std                  0.625695                  0.167960   \n",
       "min                  1.000000                  0.000000   \n",
       "25%                  2.000000                  0.700000   \n",
       "50%                  2.000000                  0.800000   \n",
       "75%                  3.000000                  0.800000   \n",
       "max                  3.000000                  2.600000   \n",
       "\n",
       "       turbidity_YSI_1100ft(NTU+)  difference_turbidity  \n",
       "count                  626.000000            626.000000  \n",
       "mean                     0.068371             -0.676997  \n",
       "std                      0.101617              0.192369  \n",
       "min                     -0.100000             -2.500000  \n",
       "25%                      0.000000             -0.800000  \n",
       "50%                      0.000000             -0.700000  \n",
       "75%                      0.100000             -0.600000  \n",
       "max                      0.500000              0.100000  \n",
       "\n",
       "[8 rows x 30 columns]"
      ]
     },
     "execution_count": 5,
     "metadata": {},
     "output_type": "execute_result"
    }
   ],
   "source": [
    "# Se genera las estadísticas del DataFrame\n",
    "data.describe()"
   ]
  },
  {
   "cell_type": "markdown",
   "metadata": {},
   "source": [
    "### -------------------------------------------------------------------------------\n",
    "\n",
    "## Correlaciones"
   ]
  },
  {
   "attachments": {},
   "cell_type": "markdown",
   "metadata": {},
   "source": [
    "### -------------------------------------------------------------------------------\n",
    "\n",
    "### Para cada parámetro VS Concentración del glifosato = 0.0"
   ]
  },
  {
   "cell_type": "code",
   "execution_count": 73,
   "metadata": {},
   "outputs": [],
   "source": [
    "# Se crea el set de datos solo para concentración = 0.0\n",
    "data_00 = data[data['concentration'] == 3.0]\n",
    "\n",
    "#data_04 = data[data['concentration'] == 0.4]\n",
    "#data_15 = data[data['concentration'] == 1.5]\n",
    "#data_30 = data[data['concentration'] == 3.0]"
   ]
  },
  {
   "attachments": {},
   "cell_type": "markdown",
   "metadata": {},
   "source": [
    "### -------------------------------------------------------------------------------\n",
    "\n",
    "### Chloride"
   ]
  },
  {
   "cell_type": "code",
   "execution_count": 74,
   "metadata": {},
   "outputs": [
    {
     "data": {
      "text/plain": [
       "Text(0, 0.5, 'Concentration Glyphosate')"
      ]
     },
     "execution_count": 74,
     "metadata": {},
     "output_type": "execute_result"
    },
    {
     "data": {
      "image/png": "[encoded data removed]",
      "text/plain": [
       "<Figure size 720x576 with 1 Axes>"
      ]
     },
     "metadata": {
      "needs_background": "light"
     },
     "output_type": "display_data"
    }
   ],
   "source": [
    "# Gráfico de Dispersión\n",
    "fig, ax = plt.subplots(1, 1, figsize=(10,8))\n",
    "# Azul\n",
    "ax.scatter(x= data_00['chloride_80ft(mg/L)'], y= data_00['concentration'], alpha= 0.8)\n",
    "# Naranja\n",
    "ax.scatter(x= data_00['chloride_1100ft(mg/L)'], y= data_00['concentration'], alpha= 0.8)\n",
    "ax.set_xlabel('Chloride(mg/L)')\n",
    "ax.set_ylabel('Concentration Glyphosate')"
   ]
  },
  {
   "cell_type": "code",
   "execution_count": 75,
   "metadata": {},
   "outputs": [
    {
     "name": "stdout",
     "output_type": "stream",
     "text": [
      "*** Chloride 80ft (mg/L) VS Concentración Glifosato ***\n",
      "Correlación Pearson:  nan\n",
      "Correlación Spearman:  nan\n",
      "Correlación Kendall:  nan\n",
      "-------------------------------------------\n",
      "*** Chloride 1100 ft (mg/L) VS Concentración Glifosato *** \n",
      "Correlación Pearson:  nan\n",
      "Correlación Spearman:  nan\n",
      "Correlación Kendall:  nan\n",
      "-------------------------------------------\n"
     ]
    }
   ],
   "source": [
    "# Cálculo de correlaciones \n",
    "\n",
    "# Parametro 80ft\n",
    "print(\"*** Chloride 80ft (mg/L) VS Concentración Glifosato ***\")\n",
    "print('Correlación Pearson: ', data_00['chloride_80ft(mg/L)'].corr(data_00['concentration'], method='pearson'))\n",
    "print('Correlación Spearman: ', data_00['chloride_80ft(mg/L)'].corr(data_00['concentration'], method='spearman'))\n",
    "print('Correlación Kendall: ', data_00['chloride_80ft(mg/L)'].corr(data_00['concentration'], method='kendall'))\n",
    "print(\"-------------------------------------------\")\n",
    "\n",
    "# Parametro 1100ft  \n",
    "print(\"*** Chloride 1100 ft (mg/L) VS Concentración Glifosato *** \")\n",
    "print('Correlación Pearson: ', data_00['chloride_1100ft(mg/L)'].corr(data_00['concentration'], method='pearson'))\n",
    "print('Correlación Spearman: ', data_00['chloride_1100ft(mg/L)'].corr(data_00['concentration'], method='spearman'))\n",
    "print('Correlación Kendall: ', data_00['chloride_1100ft(mg/L)'].corr(data_00['concentration'], method='kendall'))\n",
    "print(\"-------------------------------------------\")\n"
   ]
  },
  {
   "attachments": {},
   "cell_type": "markdown",
   "metadata": {},
   "source": [
    "### -------------------------------------------------------------------------------\n",
    "\n",
    "### CL2"
   ]
  },
  {
   "cell_type": "code",
   "execution_count": 76,
   "metadata": {},
   "outputs": [
    {
     "data": {
      "text/plain": [
       "Text(0, 0.5, 'Concentration Glyphosate')"
      ]
     },
     "execution_count": 76,
     "metadata": {},
     "output_type": "execute_result"
    },
    {
     "data": {
      "image/png": "[encoded data removed]",
      "text/plain": [
       "<Figure size 720x576 with 1 Axes>"
      ]
     },
     "metadata": {
      "needs_background": "light"
     },
     "output_type": "display_data"
    }
   ],
   "source": [
    "# Gráfico de Dispersión\n",
    "fig, ax = plt.subplots(1, 1, figsize=(10,8))\n",
    "# Azul\n",
    "ax.scatter(x= data_00['CL2_80ft(PPM)'], y= data_00['concentration'], alpha= 0.8)\n",
    "# Naranja\n",
    "ax.scatter(x= data_00['CL2_1100ft(PPM)'], y= data_00['concentration'], alpha= 0.8)\n",
    "ax.set_xlabel('CL2 (PPM)')\n",
    "ax.set_ylabel('Concentration Glyphosate')"
   ]
  },
  {
   "cell_type": "code",
   "execution_count": 77,
   "metadata": {},
   "outputs": [
    {
     "name": "stdout",
     "output_type": "stream",
     "text": [
      "*** CL2 80ft (PPM) VS Concentración Glifosato ***\n",
      "Correlación Pearson:  nan\n",
      "Correlación Spearman:  nan\n",
      "Correlación Kendall:  nan\n",
      "-------------------------------------------\n",
      "*** CL2 1100ft (PPM) VS Concentración Glifosato *** \n",
      "Correlación Pearson:  nan\n",
      "Correlación Spearman:  nan\n",
      "Correlación Kendall:  nan\n",
      "-------------------------------------------\n"
     ]
    }
   ],
   "source": [
    "# Cálculo de correlaciones \n",
    "\n",
    "# Parametro 80ft\n",
    "print(\"*** CL2 80ft (PPM) VS Concentración Glifosato ***\")\n",
    "print('Correlación Pearson: ', data_00['CL2_80ft(PPM)'].corr(data_00['concentration'], method='pearson'))\n",
    "print('Correlación Spearman: ', data_00['CL2_80ft(PPM)'].corr(data_00['concentration'], method='spearman'))\n",
    "print('Correlación Kendall: ', data_00['CL2_80ft(PPM)'].corr(data_00['concentration'], method='kendall'))\n",
    "print(\"-------------------------------------------\")\n",
    "\n",
    "# Parametro 1100ft \n",
    "print(\"*** CL2 1100ft (PPM) VS Concentración Glifosato *** \")\n",
    "print('Correlación Pearson: ', data_00['CL2_1100ft(PPM)'].corr(data_00['concentration'], method='pearson'))\n",
    "print('Correlación Spearman: ', data_00['CL2_1100ft(PPM)'].corr(data_00['concentration'], method='spearman'))\n",
    "print('Correlación Kendall: ', data_00['CL2_1100ft(PPM)'].corr(data_00['concentration'], method='kendall'))\n",
    "print(\"-------------------------------------------\")\n"
   ]
  },
  {
   "attachments": {},
   "cell_type": "markdown",
   "metadata": {},
   "source": [
    "### -------------------------------------------------------------------------------\n",
    "\n",
    "### DO YSI"
   ]
  },
  {
   "cell_type": "code",
   "execution_count": 78,
   "metadata": {},
   "outputs": [
    {
     "data": {
      "text/plain": [
       "Text(0, 0.5, 'Concentration Glyphosate')"
      ]
     },
     "execution_count": 78,
     "metadata": {},
     "output_type": "execute_result"
    },
    {
     "data": {
      "image/png": "[encoded data removed]",
      "text/plain": [
       "<Figure size 720x576 with 1 Axes>"
      ]
     },
     "metadata": {
      "needs_background": "light"
     },
     "output_type": "display_data"
    }
   ],
   "source": [
    "# Gráfico de Dispersión\n",
    "fig, ax = plt.subplots(1, 1, figsize=(10,8))\n",
    "# Azul\n",
    "ax.scatter(x= data_00['DO_YSI_80ft(mg/L)'], y= data_00['concentration'], alpha= 0.8)\n",
    "# Naranja\n",
    "ax.scatter(x= data_00['DO_YSI_1100ft(mg/L)'], y= data_00['concentration'], alpha= 0.8)\n",
    "ax.set_xlabel('CL2 (PPM)')\n",
    "ax.set_ylabel('Concentration Glyphosate')"
   ]
  },
  {
   "cell_type": "code",
   "execution_count": 79,
   "metadata": {},
   "outputs": [
    {
     "name": "stdout",
     "output_type": "stream",
     "text": [
      "*** DO_YSI 80ft (mg/L) VS Concentración Glifosato ***\n",
      "Correlación Pearson:  nan\n",
      "Correlación Spearman:  nan\n",
      "Correlación Kendall:  nan\n",
      "-------------------------------------------\n",
      "*** DO_YSI 1100ft (mg/L) VS Concentración Glifosato *** \n",
      "Correlación Pearson:  nan\n",
      "Correlación Spearman:  nan\n",
      "Correlación Kendall:  nan\n",
      "-------------------------------------------\n"
     ]
    }
   ],
   "source": [
    "# Cálculo de correlaciones \n",
    "\n",
    "# Parametro 80ft\n",
    "print(\"*** DO_YSI 80ft (mg/L) VS Concentración Glifosato ***\")\n",
    "print('Correlación Pearson: ', data_00['DO_YSI_80ft(mg/L)'].corr(data_00['concentration'], method='pearson'))\n",
    "print('Correlación Spearman: ', data_00['DO_YSI_80ft(mg/L)'].corr(data_00['concentration'], method='spearman'))\n",
    "print('Correlación Kendall: ', data_00['DO_YSI_80ft(mg/L)'].corr(data_00['concentration'], method='kendall'))\n",
    "print(\"-------------------------------------------\")\n",
    "\n",
    "# Parametro 1100ft \n",
    "print(\"*** DO_YSI 1100ft (mg/L) VS Concentración Glifosato *** \")\n",
    "print('Correlación Pearson: ', data_00['DO_YSI_1100ft(mg/L)'].corr(data_00['concentration'], method='pearson'))\n",
    "print('Correlación Spearman: ', data_00['DO_YSI_1100ft(mg/L)'].corr(data_00['concentration'], method='spearman'))\n",
    "print('Correlación Kendall: ', data_00['DO_YSI_1100ft(mg/L)'].corr(data_00['concentration'], method='kendall'))\n",
    "print(\"-------------------------------------------\")"
   ]
  },
  {
   "attachments": {},
   "cell_type": "markdown",
   "metadata": {},
   "source": [
    "### -------------------------------------------------------------------------------\n",
    "\n",
    "### FreeClorine ATI"
   ]
  },
  {
   "cell_type": "code",
   "execution_count": 80,
   "metadata": {},
   "outputs": [
    {
     "data": {
      "text/plain": [
       "Text(0, 0.5, 'Concentration Glyphosate')"
      ]
     },
     "execution_count": 80,
     "metadata": {},
     "output_type": "execute_result"
    },
    {
     "data": {
      "image/png": "[encoded data removed]",
      "text/plain": [
       "<Figure size 720x576 with 1 Axes>"
      ]
     },
     "metadata": {
      "needs_background": "light"
     },
     "output_type": "display_data"
    }
   ],
   "source": [
    "# Gráfico de Dispersión\n",
    "fig, ax = plt.subplots(1, 1, figsize=(10,8))\n",
    "# Azul\n",
    "ax.scatter(x= data_00['FreeClorine_ATI_80ft(PPM)'], y= data_00['concentration'], alpha= 0.8)\n",
    "# Naranja\n",
    "ax.scatter(x= data_00['FreeClorine_ATI_1100ft(PPM)'], y= data_00['concentration'], alpha= 0.8)\n",
    "ax.set_xlabel('FreeClorine_ATI (PPM)')\n",
    "ax.set_ylabel('Concentration Glyphosate')"
   ]
  },
  {
   "cell_type": "code",
   "execution_count": 81,
   "metadata": {},
   "outputs": [
    {
     "name": "stdout",
     "output_type": "stream",
     "text": [
      "*** FreeClorine_ATI 80ft (PPM) VS Concentración Glifosato ***\n",
      "Correlación Pearson:  nan\n",
      "Correlación Spearman:  nan\n",
      "Correlación Kendall:  nan\n",
      "-------------------------------------------\n",
      "*** FreeClorine_ATI 1100ft (PPM) VS Concentración Glifosato *** \n",
      "Correlación Pearson:  nan\n",
      "Correlación Spearman:  nan\n",
      "Correlación Kendall:  nan\n",
      "-------------------------------------------\n"
     ]
    }
   ],
   "source": [
    "# Cálculo de correlaciones \n",
    "\n",
    "# Parametro 80ft\n",
    "print(\"*** FreeClorine_ATI 80ft (PPM) VS Concentración Glifosato ***\")\n",
    "print('Correlación Pearson: ', data_00['FreeClorine_ATI_80ft(PPM)'].corr(data_00['concentration'], method='pearson'))\n",
    "print('Correlación Spearman: ', data_00['FreeClorine_ATI_80ft(PPM)'].corr(data_00['concentration'], method='spearman'))\n",
    "print('Correlación Kendall: ', data_00['FreeClorine_ATI_80ft(PPM)'].corr(data_00['concentration'], method='kendall'))\n",
    "print(\"-------------------------------------------\")\n",
    "\n",
    "# Parametro 1100ft \n",
    "print(\"*** FreeClorine_ATI 1100ft (PPM) VS Concentración Glifosato *** \")\n",
    "print('Correlación Pearson: ', data_00['FreeClorine_ATI_1100ft(PPM)'].corr(data_00['concentration'], method='pearson'))\n",
    "print('Correlación Spearman: ', data_00['FreeClorine_ATI_1100ft(PPM)'].corr(data_00['concentration'], method='spearman'))\n",
    "print('Correlación Kendall: ', data_00['FreeClorine_ATI_1100ft(PPM)'].corr(data_00['concentration'], method='kendall'))\n",
    "print(\"-------------------------------------------\")"
   ]
  },
  {
   "attachments": {},
   "cell_type": "markdown",
   "metadata": {},
   "source": [
    "### -------------------------------------------------------------------------------\n",
    "\n",
    "### FreeClorine X"
   ]
  },
  {
   "cell_type": "code",
   "execution_count": 82,
   "metadata": {},
   "outputs": [
    {
     "data": {
      "text/plain": [
       "Text(0, 0.5, 'Concentration Glyphosate')"
      ]
     },
     "execution_count": 82,
     "metadata": {},
     "output_type": "execute_result"
    },
    {
     "data": {
      "image/png": "[encoded data removed]",
      "text/plain": [
       "<Figure size 720x576 with 1 Axes>"
      ]
     },
     "metadata": {
      "needs_background": "light"
     },
     "output_type": "display_data"
    }
   ],
   "source": [
    "# Gráfico de Dispersión\n",
    "fig, ax = plt.subplots(1, 1, figsize=(10,8))\n",
    "# Azul\n",
    "ax.scatter(x= data_00['FreeClorine_X_80ft(PPM)'], y= data_00['concentration'], alpha= 0.8)\n",
    "# Naranja\n",
    "ax.scatter(x= data_00['FreeClorine_X_1100ft(PPM)'], y= data_00['concentration'], alpha= 0.8)\n",
    "ax.set_xlabel('FreeClorine_X (PPM)')\n",
    "ax.set_ylabel('Concentration Glyphosate')"
   ]
  },
  {
   "cell_type": "code",
   "execution_count": 83,
   "metadata": {},
   "outputs": [
    {
     "name": "stdout",
     "output_type": "stream",
     "text": [
      "*** FreeClorine X 80ft (PPM) VS Concentración Glifosato ***\n",
      "Correlación Pearson:  nan\n",
      "Correlación Spearman:  nan\n",
      "Correlación Kendall:  nan\n",
      "-------------------------------------------\n",
      "*** FreeClorine X 1100ft (PPM) VS Concentración Glifosato *** \n",
      "Correlación Pearson:  nan\n",
      "Correlación Spearman:  nan\n",
      "Correlación Kendall:  nan\n",
      "-------------------------------------------\n"
     ]
    }
   ],
   "source": [
    "# Cálculo de correlaciones \n",
    "\n",
    "# Parametro 80ft\n",
    "print(\"*** FreeClorine X 80ft (PPM) VS Concentración Glifosato ***\")\n",
    "print('Correlación Pearson: ', data_00['FreeClorine_X_80ft(PPM)'].corr(data_00['concentration'], method='pearson'))\n",
    "print('Correlación Spearman: ', data_00['FreeClorine_X_80ft(PPM)'].corr(data_00['concentration'], method='spearman'))\n",
    "print('Correlación Kendall: ', data_00['FreeClorine_X_80ft(PPM)'].corr(data_00['concentration'], method='kendall'))\n",
    "print(\"-------------------------------------------\")\n",
    "\n",
    "# Parametro 1100ft \n",
    "print(\"*** FreeClorine X 1100ft (PPM) VS Concentración Glifosato *** \")\n",
    "print('Correlación Pearson: ', data_00['FreeClorine_X_1100ft(PPM)'].corr(data_00['concentration'], method='pearson'))\n",
    "print('Correlación Spearman: ', data_00['FreeClorine_X_1100ft(PPM)'].corr(data_00['concentration'], method='spearman'))\n",
    "print('Correlación Kendall: ', data_00['FreeClorine_X_1100ft(PPM)'].corr(data_00['concentration'], method='kendall'))\n",
    "print(\"-------------------------------------------\")"
   ]
  },
  {
   "attachments": {},
   "cell_type": "markdown",
   "metadata": {},
   "source": [
    "### -------------------------------------------------------------------------------\n",
    "\n",
    "### ORP YSI"
   ]
  },
  {
   "cell_type": "code",
   "execution_count": 84,
   "metadata": {},
   "outputs": [
    {
     "data": {
      "text/plain": [
       "Text(0, 0.5, 'Concentration Glyphosate')"
      ]
     },
     "execution_count": 84,
     "metadata": {},
     "output_type": "execute_result"
    },
    {
     "data": {
      "image/png": "[encoded data removed]",
      "text/plain": [
       "<Figure size 720x576 with 1 Axes>"
      ]
     },
     "metadata": {
      "needs_background": "light"
     },
     "output_type": "display_data"
    }
   ],
   "source": [
    "# Gráfico de Dispersión\n",
    "fig, ax = plt.subplots(1, 1, figsize=(10,8))\n",
    "# Azul\n",
    "ax.scatter(x= data_00['ORP_YSI_80ft(mV)'], y= data_00['concentration'], alpha= 0.8)\n",
    "# Naranja\n",
    "ax.scatter(x= data_00['ORP_YSI_1100ft(mV)'], y= data_00['concentration'], alpha= 0.8)\n",
    "ax.set_xlabel('ORP_YSI (mV)')\n",
    "ax.set_ylabel('Concentration Glyphosate')"
   ]
  },
  {
   "cell_type": "code",
   "execution_count": 85,
   "metadata": {},
   "outputs": [
    {
     "name": "stdout",
     "output_type": "stream",
     "text": [
      "*** ORP_YSI 80ft (mV) VS Concentración Glifosato ***\n",
      "Correlación Pearson:  nan\n",
      "Correlación Spearman:  nan\n",
      "Correlación Kendall:  nan\n",
      "-------------------------------------------\n",
      "*** ORP_YSI 1100ft (mV) VS Concentración Glifosato *** \n",
      "Correlación Pearson:  nan\n",
      "Correlación Spearman:  nan\n",
      "Correlación Kendall:  nan\n",
      "-------------------------------------------\n"
     ]
    }
   ],
   "source": [
    "# Cálculo de correlaciones \n",
    "\n",
    "# Parametro 80ft\n",
    "print(\"*** ORP_YSI 80ft (mV) VS Concentración Glifosato ***\")\n",
    "print('Correlación Pearson: ', data_00['ORP_YSI_80ft(mV)'].corr(data_00['concentration'], method='pearson'))\n",
    "print('Correlación Spearman: ', data_00['ORP_YSI_80ft(mV)'].corr(data_00['concentration'], method='spearman'))\n",
    "print('Correlación Kendall: ', data_00['ORP_YSI_80ft(mV)'].corr(data_00['concentration'], method='kendall'))\n",
    "print(\"-------------------------------------------\")\n",
    "\n",
    "# Parametro 1100ft \n",
    "print(\"*** ORP_YSI 1100ft (mV) VS Concentración Glifosato *** \")\n",
    "print('Correlación Pearson: ', data_00['ORP_YSI_1100ft(mV)'].corr(data_00['concentration'], method='pearson'))\n",
    "print('Correlación Spearman: ', data_00['ORP_YSI_1100ft(mV)'].corr(data_00['concentration'], method='spearman'))\n",
    "print('Correlación Kendall: ', data_00['ORP_YSI_1100ft(mV)'].corr(data_00['concentration'], method='kendall'))\n",
    "print(\"-------------------------------------------\")"
   ]
  },
  {
   "attachments": {},
   "cell_type": "markdown",
   "metadata": {},
   "source": [
    "### -------------------------------------------------------------------------------\n",
    "\n",
    "### pH YSI"
   ]
  },
  {
   "cell_type": "code",
   "execution_count": 86,
   "metadata": {},
   "outputs": [
    {
     "data": {
      "text/plain": [
       "Text(0, 0.5, 'Concentration Glyphosate')"
      ]
     },
     "execution_count": 86,
     "metadata": {},
     "output_type": "execute_result"
    },
    {
     "data": {
      "image/png": "[encoded data removed]",
      "text/plain": [
       "<Figure size 720x576 with 1 Axes>"
      ]
     },
     "metadata": {
      "needs_background": "light"
     },
     "output_type": "display_data"
    }
   ],
   "source": [
    "# Gráfico de Dispersión\n",
    "fig, ax = plt.subplots(1, 1, figsize=(10,8))\n",
    "# Azul\n",
    "ax.scatter(x= data_00['pH_YSI_80ft'], y= data_00['concentration'], alpha= 0.8)\n",
    "# Naranja\n",
    "ax.scatter(x= data_00['pH_YSI_80ft'], y= data_00['concentration'], alpha= 0.8)\n",
    "ax.set_xlabel('pH_YSI')\n",
    "ax.set_ylabel('Concentration Glyphosate')"
   ]
  },
  {
   "cell_type": "code",
   "execution_count": 87,
   "metadata": {},
   "outputs": [
    {
     "name": "stdout",
     "output_type": "stream",
     "text": [
      "*** pH_YSI 80ft (mV) VS Concentración Glifosato ***\n",
      "Correlación Pearson:  nan\n",
      "Correlación Spearman:  nan\n",
      "Correlación Kendall:  nan\n",
      "-------------------------------------------\n",
      "*** pH_YSI 1100ft (mV) VS Concentración Glifosato *** \n",
      "Correlación Pearson:  nan\n",
      "Correlación Spearman:  nan\n",
      "Correlación Kendall:  nan\n",
      "-------------------------------------------\n"
     ]
    }
   ],
   "source": [
    "# Cálculo de correlaciones \n",
    "\n",
    "# Parametro 80ft\n",
    "print(\"*** pH_YSI 80ft (mV) VS Concentración Glifosato ***\")\n",
    "print('Correlación Pearson: ', data_00['pH_YSI_80ft'].corr(data_00['concentration'], method='pearson'))\n",
    "print('Correlación Spearman: ', data_00['pH_YSI_80ft'].corr(data_00['concentration'], method='spearman'))\n",
    "print('Correlación Kendall: ', data_00['pH_YSI_80ft'].corr(data_00['concentration'], method='kendall'))\n",
    "print(\"-------------------------------------------\")\n",
    "\n",
    "# Parametro 1100ft \n",
    "print(\"*** pH_YSI 1100ft (mV) VS Concentración Glifosato *** \")\n",
    "print('Correlación Pearson: ', data_00['pH_YSI_1100ft'].corr(data_00['concentration'], method='pearson'))\n",
    "print('Correlación Spearman: ', data_00['pH_YSI_1100ft'].corr(data_00['concentration'], method='spearman'))\n",
    "print('Correlación Kendall: ', data_00['pH_YSI_1100ft'].corr(data_00['concentration'], method='kendall'))\n",
    "print(\"-------------------------------------------\")"
   ]
  },
  {
   "attachments": {},
   "cell_type": "markdown",
   "metadata": {},
   "source": [
    "### -------------------------------------------------------------------------------\n",
    "\n",
    "### sp_cond"
   ]
  },
  {
   "cell_type": "code",
   "execution_count": 88,
   "metadata": {},
   "outputs": [
    {
     "data": {
      "text/plain": [
       "Text(0, 0.5, 'Concentration Glyphosate')"
      ]
     },
     "execution_count": 88,
     "metadata": {},
     "output_type": "execute_result"
    },
    {
     "data": {
      "image/png": "[encoded data removed]",
      "text/plain": [
       "<Figure size 720x576 with 1 Axes>"
      ]
     },
     "metadata": {
      "needs_background": "light"
     },
     "output_type": "display_data"
    }
   ],
   "source": [
    "# Gráfico de Dispersión\n",
    "fig, ax = plt.subplots(1, 1, figsize=(10,8))\n",
    "# Azul\n",
    "ax.scatter(x= data_00['sp_cond_YSI_80ft(µS/cm)'], y= data_00['concentration'], alpha= 0.8)\n",
    "# Naranja\n",
    "ax.scatter(x= data_00['sp_cond_YSI_1100ft(µS/cm)'], y= data_00['concentration'], alpha= 0.8)\n",
    "ax.set_xlabel('sp_cond_YSI')\n",
    "ax.set_ylabel('Concentration Glyphosate')"
   ]
  },
  {
   "cell_type": "code",
   "execution_count": 89,
   "metadata": {},
   "outputs": [
    {
     "name": "stdout",
     "output_type": "stream",
     "text": [
      "*** sp_cond_YSI 80ft (µS/cm) VS Concentración Glifosato ***\n",
      "Correlación Pearson:  nan\n",
      "Correlación Spearman:  nan\n",
      "Correlación Kendall:  nan\n",
      "-------------------------------------------\n",
      "*** sp_cond_YSI 1100ft (µS/cm) VS Concentración Glifosato *** \n",
      "Correlación Pearson:  nan\n",
      "Correlación Spearman:  nan\n",
      "Correlación Kendall:  nan\n",
      "-------------------------------------------\n"
     ]
    }
   ],
   "source": [
    "# Cálculo de correlaciones \n",
    "\n",
    "# Parametro 80ft\n",
    "print(\"*** sp_cond_YSI 80ft (µS/cm) VS Concentración Glifosato ***\")\n",
    "print('Correlación Pearson: ', data_00['sp_cond_YSI_80ft(µS/cm)'].corr(data_00['concentration'], method='pearson'))\n",
    "print('Correlación Spearman: ', data_00['sp_cond_YSI_80ft(µS/cm)'].corr(data_00['concentration'], method='spearman'))\n",
    "print('Correlación Kendall: ', data_00['sp_cond_YSI_80ft(µS/cm)'].corr(data_00['concentration'], method='kendall'))\n",
    "print(\"-------------------------------------------\")\n",
    "\n",
    "# Parametro 1100ft \n",
    "print(\"*** sp_cond_YSI 1100ft (µS/cm) VS Concentración Glifosato *** \")\n",
    "print('Correlación Pearson: ', data_00['sp_cond_YSI_1100ft(µS/cm)'].corr(data_00['concentration'], method='pearson'))\n",
    "print('Correlación Spearman: ', data_00['sp_cond_YSI_1100ft(µS/cm)'].corr(data_00['concentration'], method='spearman'))\n",
    "print('Correlación Kendall: ', data_00['sp_cond_YSI_1100ft(µS/cm)'].corr(data_00['concentration'], method='kendall'))\n",
    "print(\"-------------------------------------------\")"
   ]
  },
  {
   "attachments": {},
   "cell_type": "markdown",
   "metadata": {},
   "source": [
    "### -------------------------------------------------------------------------------\n",
    "\n",
    "### Turbidity YSI"
   ]
  },
  {
   "cell_type": "code",
   "execution_count": 90,
   "metadata": {},
   "outputs": [
    {
     "data": {
      "text/plain": [
       "Text(0, 0.5, 'Concentration Glyphosate')"
      ]
     },
     "execution_count": 90,
     "metadata": {},
     "output_type": "execute_result"
    },
    {
     "data": {
      "image/png": "[encoded data removed]",
      "text/plain": [
       "<Figure size 720x576 with 1 Axes>"
      ]
     },
     "metadata": {
      "needs_background": "light"
     },
     "output_type": "display_data"
    }
   ],
   "source": [
    "# Gráfico de Dispersión\n",
    "fig, ax = plt.subplots(1, 1, figsize=(10,8))\n",
    "# Azul\n",
    "ax.scatter(x= data_00['turbidity_YSI_80ft(NTU+)'], y= data_00['concentration'], alpha= 0.8)\n",
    "# Naranja\n",
    "ax.scatter(x= data_00['turbidity_YSI_1100ft(NTU+)'], y= data_00['concentration'], alpha= 0.8)\n",
    "ax.set_xlabel('turbidity_YSI')\n",
    "ax.set_ylabel('Concentration Glyphosate')"
   ]
  },
  {
   "cell_type": "code",
   "execution_count": 91,
   "metadata": {},
   "outputs": [
    {
     "name": "stdout",
     "output_type": "stream",
     "text": [
      "*** turbidity_YSI 80ft (NTU+) VS Concentración Glifosato ***\n",
      "Correlación Pearson:  nan\n",
      "Correlación Spearman:  nan\n",
      "Correlación Kendall:  nan\n",
      "-------------------------------------------\n",
      "*** turbidity_YSI 1100ft (NTU+) VS Concentración Glifosato *** \n",
      "Correlación Pearson:  nan\n",
      "Correlación Spearman:  nan\n",
      "Correlación Kendall:  nan\n",
      "-------------------------------------------\n"
     ]
    }
   ],
   "source": [
    "# Cálculo de correlaciones \n",
    "\n",
    "# Parametro 80ft\n",
    "print(\"*** turbidity_YSI 80ft (NTU+) VS Concentración Glifosato ***\")\n",
    "print('Correlación Pearson: ', data_00['turbidity_YSI_80ft(NTU+)'].corr(data_00['concentration'], method='pearson'))\n",
    "print('Correlación Spearman: ', data_00['turbidity_YSI_80ft(NTU+)'].corr(data_00['concentration'], method='spearman'))\n",
    "print('Correlación Kendall: ', data_00['turbidity_YSI_80ft(NTU+)'].corr(data_00['concentration'], method='kendall'))\n",
    "print(\"-------------------------------------------\")\n",
    "\n",
    "# Parametro 1100ft \n",
    "print(\"*** turbidity_YSI 1100ft (NTU+) VS Concentración Glifosato *** \")\n",
    "print('Correlación Pearson: ', data_00['turbidity_YSI_1100ft(NTU+)'].corr(data_00['concentration'], method='pearson'))\n",
    "print('Correlación Spearman: ', data_00['turbidity_YSI_1100ft(NTU+)'].corr(data_00['concentration'], method='spearman'))\n",
    "print('Correlación Kendall: ', data_00['turbidity_YSI_1100ft(NTU+)'].corr(data_00['concentration'], method='kendall'))\n",
    "print(\"-------------------------------------------\")"
   ]
  },
  {
   "attachments": {},
   "cell_type": "markdown",
   "metadata": {},
   "source": [
    "### -------------------------------------------------------------------------------\n",
    "\n",
    "### Para cada parámetro VS Todas las concentración del glifosato (0.0, 0.4, 1.5 y 3.0)\n",
    "\n",
    "### Chloride"
   ]
  },
  {
   "cell_type": "code",
   "execution_count": 109,
   "metadata": {},
   "outputs": [
    {
     "data": {
      "text/plain": [
       "Text(0, 0.5, 'Chloride(mg/L)')"
      ]
     },
     "execution_count": 109,
     "metadata": {},
     "output_type": "execute_result"
    },
    {
     "data": {
      "image/png": "[encoded data removed]",
      "text/plain": [
       "<Figure size 720x576 with 1 Axes>"
      ]
     },
     "metadata": {
      "needs_background": "light"
     },
     "output_type": "display_data"
    }
   ],
   "source": [
    "# Gráfico de Dispersión: Parámetro Chloride\n",
    "fig, ax = plt.subplots(1, 1, figsize=(10,8))\n",
    "# Azul\n",
    "ax.scatter(x= data['concentration'], y= data['chloride_80ft(mg/L)'], alpha= 0.8)\n",
    "# Naranja\n",
    "ax.scatter(x= data['concentration'], y= data['chloride_1100ft(mg/L)'], alpha= 0.8)\n",
    "ax.set_xlabel('Concentration Glyphosate')\n",
    "ax.set_ylabel('Chloride(mg/L)')\n",
    "\n",
    "#plt.savefig(\"chloride.png\")"
   ]
  },
  {
   "cell_type": "code",
   "execution_count": 110,
   "metadata": {},
   "outputs": [
    {
     "name": "stdout",
     "output_type": "stream",
     "text": [
      "*** Chloride 80ft (mg/L) VS Concentración Glifosato ***\n",
      "Correlación Pearson:  0.496707758390041\n",
      "Correlación Spearman:  0.46868551468402375\n",
      "Correlación Kendall:  0.35135593585866837\n",
      "-------------------------------------------\n",
      "*** Chloride 1100 ft (mg/L) VS Concentración Glifosato *** \n",
      "Correlación Pearson:  0.19311513503995298\n",
      "Correlación Spearman:  0.17432143537220396\n",
      "Correlación Kendall:  0.13701467363516331\n",
      "-------------------------------------------\n"
     ]
    }
   ],
   "source": [
    "# Cálculo de correlaciones: Parámetro Chloride \n",
    "\n",
    "# Chloride 80ft (mg/L) VS Concentración Glifosato \n",
    "print(\"*** Chloride 80ft (mg/L) VS Concentración Glifosato ***\")\n",
    "print('Correlación Pearson: ', data['concentration'].corr(data['chloride_80ft(mg/L)'], method='pearson'))\n",
    "print('Correlación Spearman: ', data['concentration'].corr(data['chloride_80ft(mg/L)'], method='spearman'))\n",
    "print('Correlación Kendall: ', data['concentration'].corr(data['chloride_80ft(mg/L)'], method='kendall'))\n",
    "print(\"-------------------------------------------\")\n",
    "\n",
    "# Chloride 1100 ft (mg/L) VS Concentración Glifosato  \n",
    "print(\"*** Chloride 1100 ft (mg/L) VS Concentración Glifosato *** \")\n",
    "print('Correlación Pearson: ', data['concentration'].corr(data['chloride_1100ft(mg/L)'], method='pearson'))\n",
    "print('Correlación Spearman: ', data['concentration'].corr(data['chloride_1100ft(mg/L)'], method='spearman'))\n",
    "print('Correlación Kendall: ', data['concentration'].corr(data['chloride_1100ft(mg/L)'], method='kendall'))\n",
    "print(\"-------------------------------------------\")\n"
   ]
  },
  {
   "attachments": {},
   "cell_type": "markdown",
   "metadata": {},
   "source": [
    "### -------------------------------------------------------------------------------\n",
    "\n",
    "### CL2"
   ]
  },
  {
   "cell_type": "code",
   "execution_count": 95,
   "metadata": {},
   "outputs": [
    {
     "data": {
      "text/plain": [
       "Text(0, 0.5, 'Concentration Glyphosate')"
      ]
     },
     "execution_count": 95,
     "metadata": {},
     "output_type": "execute_result"
    },
    {
     "data": {
      "image/png": "[encoded data removed]",
      "text/plain": [
       "<Figure size 720x576 with 1 Axes>"
      ]
     },
     "metadata": {
      "needs_background": "light"
     },
     "output_type": "display_data"
    }
   ],
   "source": [
    "# Gráfico de Dispersión\n",
    "fig, ax = plt.subplots(1, 1, figsize=(10,8))\n",
    "# Azul\n",
    "ax.scatter(x= data['CL2_80ft(PPM)'], y= data['concentration'], alpha= 0.8)\n",
    "# Naranja\n",
    "ax.scatter(x= data['CL2_1100ft(PPM)'], y= data['concentration'], alpha= 0.8)\n",
    "ax.set_xlabel('CL2 (PPM)')\n",
    "ax.set_ylabel('Concentration Glyphosate')"
   ]
  },
  {
   "cell_type": "code",
   "execution_count": 96,
   "metadata": {},
   "outputs": [
    {
     "name": "stdout",
     "output_type": "stream",
     "text": [
      "*** CL2 80ft (PPM) VS Concentración Glifosato ***\n",
      "Correlación Pearson:  -0.38728408489219757\n",
      "Correlación Spearman:  -0.4204077070723936\n",
      "Correlación Kendall:  -0.34134230688558115\n",
      "-------------------------------------------\n",
      "*** CL2 1100ft (PPM) VS Concentración Glifosato *** \n",
      "Correlación Pearson:  -0.39162669501491504\n",
      "Correlación Spearman:  -0.40169905384525734\n",
      "Correlación Kendall:  -0.32683541768286295\n",
      "-------------------------------------------\n"
     ]
    }
   ],
   "source": [
    "# Cálculo de correlaciones\n",
    "\n",
    "# CL2 80ft (PPM) VS Concentración Glifosato \n",
    "print(\"*** CL2 80ft (PPM) VS Concentración Glifosato ***\")\n",
    "print('Correlación Pearson: ', data['CL2_80ft(PPM)'].corr(data['concentration'], method='pearson'))\n",
    "print('Correlación Spearman: ', data['CL2_80ft(PPM)'].corr(data['concentration'], method='spearman'))\n",
    "print('Correlación Kendall: ', data['CL2_80ft(PPM)'].corr(data['concentration'], method='kendall'))\n",
    "print(\"-------------------------------------------\")\n",
    "\n",
    "# CL2 1100ft (PPM) VS Concentración Glifosato  \n",
    "print(\"*** CL2 1100ft (PPM) VS Concentración Glifosato *** \")\n",
    "print('Correlación Pearson: ', data['CL2_1100ft(PPM)'].corr(data['concentration'], method='pearson'))\n",
    "print('Correlación Spearman: ', data['CL2_1100ft(PPM)'].corr(data['concentration'], method='spearman'))\n",
    "print('Correlación Kendall: ', data['CL2_1100ft(PPM)'].corr(data['concentration'], method='kendall'))\n",
    "print(\"-------------------------------------------\")"
   ]
  },
  {
   "attachments": {},
   "cell_type": "markdown",
   "metadata": {},
   "source": [
    "### -------------------------------------------------------------------------------\n",
    "\n",
    "### DO YSI"
   ]
  },
  {
   "cell_type": "code",
   "execution_count": 99,
   "metadata": {},
   "outputs": [
    {
     "data": {
      "text/plain": [
       "Text(0, 0.5, 'Concentration Glyphosate')"
      ]
     },
     "execution_count": 99,
     "metadata": {},
     "output_type": "execute_result"
    },
    {
     "data": {
      "image/png": "[encoded data removed]",
      "text/plain": [
       "<Figure size 720x576 with 1 Axes>"
      ]
     },
     "metadata": {
      "needs_background": "light"
     },
     "output_type": "display_data"
    }
   ],
   "source": [
    "# Gráfico de Dispersión\n",
    "fig, ax = plt.subplots(1, 1, figsize=(10,8))\n",
    "# Azul\n",
    "ax.scatter(x= data['DO_YSI_80ft(mg/L)'], y= data['concentration'], alpha= 0.8)\n",
    "# Naranja\n",
    "ax.scatter(x= data['DO_YSI_1100ft(mg/L)'], y= data['concentration'], alpha= 0.8)\n",
    "ax.set_xlabel('DO_YSI (mg/L)')\n",
    "ax.set_ylabel('Concentration Glyphosate')"
   ]
  },
  {
   "cell_type": "code",
   "execution_count": 100,
   "metadata": {},
   "outputs": [
    {
     "name": "stdout",
     "output_type": "stream",
     "text": [
      "*** DO_YSI 80ft (mg/L) VS Concentración Glifosato ***\n",
      "Correlación Pearson:  0.41207193504558\n",
      "Correlación Spearman:  0.31990760399472923\n",
      "Correlación Kendall:  0.24283248793165527\n",
      "-------------------------------------------\n",
      "*** DO 1100ft (mg/L) VS Concentración Glifosato *** \n",
      "Correlación Pearson:  0.5227340963872991\n",
      "Correlación Spearman:  0.45757948641820806\n",
      "Correlación Kendall:  0.3693997421717727\n",
      "-------------------------------------------\n"
     ]
    }
   ],
   "source": [
    "# Cálculo de correlaciones: Parámetro DO\n",
    "\n",
    "# DO 80ft (mg/L) VS Concentración Glifosato \n",
    "print(\"*** DO_YSI 80ft (mg/L) VS Concentración Glifosato ***\")\n",
    "print('Correlación Pearson: ', data['DO_YSI_80ft(mg/L)'].corr(data['concentration'], method='pearson'))\n",
    "print('Correlación Spearman: ', data['DO_YSI_80ft(mg/L)'].corr(data['concentration'], method='spearman'))\n",
    "print('Correlación Kendall: ', data['DO_YSI_80ft(mg/L)'].corr(data['concentration'], method='kendall'))\n",
    "print(\"-------------------------------------------\")\n",
    "\n",
    "# C12 1100ft (PPM) VS Concentración Glifosato  \n",
    "print(\"*** DO 1100ft (mg/L) VS Concentración Glifosato *** \")\n",
    "print('Correlación Pearson: ', data['DO_YSI_1100ft(mg/L)'].corr(data['concentration'], method='pearson'))\n",
    "print('Correlación Spearman: ', data['DO_YSI_1100ft(mg/L)'].corr(data['concentration'], method='spearman'))\n",
    "print('Correlación Kendall: ', data['DO_YSI_1100ft(mg/L)'].corr(data['concentration'], method='kendall'))\n",
    "print(\"-------------------------------------------\")"
   ]
  },
  {
   "attachments": {},
   "cell_type": "markdown",
   "metadata": {},
   "source": [
    "### -------------------------------------------------------------------------------\n",
    "\n",
    "### FreeClorine ATI"
   ]
  },
  {
   "cell_type": "code",
   "execution_count": 101,
   "metadata": {},
   "outputs": [
    {
     "data": {
      "text/plain": [
       "Text(0, 0.5, 'Concentration Glyphosate')"
      ]
     },
     "execution_count": 101,
     "metadata": {},
     "output_type": "execute_result"
    },
    {
     "data": {
      "image/png": "[encoded data removed]",
      "text/plain": [
       "<Figure size 720x576 with 1 Axes>"
      ]
     },
     "metadata": {
      "needs_background": "light"
     },
     "output_type": "display_data"
    }
   ],
   "source": [
    "# Gráfico de Dispersión\n",
    "fig, ax = plt.subplots(1, 1, figsize=(10,8))\n",
    "# Azul\n",
    "ax.scatter(x= data['FreeClorine_ATI_80ft(PPM)'], y= data['concentration'], alpha= 0.8)\n",
    "# Naranja\n",
    "ax.scatter(x= data['FreeClorine_ATI_1100ft(PPM)'], y= data['concentration'], alpha= 0.8)\n",
    "ax.set_xlabel('FreeClorine_ATI (PPM)')\n",
    "ax.set_ylabel('Concentration Glyphosate')"
   ]
  },
  {
   "cell_type": "code",
   "execution_count": 102,
   "metadata": {},
   "outputs": [
    {
     "name": "stdout",
     "output_type": "stream",
     "text": [
      "*** FreeClorine_ATI 80ft (PPM) VS Concentración Glifosato ***\n",
      "Correlación Pearson:  -0.3534676637974012\n",
      "Correlación Spearman:  -0.5174986675526108\n",
      "Correlación Kendall:  -0.41134054066939774\n",
      "-------------------------------------------\n",
      "*** FreeClorine_ATI 1100ft (PPM) VS Concentración Glifosato *** \n",
      "Correlación Pearson:  -0.4142573373821884\n",
      "Correlación Spearman:  -0.555017687981567\n",
      "Correlación Kendall:  -0.4297200748050273\n",
      "-------------------------------------------\n"
     ]
    }
   ],
   "source": [
    "# Cálculo de correlaciones\n",
    "\n",
    "# FreeClorine 80ft (PPM) VS Concentración Glifosato \n",
    "print(\"*** FreeClorine_ATI 80ft (PPM) VS Concentración Glifosato ***\")\n",
    "print('Correlación Pearson: ', data['FreeClorine_ATI_80ft(PPM)'].corr(data['concentration'], method='pearson'))\n",
    "print('Correlación Spearman: ', data['FreeClorine_ATI_80ft(PPM)'].corr(data['concentration'], method='spearman'))\n",
    "print('Correlación Kendall: ', data['FreeClorine_ATI_80ft(PPM)'].corr(data['concentration'], method='kendall'))\n",
    "print(\"-------------------------------------------\")\n",
    "\n",
    "# FreeClorine 1100ft (PPM) VS Concentración Glifosato  \n",
    "print(\"*** FreeClorine_ATI 1100ft (PPM) VS Concentración Glifosato *** \")\n",
    "print('Correlación Pearson: ', data['FreeClorine_ATI_1100ft(PPM)'].corr(data['concentration'], method='pearson'))\n",
    "print('Correlación Spearman: ', data['FreeClorine_ATI_1100ft(PPM)'].corr(data['concentration'], method='spearman'))\n",
    "print('Correlación Kendall: ', data['FreeClorine_ATI_1100ft(PPM)'].corr(data['concentration'], method='kendall'))\n",
    "print(\"-------------------------------------------\")"
   ]
  },
  {
   "attachments": {},
   "cell_type": "markdown",
   "metadata": {},
   "source": [
    "### -------------------------------------------------------------------------------\n",
    "\n",
    "### FreeClorine X"
   ]
  },
  {
   "cell_type": "code",
   "execution_count": 103,
   "metadata": {},
   "outputs": [
    {
     "data": {
      "text/plain": [
       "Text(0, 0.5, 'Concentration Glyphosate')"
      ]
     },
     "execution_count": 103,
     "metadata": {},
     "output_type": "execute_result"
    },
    {
     "data": {
      "image/png": "[encoded data removed]",
      "text/plain": [
       "<Figure size 720x576 with 1 Axes>"
      ]
     },
     "metadata": {
      "needs_background": "light"
     },
     "output_type": "display_data"
    }
   ],
   "source": [
    "# Gráfico de Dispersión\n",
    "fig, ax = plt.subplots(1, 1, figsize=(10,8))\n",
    "# Azul\n",
    "ax.scatter(x= data['FreeClorine_X_80ft(PPM)'], y= data['concentration'], alpha= 0.8)\n",
    "# Naranja\n",
    "ax.scatter(x= data['FreeClorine_X_1100ft(PPM)'], y= data['concentration'], alpha= 0.8)\n",
    "ax.set_xlabel('FreeClorine_X (PPM)')\n",
    "ax.set_ylabel('Concentration Glyphosate')"
   ]
  },
  {
   "cell_type": "code",
   "execution_count": 104,
   "metadata": {},
   "outputs": [
    {
     "name": "stdout",
     "output_type": "stream",
     "text": [
      "*** FreeClorine_X 80ft (PPM) VS Concentración Glifosato ***\n",
      "Correlación Pearson:  -0.3349488685652695\n",
      "Correlación Spearman:  -0.22573991145896305\n",
      "Correlación Kendall:  -0.18491383848754453\n",
      "-------------------------------------------\n",
      "*** FreeClorine_X 1100ft (PPM) VS Concentración Glifosato *** \n",
      "Correlación Pearson:  -0.3799881018395379\n",
      "Correlación Spearman:  -0.37400744826679777\n",
      "Correlación Kendall:  -0.29804502605186334\n",
      "-------------------------------------------\n"
     ]
    }
   ],
   "source": [
    "# Cálculo de correlaciones\n",
    "\n",
    "# FreeClorine 80ft (PPM) VS Concentración Glifosato \n",
    "print(\"*** FreeClorine_X 80ft (PPM) VS Concentración Glifosato ***\")\n",
    "print('Correlación Pearson: ', data['FreeClorine_X_80ft(PPM)'].corr(data['concentration'], method='pearson'))\n",
    "print('Correlación Spearman: ', data['FreeClorine_X_80ft(PPM)'].corr(data['concentration'], method='spearman'))\n",
    "print('Correlación Kendall: ', data['FreeClorine_X_80ft(PPM)'].corr(data['concentration'], method='kendall'))\n",
    "print(\"-------------------------------------------\")\n",
    "\n",
    "# FreeClorine 1100ft (PPM) VS Concentración Glifosato  \n",
    "print(\"*** FreeClorine_X 1100ft (PPM) VS Concentración Glifosato *** \")\n",
    "print('Correlación Pearson: ', data['FreeClorine_X_1100ft(PPM)'].corr(data['concentration'], method='pearson'))\n",
    "print('Correlación Spearman: ', data['FreeClorine_X_1100ft(PPM)'].corr(data['concentration'], method='spearman'))\n",
    "print('Correlación Kendall: ', data['FreeClorine_X_1100ft(PPM)'].corr(data['concentration'], method='kendall'))\n",
    "print(\"-------------------------------------------\")"
   ]
  },
  {
   "attachments": {},
   "cell_type": "markdown",
   "metadata": {},
   "source": [
    "### -------------------------------------------------------------------------------\n",
    "\n",
    "### ORP"
   ]
  },
  {
   "cell_type": "code",
   "execution_count": 105,
   "metadata": {},
   "outputs": [
    {
     "data": {
      "text/plain": [
       "Text(0, 0.5, 'Concentration Glyphosate')"
      ]
     },
     "execution_count": 105,
     "metadata": {},
     "output_type": "execute_result"
    },
    {
     "data": {
      "image/png": "[encoded data removed]",
      "text/plain": [
       "<Figure size 720x576 with 1 Axes>"
      ]
     },
     "metadata": {
      "needs_background": "light"
     },
     "output_type": "display_data"
    }
   ],
   "source": [
    "# Gráfico de Dispersión: Parámetro ORP\n",
    "fig, ax = plt.subplots(1, 1, figsize=(10,8))\n",
    "# Azul\n",
    "ax.scatter(x= data['ORP_YSI_80ft(mV)'], y= data['concentration'], alpha= 0.8)\n",
    "# Naranja\n",
    "ax.scatter(x= data['ORP_YSI_1100ft(mV)'], y= data['concentration'], alpha= 0.8)\n",
    "ax.set_xlabel('ORP (mV)')\n",
    "ax.set_ylabel('Concentration Glyphosate')"
   ]
  },
  {
   "cell_type": "code",
   "execution_count": 106,
   "metadata": {},
   "outputs": [
    {
     "name": "stdout",
     "output_type": "stream",
     "text": [
      "*** ORP 80ft (mV) VS Concentración Glifosato ***\n",
      "Correlación Pearson:  -0.4452134313159043\n",
      "Correlación Spearman:  -0.45289031347065123\n",
      "Correlación Kendall:  -0.3595026130847855\n",
      "-------------------------------------------\n",
      "*** ORP 1100ft (mV) VS Concentración Glifosato *** \n",
      "Correlación Pearson:  -0.4312609622223317\n",
      "Correlación Spearman:  -0.23016836099525634\n",
      "Correlación Kendall:  -0.17584310815739906\n",
      "-------------------------------------------\n"
     ]
    }
   ],
   "source": [
    "# Cálculo de correlaciones\n",
    "\n",
    "# ORP 80ft (mV) VS Concentración Glifosato \n",
    "print(\"*** ORP 80ft (mV) VS Concentración Glifosato ***\")\n",
    "print('Correlación Pearson: ', data['ORP_YSI_80ft(mV)'].corr(data['concentration'], method='pearson'))\n",
    "print('Correlación Spearman: ', data['ORP_YSI_80ft(mV)'].corr(data['concentration'], method='spearman'))\n",
    "print('Correlación Kendall: ', data['ORP_YSI_80ft(mV)'].corr(data['concentration'], method='kendall'))\n",
    "print(\"-------------------------------------------\")\n",
    "\n",
    "# ORP 1100ft (mV) VS Concentración Glifosato  \n",
    "print(\"*** ORP 1100ft (mV) VS Concentración Glifosato *** \")\n",
    "print('Correlación Pearson: ', data['ORP_YSI_1100ft(mV)'].corr(data['concentration'], method='pearson'))\n",
    "print('Correlación Spearman: ', data['ORP_YSI_1100ft(mV)'].corr(data['concentration'], method='spearman'))\n",
    "print('Correlación Kendall: ', data['ORP_YSI_1100ft(mV)'].corr(data['concentration'], method='kendall'))\n",
    "print(\"-------------------------------------------\")"
   ]
  },
  {
   "attachments": {},
   "cell_type": "markdown",
   "metadata": {},
   "source": [
    "### -------------------------------------------------------------------------------"
   ]
  },
  {
   "cell_type": "code",
   "execution_count": 107,
   "metadata": {},
   "outputs": [
    {
     "data": {
      "text/plain": [
       "Text(0, 0.5, 'Concentration Glyphosate')"
      ]
     },
     "execution_count": 107,
     "metadata": {},
     "output_type": "execute_result"
    },
    {
     "data": {
      "image/png": "[encoded data removed]",
      "text/plain": [
       "<Figure size 720x576 with 1 Axes>"
      ]
     },
     "metadata": {
      "needs_background": "light"
     },
     "output_type": "display_data"
    }
   ],
   "source": [
    "# Gráfico de Dispersión\n",
    "fig, ax = plt.subplots(1, 1, figsize=(10,8))\n",
    "# Azul\n",
    "ax.scatter(x= data['pH_YSI_80ft'], y= data['concentration'], alpha= 0.8)\n",
    "# Naranja\n",
    "ax.scatter(x= data['pH_YSI_1100ft'], y= data['concentration'], alpha= 0.8)\n",
    "ax.set_xlabel('pH')\n",
    "ax.set_ylabel('Concentration Glyphosate')"
   ]
  },
  {
   "cell_type": "code",
   "execution_count": null,
   "metadata": {},
   "outputs": [
    {
     "name": "stdout",
     "output_type": "stream",
     "text": [
      "*** pH 80ft VS Concentración Glifosato ***\n",
      "Correlación Pearson:  -0.39747243720880676\n",
      "Correlación Spearman:  -0.24538004094855695\n",
      "Correlación Kendall:  -0.1998873668355288\n",
      "-------------------------------------------\n",
      "*** pH 1100ft VS Concentración Glifosato *** \n",
      "Correlación Pearson:  -0.3619759625734135\n",
      "Correlación Spearman:  -0.17764139627901762\n",
      "Correlación Kendall:  -0.14347498392568303\n",
      "-------------------------------------------\n"
     ]
    }
   ],
   "source": [
    "# Cálculo de correlaciones: Parámetro pH\n",
    "\n",
    "# pH 80ft VS Concentración Glifosato \n",
    "print(\"*** pH 80ft VS Concentración Glifosato ***\")\n",
    "print('Correlación Pearson: ', data['pH_80ft'].corr(data['concentration'], method='pearson'))\n",
    "print('Correlación Spearman: ', data['pH_80ft'].corr(data['concentration'], method='spearman'))\n",
    "print('Correlación Kendall: ', data['pH_80ft'].corr(data['concentration'], method='kendall'))\n",
    "print(\"-------------------------------------------\")\n",
    "\n",
    "# pH 1100ft VS Concentración Glifosato  \n",
    "print(\"*** pH 1100ft VS Concentración Glifosato *** \")\n",
    "print('Correlación Pearson: ', data['pH_1100ft'].corr(data['concentration'], method='pearson'))\n",
    "print('Correlación Spearman: ', data['pH_1100ft'].corr(data['concentration'], method='spearman'))\n",
    "print('Correlación Kendall: ', data['pH_1100ft'].corr(data['concentration'], method='kendall'))\n",
    "print(\"-------------------------------------------\")"
   ]
  },
  {
   "attachments": {},
   "cell_type": "markdown",
   "metadata": {},
   "source": [
    "### -------------------------------------------------------------------------------"
   ]
  },
  {
   "cell_type": "code",
   "execution_count": null,
   "metadata": {},
   "outputs": [
    {
     "data": {
      "text/plain": [
       "Text(0, 0.5, 'Concentration Glyphosate')"
      ]
     },
     "execution_count": 29,
     "metadata": {},
     "output_type": "execute_result"
    },
    {
     "data": {
      "image/png": "[encoded data removed]",
      "text/plain": [
       "<Figure size 720x576 with 1 Axes>"
      ]
     },
     "metadata": {
      "needs_background": "light"
     },
     "output_type": "display_data"
    }
   ],
   "source": [
    "# Gráfico de Dispersión: Parámetro sp_cond\n",
    "fig, ax = plt.subplots(1, 1, figsize=(10,8))\n",
    "# Azul\n",
    "ax.scatter(x= data['sp_cond_80ft(µS/cm)'], y= data['concentration'], alpha= 0.8)\n",
    "# Naranja\n",
    "ax.scatter(x= data['sp_cond_1100ft(µS/cm)'], y= data['concentration'], alpha= 0.8)\n",
    "ax.set_xlabel('sp_cond(µS/cm)')\n",
    "ax.set_ylabel('Concentration Glyphosate')"
   ]
  },
  {
   "cell_type": "code",
   "execution_count": null,
   "metadata": {},
   "outputs": [
    {
     "name": "stdout",
     "output_type": "stream",
     "text": [
      "*** sp_cond 80ft (mV) VS Concentración Glifosato ***\n",
      "Correlación Pearson:  0.08510638379396712\n",
      "Correlación Spearman:  0.16503018668581984\n",
      "Correlación Kendall:  0.14469928474138902\n",
      "-------------------------------------------\n",
      "*** sp_cond 1100 ft (mV) VS Concentración Glifosato *** \n",
      "Correlación Pearson:  0.07671725451846767\n",
      "Correlación Spearman:  0.13015407841924012\n",
      "Correlación Kendall:  0.11403715291098988\n",
      "-------------------------------------------\n"
     ]
    }
   ],
   "source": [
    "# Cálculo de correlaciones: Parámetro sp_cond\n",
    "\n",
    "# sp_cond 80ft (mV) VS Concentración Glifosato \n",
    "print(\"*** sp_cond 80ft (mV) VS Concentración Glifosato ***\")\n",
    "print('Correlación Pearson: ', data['sp_cond_80ft(µS/cm)'].corr(data['concentration'], method='pearson'))\n",
    "print('Correlación Spearman: ', data['sp_cond_80ft(µS/cm)'].corr(data['concentration'], method='spearman'))\n",
    "print('Correlación Kendall: ', data['sp_cond_80ft(µS/cm)'].corr(data['concentration'], method='kendall'))\n",
    "print(\"-------------------------------------------\")\n",
    "\n",
    "# sp_cond 1100ft (mV) VS Concentración Glifosato  \n",
    "print(\"*** sp_cond 1100 ft (mV) VS Concentración Glifosato *** \")\n",
    "print('Correlación Pearson: ', data['sp_cond_1100ft(µS/cm)'].corr(data['concentration'], method='pearson'))\n",
    "print('Correlación Spearman: ', data['sp_cond_1100ft(µS/cm)'].corr(data['concentration'], method='spearman'))\n",
    "print('Correlación Kendall: ', data['sp_cond_1100ft(µS/cm)'].corr(data['concentration'], method='kendall'))\n",
    "print(\"-------------------------------------------\")"
   ]
  },
  {
   "attachments": {},
   "cell_type": "markdown",
   "metadata": {},
   "source": [
    "### -------------------------------------------------------------------------------"
   ]
  },
  {
   "cell_type": "code",
   "execution_count": null,
   "metadata": {},
   "outputs": [
    {
     "data": {
      "text/plain": [
       "Text(0, 0.5, 'Concentration Glyphosate')"
      ]
     },
     "execution_count": 35,
     "metadata": {},
     "output_type": "execute_result"
    },
    {
     "data": {
      "image/png": "[encoded data removed]",
      "text/plain": [
       "<Figure size 720x576 with 1 Axes>"
      ]
     },
     "metadata": {
      "needs_background": "light"
     },
     "output_type": "display_data"
    }
   ],
   "source": [
    "# Gráfico de Dispersión: Parámetro turbidity\n",
    "fig, ax = plt.subplots(1, 1, figsize=(10,8))\n",
    "# Azul\n",
    "ax.scatter(x= data['turbidity_80ft(NTU+)'], y= data['concentration'], alpha= 0.8)\n",
    "# Naranja\n",
    "ax.scatter(x= data['turbidity_1100ft(NTU+)'], y= data['concentration'], alpha= 0.8)\n",
    "ax.set_xlabel('turbidity(NTU+)')\n",
    "ax.set_ylabel('Concentration Glyphosate')"
   ]
  },
  {
   "cell_type": "code",
   "execution_count": null,
   "metadata": {},
   "outputs": [
    {
     "name": "stdout",
     "output_type": "stream",
     "text": [
      "*** turbidity 80ft (NTU+) VS Concentración Glifosato ***\n",
      "Correlación Pearson:  0.021489793306346674\n",
      "Correlación Spearman:  0.027893816223143988\n",
      "Correlación Kendall:  0.02404229600391699\n",
      "-------------------------------------------\n",
      "*** turbidity 1100 ft (NTU+) VS Concentración Glifosato *** \n",
      "Correlación Pearson:  -0.12646118037525905\n",
      "Correlación Spearman:  -0.056694301097414405\n",
      "Correlación Kendall:  -0.04895652541863845\n",
      "-------------------------------------------\n"
     ]
    }
   ],
   "source": [
    "# Cálculo de correlaciones: Parámetro turbidity\n",
    "\n",
    "# turbidity 80ft (NTU+) VS Concentración Glifosato \n",
    "print(\"*** turbidity 80ft (NTU+) VS Concentración Glifosato ***\")\n",
    "print('Correlación Pearson: ', data['turbidity_80ft(NTU+)'].corr(data['concentration'], method='pearson'))\n",
    "print('Correlación Spearman: ', data['turbidity_80ft(NTU+)'].corr(data['concentration'], method='spearman'))\n",
    "print('Correlación Kendall: ', data['turbidity_80ft(NTU+)'].corr(data['concentration'], method='kendall'))\n",
    "print(\"-------------------------------------------\")\n",
    "\n",
    "# turbidity 1100ft (NTU+) VS Concentración Glifosato  \n",
    "print(\"*** turbidity 1100 ft (NTU+) VS Concentración Glifosato *** \")\n",
    "print('Correlación Pearson: ', data['turbidity_1100ft(NTU+)'].corr(data['concentration'], method='pearson'))\n",
    "print('Correlación Spearman: ', data['turbidity_1100ft(NTU+)'].corr(data['concentration'], method='spearman'))\n",
    "print('Correlación Kendall: ', data['turbidity_1100ft(NTU+)'].corr(data['concentration'], method='kendall'))\n",
    "print(\"-------------------------------------------\")"
   ]
  }
 ],
 "metadata": {
  "kernelspec": {
   "display_name": "Python 3.9.13 64-bit",
   "language": "python",
   "name": "python3"
  },
  "language_info": {
   "codemirror_mode": {
    "name": "ipython",
    "version": 3
   },
   "file_extension": ".py",
   "mimetype": "text/x-python",
   "name": "python",
   "nbconvert_exporter": "python",
   "pygments_lexer": "ipython3",
   "version": "3.9.13"
  },
  "vscode": {
   "interpreter": {
    "hash": "aee8b7b246df8f9039afb4144a1f6fd8d2ca17a180786b69acc140d282b71a49"
   }
  }
 },
 "nbformat": 4,
 "nbformat_minor": 4
}
