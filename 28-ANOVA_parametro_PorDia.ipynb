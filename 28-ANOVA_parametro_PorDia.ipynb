{
 "cells": [
  {
   "attachments": {},
   "cell_type": "markdown",
   "metadata": {},
   "source": [
    "#### ANOVA\n",
    "\n",
    "Por día, todas las concentraciones y distancias por parámetro"
   ]
  },
  {
   "cell_type": "markdown",
   "metadata": {},
   "source": [
    "### Se importan las librerias"
   ]
  },
  {
   "cell_type": "code",
   "execution_count": 1,
   "metadata": {},
   "outputs": [
    {
     "name": "stderr",
     "output_type": "stream",
     "text": [
      "/Library/Frameworks/Python.framework/Versions/3.9/lib/python3.9/site-packages/outdated/utils.py:14: OutdatedPackageWarning: The package pingouin is out of date. Your version is 0.5.2, the latest is 0.5.3.\n",
      "Set the environment variable OUTDATED_IGNORE=1 to disable these warnings.\n",
      "  return warn(\n"
     ]
    }
   ],
   "source": [
    "# Se importan las librerias\n",
    "import pandas as pd\n",
    "import numpy as np\n",
    "import matplotlib.pyplot as plt\n",
    "import seaborn as sns\n",
    "import pingouin as pg\n",
    "from statsmodels.graphics.factorplots import interaction_plot"
   ]
  },
  {
   "cell_type": "markdown",
   "metadata": {},
   "source": [
    "### Se cargan los datos"
   ]
  },
  {
   "cell_type": "code",
   "execution_count": 2,
   "metadata": {},
   "outputs": [
    {
     "data": {
      "text/html": [
       "<div>\n",
       "<style scoped>\n",
       "    .dataframe tbody tr th:only-of-type {\n",
       "        vertical-align: middle;\n",
       "    }\n",
       "\n",
       "    .dataframe tbody tr th {\n",
       "        vertical-align: top;\n",
       "    }\n",
       "\n",
       "    .dataframe thead th {\n",
       "        text-align: right;\n",
       "    }\n",
       "</style>\n",
       "<table border=\"1\" class=\"dataframe\">\n",
       "  <thead>\n",
       "    <tr style=\"text-align: right;\">\n",
       "      <th></th>\n",
       "      <th>date</th>\n",
       "      <th>date(m/d/y)</th>\n",
       "      <th>time</th>\n",
       "      <th>day</th>\n",
       "      <th>concentration</th>\n",
       "      <th>chloride_80ft(mg/L)</th>\n",
       "      <th>chloride_1100ft(mg/L)</th>\n",
       "      <th>difference_chloride</th>\n",
       "      <th>CL2_80ft(PPM)</th>\n",
       "      <th>CL2_1100ft(PPM)</th>\n",
       "      <th>...</th>\n",
       "      <th>difference_ORP_YSI</th>\n",
       "      <th>pH_YSI_80ft</th>\n",
       "      <th>pH_YSI_1100ft</th>\n",
       "      <th>difference_pH</th>\n",
       "      <th>sp_cond_YSI_80ft(µS/cm)</th>\n",
       "      <th>sp_cond_YSI_1100ft(µS/cm)</th>\n",
       "      <th>difference_sp_cond_YSI</th>\n",
       "      <th>turbidity_YSI_80ft(NTU+)</th>\n",
       "      <th>turbidity_YSI_1100ft(NTU+)</th>\n",
       "      <th>difference_turbidity</th>\n",
       "    </tr>\n",
       "  </thead>\n",
       "  <tbody>\n",
       "    <tr>\n",
       "      <th>0</th>\n",
       "      <td>25/01/05 12:30</td>\n",
       "      <td>25/01/05</td>\n",
       "      <td>12.30</td>\n",
       "      <td>1</td>\n",
       "      <td>0.0</td>\n",
       "      <td>16.33</td>\n",
       "      <td>17.02</td>\n",
       "      <td>0.69</td>\n",
       "      <td>1.02</td>\n",
       "      <td>1.05</td>\n",
       "      <td>...</td>\n",
       "      <td>75</td>\n",
       "      <td>7.23</td>\n",
       "      <td>8.68</td>\n",
       "      <td>1.45</td>\n",
       "      <td>281</td>\n",
       "      <td>284</td>\n",
       "      <td>3</td>\n",
       "      <td>0.5</td>\n",
       "      <td>0.1</td>\n",
       "      <td>-0.4</td>\n",
       "    </tr>\n",
       "    <tr>\n",
       "      <th>1</th>\n",
       "      <td>25/01/05 12:31</td>\n",
       "      <td>25/01/05</td>\n",
       "      <td>12.31</td>\n",
       "      <td>1</td>\n",
       "      <td>0.0</td>\n",
       "      <td>16.39</td>\n",
       "      <td>17.12</td>\n",
       "      <td>0.73</td>\n",
       "      <td>1.02</td>\n",
       "      <td>1.05</td>\n",
       "      <td>...</td>\n",
       "      <td>75</td>\n",
       "      <td>7.22</td>\n",
       "      <td>8.67</td>\n",
       "      <td>1.45</td>\n",
       "      <td>281</td>\n",
       "      <td>283</td>\n",
       "      <td>2</td>\n",
       "      <td>0.8</td>\n",
       "      <td>0.1</td>\n",
       "      <td>-0.7</td>\n",
       "    </tr>\n",
       "    <tr>\n",
       "      <th>2</th>\n",
       "      <td>25/01/05 12:32</td>\n",
       "      <td>25/01/05</td>\n",
       "      <td>12.32</td>\n",
       "      <td>1</td>\n",
       "      <td>0.0</td>\n",
       "      <td>16.39</td>\n",
       "      <td>17.12</td>\n",
       "      <td>0.73</td>\n",
       "      <td>1.02</td>\n",
       "      <td>1.05</td>\n",
       "      <td>...</td>\n",
       "      <td>75</td>\n",
       "      <td>7.22</td>\n",
       "      <td>8.68</td>\n",
       "      <td>1.46</td>\n",
       "      <td>281</td>\n",
       "      <td>283</td>\n",
       "      <td>2</td>\n",
       "      <td>0.8</td>\n",
       "      <td>0.1</td>\n",
       "      <td>-0.7</td>\n",
       "    </tr>\n",
       "    <tr>\n",
       "      <th>3</th>\n",
       "      <td>25/01/05 12:33</td>\n",
       "      <td>25/01/05</td>\n",
       "      <td>12.33</td>\n",
       "      <td>1</td>\n",
       "      <td>0.0</td>\n",
       "      <td>16.38</td>\n",
       "      <td>17.11</td>\n",
       "      <td>0.73</td>\n",
       "      <td>1.02</td>\n",
       "      <td>1.04</td>\n",
       "      <td>...</td>\n",
       "      <td>76</td>\n",
       "      <td>7.22</td>\n",
       "      <td>8.68</td>\n",
       "      <td>1.46</td>\n",
       "      <td>281</td>\n",
       "      <td>283</td>\n",
       "      <td>2</td>\n",
       "      <td>0.8</td>\n",
       "      <td>0.1</td>\n",
       "      <td>-0.7</td>\n",
       "    </tr>\n",
       "    <tr>\n",
       "      <th>4</th>\n",
       "      <td>25/01/05 12:34</td>\n",
       "      <td>25/01/05</td>\n",
       "      <td>12.34</td>\n",
       "      <td>1</td>\n",
       "      <td>0.0</td>\n",
       "      <td>16.39</td>\n",
       "      <td>17.03</td>\n",
       "      <td>0.64</td>\n",
       "      <td>1.02</td>\n",
       "      <td>1.04</td>\n",
       "      <td>...</td>\n",
       "      <td>76</td>\n",
       "      <td>7.22</td>\n",
       "      <td>8.68</td>\n",
       "      <td>1.46</td>\n",
       "      <td>281</td>\n",
       "      <td>284</td>\n",
       "      <td>3</td>\n",
       "      <td>0.7</td>\n",
       "      <td>0.1</td>\n",
       "      <td>-0.6</td>\n",
       "    </tr>\n",
       "    <tr>\n",
       "      <th>...</th>\n",
       "      <td>...</td>\n",
       "      <td>...</td>\n",
       "      <td>...</td>\n",
       "      <td>...</td>\n",
       "      <td>...</td>\n",
       "      <td>...</td>\n",
       "      <td>...</td>\n",
       "      <td>...</td>\n",
       "      <td>...</td>\n",
       "      <td>...</td>\n",
       "      <td>...</td>\n",
       "      <td>...</td>\n",
       "      <td>...</td>\n",
       "      <td>...</td>\n",
       "      <td>...</td>\n",
       "      <td>...</td>\n",
       "      <td>...</td>\n",
       "      <td>...</td>\n",
       "      <td>...</td>\n",
       "      <td>...</td>\n",
       "      <td>...</td>\n",
       "    </tr>\n",
       "    <tr>\n",
       "      <th>621</th>\n",
       "      <td>26/01/05 15:56</td>\n",
       "      <td>26/01/05</td>\n",
       "      <td>15.56</td>\n",
       "      <td>2</td>\n",
       "      <td>3.0</td>\n",
       "      <td>16.37</td>\n",
       "      <td>17.93</td>\n",
       "      <td>1.56</td>\n",
       "      <td>1.00</td>\n",
       "      <td>1.02</td>\n",
       "      <td>...</td>\n",
       "      <td>95</td>\n",
       "      <td>7.17</td>\n",
       "      <td>8.72</td>\n",
       "      <td>1.55</td>\n",
       "      <td>287</td>\n",
       "      <td>289</td>\n",
       "      <td>2</td>\n",
       "      <td>0.8</td>\n",
       "      <td>0.0</td>\n",
       "      <td>-0.8</td>\n",
       "    </tr>\n",
       "    <tr>\n",
       "      <th>622</th>\n",
       "      <td>26/01/05 15:57</td>\n",
       "      <td>26/01/05</td>\n",
       "      <td>15.57</td>\n",
       "      <td>2</td>\n",
       "      <td>3.0</td>\n",
       "      <td>16.38</td>\n",
       "      <td>17.92</td>\n",
       "      <td>1.54</td>\n",
       "      <td>1.00</td>\n",
       "      <td>1.01</td>\n",
       "      <td>...</td>\n",
       "      <td>96</td>\n",
       "      <td>7.17</td>\n",
       "      <td>8.72</td>\n",
       "      <td>1.55</td>\n",
       "      <td>287</td>\n",
       "      <td>289</td>\n",
       "      <td>2</td>\n",
       "      <td>0.9</td>\n",
       "      <td>0.0</td>\n",
       "      <td>-0.9</td>\n",
       "    </tr>\n",
       "    <tr>\n",
       "      <th>623</th>\n",
       "      <td>26/01/05 15:58</td>\n",
       "      <td>26/01/05</td>\n",
       "      <td>15.58</td>\n",
       "      <td>2</td>\n",
       "      <td>3.0</td>\n",
       "      <td>16.37</td>\n",
       "      <td>17.90</td>\n",
       "      <td>1.53</td>\n",
       "      <td>1.00</td>\n",
       "      <td>1.01</td>\n",
       "      <td>...</td>\n",
       "      <td>96</td>\n",
       "      <td>7.17</td>\n",
       "      <td>8.71</td>\n",
       "      <td>1.54</td>\n",
       "      <td>287</td>\n",
       "      <td>289</td>\n",
       "      <td>2</td>\n",
       "      <td>0.8</td>\n",
       "      <td>0.0</td>\n",
       "      <td>-0.8</td>\n",
       "    </tr>\n",
       "    <tr>\n",
       "      <th>624</th>\n",
       "      <td>26/01/05 15:59</td>\n",
       "      <td>26/01/05</td>\n",
       "      <td>15.59</td>\n",
       "      <td>2</td>\n",
       "      <td>3.0</td>\n",
       "      <td>16.35</td>\n",
       "      <td>17.91</td>\n",
       "      <td>1.56</td>\n",
       "      <td>1.00</td>\n",
       "      <td>1.01</td>\n",
       "      <td>...</td>\n",
       "      <td>97</td>\n",
       "      <td>7.16</td>\n",
       "      <td>8.71</td>\n",
       "      <td>1.55</td>\n",
       "      <td>287</td>\n",
       "      <td>289</td>\n",
       "      <td>2</td>\n",
       "      <td>0.9</td>\n",
       "      <td>0.0</td>\n",
       "      <td>-0.9</td>\n",
       "    </tr>\n",
       "    <tr>\n",
       "      <th>625</th>\n",
       "      <td>26/01/05 16:00</td>\n",
       "      <td>26/01/05</td>\n",
       "      <td>16.00</td>\n",
       "      <td>2</td>\n",
       "      <td>3.0</td>\n",
       "      <td>16.31</td>\n",
       "      <td>17.87</td>\n",
       "      <td>1.56</td>\n",
       "      <td>0.99</td>\n",
       "      <td>1.01</td>\n",
       "      <td>...</td>\n",
       "      <td>97</td>\n",
       "      <td>7.16</td>\n",
       "      <td>8.72</td>\n",
       "      <td>1.56</td>\n",
       "      <td>287</td>\n",
       "      <td>289</td>\n",
       "      <td>2</td>\n",
       "      <td>0.8</td>\n",
       "      <td>0.1</td>\n",
       "      <td>-0.7</td>\n",
       "    </tr>\n",
       "  </tbody>\n",
       "</table>\n",
       "<p>626 rows × 32 columns</p>\n",
       "</div>"
      ],
      "text/plain": [
       "               date date(m/d/y)   time  day  concentration  \\\n",
       "0    25/01/05 12:30    25/01/05  12.30    1            0.0   \n",
       "1    25/01/05 12:31    25/01/05  12.31    1            0.0   \n",
       "2    25/01/05 12:32    25/01/05  12.32    1            0.0   \n",
       "3    25/01/05 12:33    25/01/05  12.33    1            0.0   \n",
       "4    25/01/05 12:34    25/01/05  12.34    1            0.0   \n",
       "..              ...         ...    ...  ...            ...   \n",
       "621  26/01/05 15:56    26/01/05  15.56    2            3.0   \n",
       "622  26/01/05 15:57    26/01/05  15.57    2            3.0   \n",
       "623  26/01/05 15:58    26/01/05  15.58    2            3.0   \n",
       "624  26/01/05 15:59    26/01/05  15.59    2            3.0   \n",
       "625  26/01/05 16:00    26/01/05  16.00    2            3.0   \n",
       "\n",
       "     chloride_80ft(mg/L)  chloride_1100ft(mg/L)  difference_chloride  \\\n",
       "0                  16.33                  17.02                 0.69   \n",
       "1                  16.39                  17.12                 0.73   \n",
       "2                  16.39                  17.12                 0.73   \n",
       "3                  16.38                  17.11                 0.73   \n",
       "4                  16.39                  17.03                 0.64   \n",
       "..                   ...                    ...                  ...   \n",
       "621                16.37                  17.93                 1.56   \n",
       "622                16.38                  17.92                 1.54   \n",
       "623                16.37                  17.90                 1.53   \n",
       "624                16.35                  17.91                 1.56   \n",
       "625                16.31                  17.87                 1.56   \n",
       "\n",
       "     CL2_80ft(PPM)  CL2_1100ft(PPM)  ...  difference_ORP_YSI  pH_YSI_80ft  \\\n",
       "0             1.02             1.05  ...                  75         7.23   \n",
       "1             1.02             1.05  ...                  75         7.22   \n",
       "2             1.02             1.05  ...                  75         7.22   \n",
       "3             1.02             1.04  ...                  76         7.22   \n",
       "4             1.02             1.04  ...                  76         7.22   \n",
       "..             ...              ...  ...                 ...          ...   \n",
       "621           1.00             1.02  ...                  95         7.17   \n",
       "622           1.00             1.01  ...                  96         7.17   \n",
       "623           1.00             1.01  ...                  96         7.17   \n",
       "624           1.00             1.01  ...                  97         7.16   \n",
       "625           0.99             1.01  ...                  97         7.16   \n",
       "\n",
       "     pH_YSI_1100ft  difference_pH  sp_cond_YSI_80ft(µS/cm)  \\\n",
       "0             8.68           1.45                      281   \n",
       "1             8.67           1.45                      281   \n",
       "2             8.68           1.46                      281   \n",
       "3             8.68           1.46                      281   \n",
       "4             8.68           1.46                      281   \n",
       "..             ...            ...                      ...   \n",
       "621           8.72           1.55                      287   \n",
       "622           8.72           1.55                      287   \n",
       "623           8.71           1.54                      287   \n",
       "624           8.71           1.55                      287   \n",
       "625           8.72           1.56                      287   \n",
       "\n",
       "     sp_cond_YSI_1100ft(µS/cm)  difference_sp_cond_YSI  \\\n",
       "0                          284                       3   \n",
       "1                          283                       2   \n",
       "2                          283                       2   \n",
       "3                          283                       2   \n",
       "4                          284                       3   \n",
       "..                         ...                     ...   \n",
       "621                        289                       2   \n",
       "622                        289                       2   \n",
       "623                        289                       2   \n",
       "624                        289                       2   \n",
       "625                        289                       2   \n",
       "\n",
       "     turbidity_YSI_80ft(NTU+)  turbidity_YSI_1100ft(NTU+)  \\\n",
       "0                         0.5                         0.1   \n",
       "1                         0.8                         0.1   \n",
       "2                         0.8                         0.1   \n",
       "3                         0.8                         0.1   \n",
       "4                         0.7                         0.1   \n",
       "..                        ...                         ...   \n",
       "621                       0.8                         0.0   \n",
       "622                       0.9                         0.0   \n",
       "623                       0.8                         0.0   \n",
       "624                       0.9                         0.0   \n",
       "625                       0.8                         0.1   \n",
       "\n",
       "     difference_turbidity  \n",
       "0                    -0.4  \n",
       "1                    -0.7  \n",
       "2                    -0.7  \n",
       "3                    -0.7  \n",
       "4                    -0.6  \n",
       "..                    ...  \n",
       "621                  -0.8  \n",
       "622                  -0.9  \n",
       "623                  -0.8  \n",
       "624                  -0.9  \n",
       "625                  -0.7  \n",
       "\n",
       "[626 rows x 32 columns]"
      ]
     },
     "execution_count": 2,
     "metadata": {},
     "output_type": "execute_result"
    }
   ],
   "source": [
    "datos = pd.read_csv(\"data/data_all.csv\", sep=\";\")\n",
    "\n",
    "datos"
   ]
  },
  {
   "cell_type": "markdown",
   "metadata": {},
   "source": [
    "### Número de grupos, observaciones por grupo y distribución de las observaciones"
   ]
  },
  {
   "cell_type": "code",
   "execution_count": 3,
   "metadata": {},
   "outputs": [
    {
     "data": {
      "text/plain": [
       "concentration\n",
       "0.0    182\n",
       "0.4    146\n",
       "1.5    150\n",
       "3.0    148\n",
       "dtype: int64"
      ]
     },
     "execution_count": 3,
     "metadata": {},
     "output_type": "execute_result"
    }
   ],
   "source": [
    "# Número de observaciones por grupo\n",
    "datos.groupby('concentration').size()"
   ]
  },
  {
   "cell_type": "code",
   "execution_count": 4,
   "metadata": {},
   "outputs": [
    {
     "data": {
      "text/plain": [
       "0.0    146\n",
       "0.4    146\n",
       "1.5    146\n",
       "3.0    146\n",
       "Name: concentration, dtype: int64"
      ]
     },
     "execution_count": 4,
     "metadata": {},
     "output_type": "execute_result"
    }
   ],
   "source": [
    "# Se balancean el número de observaciones por grupo (técnica resample)\n",
    "from sklearn.utils import resample\n",
    "\n",
    "data00 = datos[datos['concentration'] == 0.0]\n",
    "data04 = datos[datos['concentration'] == 0.4] # Base del resample 146 registros\n",
    "data15 = datos[datos['concentration'] == 1.5]\n",
    "data30 = datos[datos['concentration'] == 3.0]\n",
    "\n",
    "data_resample_00 = resample(data00,\n",
    "                            replace = True,\n",
    "                            n_samples = 146,\n",
    "                            random_state= 1)\n",
    "\n",
    "data_resample_15 = resample(data15,\n",
    "                            replace = True,\n",
    "                            n_samples = 146,\n",
    "                            random_state= 1)\n",
    "\n",
    "data_resample_30 = resample(data30,\n",
    "                            replace = True,\n",
    "                            n_samples = 146,\n",
    "                            random_state= 1)\n",
    "\n",
    "datos2 = pd.concat([data_resample_00, data04, data_resample_15, data_resample_30])\n",
    "\n",
    "datos2['concentration'].value_counts()\n"
   ]
  },
  {
   "cell_type": "code",
   "execution_count": 5,
   "metadata": {},
   "outputs": [
    {
     "name": "stderr",
     "output_type": "stream",
     "text": [
      "/var/folders/0m/xmkg_d4s05j9zcbpwwncd19w0000gn/T/ipykernel_14391/1821354023.py:2: FutureWarning: ['date', 'date(m/d/y)'] did not aggregate successfully. If any error is raised this will raise in a future version of pandas. Drop these columns/ops to avoid this warning.\n",
      "  datos.groupby('concentration').agg(['mean','std'])\n"
     ]
    },
    {
     "data": {
      "text/html": [
       "<div>\n",
       "<style scoped>\n",
       "    .dataframe tbody tr th:only-of-type {\n",
       "        vertical-align: middle;\n",
       "    }\n",
       "\n",
       "    .dataframe tbody tr th {\n",
       "        vertical-align: top;\n",
       "    }\n",
       "\n",
       "    .dataframe thead tr th {\n",
       "        text-align: left;\n",
       "    }\n",
       "\n",
       "    .dataframe thead tr:last-of-type th {\n",
       "        text-align: right;\n",
       "    }\n",
       "</style>\n",
       "<table border=\"1\" class=\"dataframe\">\n",
       "  <thead>\n",
       "    <tr>\n",
       "      <th></th>\n",
       "      <th colspan=\"2\" halign=\"left\">time</th>\n",
       "      <th colspan=\"2\" halign=\"left\">day</th>\n",
       "      <th colspan=\"2\" halign=\"left\">chloride_80ft(mg/L)</th>\n",
       "      <th colspan=\"2\" halign=\"left\">chloride_1100ft(mg/L)</th>\n",
       "      <th colspan=\"2\" halign=\"left\">difference_chloride</th>\n",
       "      <th>...</th>\n",
       "      <th colspan=\"2\" halign=\"left\">sp_cond_YSI_1100ft(µS/cm)</th>\n",
       "      <th colspan=\"2\" halign=\"left\">difference_sp_cond_YSI</th>\n",
       "      <th colspan=\"2\" halign=\"left\">turbidity_YSI_80ft(NTU+)</th>\n",
       "      <th colspan=\"2\" halign=\"left\">turbidity_YSI_1100ft(NTU+)</th>\n",
       "      <th colspan=\"2\" halign=\"left\">difference_turbidity</th>\n",
       "    </tr>\n",
       "    <tr>\n",
       "      <th></th>\n",
       "      <th>mean</th>\n",
       "      <th>std</th>\n",
       "      <th>mean</th>\n",
       "      <th>std</th>\n",
       "      <th>mean</th>\n",
       "      <th>std</th>\n",
       "      <th>mean</th>\n",
       "      <th>std</th>\n",
       "      <th>mean</th>\n",
       "      <th>std</th>\n",
       "      <th>...</th>\n",
       "      <th>mean</th>\n",
       "      <th>std</th>\n",
       "      <th>mean</th>\n",
       "      <th>std</th>\n",
       "      <th>mean</th>\n",
       "      <th>std</th>\n",
       "      <th>mean</th>\n",
       "      <th>std</th>\n",
       "      <th>mean</th>\n",
       "      <th>std</th>\n",
       "    </tr>\n",
       "    <tr>\n",
       "      <th>concentration</th>\n",
       "      <th></th>\n",
       "      <th></th>\n",
       "      <th></th>\n",
       "      <th></th>\n",
       "      <th></th>\n",
       "      <th></th>\n",
       "      <th></th>\n",
       "      <th></th>\n",
       "      <th></th>\n",
       "      <th></th>\n",
       "      <th></th>\n",
       "      <th></th>\n",
       "      <th></th>\n",
       "      <th></th>\n",
       "      <th></th>\n",
       "      <th></th>\n",
       "      <th></th>\n",
       "      <th></th>\n",
       "      <th></th>\n",
       "      <th></th>\n",
       "      <th></th>\n",
       "    </tr>\n",
       "  </thead>\n",
       "  <tbody>\n",
       "    <tr>\n",
       "      <th>0.0</th>\n",
       "      <td>13.219505</td>\n",
       "      <td>1.801482</td>\n",
       "      <td>1.510989</td>\n",
       "      <td>0.501258</td>\n",
       "      <td>16.231978</td>\n",
       "      <td>0.239536</td>\n",
       "      <td>17.208352</td>\n",
       "      <td>0.492617</td>\n",
       "      <td>0.976374</td>\n",
       "      <td>0.519210</td>\n",
       "      <td>...</td>\n",
       "      <td>285.906593</td>\n",
       "      <td>2.153517</td>\n",
       "      <td>2.379121</td>\n",
       "      <td>0.598528</td>\n",
       "      <td>0.737363</td>\n",
       "      <td>0.154954</td>\n",
       "      <td>0.063187</td>\n",
       "      <td>0.087423</td>\n",
       "      <td>-0.674176</td>\n",
       "      <td>0.173502</td>\n",
       "    </tr>\n",
       "    <tr>\n",
       "      <th>0.4</th>\n",
       "      <td>12.232534</td>\n",
       "      <td>1.297871</td>\n",
       "      <td>1.500000</td>\n",
       "      <td>0.501721</td>\n",
       "      <td>16.247877</td>\n",
       "      <td>0.250189</td>\n",
       "      <td>17.231027</td>\n",
       "      <td>0.297888</td>\n",
       "      <td>0.983151</td>\n",
       "      <td>0.507066</td>\n",
       "      <td>...</td>\n",
       "      <td>285.931507</td>\n",
       "      <td>2.076660</td>\n",
       "      <td>2.458904</td>\n",
       "      <td>0.500024</td>\n",
       "      <td>0.736986</td>\n",
       "      <td>0.132360</td>\n",
       "      <td>0.096575</td>\n",
       "      <td>0.141623</td>\n",
       "      <td>-0.640411</td>\n",
       "      <td>0.193900</td>\n",
       "    </tr>\n",
       "    <tr>\n",
       "      <th>1.5</th>\n",
       "      <td>14.233667</td>\n",
       "      <td>0.854822</td>\n",
       "      <td>1.500000</td>\n",
       "      <td>0.501675</td>\n",
       "      <td>16.513533</td>\n",
       "      <td>0.232374</td>\n",
       "      <td>17.441267</td>\n",
       "      <td>0.535817</td>\n",
       "      <td>0.927733</td>\n",
       "      <td>0.678965</td>\n",
       "      <td>...</td>\n",
       "      <td>285.973333</td>\n",
       "      <td>2.151780</td>\n",
       "      <td>2.273333</td>\n",
       "      <td>0.694143</td>\n",
       "      <td>0.749333</td>\n",
       "      <td>0.170961</td>\n",
       "      <td>0.073333</td>\n",
       "      <td>0.098762</td>\n",
       "      <td>-0.676000</td>\n",
       "      <td>0.185255</td>\n",
       "    </tr>\n",
       "    <tr>\n",
       "      <th>3.0</th>\n",
       "      <td>15.916554</td>\n",
       "      <td>0.855403</td>\n",
       "      <td>1.506757</td>\n",
       "      <td>0.501652</td>\n",
       "      <td>16.565743</td>\n",
       "      <td>0.250227</td>\n",
       "      <td>17.438581</td>\n",
       "      <td>0.619067</td>\n",
       "      <td>0.872838</td>\n",
       "      <td>0.688168</td>\n",
       "      <td>...</td>\n",
       "      <td>286.358108</td>\n",
       "      <td>2.499007</td>\n",
       "      <td>2.290541</td>\n",
       "      <td>0.682666</td>\n",
       "      <td>0.759459</td>\n",
       "      <td>0.207623</td>\n",
       "      <td>0.041892</td>\n",
       "      <td>0.057159</td>\n",
       "      <td>-0.717568</td>\n",
       "      <td>0.213081</td>\n",
       "    </tr>\n",
       "  </tbody>\n",
       "</table>\n",
       "<p>4 rows × 58 columns</p>\n",
       "</div>"
      ],
      "text/plain": [
       "                    time                 day           chloride_80ft(mg/L)  \\\n",
       "                    mean       std      mean       std                mean   \n",
       "concentration                                                                \n",
       "0.0            13.219505  1.801482  1.510989  0.501258           16.231978   \n",
       "0.4            12.232534  1.297871  1.500000  0.501721           16.247877   \n",
       "1.5            14.233667  0.854822  1.500000  0.501675           16.513533   \n",
       "3.0            15.916554  0.855403  1.506757  0.501652           16.565743   \n",
       "\n",
       "                        chloride_1100ft(mg/L)           difference_chloride  \\\n",
       "                    std                  mean       std                mean   \n",
       "concentration                                                                 \n",
       "0.0            0.239536             17.208352  0.492617            0.976374   \n",
       "0.4            0.250189             17.231027  0.297888            0.983151   \n",
       "1.5            0.232374             17.441267  0.535817            0.927733   \n",
       "3.0            0.250227             17.438581  0.619067            0.872838   \n",
       "\n",
       "                         ... sp_cond_YSI_1100ft(µS/cm)            \\\n",
       "                    std  ...                      mean       std   \n",
       "concentration            ...                                       \n",
       "0.0            0.519210  ...                285.906593  2.153517   \n",
       "0.4            0.507066  ...                285.931507  2.076660   \n",
       "1.5            0.678965  ...                285.973333  2.151780   \n",
       "3.0            0.688168  ...                286.358108  2.499007   \n",
       "\n",
       "              difference_sp_cond_YSI           turbidity_YSI_80ft(NTU+)  \\\n",
       "                                mean       std                     mean   \n",
       "concentration                                                             \n",
       "0.0                         2.379121  0.598528                 0.737363   \n",
       "0.4                         2.458904  0.500024                 0.736986   \n",
       "1.5                         2.273333  0.694143                 0.749333   \n",
       "3.0                         2.290541  0.682666                 0.759459   \n",
       "\n",
       "                        turbidity_YSI_1100ft(NTU+)            \\\n",
       "                    std                       mean       std   \n",
       "concentration                                                  \n",
       "0.0            0.154954                   0.063187  0.087423   \n",
       "0.4            0.132360                   0.096575  0.141623   \n",
       "1.5            0.170961                   0.073333  0.098762   \n",
       "3.0            0.207623                   0.041892  0.057159   \n",
       "\n",
       "              difference_turbidity            \n",
       "                              mean       std  \n",
       "concentration                                 \n",
       "0.0                      -0.674176  0.173502  \n",
       "0.4                      -0.640411  0.193900  \n",
       "1.5                      -0.676000  0.185255  \n",
       "3.0                      -0.717568  0.213081  \n",
       "\n",
       "[4 rows x 58 columns]"
      ]
     },
     "execution_count": 5,
     "metadata": {},
     "output_type": "execute_result"
    }
   ],
   "source": [
    "# Media y desviación típica por grupo\n",
    "datos.groupby('concentration').agg(['mean','std'])"
   ]
  },
  {
   "attachments": {},
   "cell_type": "markdown",
   "metadata": {},
   "source": [
    "### Se separan los datos para el día 1 y el día2"
   ]
  },
  {
   "cell_type": "code",
   "execution_count": 7,
   "metadata": {},
   "outputs": [],
   "source": [
    "### Se dividen los datos por día\n",
    "datos2_d1 = datos2[datos2['day'] == 1]\n",
    "\n",
    "datos2_d2 = datos2[datos2['day'] == 2]"
   ]
  },
  {
   "attachments": {},
   "cell_type": "markdown",
   "metadata": {},
   "source": [
    "### Chloride - dia 1"
   ]
  },
  {
   "cell_type": "code",
   "execution_count": 8,
   "metadata": {},
   "outputs": [
    {
     "data": {
      "text/plain": [
       "<AxesSubplot:xlabel='concentration', ylabel='chloride_80ft(mg/L)'>"
      ]
     },
     "execution_count": 8,
     "metadata": {},
     "output_type": "execute_result"
    },
    {
     "data": {
      "image/png": "[encoded data removed]",
      "text/plain": [
       "<Figure size 576x288 with 1 Axes>"
      ]
     },
     "metadata": {
      "needs_background": "light"
     },
     "output_type": "display_data"
    }
   ],
   "source": [
    "### chloride_80ft(mg/L)\n",
    "fig, ax = plt.subplots(1, 1, figsize=(8, 4))\n",
    "sns.boxplot(x=\"concentration\", y=\"chloride_80ft(mg/L)\", data=datos2_d1, ax=ax)\n",
    "#sns.swarmplot(x=\"concentration\", y=\"chloride_80ft(mg/L)\", data=datos2, color='black', alpha = 0.5, ax=ax);"
   ]
  },
  {
   "cell_type": "code",
   "execution_count": 9,
   "metadata": {},
   "outputs": [
    {
     "data": {
      "text/html": [
       "<div>\n",
       "<style scoped>\n",
       "    .dataframe tbody tr th:only-of-type {\n",
       "        vertical-align: middle;\n",
       "    }\n",
       "\n",
       "    .dataframe tbody tr th {\n",
       "        vertical-align: top;\n",
       "    }\n",
       "\n",
       "    .dataframe thead th {\n",
       "        text-align: right;\n",
       "    }\n",
       "</style>\n",
       "<table border=\"1\" class=\"dataframe\">\n",
       "  <thead>\n",
       "    <tr style=\"text-align: right;\">\n",
       "      <th></th>\n",
       "      <th>Source</th>\n",
       "      <th>SS</th>\n",
       "      <th>DF</th>\n",
       "      <th>MS</th>\n",
       "      <th>F</th>\n",
       "      <th>p-unc</th>\n",
       "      <th>np2</th>\n",
       "    </tr>\n",
       "  </thead>\n",
       "  <tbody>\n",
       "    <tr>\n",
       "      <th>0</th>\n",
       "      <td>concentration</td>\n",
       "      <td>4.204548</td>\n",
       "      <td>3</td>\n",
       "      <td>1.401516</td>\n",
       "      <td>32.853865</td>\n",
       "      <td>2.875009e-18</td>\n",
       "      <td>0.256964</td>\n",
       "    </tr>\n",
       "    <tr>\n",
       "      <th>1</th>\n",
       "      <td>Within</td>\n",
       "      <td>12.157840</td>\n",
       "      <td>285</td>\n",
       "      <td>0.042659</td>\n",
       "      <td>NaN</td>\n",
       "      <td>NaN</td>\n",
       "      <td>NaN</td>\n",
       "    </tr>\n",
       "  </tbody>\n",
       "</table>\n",
       "</div>"
      ],
      "text/plain": [
       "          Source         SS   DF        MS          F         p-unc       np2\n",
       "0  concentration   4.204548    3  1.401516  32.853865  2.875009e-18  0.256964\n",
       "1         Within  12.157840  285  0.042659        NaN           NaN       NaN"
      ]
     },
     "execution_count": 9,
     "metadata": {},
     "output_type": "execute_result"
    }
   ],
   "source": [
    "### ANOVA: chloride_80ft(mg/L)\n",
    "\n",
    "# Se genera ANOVA a partir de la libreria Pingouin\n",
    "pg.anova(data=datos2_d1, dv=\"chloride_80ft(mg/L)\", between=\"concentration\", detailed=True)"
   ]
  },
  {
   "cell_type": "code",
   "execution_count": 10,
   "metadata": {},
   "outputs": [
    {
     "data": {
      "text/plain": [
       "<AxesSubplot:xlabel='concentration', ylabel='chloride_1100ft(mg/L)'>"
      ]
     },
     "execution_count": 10,
     "metadata": {},
     "output_type": "execute_result"
    },
    {
     "data": {
      "image/png": "[encoded data removed]",
      "text/plain": [
       "<Figure size 576x288 with 1 Axes>"
      ]
     },
     "metadata": {
      "needs_background": "light"
     },
     "output_type": "display_data"
    }
   ],
   "source": [
    "### chloride_1100ft(mg/L)\n",
    "fig, ax = plt.subplots(1, 1, figsize=(8, 4))\n",
    "sns.boxplot(x=\"concentration\", y=\"chloride_1100ft(mg/L)\", data=datos2_d1, ax=ax)"
   ]
  },
  {
   "cell_type": "code",
   "execution_count": 11,
   "metadata": {},
   "outputs": [
    {
     "data": {
      "text/html": [
       "<div>\n",
       "<style scoped>\n",
       "    .dataframe tbody tr th:only-of-type {\n",
       "        vertical-align: middle;\n",
       "    }\n",
       "\n",
       "    .dataframe tbody tr th {\n",
       "        vertical-align: top;\n",
       "    }\n",
       "\n",
       "    .dataframe thead th {\n",
       "        text-align: right;\n",
       "    }\n",
       "</style>\n",
       "<table border=\"1\" class=\"dataframe\">\n",
       "  <thead>\n",
       "    <tr style=\"text-align: right;\">\n",
       "      <th></th>\n",
       "      <th>Source</th>\n",
       "      <th>SS</th>\n",
       "      <th>DF</th>\n",
       "      <th>MS</th>\n",
       "      <th>F</th>\n",
       "      <th>p-unc</th>\n",
       "      <th>np2</th>\n",
       "    </tr>\n",
       "  </thead>\n",
       "  <tbody>\n",
       "    <tr>\n",
       "      <th>0</th>\n",
       "      <td>concentration</td>\n",
       "      <td>1.093074</td>\n",
       "      <td>3</td>\n",
       "      <td>0.364358</td>\n",
       "      <td>19.489526</td>\n",
       "      <td>1.602179e-11</td>\n",
       "      <td>0.17023</td>\n",
       "    </tr>\n",
       "    <tr>\n",
       "      <th>1</th>\n",
       "      <td>Within</td>\n",
       "      <td>5.328096</td>\n",
       "      <td>285</td>\n",
       "      <td>0.018695</td>\n",
       "      <td>NaN</td>\n",
       "      <td>NaN</td>\n",
       "      <td>NaN</td>\n",
       "    </tr>\n",
       "  </tbody>\n",
       "</table>\n",
       "</div>"
      ],
      "text/plain": [
       "          Source        SS   DF        MS          F         p-unc      np2\n",
       "0  concentration  1.093074    3  0.364358  19.489526  1.602179e-11  0.17023\n",
       "1         Within  5.328096  285  0.018695        NaN           NaN      NaN"
      ]
     },
     "execution_count": 11,
     "metadata": {},
     "output_type": "execute_result"
    }
   ],
   "source": [
    "### ANOVA: chloride_1100ft(mg/L)\n",
    "\n",
    "# Se genera ANOVA a partir de la libreria Pingouin\n",
    "pg.anova(data=datos2_d1, dv=\"chloride_1100ft(mg/L)\", between=\"concentration\", detailed=True)"
   ]
  },
  {
   "attachments": {},
   "cell_type": "markdown",
   "metadata": {},
   "source": [
    "#### Chlorine - dia 2"
   ]
  },
  {
   "cell_type": "code",
   "execution_count": 12,
   "metadata": {},
   "outputs": [
    {
     "data": {
      "text/plain": [
       "<AxesSubplot:xlabel='concentration', ylabel='chloride_80ft(mg/L)'>"
      ]
     },
     "execution_count": 12,
     "metadata": {},
     "output_type": "execute_result"
    },
    {
     "data": {
      "image/png": "[encoded data removed]",
      "text/plain": [
       "<Figure size 576x288 with 1 Axes>"
      ]
     },
     "metadata": {
      "needs_background": "light"
     },
     "output_type": "display_data"
    }
   ],
   "source": [
    "### chloride_80ft(mg/L)\n",
    "fig, ax = plt.subplots(1, 1, figsize=(8, 4))\n",
    "sns.boxplot(x=\"concentration\", y=\"chloride_80ft(mg/L)\", data=datos2_d2, ax=ax)"
   ]
  },
  {
   "cell_type": "code",
   "execution_count": 13,
   "metadata": {},
   "outputs": [
    {
     "data": {
      "text/html": [
       "<div>\n",
       "<style scoped>\n",
       "    .dataframe tbody tr th:only-of-type {\n",
       "        vertical-align: middle;\n",
       "    }\n",
       "\n",
       "    .dataframe tbody tr th {\n",
       "        vertical-align: top;\n",
       "    }\n",
       "\n",
       "    .dataframe thead th {\n",
       "        text-align: right;\n",
       "    }\n",
       "</style>\n",
       "<table border=\"1\" class=\"dataframe\">\n",
       "  <thead>\n",
       "    <tr style=\"text-align: right;\">\n",
       "      <th></th>\n",
       "      <th>Source</th>\n",
       "      <th>SS</th>\n",
       "      <th>DF</th>\n",
       "      <th>MS</th>\n",
       "      <th>F</th>\n",
       "      <th>p-unc</th>\n",
       "      <th>np2</th>\n",
       "    </tr>\n",
       "  </thead>\n",
       "  <tbody>\n",
       "    <tr>\n",
       "      <th>0</th>\n",
       "      <td>concentration</td>\n",
       "      <td>13.204053</td>\n",
       "      <td>3</td>\n",
       "      <td>4.401351</td>\n",
       "      <td>125.108772</td>\n",
       "      <td>4.586543e-52</td>\n",
       "      <td>0.563277</td>\n",
       "    </tr>\n",
       "    <tr>\n",
       "      <th>1</th>\n",
       "      <td>Within</td>\n",
       "      <td>10.237437</td>\n",
       "      <td>291</td>\n",
       "      <td>0.035180</td>\n",
       "      <td>NaN</td>\n",
       "      <td>NaN</td>\n",
       "      <td>NaN</td>\n",
       "    </tr>\n",
       "  </tbody>\n",
       "</table>\n",
       "</div>"
      ],
      "text/plain": [
       "          Source         SS   DF        MS           F         p-unc       np2\n",
       "0  concentration  13.204053    3  4.401351  125.108772  4.586543e-52  0.563277\n",
       "1         Within  10.237437  291  0.035180         NaN           NaN       NaN"
      ]
     },
     "execution_count": 13,
     "metadata": {},
     "output_type": "execute_result"
    }
   ],
   "source": [
    "### ANOVA: chloride_80ft(mg/L)\n",
    "\n",
    "# Se genera ANOVA a partir de la libreria Pingouin\n",
    "pg.anova(data=datos2_d2, dv=\"chloride_80ft(mg/L)\", between=\"concentration\", detailed=True)"
   ]
  },
  {
   "cell_type": "code",
   "execution_count": 14,
   "metadata": {},
   "outputs": [
    {
     "data": {
      "text/plain": [
       "<AxesSubplot:xlabel='concentration', ylabel='chloride_1100ft(mg/L)'>"
      ]
     },
     "execution_count": 14,
     "metadata": {},
     "output_type": "execute_result"
    },
    {
     "data": {
      "image/png": "[encoded data removed]",
      "text/plain": [
       "<Figure size 576x288 with 1 Axes>"
      ]
     },
     "metadata": {
      "needs_background": "light"
     },
     "output_type": "display_data"
    }
   ],
   "source": [
    "### chloride_1100ft(mg/L)\n",
    "fig, ax = plt.subplots(1, 1, figsize=(8, 4))\n",
    "sns.boxplot(x=\"concentration\", y=\"chloride_1100ft(mg/L)\", data=datos2_d2, ax=ax)"
   ]
  },
  {
   "cell_type": "code",
   "execution_count": 15,
   "metadata": {},
   "outputs": [
    {
     "data": {
      "text/html": [
       "<div>\n",
       "<style scoped>\n",
       "    .dataframe tbody tr th:only-of-type {\n",
       "        vertical-align: middle;\n",
       "    }\n",
       "\n",
       "    .dataframe tbody tr th {\n",
       "        vertical-align: top;\n",
       "    }\n",
       "\n",
       "    .dataframe thead th {\n",
       "        text-align: right;\n",
       "    }\n",
       "</style>\n",
       "<table border=\"1\" class=\"dataframe\">\n",
       "  <thead>\n",
       "    <tr style=\"text-align: right;\">\n",
       "      <th></th>\n",
       "      <th>Source</th>\n",
       "      <th>SS</th>\n",
       "      <th>DF</th>\n",
       "      <th>MS</th>\n",
       "      <th>F</th>\n",
       "      <th>p-unc</th>\n",
       "      <th>np2</th>\n",
       "    </tr>\n",
       "  </thead>\n",
       "  <tbody>\n",
       "    <tr>\n",
       "      <th>0</th>\n",
       "      <td>concentration</td>\n",
       "      <td>15.200441</td>\n",
       "      <td>3</td>\n",
       "      <td>5.066814</td>\n",
       "      <td>66.120189</td>\n",
       "      <td>1.248790e-32</td>\n",
       "      <td>0.405346</td>\n",
       "    </tr>\n",
       "    <tr>\n",
       "      <th>1</th>\n",
       "      <td>Within</td>\n",
       "      <td>22.299434</td>\n",
       "      <td>291</td>\n",
       "      <td>0.076630</td>\n",
       "      <td>NaN</td>\n",
       "      <td>NaN</td>\n",
       "      <td>NaN</td>\n",
       "    </tr>\n",
       "  </tbody>\n",
       "</table>\n",
       "</div>"
      ],
      "text/plain": [
       "          Source         SS   DF        MS          F         p-unc       np2\n",
       "0  concentration  15.200441    3  5.066814  66.120189  1.248790e-32  0.405346\n",
       "1         Within  22.299434  291  0.076630        NaN           NaN       NaN"
      ]
     },
     "execution_count": 15,
     "metadata": {},
     "output_type": "execute_result"
    }
   ],
   "source": [
    "### ANOVA: chloride_1100ft(mg/L)\n",
    "\n",
    "# Se genera ANOVA a partir de la libreria Pingouin\n",
    "pg.anova(data=datos2_d2, dv=\"chloride_1100ft(mg/L)\", between=\"concentration\", detailed=True)"
   ]
  },
  {
   "attachments": {},
   "cell_type": "markdown",
   "metadata": {},
   "source": [
    "### ----------------------------------------------------------------"
   ]
  },
  {
   "attachments": {},
   "cell_type": "markdown",
   "metadata": {},
   "source": [
    "### CL2 - dia 1"
   ]
  },
  {
   "cell_type": "code",
   "execution_count": 16,
   "metadata": {},
   "outputs": [
    {
     "data": {
      "text/plain": [
       "<AxesSubplot:xlabel='concentration', ylabel='CL2_80ft(PPM)'>"
      ]
     },
     "execution_count": 16,
     "metadata": {},
     "output_type": "execute_result"
    },
    {
     "data": {
      "image/png": "[encoded data removed]",
      "text/plain": [
       "<Figure size 576x288 with 1 Axes>"
      ]
     },
     "metadata": {
      "needs_background": "light"
     },
     "output_type": "display_data"
    }
   ],
   "source": [
    "### CL2_80ft(PPM)\n",
    "fig, ax = plt.subplots(1, 1, figsize=(8, 4))\n",
    "sns.boxplot(x=\"concentration\", y=\"CL2_80ft(PPM)\", data=datos2_d1, ax=ax)"
   ]
  },
  {
   "cell_type": "code",
   "execution_count": 17,
   "metadata": {},
   "outputs": [
    {
     "data": {
      "text/html": [
       "<div>\n",
       "<style scoped>\n",
       "    .dataframe tbody tr th:only-of-type {\n",
       "        vertical-align: middle;\n",
       "    }\n",
       "\n",
       "    .dataframe tbody tr th {\n",
       "        vertical-align: top;\n",
       "    }\n",
       "\n",
       "    .dataframe thead th {\n",
       "        text-align: right;\n",
       "    }\n",
       "</style>\n",
       "<table border=\"1\" class=\"dataframe\">\n",
       "  <thead>\n",
       "    <tr style=\"text-align: right;\">\n",
       "      <th></th>\n",
       "      <th>Source</th>\n",
       "      <th>SS</th>\n",
       "      <th>DF</th>\n",
       "      <th>MS</th>\n",
       "      <th>F</th>\n",
       "      <th>p-unc</th>\n",
       "      <th>np2</th>\n",
       "    </tr>\n",
       "  </thead>\n",
       "  <tbody>\n",
       "    <tr>\n",
       "      <th>0</th>\n",
       "      <td>concentration</td>\n",
       "      <td>2.673328</td>\n",
       "      <td>3</td>\n",
       "      <td>0.891109</td>\n",
       "      <td>31.05247</td>\n",
       "      <td>2.127541e-17</td>\n",
       "      <td>0.246346</td>\n",
       "    </tr>\n",
       "    <tr>\n",
       "      <th>1</th>\n",
       "      <td>Within</td>\n",
       "      <td>8.178612</td>\n",
       "      <td>285</td>\n",
       "      <td>0.028697</td>\n",
       "      <td>NaN</td>\n",
       "      <td>NaN</td>\n",
       "      <td>NaN</td>\n",
       "    </tr>\n",
       "  </tbody>\n",
       "</table>\n",
       "</div>"
      ],
      "text/plain": [
       "          Source        SS   DF        MS         F         p-unc       np2\n",
       "0  concentration  2.673328    3  0.891109  31.05247  2.127541e-17  0.246346\n",
       "1         Within  8.178612  285  0.028697       NaN           NaN       NaN"
      ]
     },
     "execution_count": 17,
     "metadata": {},
     "output_type": "execute_result"
    }
   ],
   "source": [
    "### ANOVA: CL2_80ft(PPM)\n",
    "\n",
    "# Se genera ANOVA a partir de la libreria Pingouin\n",
    "pg.anova(data=datos2_d1, dv=\"CL2_80ft(PPM)\", between=\"concentration\", detailed=True)"
   ]
  },
  {
   "cell_type": "code",
   "execution_count": 18,
   "metadata": {},
   "outputs": [
    {
     "data": {
      "text/plain": [
       "<AxesSubplot:xlabel='concentration', ylabel='CL2_1100ft(PPM)'>"
      ]
     },
     "execution_count": 18,
     "metadata": {},
     "output_type": "execute_result"
    },
    {
     "data": {
      "image/png": "[encoded data removed]",
      "text/plain": [
       "<Figure size 576x288 with 1 Axes>"
      ]
     },
     "metadata": {
      "needs_background": "light"
     },
     "output_type": "display_data"
    }
   ],
   "source": [
    "### CL2_1100ft(PPM)\n",
    "fig, ax = plt.subplots(1, 1, figsize=(8, 4))\n",
    "sns.boxplot(x=\"concentration\", y=\"CL2_1100ft(PPM)\", data=datos2_d1, ax=ax)"
   ]
  },
  {
   "cell_type": "code",
   "execution_count": 19,
   "metadata": {},
   "outputs": [
    {
     "data": {
      "text/html": [
       "<div>\n",
       "<style scoped>\n",
       "    .dataframe tbody tr th:only-of-type {\n",
       "        vertical-align: middle;\n",
       "    }\n",
       "\n",
       "    .dataframe tbody tr th {\n",
       "        vertical-align: top;\n",
       "    }\n",
       "\n",
       "    .dataframe thead th {\n",
       "        text-align: right;\n",
       "    }\n",
       "</style>\n",
       "<table border=\"1\" class=\"dataframe\">\n",
       "  <thead>\n",
       "    <tr style=\"text-align: right;\">\n",
       "      <th></th>\n",
       "      <th>Source</th>\n",
       "      <th>SS</th>\n",
       "      <th>DF</th>\n",
       "      <th>MS</th>\n",
       "      <th>F</th>\n",
       "      <th>p-unc</th>\n",
       "      <th>np2</th>\n",
       "    </tr>\n",
       "  </thead>\n",
       "  <tbody>\n",
       "    <tr>\n",
       "      <th>0</th>\n",
       "      <td>concentration</td>\n",
       "      <td>0.608879</td>\n",
       "      <td>3</td>\n",
       "      <td>0.202960</td>\n",
       "      <td>10.48846</td>\n",
       "      <td>0.000001</td>\n",
       "      <td>0.099428</td>\n",
       "    </tr>\n",
       "    <tr>\n",
       "      <th>1</th>\n",
       "      <td>Within</td>\n",
       "      <td>5.514967</td>\n",
       "      <td>285</td>\n",
       "      <td>0.019351</td>\n",
       "      <td>NaN</td>\n",
       "      <td>NaN</td>\n",
       "      <td>NaN</td>\n",
       "    </tr>\n",
       "  </tbody>\n",
       "</table>\n",
       "</div>"
      ],
      "text/plain": [
       "          Source        SS   DF        MS         F     p-unc       np2\n",
       "0  concentration  0.608879    3  0.202960  10.48846  0.000001  0.099428\n",
       "1         Within  5.514967  285  0.019351       NaN       NaN       NaN"
      ]
     },
     "execution_count": 19,
     "metadata": {},
     "output_type": "execute_result"
    }
   ],
   "source": [
    "### ANOVA: CL2_1100ft(PPM)\n",
    "\n",
    "# Se genera ANOVA a partir de la libreria Pingouin\n",
    "pg.anova(data=datos2_d1, dv=\"CL2_1100ft(PPM)\", between=\"concentration\", detailed=True)"
   ]
  },
  {
   "attachments": {},
   "cell_type": "markdown",
   "metadata": {},
   "source": [
    "### CL2 - dia 2"
   ]
  },
  {
   "cell_type": "code",
   "execution_count": 20,
   "metadata": {},
   "outputs": [
    {
     "data": {
      "text/plain": [
       "<AxesSubplot:xlabel='concentration', ylabel='CL2_80ft(PPM)'>"
      ]
     },
     "execution_count": 20,
     "metadata": {},
     "output_type": "execute_result"
    },
    {
     "data": {
      "image/png": "[encoded data removed]",
      "text/plain": [
       "<Figure size 576x288 with 1 Axes>"
      ]
     },
     "metadata": {
      "needs_background": "light"
     },
     "output_type": "display_data"
    }
   ],
   "source": [
    "### CL2_80ft(PPM)\n",
    "fig, ax = plt.subplots(1, 1, figsize=(8, 4))\n",
    "sns.boxplot(x=\"concentration\", y=\"CL2_80ft(PPM)\", data=datos2_d2, ax=ax)"
   ]
  },
  {
   "cell_type": "code",
   "execution_count": 21,
   "metadata": {},
   "outputs": [
    {
     "data": {
      "text/html": [
       "<div>\n",
       "<style scoped>\n",
       "    .dataframe tbody tr th:only-of-type {\n",
       "        vertical-align: middle;\n",
       "    }\n",
       "\n",
       "    .dataframe tbody tr th {\n",
       "        vertical-align: top;\n",
       "    }\n",
       "\n",
       "    .dataframe thead th {\n",
       "        text-align: right;\n",
       "    }\n",
       "</style>\n",
       "<table border=\"1\" class=\"dataframe\">\n",
       "  <thead>\n",
       "    <tr style=\"text-align: right;\">\n",
       "      <th></th>\n",
       "      <th>Source</th>\n",
       "      <th>SS</th>\n",
       "      <th>DF</th>\n",
       "      <th>MS</th>\n",
       "      <th>F</th>\n",
       "      <th>p-unc</th>\n",
       "      <th>np2</th>\n",
       "    </tr>\n",
       "  </thead>\n",
       "  <tbody>\n",
       "    <tr>\n",
       "      <th>0</th>\n",
       "      <td>concentration</td>\n",
       "      <td>0.733830</td>\n",
       "      <td>3</td>\n",
       "      <td>0.244610</td>\n",
       "      <td>14.389558</td>\n",
       "      <td>9.113587e-09</td>\n",
       "      <td>0.129182</td>\n",
       "    </tr>\n",
       "    <tr>\n",
       "      <th>1</th>\n",
       "      <td>Within</td>\n",
       "      <td>4.946748</td>\n",
       "      <td>291</td>\n",
       "      <td>0.016999</td>\n",
       "      <td>NaN</td>\n",
       "      <td>NaN</td>\n",
       "      <td>NaN</td>\n",
       "    </tr>\n",
       "  </tbody>\n",
       "</table>\n",
       "</div>"
      ],
      "text/plain": [
       "          Source        SS   DF        MS          F         p-unc       np2\n",
       "0  concentration  0.733830    3  0.244610  14.389558  9.113587e-09  0.129182\n",
       "1         Within  4.946748  291  0.016999        NaN           NaN       NaN"
      ]
     },
     "execution_count": 21,
     "metadata": {},
     "output_type": "execute_result"
    }
   ],
   "source": [
    "### ANOVA: CL2_80ft(PPM)\n",
    "\n",
    "# Se genera ANOVA a partir de la libreria Pingouin\n",
    "pg.anova(data=datos2_d2, dv=\"CL2_80ft(PPM)\", between=\"concentration\", detailed=True)"
   ]
  },
  {
   "cell_type": "code",
   "execution_count": 22,
   "metadata": {},
   "outputs": [
    {
     "data": {
      "text/plain": [
       "<AxesSubplot:xlabel='concentration', ylabel='CL2_1100ft(PPM)'>"
      ]
     },
     "execution_count": 22,
     "metadata": {},
     "output_type": "execute_result"
    },
    {
     "data": {
      "image/png": "[encoded data removed]",
      "text/plain": [
       "<Figure size 576x288 with 1 Axes>"
      ]
     },
     "metadata": {
      "needs_background": "light"
     },
     "output_type": "display_data"
    }
   ],
   "source": [
    "### CL2_1100ft(PPM)\n",
    "fig, ax = plt.subplots(1, 1, figsize=(8, 4))\n",
    "sns.boxplot(x=\"concentration\", y=\"CL2_1100ft(PPM)\", data=datos2_d2, ax=ax)"
   ]
  },
  {
   "cell_type": "code",
   "execution_count": 23,
   "metadata": {},
   "outputs": [
    {
     "data": {
      "text/html": [
       "<div>\n",
       "<style scoped>\n",
       "    .dataframe tbody tr th:only-of-type {\n",
       "        vertical-align: middle;\n",
       "    }\n",
       "\n",
       "    .dataframe tbody tr th {\n",
       "        vertical-align: top;\n",
       "    }\n",
       "\n",
       "    .dataframe thead th {\n",
       "        text-align: right;\n",
       "    }\n",
       "</style>\n",
       "<table border=\"1\" class=\"dataframe\">\n",
       "  <thead>\n",
       "    <tr style=\"text-align: right;\">\n",
       "      <th></th>\n",
       "      <th>Source</th>\n",
       "      <th>SS</th>\n",
       "      <th>DF</th>\n",
       "      <th>MS</th>\n",
       "      <th>F</th>\n",
       "      <th>p-unc</th>\n",
       "      <th>np2</th>\n",
       "    </tr>\n",
       "  </thead>\n",
       "  <tbody>\n",
       "    <tr>\n",
       "      <th>0</th>\n",
       "      <td>concentration</td>\n",
       "      <td>0.429472</td>\n",
       "      <td>3</td>\n",
       "      <td>0.143157</td>\n",
       "      <td>9.752416</td>\n",
       "      <td>0.000004</td>\n",
       "      <td>0.091355</td>\n",
       "    </tr>\n",
       "    <tr>\n",
       "      <th>1</th>\n",
       "      <td>Within</td>\n",
       "      <td>4.271638</td>\n",
       "      <td>291</td>\n",
       "      <td>0.014679</td>\n",
       "      <td>NaN</td>\n",
       "      <td>NaN</td>\n",
       "      <td>NaN</td>\n",
       "    </tr>\n",
       "  </tbody>\n",
       "</table>\n",
       "</div>"
      ],
      "text/plain": [
       "          Source        SS   DF        MS         F     p-unc       np2\n",
       "0  concentration  0.429472    3  0.143157  9.752416  0.000004  0.091355\n",
       "1         Within  4.271638  291  0.014679       NaN       NaN       NaN"
      ]
     },
     "execution_count": 23,
     "metadata": {},
     "output_type": "execute_result"
    }
   ],
   "source": [
    "### ANOVA: CL2_1100ft(PPM)\n",
    "\n",
    "# Se genera ANOVA a partir de la libreria Pingouin\n",
    "pg.anova(data=datos2_d2, dv=\"CL2_1100ft(PPM)\", between=\"concentration\", detailed=True)"
   ]
  },
  {
   "attachments": {},
   "cell_type": "markdown",
   "metadata": {},
   "source": [
    "### -----------------------------------------------------------------------------"
   ]
  },
  {
   "attachments": {},
   "cell_type": "markdown",
   "metadata": {},
   "source": [
    "### DO_YSI - dia 1"
   ]
  },
  {
   "cell_type": "code",
   "execution_count": 24,
   "metadata": {},
   "outputs": [
    {
     "data": {
      "text/plain": [
       "<AxesSubplot:xlabel='concentration', ylabel='DO_YSI_80ft(mg/L)'>"
      ]
     },
     "execution_count": 24,
     "metadata": {},
     "output_type": "execute_result"
    },
    {
     "data": {
      "image/png": "[encoded data removed]",
      "text/plain": [
       "<Figure size 576x288 with 1 Axes>"
      ]
     },
     "metadata": {
      "needs_background": "light"
     },
     "output_type": "display_data"
    }
   ],
   "source": [
    "### DO_YSI_80ft(mg/L)\n",
    "fig, ax = plt.subplots(1, 1, figsize=(8, 4))\n",
    "sns.boxplot(x=\"concentration\", y=\"DO_YSI_80ft(mg/L)\", data=datos2_d1, ax=ax)"
   ]
  },
  {
   "cell_type": "code",
   "execution_count": 25,
   "metadata": {},
   "outputs": [
    {
     "data": {
      "text/html": [
       "<div>\n",
       "<style scoped>\n",
       "    .dataframe tbody tr th:only-of-type {\n",
       "        vertical-align: middle;\n",
       "    }\n",
       "\n",
       "    .dataframe tbody tr th {\n",
       "        vertical-align: top;\n",
       "    }\n",
       "\n",
       "    .dataframe thead th {\n",
       "        text-align: right;\n",
       "    }\n",
       "</style>\n",
       "<table border=\"1\" class=\"dataframe\">\n",
       "  <thead>\n",
       "    <tr style=\"text-align: right;\">\n",
       "      <th></th>\n",
       "      <th>Source</th>\n",
       "      <th>SS</th>\n",
       "      <th>DF</th>\n",
       "      <th>MS</th>\n",
       "      <th>F</th>\n",
       "      <th>p-unc</th>\n",
       "      <th>np2</th>\n",
       "    </tr>\n",
       "  </thead>\n",
       "  <tbody>\n",
       "    <tr>\n",
       "      <th>0</th>\n",
       "      <td>concentration</td>\n",
       "      <td>0.178525</td>\n",
       "      <td>3</td>\n",
       "      <td>0.059508</td>\n",
       "      <td>25.290681</td>\n",
       "      <td>1.548817e-14</td>\n",
       "      <td>0.210246</td>\n",
       "    </tr>\n",
       "    <tr>\n",
       "      <th>1</th>\n",
       "      <td>Within</td>\n",
       "      <td>0.670599</td>\n",
       "      <td>285</td>\n",
       "      <td>0.002353</td>\n",
       "      <td>NaN</td>\n",
       "      <td>NaN</td>\n",
       "      <td>NaN</td>\n",
       "    </tr>\n",
       "  </tbody>\n",
       "</table>\n",
       "</div>"
      ],
      "text/plain": [
       "          Source        SS   DF        MS          F         p-unc       np2\n",
       "0  concentration  0.178525    3  0.059508  25.290681  1.548817e-14  0.210246\n",
       "1         Within  0.670599  285  0.002353        NaN           NaN       NaN"
      ]
     },
     "execution_count": 25,
     "metadata": {},
     "output_type": "execute_result"
    }
   ],
   "source": [
    "### ANOVA: DO_YSI_80ft(mg/L)\n",
    "\n",
    "# Se genera ANOVA a partir de la libreria Pingouin\n",
    "pg.anova(data=datos2_d1, dv=\"DO_YSI_80ft(mg/L)\", between=\"concentration\", detailed=True)"
   ]
  },
  {
   "cell_type": "code",
   "execution_count": 26,
   "metadata": {},
   "outputs": [
    {
     "data": {
      "text/plain": [
       "<AxesSubplot:xlabel='concentration', ylabel='DO_YSI_1100ft(mg/L)'>"
      ]
     },
     "execution_count": 26,
     "metadata": {},
     "output_type": "execute_result"
    },
    {
     "data": {
      "image/png": "[encoded data removed]",
      "text/plain": [
       "<Figure size 576x288 with 1 Axes>"
      ]
     },
     "metadata": {
      "needs_background": "light"
     },
     "output_type": "display_data"
    }
   ],
   "source": [
    "### DO_YSI_1100ft(mg/L)\n",
    "fig, ax = plt.subplots(1, 1, figsize=(8, 4))\n",
    "sns.boxplot(x=\"concentration\", y=\"DO_YSI_1100ft(mg/L)\", data=datos2_d1, ax=ax)"
   ]
  },
  {
   "cell_type": "code",
   "execution_count": 27,
   "metadata": {},
   "outputs": [
    {
     "data": {
      "text/html": [
       "<div>\n",
       "<style scoped>\n",
       "    .dataframe tbody tr th:only-of-type {\n",
       "        vertical-align: middle;\n",
       "    }\n",
       "\n",
       "    .dataframe tbody tr th {\n",
       "        vertical-align: top;\n",
       "    }\n",
       "\n",
       "    .dataframe thead th {\n",
       "        text-align: right;\n",
       "    }\n",
       "</style>\n",
       "<table border=\"1\" class=\"dataframe\">\n",
       "  <thead>\n",
       "    <tr style=\"text-align: right;\">\n",
       "      <th></th>\n",
       "      <th>Source</th>\n",
       "      <th>SS</th>\n",
       "      <th>DF</th>\n",
       "      <th>MS</th>\n",
       "      <th>F</th>\n",
       "      <th>p-unc</th>\n",
       "      <th>np2</th>\n",
       "    </tr>\n",
       "  </thead>\n",
       "  <tbody>\n",
       "    <tr>\n",
       "      <th>0</th>\n",
       "      <td>concentration</td>\n",
       "      <td>0.586063</td>\n",
       "      <td>3</td>\n",
       "      <td>0.195354</td>\n",
       "      <td>51.117098</td>\n",
       "      <td>1.823629e-26</td>\n",
       "      <td>0.349837</td>\n",
       "    </tr>\n",
       "    <tr>\n",
       "      <th>1</th>\n",
       "      <td>Within</td>\n",
       "      <td>1.089185</td>\n",
       "      <td>285</td>\n",
       "      <td>0.003822</td>\n",
       "      <td>NaN</td>\n",
       "      <td>NaN</td>\n",
       "      <td>NaN</td>\n",
       "    </tr>\n",
       "  </tbody>\n",
       "</table>\n",
       "</div>"
      ],
      "text/plain": [
       "          Source        SS   DF        MS          F         p-unc       np2\n",
       "0  concentration  0.586063    3  0.195354  51.117098  1.823629e-26  0.349837\n",
       "1         Within  1.089185  285  0.003822        NaN           NaN       NaN"
      ]
     },
     "execution_count": 27,
     "metadata": {},
     "output_type": "execute_result"
    }
   ],
   "source": [
    "### ANOVA: DO_YSI_1100ft(mg/L)\n",
    "\n",
    "# Se genera ANOVA a partir de la libreria Pingouin\n",
    "pg.anova(data=datos2_d1, dv=\"DO_YSI_1100ft(mg/L)\", between=\"concentration\", detailed=True)"
   ]
  },
  {
   "attachments": {},
   "cell_type": "markdown",
   "metadata": {},
   "source": [
    "### DO_YSI - dia 2"
   ]
  },
  {
   "cell_type": "code",
   "execution_count": 33,
   "metadata": {},
   "outputs": [
    {
     "data": {
      "text/plain": [
       "<AxesSubplot:xlabel='concentration', ylabel='DO_YSI_80ft(mg/L)'>"
      ]
     },
     "execution_count": 33,
     "metadata": {},
     "output_type": "execute_result"
    },
    {
     "data": {
      "image/png": "[encoded data removed]",
      "text/plain": [
       "<Figure size 576x288 with 1 Axes>"
      ]
     },
     "metadata": {
      "needs_background": "light"
     },
     "output_type": "display_data"
    }
   ],
   "source": [
    "### DO_YSI_80ft(mg/L)\n",
    "fig, ax = plt.subplots(1, 1, figsize=(8, 4))\n",
    "sns.boxplot(x=\"concentration\", y=\"DO_YSI_80ft(mg/L)\", data=datos2_d2, ax=ax)"
   ]
  },
  {
   "cell_type": "code",
   "execution_count": 34,
   "metadata": {},
   "outputs": [
    {
     "data": {
      "text/html": [
       "<div>\n",
       "<style scoped>\n",
       "    .dataframe tbody tr th:only-of-type {\n",
       "        vertical-align: middle;\n",
       "    }\n",
       "\n",
       "    .dataframe tbody tr th {\n",
       "        vertical-align: top;\n",
       "    }\n",
       "\n",
       "    .dataframe thead th {\n",
       "        text-align: right;\n",
       "    }\n",
       "</style>\n",
       "<table border=\"1\" class=\"dataframe\">\n",
       "  <thead>\n",
       "    <tr style=\"text-align: right;\">\n",
       "      <th></th>\n",
       "      <th>Source</th>\n",
       "      <th>SS</th>\n",
       "      <th>DF</th>\n",
       "      <th>MS</th>\n",
       "      <th>F</th>\n",
       "      <th>p-unc</th>\n",
       "      <th>np2</th>\n",
       "    </tr>\n",
       "  </thead>\n",
       "  <tbody>\n",
       "    <tr>\n",
       "      <th>0</th>\n",
       "      <td>concentration</td>\n",
       "      <td>6.542281</td>\n",
       "      <td>3</td>\n",
       "      <td>2.180760</td>\n",
       "      <td>222.794874</td>\n",
       "      <td>4.716810e-75</td>\n",
       "      <td>0.696681</td>\n",
       "    </tr>\n",
       "    <tr>\n",
       "      <th>1</th>\n",
       "      <td>Within</td>\n",
       "      <td>2.848365</td>\n",
       "      <td>291</td>\n",
       "      <td>0.009788</td>\n",
       "      <td>NaN</td>\n",
       "      <td>NaN</td>\n",
       "      <td>NaN</td>\n",
       "    </tr>\n",
       "  </tbody>\n",
       "</table>\n",
       "</div>"
      ],
      "text/plain": [
       "          Source        SS   DF        MS           F         p-unc       np2\n",
       "0  concentration  6.542281    3  2.180760  222.794874  4.716810e-75  0.696681\n",
       "1         Within  2.848365  291  0.009788         NaN           NaN       NaN"
      ]
     },
     "execution_count": 34,
     "metadata": {},
     "output_type": "execute_result"
    }
   ],
   "source": [
    "### ANOVA: DO_YSI_80ft(mg/L)\n",
    "\n",
    "# Se genera ANOVA a partir de la libreria Pingouin\n",
    "pg.anova(data=datos2_d2, dv=\"DO_YSI_80ft(mg/L)\", between=\"concentration\", detailed=True)"
   ]
  },
  {
   "cell_type": "code",
   "execution_count": 35,
   "metadata": {},
   "outputs": [
    {
     "data": {
      "text/plain": [
       "<AxesSubplot:xlabel='concentration', ylabel='DO_YSI_1100ft(mg/L)'>"
      ]
     },
     "execution_count": 35,
     "metadata": {},
     "output_type": "execute_result"
    },
    {
     "data": {
      "image/png": "[encoded data removed]",
      "text/plain": [
       "<Figure size 576x288 with 1 Axes>"
      ]
     },
     "metadata": {
      "needs_background": "light"
     },
     "output_type": "display_data"
    }
   ],
   "source": [
    "### DO_YSI_1100ft(mg/L)\n",
    "fig, ax = plt.subplots(1, 1, figsize=(8, 4))\n",
    "sns.boxplot(x=\"concentration\", y=\"DO_YSI_1100ft(mg/L)\", data=datos2_d2, ax=ax)"
   ]
  },
  {
   "cell_type": "code",
   "execution_count": 36,
   "metadata": {},
   "outputs": [
    {
     "data": {
      "text/html": [
       "<div>\n",
       "<style scoped>\n",
       "    .dataframe tbody tr th:only-of-type {\n",
       "        vertical-align: middle;\n",
       "    }\n",
       "\n",
       "    .dataframe tbody tr th {\n",
       "        vertical-align: top;\n",
       "    }\n",
       "\n",
       "    .dataframe thead th {\n",
       "        text-align: right;\n",
       "    }\n",
       "</style>\n",
       "<table border=\"1\" class=\"dataframe\">\n",
       "  <thead>\n",
       "    <tr style=\"text-align: right;\">\n",
       "      <th></th>\n",
       "      <th>Source</th>\n",
       "      <th>SS</th>\n",
       "      <th>DF</th>\n",
       "      <th>MS</th>\n",
       "      <th>F</th>\n",
       "      <th>p-unc</th>\n",
       "      <th>np2</th>\n",
       "    </tr>\n",
       "  </thead>\n",
       "  <tbody>\n",
       "    <tr>\n",
       "      <th>0</th>\n",
       "      <td>concentration</td>\n",
       "      <td>4.922917</td>\n",
       "      <td>3</td>\n",
       "      <td>1.640972</td>\n",
       "      <td>249.257531</td>\n",
       "      <td>4.538404e-80</td>\n",
       "      <td>0.719862</td>\n",
       "    </tr>\n",
       "    <tr>\n",
       "      <th>1</th>\n",
       "      <td>Within</td>\n",
       "      <td>1.915781</td>\n",
       "      <td>291</td>\n",
       "      <td>0.006583</td>\n",
       "      <td>NaN</td>\n",
       "      <td>NaN</td>\n",
       "      <td>NaN</td>\n",
       "    </tr>\n",
       "  </tbody>\n",
       "</table>\n",
       "</div>"
      ],
      "text/plain": [
       "          Source        SS   DF        MS           F         p-unc       np2\n",
       "0  concentration  4.922917    3  1.640972  249.257531  4.538404e-80  0.719862\n",
       "1         Within  1.915781  291  0.006583         NaN           NaN       NaN"
      ]
     },
     "execution_count": 36,
     "metadata": {},
     "output_type": "execute_result"
    }
   ],
   "source": [
    "### ANOVA: DO_YSI_1100ft(mg/L)\n",
    "\n",
    "# Se genera ANOVA a partir de la libreria Pingouin\n",
    "pg.anova(data=datos2_d2, dv=\"DO_YSI_1100ft(mg/L)\", between=\"concentration\", detailed=True)"
   ]
  },
  {
   "attachments": {},
   "cell_type": "markdown",
   "metadata": {},
   "source": [
    "### -------------------------------------------------------------------------------"
   ]
  },
  {
   "attachments": {},
   "cell_type": "markdown",
   "metadata": {},
   "source": [
    "### FreeClorine_ATI - dia 1"
   ]
  },
  {
   "cell_type": "code",
   "execution_count": 37,
   "metadata": {},
   "outputs": [
    {
     "data": {
      "text/plain": [
       "<AxesSubplot:xlabel='concentration', ylabel='FreeClorine_ATI_80ft(PPM)'>"
      ]
     },
     "execution_count": 37,
     "metadata": {},
     "output_type": "execute_result"
    },
    {
     "data": {
      "image/png": "[encoded data removed]",
      "text/plain": [
       "<Figure size 576x288 with 1 Axes>"
      ]
     },
     "metadata": {
      "needs_background": "light"
     },
     "output_type": "display_data"
    }
   ],
   "source": [
    "### FreeClorine_ATI_80ft(PPM)\n",
    "fig, ax = plt.subplots(1, 1, figsize=(8, 4))\n",
    "sns.boxplot(x=\"concentration\", y=\"FreeClorine_ATI_80ft(PPM)\", data=datos2_d1, ax=ax)"
   ]
  },
  {
   "cell_type": "code",
   "execution_count": 38,
   "metadata": {},
   "outputs": [
    {
     "data": {
      "text/html": [
       "<div>\n",
       "<style scoped>\n",
       "    .dataframe tbody tr th:only-of-type {\n",
       "        vertical-align: middle;\n",
       "    }\n",
       "\n",
       "    .dataframe tbody tr th {\n",
       "        vertical-align: top;\n",
       "    }\n",
       "\n",
       "    .dataframe thead th {\n",
       "        text-align: right;\n",
       "    }\n",
       "</style>\n",
       "<table border=\"1\" class=\"dataframe\">\n",
       "  <thead>\n",
       "    <tr style=\"text-align: right;\">\n",
       "      <th></th>\n",
       "      <th>Source</th>\n",
       "      <th>SS</th>\n",
       "      <th>DF</th>\n",
       "      <th>MS</th>\n",
       "      <th>F</th>\n",
       "      <th>p-unc</th>\n",
       "      <th>np2</th>\n",
       "    </tr>\n",
       "  </thead>\n",
       "  <tbody>\n",
       "    <tr>\n",
       "      <th>0</th>\n",
       "      <td>concentration</td>\n",
       "      <td>5.070625</td>\n",
       "      <td>3</td>\n",
       "      <td>1.690208</td>\n",
       "      <td>22.608316</td>\n",
       "      <td>3.688394e-13</td>\n",
       "      <td>0.192234</td>\n",
       "    </tr>\n",
       "    <tr>\n",
       "      <th>1</th>\n",
       "      <td>Within</td>\n",
       "      <td>21.306734</td>\n",
       "      <td>285</td>\n",
       "      <td>0.074760</td>\n",
       "      <td>NaN</td>\n",
       "      <td>NaN</td>\n",
       "      <td>NaN</td>\n",
       "    </tr>\n",
       "  </tbody>\n",
       "</table>\n",
       "</div>"
      ],
      "text/plain": [
       "          Source         SS   DF        MS          F         p-unc       np2\n",
       "0  concentration   5.070625    3  1.690208  22.608316  3.688394e-13  0.192234\n",
       "1         Within  21.306734  285  0.074760        NaN           NaN       NaN"
      ]
     },
     "execution_count": 38,
     "metadata": {},
     "output_type": "execute_result"
    }
   ],
   "source": [
    "### ANOVA: FreeClorine_ATI_80ft(PPM)\n",
    "\n",
    "# Se genera ANOVA a partir de la libreria Pingouin\n",
    "pg.anova(data=datos2_d1, dv=\"FreeClorine_ATI_80ft(PPM)\", between=\"concentration\", detailed=True)"
   ]
  },
  {
   "cell_type": "code",
   "execution_count": 39,
   "metadata": {},
   "outputs": [
    {
     "data": {
      "text/plain": [
       "<AxesSubplot:xlabel='concentration', ylabel='FreeClorine_ATI_1100ft(PPM)'>"
      ]
     },
     "execution_count": 39,
     "metadata": {},
     "output_type": "execute_result"
    },
    {
     "data": {
      "image/png": "[encoded data removed]",
      "text/plain": [
       "<Figure size 576x288 with 1 Axes>"
      ]
     },
     "metadata": {
      "needs_background": "light"
     },
     "output_type": "display_data"
    }
   ],
   "source": [
    "### FreeClorine_ATI_1100ft(PPM)\n",
    "fig, ax = plt.subplots(1, 1, figsize=(8, 4))\n",
    "sns.boxplot(x=\"concentration\", y=\"FreeClorine_ATI_1100ft(PPM)\", data=datos2_d1, ax=ax)"
   ]
  },
  {
   "cell_type": "code",
   "execution_count": 40,
   "metadata": {},
   "outputs": [
    {
     "data": {
      "text/html": [
       "<div>\n",
       "<style scoped>\n",
       "    .dataframe tbody tr th:only-of-type {\n",
       "        vertical-align: middle;\n",
       "    }\n",
       "\n",
       "    .dataframe tbody tr th {\n",
       "        vertical-align: top;\n",
       "    }\n",
       "\n",
       "    .dataframe thead th {\n",
       "        text-align: right;\n",
       "    }\n",
       "</style>\n",
       "<table border=\"1\" class=\"dataframe\">\n",
       "  <thead>\n",
       "    <tr style=\"text-align: right;\">\n",
       "      <th></th>\n",
       "      <th>Source</th>\n",
       "      <th>SS</th>\n",
       "      <th>DF</th>\n",
       "      <th>MS</th>\n",
       "      <th>F</th>\n",
       "      <th>p-unc</th>\n",
       "      <th>np2</th>\n",
       "    </tr>\n",
       "  </thead>\n",
       "  <tbody>\n",
       "    <tr>\n",
       "      <th>0</th>\n",
       "      <td>concentration</td>\n",
       "      <td>2.830638</td>\n",
       "      <td>3</td>\n",
       "      <td>0.943546</td>\n",
       "      <td>18.852714</td>\n",
       "      <td>3.500528e-11</td>\n",
       "      <td>0.165589</td>\n",
       "    </tr>\n",
       "    <tr>\n",
       "      <th>1</th>\n",
       "      <td>Within</td>\n",
       "      <td>14.263762</td>\n",
       "      <td>285</td>\n",
       "      <td>0.050048</td>\n",
       "      <td>NaN</td>\n",
       "      <td>NaN</td>\n",
       "      <td>NaN</td>\n",
       "    </tr>\n",
       "  </tbody>\n",
       "</table>\n",
       "</div>"
      ],
      "text/plain": [
       "          Source         SS   DF        MS          F         p-unc       np2\n",
       "0  concentration   2.830638    3  0.943546  18.852714  3.500528e-11  0.165589\n",
       "1         Within  14.263762  285  0.050048        NaN           NaN       NaN"
      ]
     },
     "execution_count": 40,
     "metadata": {},
     "output_type": "execute_result"
    }
   ],
   "source": [
    "### ANOVA: FreeClorine_ATI_1100ft(PPM)\n",
    "\n",
    "# Se genera ANOVA a partir de la libreria Pingouin\n",
    "pg.anova(data=datos2_d1, dv=\"FreeClorine_ATI_1100ft(PPM)\", between=\"concentration\", detailed=True)"
   ]
  },
  {
   "attachments": {},
   "cell_type": "markdown",
   "metadata": {},
   "source": [
    "### FreeClorine_ATI - dia 2"
   ]
  },
  {
   "cell_type": "code",
   "execution_count": 41,
   "metadata": {},
   "outputs": [
    {
     "data": {
      "text/plain": [
       "<AxesSubplot:xlabel='concentration', ylabel='FreeClorine_ATI_80ft(PPM)'>"
      ]
     },
     "execution_count": 41,
     "metadata": {},
     "output_type": "execute_result"
    },
    {
     "data": {
      "image/png": "[encoded data removed]",
      "text/plain": [
       "<Figure size 576x288 with 1 Axes>"
      ]
     },
     "metadata": {
      "needs_background": "light"
     },
     "output_type": "display_data"
    }
   ],
   "source": [
    "### FreeClorine_ATI_80ft(PPM)\n",
    "fig, ax = plt.subplots(1, 1, figsize=(8, 4))\n",
    "sns.boxplot(x=\"concentration\", y=\"FreeClorine_ATI_80ft(PPM)\", data=datos2_d2, ax=ax)"
   ]
  },
  {
   "cell_type": "code",
   "execution_count": 42,
   "metadata": {},
   "outputs": [
    {
     "data": {
      "text/html": [
       "<div>\n",
       "<style scoped>\n",
       "    .dataframe tbody tr th:only-of-type {\n",
       "        vertical-align: middle;\n",
       "    }\n",
       "\n",
       "    .dataframe tbody tr th {\n",
       "        vertical-align: top;\n",
       "    }\n",
       "\n",
       "    .dataframe thead th {\n",
       "        text-align: right;\n",
       "    }\n",
       "</style>\n",
       "<table border=\"1\" class=\"dataframe\">\n",
       "  <thead>\n",
       "    <tr style=\"text-align: right;\">\n",
       "      <th></th>\n",
       "      <th>Source</th>\n",
       "      <th>SS</th>\n",
       "      <th>DF</th>\n",
       "      <th>MS</th>\n",
       "      <th>F</th>\n",
       "      <th>p-unc</th>\n",
       "      <th>np2</th>\n",
       "    </tr>\n",
       "  </thead>\n",
       "  <tbody>\n",
       "    <tr>\n",
       "      <th>0</th>\n",
       "      <td>concentration</td>\n",
       "      <td>1.847102</td>\n",
       "      <td>3</td>\n",
       "      <td>0.615701</td>\n",
       "      <td>12.016796</td>\n",
       "      <td>1.939339e-07</td>\n",
       "      <td>0.110229</td>\n",
       "    </tr>\n",
       "    <tr>\n",
       "      <th>1</th>\n",
       "      <td>Within</td>\n",
       "      <td>14.909869</td>\n",
       "      <td>291</td>\n",
       "      <td>0.051237</td>\n",
       "      <td>NaN</td>\n",
       "      <td>NaN</td>\n",
       "      <td>NaN</td>\n",
       "    </tr>\n",
       "  </tbody>\n",
       "</table>\n",
       "</div>"
      ],
      "text/plain": [
       "          Source         SS   DF        MS          F         p-unc       np2\n",
       "0  concentration   1.847102    3  0.615701  12.016796  1.939339e-07  0.110229\n",
       "1         Within  14.909869  291  0.051237        NaN           NaN       NaN"
      ]
     },
     "execution_count": 42,
     "metadata": {},
     "output_type": "execute_result"
    }
   ],
   "source": [
    "### ANOVA: FreeClorine_ATI_80ft(PPM)\n",
    "\n",
    "# Se genera ANOVA a partir de la libreria Pingouin\n",
    "pg.anova(data=datos2_d2, dv=\"FreeClorine_ATI_80ft(PPM)\", between=\"concentration\", detailed=True)"
   ]
  },
  {
   "cell_type": "code",
   "execution_count": 43,
   "metadata": {},
   "outputs": [
    {
     "data": {
      "text/plain": [
       "<AxesSubplot:xlabel='concentration', ylabel='FreeClorine_ATI_1100ft(PPM)'>"
      ]
     },
     "execution_count": 43,
     "metadata": {},
     "output_type": "execute_result"
    },
    {
     "data": {
      "image/png": "[encoded data removed]",
      "text/plain": [
       "<Figure size 576x288 with 1 Axes>"
      ]
     },
     "metadata": {
      "needs_background": "light"
     },
     "output_type": "display_data"
    }
   ],
   "source": [
    "### FreeClorine_ATI_1100ft(PPM)\n",
    "fig, ax = plt.subplots(1, 1, figsize=(8, 4))\n",
    "sns.boxplot(x=\"concentration\", y=\"FreeClorine_ATI_1100ft(PPM)\", data=datos2_d2, ax=ax)"
   ]
  },
  {
   "cell_type": "code",
   "execution_count": 44,
   "metadata": {},
   "outputs": [
    {
     "data": {
      "text/html": [
       "<div>\n",
       "<style scoped>\n",
       "    .dataframe tbody tr th:only-of-type {\n",
       "        vertical-align: middle;\n",
       "    }\n",
       "\n",
       "    .dataframe tbody tr th {\n",
       "        vertical-align: top;\n",
       "    }\n",
       "\n",
       "    .dataframe thead th {\n",
       "        text-align: right;\n",
       "    }\n",
       "</style>\n",
       "<table border=\"1\" class=\"dataframe\">\n",
       "  <thead>\n",
       "    <tr style=\"text-align: right;\">\n",
       "      <th></th>\n",
       "      <th>Source</th>\n",
       "      <th>SS</th>\n",
       "      <th>DF</th>\n",
       "      <th>MS</th>\n",
       "      <th>F</th>\n",
       "      <th>p-unc</th>\n",
       "      <th>np2</th>\n",
       "    </tr>\n",
       "  </thead>\n",
       "  <tbody>\n",
       "    <tr>\n",
       "      <th>0</th>\n",
       "      <td>concentration</td>\n",
       "      <td>1.571982</td>\n",
       "      <td>3</td>\n",
       "      <td>0.523994</td>\n",
       "      <td>14.019375</td>\n",
       "      <td>1.463355e-08</td>\n",
       "      <td>0.126279</td>\n",
       "    </tr>\n",
       "    <tr>\n",
       "      <th>1</th>\n",
       "      <td>Within</td>\n",
       "      <td>10.876539</td>\n",
       "      <td>291</td>\n",
       "      <td>0.037376</td>\n",
       "      <td>NaN</td>\n",
       "      <td>NaN</td>\n",
       "      <td>NaN</td>\n",
       "    </tr>\n",
       "  </tbody>\n",
       "</table>\n",
       "</div>"
      ],
      "text/plain": [
       "          Source         SS   DF        MS          F         p-unc       np2\n",
       "0  concentration   1.571982    3  0.523994  14.019375  1.463355e-08  0.126279\n",
       "1         Within  10.876539  291  0.037376        NaN           NaN       NaN"
      ]
     },
     "execution_count": 44,
     "metadata": {},
     "output_type": "execute_result"
    }
   ],
   "source": [
    "### ANOVA: FreeClorine_ATI_1100ft(PPM)\n",
    "\n",
    "# Se genera ANOVA a partir de la libreria Pingouin\n",
    "pg.anova(data=datos2_d2, dv=\"FreeClorine_ATI_1100ft(PPM)\", between=\"concentration\", detailed=True)"
   ]
  },
  {
   "attachments": {},
   "cell_type": "markdown",
   "metadata": {},
   "source": [
    "### ------------------------------------------------------------------------------"
   ]
  },
  {
   "attachments": {},
   "cell_type": "markdown",
   "metadata": {},
   "source": [
    "### FreeClorine_X - día 1"
   ]
  },
  {
   "cell_type": "code",
   "execution_count": 45,
   "metadata": {},
   "outputs": [
    {
     "data": {
      "text/plain": [
       "<AxesSubplot:xlabel='concentration', ylabel='FreeClorine_X_80ft(PPM)'>"
      ]
     },
     "execution_count": 45,
     "metadata": {},
     "output_type": "execute_result"
    },
    {
     "data": {
      "image/png": "[encoded data removed]",
      "text/plain": [
       "<Figure size 576x288 with 1 Axes>"
      ]
     },
     "metadata": {
      "needs_background": "light"
     },
     "output_type": "display_data"
    }
   ],
   "source": [
    "### FreeClorine_X_80ft(PPM)\n",
    "fig, ax = plt.subplots(1, 1, figsize=(8, 4))\n",
    "sns.boxplot(x=\"concentration\", y=\"FreeClorine_X_80ft(PPM)\", data=datos2_d1, ax=ax)"
   ]
  },
  {
   "cell_type": "code",
   "execution_count": 46,
   "metadata": {},
   "outputs": [
    {
     "data": {
      "text/html": [
       "<div>\n",
       "<style scoped>\n",
       "    .dataframe tbody tr th:only-of-type {\n",
       "        vertical-align: middle;\n",
       "    }\n",
       "\n",
       "    .dataframe tbody tr th {\n",
       "        vertical-align: top;\n",
       "    }\n",
       "\n",
       "    .dataframe thead th {\n",
       "        text-align: right;\n",
       "    }\n",
       "</style>\n",
       "<table border=\"1\" class=\"dataframe\">\n",
       "  <thead>\n",
       "    <tr style=\"text-align: right;\">\n",
       "      <th></th>\n",
       "      <th>Source</th>\n",
       "      <th>SS</th>\n",
       "      <th>DF</th>\n",
       "      <th>MS</th>\n",
       "      <th>F</th>\n",
       "      <th>p-unc</th>\n",
       "      <th>np2</th>\n",
       "    </tr>\n",
       "  </thead>\n",
       "  <tbody>\n",
       "    <tr>\n",
       "      <th>0</th>\n",
       "      <td>concentration</td>\n",
       "      <td>2.094973</td>\n",
       "      <td>3</td>\n",
       "      <td>0.698324</td>\n",
       "      <td>15.798727</td>\n",
       "      <td>1.569588e-09</td>\n",
       "      <td>0.142589</td>\n",
       "    </tr>\n",
       "    <tr>\n",
       "      <th>1</th>\n",
       "      <td>Within</td>\n",
       "      <td>12.597370</td>\n",
       "      <td>285</td>\n",
       "      <td>0.044201</td>\n",
       "      <td>NaN</td>\n",
       "      <td>NaN</td>\n",
       "      <td>NaN</td>\n",
       "    </tr>\n",
       "  </tbody>\n",
       "</table>\n",
       "</div>"
      ],
      "text/plain": [
       "          Source         SS   DF        MS          F         p-unc       np2\n",
       "0  concentration   2.094973    3  0.698324  15.798727  1.569588e-09  0.142589\n",
       "1         Within  12.597370  285  0.044201        NaN           NaN       NaN"
      ]
     },
     "execution_count": 46,
     "metadata": {},
     "output_type": "execute_result"
    }
   ],
   "source": [
    "### ANOVA: FreeClorine_X_80ft(PPM)\n",
    "\n",
    "# Se genera ANOVA a partir de la libreria Pingouin\n",
    "pg.anova(data=datos2_d1, dv=\"FreeClorine_X_80ft(PPM)\", between=\"concentration\", detailed=True)"
   ]
  },
  {
   "cell_type": "code",
   "execution_count": 47,
   "metadata": {},
   "outputs": [
    {
     "data": {
      "text/plain": [
       "<AxesSubplot:xlabel='concentration', ylabel='FreeClorine_X_1100ft(PPM)'>"
      ]
     },
     "execution_count": 47,
     "metadata": {},
     "output_type": "execute_result"
    },
    {
     "data": {
      "image/png": "[encoded data removed]",
      "text/plain": [
       "<Figure size 576x288 with 1 Axes>"
      ]
     },
     "metadata": {
      "needs_background": "light"
     },
     "output_type": "display_data"
    }
   ],
   "source": [
    "### FreeClorine_X_1100ft(PPM)\n",
    "fig, ax = plt.subplots(1, 1, figsize=(8, 4))\n",
    "sns.boxplot(x=\"concentration\", y=\"FreeClorine_X_1100ft(PPM)\", data=datos2_d1, ax=ax)"
   ]
  },
  {
   "cell_type": "code",
   "execution_count": 48,
   "metadata": {},
   "outputs": [
    {
     "data": {
      "text/html": [
       "<div>\n",
       "<style scoped>\n",
       "    .dataframe tbody tr th:only-of-type {\n",
       "        vertical-align: middle;\n",
       "    }\n",
       "\n",
       "    .dataframe tbody tr th {\n",
       "        vertical-align: top;\n",
       "    }\n",
       "\n",
       "    .dataframe thead th {\n",
       "        text-align: right;\n",
       "    }\n",
       "</style>\n",
       "<table border=\"1\" class=\"dataframe\">\n",
       "  <thead>\n",
       "    <tr style=\"text-align: right;\">\n",
       "      <th></th>\n",
       "      <th>Source</th>\n",
       "      <th>SS</th>\n",
       "      <th>DF</th>\n",
       "      <th>MS</th>\n",
       "      <th>F</th>\n",
       "      <th>p-unc</th>\n",
       "      <th>np2</th>\n",
       "    </tr>\n",
       "  </thead>\n",
       "  <tbody>\n",
       "    <tr>\n",
       "      <th>0</th>\n",
       "      <td>concentration</td>\n",
       "      <td>3.047770</td>\n",
       "      <td>3</td>\n",
       "      <td>1.015923</td>\n",
       "      <td>17.043769</td>\n",
       "      <td>3.293512e-10</td>\n",
       "      <td>0.152117</td>\n",
       "    </tr>\n",
       "    <tr>\n",
       "      <th>1</th>\n",
       "      <td>Within</td>\n",
       "      <td>16.987918</td>\n",
       "      <td>285</td>\n",
       "      <td>0.059607</td>\n",
       "      <td>NaN</td>\n",
       "      <td>NaN</td>\n",
       "      <td>NaN</td>\n",
       "    </tr>\n",
       "  </tbody>\n",
       "</table>\n",
       "</div>"
      ],
      "text/plain": [
       "          Source         SS   DF        MS          F         p-unc       np2\n",
       "0  concentration   3.047770    3  1.015923  17.043769  3.293512e-10  0.152117\n",
       "1         Within  16.987918  285  0.059607        NaN           NaN       NaN"
      ]
     },
     "execution_count": 48,
     "metadata": {},
     "output_type": "execute_result"
    }
   ],
   "source": [
    "### ANOVA: FreeClorine_X_1100ft(PPM)\n",
    "\n",
    "# Se genera ANOVA a partir de la libreria Pingouin\n",
    "pg.anova(data=datos2_d1, dv=\"FreeClorine_X_1100ft(PPM)\", between=\"concentration\", detailed=True)"
   ]
  },
  {
   "attachments": {},
   "cell_type": "markdown",
   "metadata": {},
   "source": [
    "### FreeClorine_X - día 2"
   ]
  },
  {
   "cell_type": "code",
   "execution_count": 56,
   "metadata": {},
   "outputs": [
    {
     "data": {
      "text/plain": [
       "<AxesSubplot:xlabel='concentration', ylabel='FreeClorine_X_80ft(PPM)'>"
      ]
     },
     "execution_count": 56,
     "metadata": {},
     "output_type": "execute_result"
    },
    {
     "data": {
      "image/png": "[encoded data removed]",
      "text/plain": [
       "<Figure size 576x288 with 1 Axes>"
      ]
     },
     "metadata": {
      "needs_background": "light"
     },
     "output_type": "display_data"
    }
   ],
   "source": [
    "### FreeClorine_X_80ft(PPM)\n",
    "fig, ax = plt.subplots(1, 1, figsize=(8, 4))\n",
    "sns.boxplot(x=\"concentration\", y=\"FreeClorine_X_80ft(PPM)\", data=datos2_d2, ax=ax)"
   ]
  },
  {
   "cell_type": "code",
   "execution_count": 55,
   "metadata": {},
   "outputs": [
    {
     "data": {
      "text/html": [
       "<div>\n",
       "<style scoped>\n",
       "    .dataframe tbody tr th:only-of-type {\n",
       "        vertical-align: middle;\n",
       "    }\n",
       "\n",
       "    .dataframe tbody tr th {\n",
       "        vertical-align: top;\n",
       "    }\n",
       "\n",
       "    .dataframe thead th {\n",
       "        text-align: right;\n",
       "    }\n",
       "</style>\n",
       "<table border=\"1\" class=\"dataframe\">\n",
       "  <thead>\n",
       "    <tr style=\"text-align: right;\">\n",
       "      <th></th>\n",
       "      <th>Source</th>\n",
       "      <th>SS</th>\n",
       "      <th>DF</th>\n",
       "      <th>MS</th>\n",
       "      <th>F</th>\n",
       "      <th>p-unc</th>\n",
       "      <th>np2</th>\n",
       "    </tr>\n",
       "  </thead>\n",
       "  <tbody>\n",
       "    <tr>\n",
       "      <th>0</th>\n",
       "      <td>concentration</td>\n",
       "      <td>0.70081</td>\n",
       "      <td>3</td>\n",
       "      <td>0.233603</td>\n",
       "      <td>17.228311</td>\n",
       "      <td>2.520936e-10</td>\n",
       "      <td>0.150823</td>\n",
       "    </tr>\n",
       "    <tr>\n",
       "      <th>1</th>\n",
       "      <td>Within</td>\n",
       "      <td>3.94575</td>\n",
       "      <td>291</td>\n",
       "      <td>0.013559</td>\n",
       "      <td>NaN</td>\n",
       "      <td>NaN</td>\n",
       "      <td>NaN</td>\n",
       "    </tr>\n",
       "  </tbody>\n",
       "</table>\n",
       "</div>"
      ],
      "text/plain": [
       "          Source       SS   DF        MS          F         p-unc       np2\n",
       "0  concentration  0.70081    3  0.233603  17.228311  2.520936e-10  0.150823\n",
       "1         Within  3.94575  291  0.013559        NaN           NaN       NaN"
      ]
     },
     "execution_count": 55,
     "metadata": {},
     "output_type": "execute_result"
    }
   ],
   "source": [
    "### ANOVA: FreeClorine_X_80ft(PPM)\n",
    "\n",
    "# Se genera ANOVA a partir de la libreria Pingouin\n",
    "pg.anova(data=datos2_d2, dv=\"FreeClorine_X_80ft(PPM)\", between=\"concentration\", detailed=True)"
   ]
  },
  {
   "cell_type": "code",
   "execution_count": 54,
   "metadata": {},
   "outputs": [
    {
     "data": {
      "text/plain": [
       "<AxesSubplot:xlabel='concentration', ylabel='FreeClorine_X_1100ft(PPM)'>"
      ]
     },
     "execution_count": 54,
     "metadata": {},
     "output_type": "execute_result"
    },
    {
     "data": {
      "image/png": "[encoded data removed]",
      "text/plain": [
       "<Figure size 576x288 with 1 Axes>"
      ]
     },
     "metadata": {
      "needs_background": "light"
     },
     "output_type": "display_data"
    }
   ],
   "source": [
    "### FreeClorine_X_1100ft(PPM)\n",
    "fig, ax = plt.subplots(1, 1, figsize=(8, 4))\n",
    "sns.boxplot(x=\"concentration\", y=\"FreeClorine_X_1100ft(PPM)\", data=datos2_d2, ax=ax)"
   ]
  },
  {
   "cell_type": "code",
   "execution_count": 53,
   "metadata": {},
   "outputs": [
    {
     "data": {
      "text/html": [
       "<div>\n",
       "<style scoped>\n",
       "    .dataframe tbody tr th:only-of-type {\n",
       "        vertical-align: middle;\n",
       "    }\n",
       "\n",
       "    .dataframe tbody tr th {\n",
       "        vertical-align: top;\n",
       "    }\n",
       "\n",
       "    .dataframe thead th {\n",
       "        text-align: right;\n",
       "    }\n",
       "</style>\n",
       "<table border=\"1\" class=\"dataframe\">\n",
       "  <thead>\n",
       "    <tr style=\"text-align: right;\">\n",
       "      <th></th>\n",
       "      <th>Source</th>\n",
       "      <th>SS</th>\n",
       "      <th>DF</th>\n",
       "      <th>MS</th>\n",
       "      <th>F</th>\n",
       "      <th>p-unc</th>\n",
       "      <th>np2</th>\n",
       "    </tr>\n",
       "  </thead>\n",
       "  <tbody>\n",
       "    <tr>\n",
       "      <th>0</th>\n",
       "      <td>concentration</td>\n",
       "      <td>1.298194</td>\n",
       "      <td>3</td>\n",
       "      <td>0.432731</td>\n",
       "      <td>9.821529</td>\n",
       "      <td>0.000003</td>\n",
       "      <td>0.091943</td>\n",
       "    </tr>\n",
       "    <tr>\n",
       "      <th>1</th>\n",
       "      <td>Within</td>\n",
       "      <td>12.821309</td>\n",
       "      <td>291</td>\n",
       "      <td>0.044059</td>\n",
       "      <td>NaN</td>\n",
       "      <td>NaN</td>\n",
       "      <td>NaN</td>\n",
       "    </tr>\n",
       "  </tbody>\n",
       "</table>\n",
       "</div>"
      ],
      "text/plain": [
       "          Source         SS   DF        MS         F     p-unc       np2\n",
       "0  concentration   1.298194    3  0.432731  9.821529  0.000003  0.091943\n",
       "1         Within  12.821309  291  0.044059       NaN       NaN       NaN"
      ]
     },
     "execution_count": 53,
     "metadata": {},
     "output_type": "execute_result"
    }
   ],
   "source": [
    "### ANOVA: FreeClorine_X_1100ft(PPM)\n",
    "\n",
    "# Se genera ANOVA a partir de la libreria Pingouin\n",
    "pg.anova(data=datos2_d2, dv=\"FreeClorine_X_1100ft(PPM)\", between=\"concentration\", detailed=True)"
   ]
  },
  {
   "attachments": {},
   "cell_type": "markdown",
   "metadata": {},
   "source": [
    "### -------------------------------------------------------------------------------"
   ]
  },
  {
   "attachments": {},
   "cell_type": "markdown",
   "metadata": {},
   "source": [
    "### ORP_YSI - día 1"
   ]
  },
  {
   "cell_type": "code",
   "execution_count": 57,
   "metadata": {},
   "outputs": [
    {
     "data": {
      "text/plain": [
       "<AxesSubplot:xlabel='concentration', ylabel='ORP_YSI_80ft(mV)'>"
      ]
     },
     "execution_count": 57,
     "metadata": {},
     "output_type": "execute_result"
    },
    {
     "data": {
      "image/png": "[encoded data removed]",
      "text/plain": [
       "<Figure size 576x288 with 1 Axes>"
      ]
     },
     "metadata": {
      "needs_background": "light"
     },
     "output_type": "display_data"
    }
   ],
   "source": [
    "### ORP_YSI_80ft(mV)\n",
    "fig, ax = plt.subplots(1, 1, figsize=(8, 4))\n",
    "sns.boxplot(x=\"concentration\", y=\"ORP_YSI_80ft(mV)\", data=datos2_d1, ax=ax)"
   ]
  },
  {
   "cell_type": "code",
   "execution_count": 58,
   "metadata": {},
   "outputs": [
    {
     "data": {
      "text/html": [
       "<div>\n",
       "<style scoped>\n",
       "    .dataframe tbody tr th:only-of-type {\n",
       "        vertical-align: middle;\n",
       "    }\n",
       "\n",
       "    .dataframe tbody tr th {\n",
       "        vertical-align: top;\n",
       "    }\n",
       "\n",
       "    .dataframe thead th {\n",
       "        text-align: right;\n",
       "    }\n",
       "</style>\n",
       "<table border=\"1\" class=\"dataframe\">\n",
       "  <thead>\n",
       "    <tr style=\"text-align: right;\">\n",
       "      <th></th>\n",
       "      <th>Source</th>\n",
       "      <th>SS</th>\n",
       "      <th>DF</th>\n",
       "      <th>MS</th>\n",
       "      <th>F</th>\n",
       "      <th>p-unc</th>\n",
       "      <th>np2</th>\n",
       "    </tr>\n",
       "  </thead>\n",
       "  <tbody>\n",
       "    <tr>\n",
       "      <th>0</th>\n",
       "      <td>concentration</td>\n",
       "      <td>48620.700176</td>\n",
       "      <td>3</td>\n",
       "      <td>16206.900059</td>\n",
       "      <td>36.658002</td>\n",
       "      <td>4.582609e-20</td>\n",
       "      <td>0.278434</td>\n",
       "    </tr>\n",
       "    <tr>\n",
       "      <th>1</th>\n",
       "      <td>Within</td>\n",
       "      <td>126001.590481</td>\n",
       "      <td>285</td>\n",
       "      <td>442.110844</td>\n",
       "      <td>NaN</td>\n",
       "      <td>NaN</td>\n",
       "      <td>NaN</td>\n",
       "    </tr>\n",
       "  </tbody>\n",
       "</table>\n",
       "</div>"
      ],
      "text/plain": [
       "          Source             SS   DF            MS          F         p-unc  \\\n",
       "0  concentration   48620.700176    3  16206.900059  36.658002  4.582609e-20   \n",
       "1         Within  126001.590481  285    442.110844        NaN           NaN   \n",
       "\n",
       "        np2  \n",
       "0  0.278434  \n",
       "1       NaN  "
      ]
     },
     "execution_count": 58,
     "metadata": {},
     "output_type": "execute_result"
    }
   ],
   "source": [
    "### ANOVA: ORP_YSI_80ft(mV)\n",
    "\n",
    "# Se genera ANOVA a partir de la libreria Pingouin\n",
    "pg.anova(data=datos2_d1, dv=\"ORP_YSI_80ft(mV)\", between=\"concentration\", detailed=True)"
   ]
  },
  {
   "cell_type": "code",
   "execution_count": 59,
   "metadata": {},
   "outputs": [
    {
     "data": {
      "text/plain": [
       "<AxesSubplot:xlabel='concentration', ylabel='ORP_YSI_1100ft(mV)'>"
      ]
     },
     "execution_count": 59,
     "metadata": {},
     "output_type": "execute_result"
    },
    {
     "data": {
      "image/png": "[encoded data removed]",
      "text/plain": [
       "<Figure size 576x288 with 1 Axes>"
      ]
     },
     "metadata": {
      "needs_background": "light"
     },
     "output_type": "display_data"
    }
   ],
   "source": [
    "### ORP_YSI_1100ft(mV)\n",
    "fig, ax = plt.subplots(1, 1, figsize=(8, 4))\n",
    "sns.boxplot(x=\"concentration\", y=\"ORP_YSI_1100ft(mV)\", data=datos2_d1, ax=ax)"
   ]
  },
  {
   "cell_type": "code",
   "execution_count": 60,
   "metadata": {},
   "outputs": [
    {
     "data": {
      "text/html": [
       "<div>\n",
       "<style scoped>\n",
       "    .dataframe tbody tr th:only-of-type {\n",
       "        vertical-align: middle;\n",
       "    }\n",
       "\n",
       "    .dataframe tbody tr th {\n",
       "        vertical-align: top;\n",
       "    }\n",
       "\n",
       "    .dataframe thead th {\n",
       "        text-align: right;\n",
       "    }\n",
       "</style>\n",
       "<table border=\"1\" class=\"dataframe\">\n",
       "  <thead>\n",
       "    <tr style=\"text-align: right;\">\n",
       "      <th></th>\n",
       "      <th>Source</th>\n",
       "      <th>SS</th>\n",
       "      <th>DF</th>\n",
       "      <th>MS</th>\n",
       "      <th>F</th>\n",
       "      <th>p-unc</th>\n",
       "      <th>np2</th>\n",
       "    </tr>\n",
       "  </thead>\n",
       "  <tbody>\n",
       "    <tr>\n",
       "      <th>0</th>\n",
       "      <td>concentration</td>\n",
       "      <td>5571.423413</td>\n",
       "      <td>3</td>\n",
       "      <td>1857.141138</td>\n",
       "      <td>47.189021</td>\n",
       "      <td>8.633859e-25</td>\n",
       "      <td>0.331875</td>\n",
       "    </tr>\n",
       "    <tr>\n",
       "      <th>1</th>\n",
       "      <td>Within</td>\n",
       "      <td>11216.279009</td>\n",
       "      <td>285</td>\n",
       "      <td>39.355365</td>\n",
       "      <td>NaN</td>\n",
       "      <td>NaN</td>\n",
       "      <td>NaN</td>\n",
       "    </tr>\n",
       "  </tbody>\n",
       "</table>\n",
       "</div>"
      ],
      "text/plain": [
       "          Source            SS   DF           MS          F         p-unc  \\\n",
       "0  concentration   5571.423413    3  1857.141138  47.189021  8.633859e-25   \n",
       "1         Within  11216.279009  285    39.355365        NaN           NaN   \n",
       "\n",
       "        np2  \n",
       "0  0.331875  \n",
       "1       NaN  "
      ]
     },
     "execution_count": 60,
     "metadata": {},
     "output_type": "execute_result"
    }
   ],
   "source": [
    "### ANOVA: ORP_YSI_1100ft(mV)\n",
    "\n",
    "# Se genera ANOVA a partir de la libreria Pingouin\n",
    "pg.anova(data=datos2_d1, dv=\"ORP_YSI_1100ft(mV)\", between=\"concentration\", detailed=True)"
   ]
  },
  {
   "attachments": {},
   "cell_type": "markdown",
   "metadata": {},
   "source": [
    "### ORP_YSI - día 2"
   ]
  },
  {
   "cell_type": "code",
   "execution_count": 61,
   "metadata": {},
   "outputs": [
    {
     "data": {
      "text/plain": [
       "<AxesSubplot:xlabel='concentration', ylabel='ORP_YSI_80ft(mV)'>"
      ]
     },
     "execution_count": 61,
     "metadata": {},
     "output_type": "execute_result"
    },
    {
     "data": {
      "image/png": "[encoded data removed]",
      "text/plain": [
       "<Figure size 576x288 with 1 Axes>"
      ]
     },
     "metadata": {
      "needs_background": "light"
     },
     "output_type": "display_data"
    }
   ],
   "source": [
    "### ORP_YSI_80ft(mV)\n",
    "fig, ax = plt.subplots(1, 1, figsize=(8, 4))\n",
    "sns.boxplot(x=\"concentration\", y=\"ORP_YSI_80ft(mV)\", data=datos2_d2, ax=ax)"
   ]
  },
  {
   "cell_type": "code",
   "execution_count": 62,
   "metadata": {},
   "outputs": [
    {
     "data": {
      "text/html": [
       "<div>\n",
       "<style scoped>\n",
       "    .dataframe tbody tr th:only-of-type {\n",
       "        vertical-align: middle;\n",
       "    }\n",
       "\n",
       "    .dataframe tbody tr th {\n",
       "        vertical-align: top;\n",
       "    }\n",
       "\n",
       "    .dataframe thead th {\n",
       "        text-align: right;\n",
       "    }\n",
       "</style>\n",
       "<table border=\"1\" class=\"dataframe\">\n",
       "  <thead>\n",
       "    <tr style=\"text-align: right;\">\n",
       "      <th></th>\n",
       "      <th>Source</th>\n",
       "      <th>SS</th>\n",
       "      <th>DF</th>\n",
       "      <th>MS</th>\n",
       "      <th>F</th>\n",
       "      <th>p-unc</th>\n",
       "      <th>np2</th>\n",
       "    </tr>\n",
       "  </thead>\n",
       "  <tbody>\n",
       "    <tr>\n",
       "      <th>0</th>\n",
       "      <td>concentration</td>\n",
       "      <td>66105.759476</td>\n",
       "      <td>3</td>\n",
       "      <td>22035.253159</td>\n",
       "      <td>42.115812</td>\n",
       "      <td>1.238568e-22</td>\n",
       "      <td>0.302739</td>\n",
       "    </tr>\n",
       "    <tr>\n",
       "      <th>1</th>\n",
       "      <td>Within</td>\n",
       "      <td>152252.999846</td>\n",
       "      <td>291</td>\n",
       "      <td>523.206185</td>\n",
       "      <td>NaN</td>\n",
       "      <td>NaN</td>\n",
       "      <td>NaN</td>\n",
       "    </tr>\n",
       "  </tbody>\n",
       "</table>\n",
       "</div>"
      ],
      "text/plain": [
       "          Source             SS   DF            MS          F         p-unc  \\\n",
       "0  concentration   66105.759476    3  22035.253159  42.115812  1.238568e-22   \n",
       "1         Within  152252.999846  291    523.206185        NaN           NaN   \n",
       "\n",
       "        np2  \n",
       "0  0.302739  \n",
       "1       NaN  "
      ]
     },
     "execution_count": 62,
     "metadata": {},
     "output_type": "execute_result"
    }
   ],
   "source": [
    "### ANOVA: ORP_YSI_80ft(mV)\n",
    "\n",
    "# Se genera ANOVA a partir de la libreria Pingouin\n",
    "pg.anova(data=datos2_d2, dv=\"ORP_YSI_80ft(mV)\", between=\"concentration\", detailed=True)"
   ]
  },
  {
   "cell_type": "code",
   "execution_count": 63,
   "metadata": {},
   "outputs": [
    {
     "data": {
      "text/plain": [
       "<AxesSubplot:xlabel='concentration', ylabel='ORP_YSI_1100ft(mV)'>"
      ]
     },
     "execution_count": 63,
     "metadata": {},
     "output_type": "execute_result"
    },
    {
     "data": {
      "image/png": "[encoded data removed]",
      "text/plain": [
       "<Figure size 576x288 with 1 Axes>"
      ]
     },
     "metadata": {
      "needs_background": "light"
     },
     "output_type": "display_data"
    }
   ],
   "source": [
    "### ORP_YSI_1100ft(mV)\n",
    "fig, ax = plt.subplots(1, 1, figsize=(8, 4))\n",
    "sns.boxplot(x=\"concentration\", y=\"ORP_YSI_1100ft(mV)\", data=datos2_d2, ax=ax)"
   ]
  },
  {
   "cell_type": "code",
   "execution_count": 64,
   "metadata": {},
   "outputs": [
    {
     "data": {
      "text/html": [
       "<div>\n",
       "<style scoped>\n",
       "    .dataframe tbody tr th:only-of-type {\n",
       "        vertical-align: middle;\n",
       "    }\n",
       "\n",
       "    .dataframe tbody tr th {\n",
       "        vertical-align: top;\n",
       "    }\n",
       "\n",
       "    .dataframe thead th {\n",
       "        text-align: right;\n",
       "    }\n",
       "</style>\n",
       "<table border=\"1\" class=\"dataframe\">\n",
       "  <thead>\n",
       "    <tr style=\"text-align: right;\">\n",
       "      <th></th>\n",
       "      <th>Source</th>\n",
       "      <th>SS</th>\n",
       "      <th>DF</th>\n",
       "      <th>MS</th>\n",
       "      <th>F</th>\n",
       "      <th>p-unc</th>\n",
       "      <th>np2</th>\n",
       "    </tr>\n",
       "  </thead>\n",
       "  <tbody>\n",
       "    <tr>\n",
       "      <th>0</th>\n",
       "      <td>concentration</td>\n",
       "      <td>5389.229550</td>\n",
       "      <td>3</td>\n",
       "      <td>1796.409850</td>\n",
       "      <td>70.959621</td>\n",
       "      <td>1.810903e-34</td>\n",
       "      <td>0.42248</td>\n",
       "    </tr>\n",
       "    <tr>\n",
       "      <th>1</th>\n",
       "      <td>Within</td>\n",
       "      <td>7366.939942</td>\n",
       "      <td>291</td>\n",
       "      <td>25.315945</td>\n",
       "      <td>NaN</td>\n",
       "      <td>NaN</td>\n",
       "      <td>NaN</td>\n",
       "    </tr>\n",
       "  </tbody>\n",
       "</table>\n",
       "</div>"
      ],
      "text/plain": [
       "          Source           SS   DF           MS          F         p-unc  \\\n",
       "0  concentration  5389.229550    3  1796.409850  70.959621  1.810903e-34   \n",
       "1         Within  7366.939942  291    25.315945        NaN           NaN   \n",
       "\n",
       "       np2  \n",
       "0  0.42248  \n",
       "1      NaN  "
      ]
     },
     "execution_count": 64,
     "metadata": {},
     "output_type": "execute_result"
    }
   ],
   "source": [
    "### ANOVA: ORP_YSI_1100ft(mV)\n",
    "\n",
    "# Se genera ANOVA a partir de la libreria Pingouin\n",
    "pg.anova(data=datos2_d2, dv=\"ORP_YSI_1100ft(mV)\", between=\"concentration\", detailed=True)"
   ]
  },
  {
   "attachments": {},
   "cell_type": "markdown",
   "metadata": {},
   "source": [
    "### -------------------------------------------------------------------------------"
   ]
  },
  {
   "attachments": {},
   "cell_type": "markdown",
   "metadata": {},
   "source": [
    "### pH_YSI - día 1"
   ]
  },
  {
   "cell_type": "code",
   "execution_count": 65,
   "metadata": {},
   "outputs": [
    {
     "data": {
      "text/plain": [
       "<AxesSubplot:xlabel='concentration', ylabel='pH_YSI_80ft'>"
      ]
     },
     "execution_count": 65,
     "metadata": {},
     "output_type": "execute_result"
    },
    {
     "data": {
      "image/png": "[encoded data removed]",
      "text/plain": [
       "<Figure size 576x288 with 1 Axes>"
      ]
     },
     "metadata": {
      "needs_background": "light"
     },
     "output_type": "display_data"
    }
   ],
   "source": [
    "### pH_YSI_80ft\n",
    "fig, ax = plt.subplots(1, 1, figsize=(8, 4))\n",
    "sns.boxplot(x=\"concentration\", y=\"pH_YSI_80ft\", data=datos2_d1, ax=ax)"
   ]
  },
  {
   "cell_type": "code",
   "execution_count": 66,
   "metadata": {},
   "outputs": [
    {
     "data": {
      "text/html": [
       "<div>\n",
       "<style scoped>\n",
       "    .dataframe tbody tr th:only-of-type {\n",
       "        vertical-align: middle;\n",
       "    }\n",
       "\n",
       "    .dataframe tbody tr th {\n",
       "        vertical-align: top;\n",
       "    }\n",
       "\n",
       "    .dataframe thead th {\n",
       "        text-align: right;\n",
       "    }\n",
       "</style>\n",
       "<table border=\"1\" class=\"dataframe\">\n",
       "  <thead>\n",
       "    <tr style=\"text-align: right;\">\n",
       "      <th></th>\n",
       "      <th>Source</th>\n",
       "      <th>SS</th>\n",
       "      <th>DF</th>\n",
       "      <th>MS</th>\n",
       "      <th>F</th>\n",
       "      <th>p-unc</th>\n",
       "      <th>np2</th>\n",
       "    </tr>\n",
       "  </thead>\n",
       "  <tbody>\n",
       "    <tr>\n",
       "      <th>0</th>\n",
       "      <td>concentration</td>\n",
       "      <td>0.433244</td>\n",
       "      <td>3</td>\n",
       "      <td>0.144415</td>\n",
       "      <td>58.946293</td>\n",
       "      <td>1.121921e-29</td>\n",
       "      <td>0.382902</td>\n",
       "    </tr>\n",
       "    <tr>\n",
       "      <th>1</th>\n",
       "      <td>Within</td>\n",
       "      <td>0.698232</td>\n",
       "      <td>285</td>\n",
       "      <td>0.002450</td>\n",
       "      <td>NaN</td>\n",
       "      <td>NaN</td>\n",
       "      <td>NaN</td>\n",
       "    </tr>\n",
       "  </tbody>\n",
       "</table>\n",
       "</div>"
      ],
      "text/plain": [
       "          Source        SS   DF        MS          F         p-unc       np2\n",
       "0  concentration  0.433244    3  0.144415  58.946293  1.121921e-29  0.382902\n",
       "1         Within  0.698232  285  0.002450        NaN           NaN       NaN"
      ]
     },
     "execution_count": 66,
     "metadata": {},
     "output_type": "execute_result"
    }
   ],
   "source": [
    "### ANOVA: pH_YSI_80ft\n",
    "\n",
    "# Se genera ANOVA a partir de la libreria Pingouin\n",
    "pg.anova(data=datos2_d1, dv=\"pH_YSI_80ft\", between=\"concentration\", detailed=True)"
   ]
  },
  {
   "cell_type": "code",
   "execution_count": 67,
   "metadata": {},
   "outputs": [
    {
     "data": {
      "text/plain": [
       "<AxesSubplot:xlabel='concentration', ylabel='pH_YSI_1100ft'>"
      ]
     },
     "execution_count": 67,
     "metadata": {},
     "output_type": "execute_result"
    },
    {
     "data": {
      "image/png": "[encoded data removed]",
      "text/plain": [
       "<Figure size 576x288 with 1 Axes>"
      ]
     },
     "metadata": {
      "needs_background": "light"
     },
     "output_type": "display_data"
    }
   ],
   "source": [
    "### pH_YSI_1100ft\n",
    "fig, ax = plt.subplots(1, 1, figsize=(8, 4))\n",
    "sns.boxplot(x=\"concentration\", y=\"pH_YSI_1100ft\", data=datos2_d1, ax=ax)"
   ]
  },
  {
   "cell_type": "code",
   "execution_count": 68,
   "metadata": {},
   "outputs": [
    {
     "data": {
      "text/html": [
       "<div>\n",
       "<style scoped>\n",
       "    .dataframe tbody tr th:only-of-type {\n",
       "        vertical-align: middle;\n",
       "    }\n",
       "\n",
       "    .dataframe tbody tr th {\n",
       "        vertical-align: top;\n",
       "    }\n",
       "\n",
       "    .dataframe thead th {\n",
       "        text-align: right;\n",
       "    }\n",
       "</style>\n",
       "<table border=\"1\" class=\"dataframe\">\n",
       "  <thead>\n",
       "    <tr style=\"text-align: right;\">\n",
       "      <th></th>\n",
       "      <th>Source</th>\n",
       "      <th>SS</th>\n",
       "      <th>DF</th>\n",
       "      <th>MS</th>\n",
       "      <th>F</th>\n",
       "      <th>p-unc</th>\n",
       "      <th>np2</th>\n",
       "    </tr>\n",
       "  </thead>\n",
       "  <tbody>\n",
       "    <tr>\n",
       "      <th>0</th>\n",
       "      <td>concentration</td>\n",
       "      <td>0.342375</td>\n",
       "      <td>3</td>\n",
       "      <td>0.114125</td>\n",
       "      <td>19.184003</td>\n",
       "      <td>2.329929e-11</td>\n",
       "      <td>0.16801</td>\n",
       "    </tr>\n",
       "    <tr>\n",
       "      <th>1</th>\n",
       "      <td>Within</td>\n",
       "      <td>1.695455</td>\n",
       "      <td>285</td>\n",
       "      <td>0.005949</td>\n",
       "      <td>NaN</td>\n",
       "      <td>NaN</td>\n",
       "      <td>NaN</td>\n",
       "    </tr>\n",
       "  </tbody>\n",
       "</table>\n",
       "</div>"
      ],
      "text/plain": [
       "          Source        SS   DF        MS          F         p-unc      np2\n",
       "0  concentration  0.342375    3  0.114125  19.184003  2.329929e-11  0.16801\n",
       "1         Within  1.695455  285  0.005949        NaN           NaN      NaN"
      ]
     },
     "execution_count": 68,
     "metadata": {},
     "output_type": "execute_result"
    }
   ],
   "source": [
    "### ANOVA: pH_YSI_1100ft\n",
    "\n",
    "# Se genera ANOVA a partir de la libreria Pingouin\n",
    "pg.anova(data=datos2_d1, dv=\"pH_YSI_1100ft\", between=\"concentration\", detailed=True)"
   ]
  },
  {
   "attachments": {},
   "cell_type": "markdown",
   "metadata": {},
   "source": [
    "### pH_YSI - día 2"
   ]
  },
  {
   "cell_type": "code",
   "execution_count": 69,
   "metadata": {},
   "outputs": [
    {
     "data": {
      "text/plain": [
       "<AxesSubplot:xlabel='concentration', ylabel='pH_YSI_80ft'>"
      ]
     },
     "execution_count": 69,
     "metadata": {},
     "output_type": "execute_result"
    },
    {
     "data": {
      "image/png": "[encoded data removed]",
      "text/plain": [
       "<Figure size 576x288 with 1 Axes>"
      ]
     },
     "metadata": {
      "needs_background": "light"
     },
     "output_type": "display_data"
    }
   ],
   "source": [
    "### pH_YSI_80ft\n",
    "fig, ax = plt.subplots(1, 1, figsize=(8, 4))\n",
    "sns.boxplot(x=\"concentration\", y=\"pH_YSI_80ft\", data=datos2_d2, ax=ax)"
   ]
  },
  {
   "cell_type": "code",
   "execution_count": 70,
   "metadata": {},
   "outputs": [
    {
     "data": {
      "text/html": [
       "<div>\n",
       "<style scoped>\n",
       "    .dataframe tbody tr th:only-of-type {\n",
       "        vertical-align: middle;\n",
       "    }\n",
       "\n",
       "    .dataframe tbody tr th {\n",
       "        vertical-align: top;\n",
       "    }\n",
       "\n",
       "    .dataframe thead th {\n",
       "        text-align: right;\n",
       "    }\n",
       "</style>\n",
       "<table border=\"1\" class=\"dataframe\">\n",
       "  <thead>\n",
       "    <tr style=\"text-align: right;\">\n",
       "      <th></th>\n",
       "      <th>Source</th>\n",
       "      <th>SS</th>\n",
       "      <th>DF</th>\n",
       "      <th>MS</th>\n",
       "      <th>F</th>\n",
       "      <th>p-unc</th>\n",
       "      <th>np2</th>\n",
       "    </tr>\n",
       "  </thead>\n",
       "  <tbody>\n",
       "    <tr>\n",
       "      <th>0</th>\n",
       "      <td>concentration</td>\n",
       "      <td>0.02605</td>\n",
       "      <td>3</td>\n",
       "      <td>0.008683</td>\n",
       "      <td>7.07035</td>\n",
       "      <td>0.000133</td>\n",
       "      <td>0.067938</td>\n",
       "    </tr>\n",
       "    <tr>\n",
       "      <th>1</th>\n",
       "      <td>Within</td>\n",
       "      <td>0.35739</td>\n",
       "      <td>291</td>\n",
       "      <td>0.001228</td>\n",
       "      <td>NaN</td>\n",
       "      <td>NaN</td>\n",
       "      <td>NaN</td>\n",
       "    </tr>\n",
       "  </tbody>\n",
       "</table>\n",
       "</div>"
      ],
      "text/plain": [
       "          Source       SS   DF        MS        F     p-unc       np2\n",
       "0  concentration  0.02605    3  0.008683  7.07035  0.000133  0.067938\n",
       "1         Within  0.35739  291  0.001228      NaN       NaN       NaN"
      ]
     },
     "execution_count": 70,
     "metadata": {},
     "output_type": "execute_result"
    }
   ],
   "source": [
    "### ANOVA: pH_YSI_80ft\n",
    "\n",
    "# Se genera ANOVA a partir de la libreria Pingouin\n",
    "pg.anova(data=datos2_d2, dv=\"pH_YSI_80ft\", between=\"concentration\", detailed=True)"
   ]
  },
  {
   "cell_type": "code",
   "execution_count": 71,
   "metadata": {},
   "outputs": [
    {
     "data": {
      "text/plain": [
       "<AxesSubplot:xlabel='concentration', ylabel='pH_YSI_1100ft'>"
      ]
     },
     "execution_count": 71,
     "metadata": {},
     "output_type": "execute_result"
    },
    {
     "data": {
      "image/png": "[encoded data removed]",
      "text/plain": [
       "<Figure size 576x288 with 1 Axes>"
      ]
     },
     "metadata": {
      "needs_background": "light"
     },
     "output_type": "display_data"
    }
   ],
   "source": [
    "### pH_YSI_1100ft\n",
    "fig, ax = plt.subplots(1, 1, figsize=(8, 4))\n",
    "sns.boxplot(x=\"concentration\", y=\"pH_YSI_1100ft\", data=datos2_d2, ax=ax)"
   ]
  },
  {
   "cell_type": "code",
   "execution_count": 72,
   "metadata": {},
   "outputs": [
    {
     "data": {
      "text/html": [
       "<div>\n",
       "<style scoped>\n",
       "    .dataframe tbody tr th:only-of-type {\n",
       "        vertical-align: middle;\n",
       "    }\n",
       "\n",
       "    .dataframe tbody tr th {\n",
       "        vertical-align: top;\n",
       "    }\n",
       "\n",
       "    .dataframe thead th {\n",
       "        text-align: right;\n",
       "    }\n",
       "</style>\n",
       "<table border=\"1\" class=\"dataframe\">\n",
       "  <thead>\n",
       "    <tr style=\"text-align: right;\">\n",
       "      <th></th>\n",
       "      <th>Source</th>\n",
       "      <th>SS</th>\n",
       "      <th>DF</th>\n",
       "      <th>MS</th>\n",
       "      <th>F</th>\n",
       "      <th>p-unc</th>\n",
       "      <th>np2</th>\n",
       "    </tr>\n",
       "  </thead>\n",
       "  <tbody>\n",
       "    <tr>\n",
       "      <th>0</th>\n",
       "      <td>concentration</td>\n",
       "      <td>0.145833</td>\n",
       "      <td>3</td>\n",
       "      <td>0.048611</td>\n",
       "      <td>11.628281</td>\n",
       "      <td>3.215593e-07</td>\n",
       "      <td>0.107047</td>\n",
       "    </tr>\n",
       "    <tr>\n",
       "      <th>1</th>\n",
       "      <td>Within</td>\n",
       "      <td>1.216500</td>\n",
       "      <td>291</td>\n",
       "      <td>0.004180</td>\n",
       "      <td>NaN</td>\n",
       "      <td>NaN</td>\n",
       "      <td>NaN</td>\n",
       "    </tr>\n",
       "  </tbody>\n",
       "</table>\n",
       "</div>"
      ],
      "text/plain": [
       "          Source        SS   DF        MS          F         p-unc       np2\n",
       "0  concentration  0.145833    3  0.048611  11.628281  3.215593e-07  0.107047\n",
       "1         Within  1.216500  291  0.004180        NaN           NaN       NaN"
      ]
     },
     "execution_count": 72,
     "metadata": {},
     "output_type": "execute_result"
    }
   ],
   "source": [
    "### ANOVA: pH_YSI_1100ft\n",
    "\n",
    "# Se genera ANOVA a partir de la libreria Pingouin\n",
    "pg.anova(data=datos2_d2, dv=\"pH_YSI_1100ft\", between=\"concentration\", detailed=True)"
   ]
  },
  {
   "attachments": {},
   "cell_type": "markdown",
   "metadata": {},
   "source": [
    "### -----------------------------------------------------------------------------"
   ]
  },
  {
   "attachments": {},
   "cell_type": "markdown",
   "metadata": {},
   "source": [
    "### Sp_cond_YSI - Día 1"
   ]
  },
  {
   "cell_type": "code",
   "execution_count": 75,
   "metadata": {},
   "outputs": [
    {
     "data": {
      "text/plain": [
       "<AxesSubplot:xlabel='concentration', ylabel='sp_cond_YSI_80ft(µS/cm)'>"
      ]
     },
     "execution_count": 75,
     "metadata": {},
     "output_type": "execute_result"
    },
    {
     "data": {
      "image/png": "[encoded data removed]",
      "text/plain": [
       "<Figure size 576x288 with 1 Axes>"
      ]
     },
     "metadata": {
      "needs_background": "light"
     },
     "output_type": "display_data"
    }
   ],
   "source": [
    "### sp_cond_YSI_80ft(µS/cm)\n",
    "fig, ax = plt.subplots(1, 1, figsize=(8, 4))\n",
    "sns.boxplot(x=\"concentration\", y=\"sp_cond_YSI_80ft(µS/cm)\", data=datos2_d1, ax=ax)"
   ]
  },
  {
   "cell_type": "code",
   "execution_count": 76,
   "metadata": {},
   "outputs": [
    {
     "data": {
      "text/html": [
       "<div>\n",
       "<style scoped>\n",
       "    .dataframe tbody tr th:only-of-type {\n",
       "        vertical-align: middle;\n",
       "    }\n",
       "\n",
       "    .dataframe tbody tr th {\n",
       "        vertical-align: top;\n",
       "    }\n",
       "\n",
       "    .dataframe thead th {\n",
       "        text-align: right;\n",
       "    }\n",
       "</style>\n",
       "<table border=\"1\" class=\"dataframe\">\n",
       "  <thead>\n",
       "    <tr style=\"text-align: right;\">\n",
       "      <th></th>\n",
       "      <th>Source</th>\n",
       "      <th>SS</th>\n",
       "      <th>DF</th>\n",
       "      <th>MS</th>\n",
       "      <th>F</th>\n",
       "      <th>p-unc</th>\n",
       "      <th>np2</th>\n",
       "    </tr>\n",
       "  </thead>\n",
       "  <tbody>\n",
       "    <tr>\n",
       "      <th>0</th>\n",
       "      <td>concentration</td>\n",
       "      <td>5.307658</td>\n",
       "      <td>3</td>\n",
       "      <td>1.769219</td>\n",
       "      <td>18.70605</td>\n",
       "      <td>4.193223e-11</td>\n",
       "      <td>0.164512</td>\n",
       "    </tr>\n",
       "    <tr>\n",
       "      <th>1</th>\n",
       "      <td>Within</td>\n",
       "      <td>26.955318</td>\n",
       "      <td>285</td>\n",
       "      <td>0.094580</td>\n",
       "      <td>NaN</td>\n",
       "      <td>NaN</td>\n",
       "      <td>NaN</td>\n",
       "    </tr>\n",
       "  </tbody>\n",
       "</table>\n",
       "</div>"
      ],
      "text/plain": [
       "          Source         SS   DF        MS         F         p-unc       np2\n",
       "0  concentration   5.307658    3  1.769219  18.70605  4.193223e-11  0.164512\n",
       "1         Within  26.955318  285  0.094580       NaN           NaN       NaN"
      ]
     },
     "execution_count": 76,
     "metadata": {},
     "output_type": "execute_result"
    }
   ],
   "source": [
    "### ANOVA: sp_cond_YSI_80ft(µS/cm)\n",
    "\n",
    "# Se genera ANOVA a partir de la libreria Pingouin\n",
    "pg.anova(data=datos2_d1, dv=\"sp_cond_YSI_80ft(µS/cm)\", between=\"concentration\", detailed=True)"
   ]
  },
  {
   "cell_type": "code",
   "execution_count": 77,
   "metadata": {},
   "outputs": [
    {
     "data": {
      "text/plain": [
       "<AxesSubplot:xlabel='concentration', ylabel='sp_cond_YSI_1100ft(µS/cm)'>"
      ]
     },
     "execution_count": 77,
     "metadata": {},
     "output_type": "execute_result"
    },
    {
     "data": {
      "image/png": "[encoded data removed]",
      "text/plain": [
       "<Figure size 576x288 with 1 Axes>"
      ]
     },
     "metadata": {
      "needs_background": "light"
     },
     "output_type": "display_data"
    }
   ],
   "source": [
    "### sp_cond_YSI_1100ft(µS/cm)\n",
    "fig, ax = plt.subplots(1, 1, figsize=(8, 4))\n",
    "sns.boxplot(x=\"concentration\", y=\"sp_cond_YSI_1100ft(µS/cm)\", data=datos2_d1, ax=ax)"
   ]
  },
  {
   "cell_type": "code",
   "execution_count": 78,
   "metadata": {},
   "outputs": [
    {
     "data": {
      "text/html": [
       "<div>\n",
       "<style scoped>\n",
       "    .dataframe tbody tr th:only-of-type {\n",
       "        vertical-align: middle;\n",
       "    }\n",
       "\n",
       "    .dataframe tbody tr th {\n",
       "        vertical-align: top;\n",
       "    }\n",
       "\n",
       "    .dataframe thead th {\n",
       "        text-align: right;\n",
       "    }\n",
       "</style>\n",
       "<table border=\"1\" class=\"dataframe\">\n",
       "  <thead>\n",
       "    <tr style=\"text-align: right;\">\n",
       "      <th></th>\n",
       "      <th>Source</th>\n",
       "      <th>SS</th>\n",
       "      <th>DF</th>\n",
       "      <th>MS</th>\n",
       "      <th>F</th>\n",
       "      <th>p-unc</th>\n",
       "      <th>np2</th>\n",
       "    </tr>\n",
       "  </thead>\n",
       "  <tbody>\n",
       "    <tr>\n",
       "      <th>0</th>\n",
       "      <td>concentration</td>\n",
       "      <td>0.478471</td>\n",
       "      <td>3</td>\n",
       "      <td>0.159490</td>\n",
       "      <td>1.046584</td>\n",
       "      <td>0.372301</td>\n",
       "      <td>0.010897</td>\n",
       "    </tr>\n",
       "    <tr>\n",
       "      <th>1</th>\n",
       "      <td>Within</td>\n",
       "      <td>43.431563</td>\n",
       "      <td>285</td>\n",
       "      <td>0.152391</td>\n",
       "      <td>NaN</td>\n",
       "      <td>NaN</td>\n",
       "      <td>NaN</td>\n",
       "    </tr>\n",
       "  </tbody>\n",
       "</table>\n",
       "</div>"
      ],
      "text/plain": [
       "          Source         SS   DF        MS         F     p-unc       np2\n",
       "0  concentration   0.478471    3  0.159490  1.046584  0.372301  0.010897\n",
       "1         Within  43.431563  285  0.152391       NaN       NaN       NaN"
      ]
     },
     "execution_count": 78,
     "metadata": {},
     "output_type": "execute_result"
    }
   ],
   "source": [
    "### ANOVA: sp_cond_YSI_1100ft(µS/cm)\n",
    "\n",
    "# Se genera ANOVA a partir de la libreria Pingouin\n",
    "pg.anova(data=datos2_d1, dv=\"sp_cond_YSI_1100ft(µS/cm)\", between=\"concentration\", detailed=True)"
   ]
  },
  {
   "attachments": {},
   "cell_type": "markdown",
   "metadata": {},
   "source": [
    "### Sp_cond_YSI - Día 2"
   ]
  },
  {
   "cell_type": "code",
   "execution_count": 79,
   "metadata": {},
   "outputs": [
    {
     "data": {
      "text/plain": [
       "<AxesSubplot:xlabel='concentration', ylabel='sp_cond_YSI_80ft(µS/cm)'>"
      ]
     },
     "execution_count": 79,
     "metadata": {},
     "output_type": "execute_result"
    },
    {
     "data": {
      "image/png": "[encoded data removed]",
      "text/plain": [
       "<Figure size 576x288 with 1 Axes>"
      ]
     },
     "metadata": {
      "needs_background": "light"
     },
     "output_type": "display_data"
    }
   ],
   "source": [
    "### sp_cond_YSI_80ft(µS/cm)\n",
    "fig, ax = plt.subplots(1, 1, figsize=(8, 4))\n",
    "sns.boxplot(x=\"concentration\", y=\"sp_cond_YSI_80ft(µS/cm)\", data=datos2_d2, ax=ax)"
   ]
  },
  {
   "cell_type": "code",
   "execution_count": 80,
   "metadata": {},
   "outputs": [
    {
     "data": {
      "text/html": [
       "<div>\n",
       "<style scoped>\n",
       "    .dataframe tbody tr th:only-of-type {\n",
       "        vertical-align: middle;\n",
       "    }\n",
       "\n",
       "    .dataframe tbody tr th {\n",
       "        vertical-align: top;\n",
       "    }\n",
       "\n",
       "    .dataframe thead th {\n",
       "        text-align: right;\n",
       "    }\n",
       "</style>\n",
       "<table border=\"1\" class=\"dataframe\">\n",
       "  <thead>\n",
       "    <tr style=\"text-align: right;\">\n",
       "      <th></th>\n",
       "      <th>Source</th>\n",
       "      <th>SS</th>\n",
       "      <th>DF</th>\n",
       "      <th>MS</th>\n",
       "      <th>F</th>\n",
       "      <th>p-unc</th>\n",
       "      <th>np2</th>\n",
       "    </tr>\n",
       "  </thead>\n",
       "  <tbody>\n",
       "    <tr>\n",
       "      <th>0</th>\n",
       "      <td>concentration</td>\n",
       "      <td>35.396202</td>\n",
       "      <td>3</td>\n",
       "      <td>11.798734</td>\n",
       "      <td>56.857273</td>\n",
       "      <td>5.901447e-29</td>\n",
       "      <td>0.369546</td>\n",
       "    </tr>\n",
       "    <tr>\n",
       "      <th>1</th>\n",
       "      <td>Within</td>\n",
       "      <td>60.386849</td>\n",
       "      <td>291</td>\n",
       "      <td>0.207515</td>\n",
       "      <td>NaN</td>\n",
       "      <td>NaN</td>\n",
       "      <td>NaN</td>\n",
       "    </tr>\n",
       "  </tbody>\n",
       "</table>\n",
       "</div>"
      ],
      "text/plain": [
       "          Source         SS   DF         MS          F         p-unc       np2\n",
       "0  concentration  35.396202    3  11.798734  56.857273  5.901447e-29  0.369546\n",
       "1         Within  60.386849  291   0.207515        NaN           NaN       NaN"
      ]
     },
     "execution_count": 80,
     "metadata": {},
     "output_type": "execute_result"
    }
   ],
   "source": [
    "### ANOVA: sp_cond_YSI_80ft(µS/cm)\n",
    "\n",
    "# Se genera ANOVA a partir de la libreria Pingouin\n",
    "pg.anova(data=datos2_d2, dv=\"sp_cond_YSI_80ft(µS/cm)\", between=\"concentration\", detailed=True)"
   ]
  },
  {
   "cell_type": "code",
   "execution_count": 81,
   "metadata": {},
   "outputs": [
    {
     "data": {
      "text/plain": [
       "<AxesSubplot:xlabel='concentration', ylabel='sp_cond_YSI_1100ft(µS/cm)'>"
      ]
     },
     "execution_count": 81,
     "metadata": {},
     "output_type": "execute_result"
    },
    {
     "data": {
      "image/png": "[encoded data removed]",
      "text/plain": [
       "<Figure size 576x288 with 1 Axes>"
      ]
     },
     "metadata": {
      "needs_background": "light"
     },
     "output_type": "display_data"
    }
   ],
   "source": [
    "### sp_cond_YSI_1100ft(µS/cm)\n",
    "fig, ax = plt.subplots(1, 1, figsize=(8, 4))\n",
    "sns.boxplot(x=\"concentration\", y=\"sp_cond_YSI_1100ft(µS/cm)\", data=datos2_d2, ax=ax)"
   ]
  },
  {
   "cell_type": "code",
   "execution_count": 82,
   "metadata": {},
   "outputs": [
    {
     "data": {
      "text/html": [
       "<div>\n",
       "<style scoped>\n",
       "    .dataframe tbody tr th:only-of-type {\n",
       "        vertical-align: middle;\n",
       "    }\n",
       "\n",
       "    .dataframe tbody tr th {\n",
       "        vertical-align: top;\n",
       "    }\n",
       "\n",
       "    .dataframe thead th {\n",
       "        text-align: right;\n",
       "    }\n",
       "</style>\n",
       "<table border=\"1\" class=\"dataframe\">\n",
       "  <thead>\n",
       "    <tr style=\"text-align: right;\">\n",
       "      <th></th>\n",
       "      <th>Source</th>\n",
       "      <th>SS</th>\n",
       "      <th>DF</th>\n",
       "      <th>MS</th>\n",
       "      <th>F</th>\n",
       "      <th>p-unc</th>\n",
       "      <th>np2</th>\n",
       "    </tr>\n",
       "  </thead>\n",
       "  <tbody>\n",
       "    <tr>\n",
       "      <th>0</th>\n",
       "      <td>concentration</td>\n",
       "      <td>39.335291</td>\n",
       "      <td>3</td>\n",
       "      <td>13.111764</td>\n",
       "      <td>97.705784</td>\n",
       "      <td>9.065723e-44</td>\n",
       "      <td>0.501812</td>\n",
       "    </tr>\n",
       "    <tr>\n",
       "      <th>1</th>\n",
       "      <td>Within</td>\n",
       "      <td>39.051150</td>\n",
       "      <td>291</td>\n",
       "      <td>0.134196</td>\n",
       "      <td>NaN</td>\n",
       "      <td>NaN</td>\n",
       "      <td>NaN</td>\n",
       "    </tr>\n",
       "  </tbody>\n",
       "</table>\n",
       "</div>"
      ],
      "text/plain": [
       "          Source         SS   DF         MS          F         p-unc       np2\n",
       "0  concentration  39.335291    3  13.111764  97.705784  9.065723e-44  0.501812\n",
       "1         Within  39.051150  291   0.134196        NaN           NaN       NaN"
      ]
     },
     "execution_count": 82,
     "metadata": {},
     "output_type": "execute_result"
    }
   ],
   "source": [
    "### ANOVA: sp_cond_YSI_1100ft(µS/cm)\n",
    "\n",
    "# Se genera ANOVA a partir de la libreria Pingouin\n",
    "pg.anova(data=datos2_d2, dv=\"sp_cond_YSI_1100ft(µS/cm)\", between=\"concentration\", detailed=True)"
   ]
  },
  {
   "attachments": {},
   "cell_type": "markdown",
   "metadata": {},
   "source": [
    "### ------------------------------------------------------------------------------"
   ]
  },
  {
   "attachments": {},
   "cell_type": "markdown",
   "metadata": {},
   "source": [
    "### Turbidity YSI - día 1"
   ]
  },
  {
   "cell_type": "code",
   "execution_count": 83,
   "metadata": {},
   "outputs": [
    {
     "data": {
      "text/plain": [
       "<AxesSubplot:xlabel='concentration', ylabel='turbidity_YSI_80ft(NTU+)'>"
      ]
     },
     "execution_count": 83,
     "metadata": {},
     "output_type": "execute_result"
    },
    {
     "data": {
      "image/png": "[encoded data removed]",
      "text/plain": [
       "<Figure size 576x288 with 1 Axes>"
      ]
     },
     "metadata": {
      "needs_background": "light"
     },
     "output_type": "display_data"
    }
   ],
   "source": [
    "### turbidity_YSI_80ft(NTU+)\n",
    "fig, ax = plt.subplots(1, 1, figsize=(8, 4))\n",
    "sns.boxplot(x=\"concentration\", y=\"turbidity_YSI_80ft(NTU+)\", data=datos2_d1, ax=ax)"
   ]
  },
  {
   "cell_type": "code",
   "execution_count": 84,
   "metadata": {},
   "outputs": [
    {
     "data": {
      "text/html": [
       "<div>\n",
       "<style scoped>\n",
       "    .dataframe tbody tr th:only-of-type {\n",
       "        vertical-align: middle;\n",
       "    }\n",
       "\n",
       "    .dataframe tbody tr th {\n",
       "        vertical-align: top;\n",
       "    }\n",
       "\n",
       "    .dataframe thead th {\n",
       "        text-align: right;\n",
       "    }\n",
       "</style>\n",
       "<table border=\"1\" class=\"dataframe\">\n",
       "  <thead>\n",
       "    <tr style=\"text-align: right;\">\n",
       "      <th></th>\n",
       "      <th>Source</th>\n",
       "      <th>SS</th>\n",
       "      <th>DF</th>\n",
       "      <th>MS</th>\n",
       "      <th>F</th>\n",
       "      <th>p-unc</th>\n",
       "      <th>np2</th>\n",
       "    </tr>\n",
       "  </thead>\n",
       "  <tbody>\n",
       "    <tr>\n",
       "      <th>0</th>\n",
       "      <td>concentration</td>\n",
       "      <td>0.100320</td>\n",
       "      <td>3</td>\n",
       "      <td>0.033440</td>\n",
       "      <td>1.946864</td>\n",
       "      <td>0.122198</td>\n",
       "      <td>0.020082</td>\n",
       "    </tr>\n",
       "    <tr>\n",
       "      <th>1</th>\n",
       "      <td>Within</td>\n",
       "      <td>4.895251</td>\n",
       "      <td>285</td>\n",
       "      <td>0.017176</td>\n",
       "      <td>NaN</td>\n",
       "      <td>NaN</td>\n",
       "      <td>NaN</td>\n",
       "    </tr>\n",
       "  </tbody>\n",
       "</table>\n",
       "</div>"
      ],
      "text/plain": [
       "          Source        SS   DF        MS         F     p-unc       np2\n",
       "0  concentration  0.100320    3  0.033440  1.946864  0.122198  0.020082\n",
       "1         Within  4.895251  285  0.017176       NaN       NaN       NaN"
      ]
     },
     "execution_count": 84,
     "metadata": {},
     "output_type": "execute_result"
    }
   ],
   "source": [
    "### ANOVA: turbidity_YSI_80ft(NTU+)\n",
    "\n",
    "# Se genera ANOVA a partir de la libreria Pingouin\n",
    "pg.anova(data=datos2_d1, dv=\"turbidity_YSI_80ft(NTU+)\", between=\"concentration\", detailed=True)"
   ]
  },
  {
   "cell_type": "code",
   "execution_count": 85,
   "metadata": {},
   "outputs": [
    {
     "data": {
      "text/plain": [
       "<AxesSubplot:xlabel='concentration', ylabel='turbidity_YSI_1100ft(NTU+)'>"
      ]
     },
     "execution_count": 85,
     "metadata": {},
     "output_type": "execute_result"
    },
    {
     "data": {
      "image/png": "[encoded data removed]",
      "text/plain": [
       "<Figure size 576x288 with 1 Axes>"
      ]
     },
     "metadata": {
      "needs_background": "light"
     },
     "output_type": "display_data"
    }
   ],
   "source": [
    "### turbidity_YSI_1100ft(NTU+)\n",
    "fig, ax = plt.subplots(1, 1, figsize=(8, 4))\n",
    "sns.boxplot(x=\"concentration\", y=\"turbidity_YSI_1100ft(NTU+)\", data=datos2_d1, ax=ax)"
   ]
  },
  {
   "cell_type": "code",
   "execution_count": 86,
   "metadata": {},
   "outputs": [
    {
     "data": {
      "text/html": [
       "<div>\n",
       "<style scoped>\n",
       "    .dataframe tbody tr th:only-of-type {\n",
       "        vertical-align: middle;\n",
       "    }\n",
       "\n",
       "    .dataframe tbody tr th {\n",
       "        vertical-align: top;\n",
       "    }\n",
       "\n",
       "    .dataframe thead th {\n",
       "        text-align: right;\n",
       "    }\n",
       "</style>\n",
       "<table border=\"1\" class=\"dataframe\">\n",
       "  <thead>\n",
       "    <tr style=\"text-align: right;\">\n",
       "      <th></th>\n",
       "      <th>Source</th>\n",
       "      <th>SS</th>\n",
       "      <th>DF</th>\n",
       "      <th>MS</th>\n",
       "      <th>F</th>\n",
       "      <th>p-unc</th>\n",
       "      <th>np2</th>\n",
       "    </tr>\n",
       "  </thead>\n",
       "  <tbody>\n",
       "    <tr>\n",
       "      <th>0</th>\n",
       "      <td>concentration</td>\n",
       "      <td>0.115171</td>\n",
       "      <td>3</td>\n",
       "      <td>0.03839</td>\n",
       "      <td>4.101309</td>\n",
       "      <td>0.007158</td>\n",
       "      <td>0.041385</td>\n",
       "    </tr>\n",
       "    <tr>\n",
       "      <th>1</th>\n",
       "      <td>Within</td>\n",
       "      <td>2.667736</td>\n",
       "      <td>285</td>\n",
       "      <td>0.00936</td>\n",
       "      <td>NaN</td>\n",
       "      <td>NaN</td>\n",
       "      <td>NaN</td>\n",
       "    </tr>\n",
       "  </tbody>\n",
       "</table>\n",
       "</div>"
      ],
      "text/plain": [
       "          Source        SS   DF       MS         F     p-unc       np2\n",
       "0  concentration  0.115171    3  0.03839  4.101309  0.007158  0.041385\n",
       "1         Within  2.667736  285  0.00936       NaN       NaN       NaN"
      ]
     },
     "execution_count": 86,
     "metadata": {},
     "output_type": "execute_result"
    }
   ],
   "source": [
    "### ANOVA: turbidity_YSI_1100ft(NTU+)\n",
    "\n",
    "# Se genera ANOVA a partir de la libreria Pingouin\n",
    "pg.anova(data=datos2_d1, dv=\"turbidity_YSI_1100ft(NTU+)\", between=\"concentration\", detailed=True)"
   ]
  },
  {
   "attachments": {},
   "cell_type": "markdown",
   "metadata": {},
   "source": [
    "### Turbidity YSI - día 2"
   ]
  },
  {
   "cell_type": "code",
   "execution_count": 87,
   "metadata": {},
   "outputs": [
    {
     "data": {
      "text/plain": [
       "<AxesSubplot:xlabel='concentration', ylabel='turbidity_YSI_80ft(NTU+)'>"
      ]
     },
     "execution_count": 87,
     "metadata": {},
     "output_type": "execute_result"
    },
    {
     "data": {
      "image/png": "[encoded data removed]",
      "text/plain": [
       "<Figure size 576x288 with 1 Axes>"
      ]
     },
     "metadata": {
      "needs_background": "light"
     },
     "output_type": "display_data"
    }
   ],
   "source": [
    "### turbidity_YSI_80ft(NTU+)\n",
    "fig, ax = plt.subplots(1, 1, figsize=(8, 4))\n",
    "sns.boxplot(x=\"concentration\", y=\"turbidity_YSI_80ft(NTU+)\", data=datos2_d2, ax=ax)"
   ]
  },
  {
   "cell_type": "code",
   "execution_count": 88,
   "metadata": {},
   "outputs": [
    {
     "data": {
      "text/html": [
       "<div>\n",
       "<style scoped>\n",
       "    .dataframe tbody tr th:only-of-type {\n",
       "        vertical-align: middle;\n",
       "    }\n",
       "\n",
       "    .dataframe tbody tr th {\n",
       "        vertical-align: top;\n",
       "    }\n",
       "\n",
       "    .dataframe thead th {\n",
       "        text-align: right;\n",
       "    }\n",
       "</style>\n",
       "<table border=\"1\" class=\"dataframe\">\n",
       "  <thead>\n",
       "    <tr style=\"text-align: right;\">\n",
       "      <th></th>\n",
       "      <th>Source</th>\n",
       "      <th>SS</th>\n",
       "      <th>DF</th>\n",
       "      <th>MS</th>\n",
       "      <th>F</th>\n",
       "      <th>p-unc</th>\n",
       "      <th>np2</th>\n",
       "    </tr>\n",
       "  </thead>\n",
       "  <tbody>\n",
       "    <tr>\n",
       "      <th>0</th>\n",
       "      <td>concentration</td>\n",
       "      <td>0.155411</td>\n",
       "      <td>3</td>\n",
       "      <td>0.051804</td>\n",
       "      <td>2.640618</td>\n",
       "      <td>0.049674</td>\n",
       "      <td>0.026501</td>\n",
       "    </tr>\n",
       "    <tr>\n",
       "      <th>1</th>\n",
       "      <td>Within</td>\n",
       "      <td>5.708860</td>\n",
       "      <td>291</td>\n",
       "      <td>0.019618</td>\n",
       "      <td>NaN</td>\n",
       "      <td>NaN</td>\n",
       "      <td>NaN</td>\n",
       "    </tr>\n",
       "  </tbody>\n",
       "</table>\n",
       "</div>"
      ],
      "text/plain": [
       "          Source        SS   DF        MS         F     p-unc       np2\n",
       "0  concentration  0.155411    3  0.051804  2.640618  0.049674  0.026501\n",
       "1         Within  5.708860  291  0.019618       NaN       NaN       NaN"
      ]
     },
     "execution_count": 88,
     "metadata": {},
     "output_type": "execute_result"
    }
   ],
   "source": [
    "### ANOVA: turbidity_YSI_80ft(NTU+)\n",
    "\n",
    "# Se genera ANOVA a partir de la libreria Pingouin\n",
    "pg.anova(data=datos2_d2, dv=\"turbidity_YSI_80ft(NTU+)\", between=\"concentration\", detailed=True)"
   ]
  },
  {
   "cell_type": "code",
   "execution_count": 89,
   "metadata": {},
   "outputs": [
    {
     "data": {
      "text/plain": [
       "<AxesSubplot:xlabel='concentration', ylabel='turbidity_YSI_1100ft(NTU+)'>"
      ]
     },
     "execution_count": 89,
     "metadata": {},
     "output_type": "execute_result"
    },
    {
     "data": {
      "image/png": "[encoded data removed]",
      "text/plain": [
       "<Figure size 576x288 with 1 Axes>"
      ]
     },
     "metadata": {
      "needs_background": "light"
     },
     "output_type": "display_data"
    }
   ],
   "source": [
    "### turbidity_YSI_1100ft(NTU+)\n",
    "fig, ax = plt.subplots(1, 1, figsize=(8, 4))\n",
    "sns.boxplot(x=\"concentration\", y=\"turbidity_YSI_1100ft(NTU+)\", data=datos2_d2, ax=ax)"
   ]
  },
  {
   "cell_type": "code",
   "execution_count": 90,
   "metadata": {},
   "outputs": [
    {
     "data": {
      "text/html": [
       "<div>\n",
       "<style scoped>\n",
       "    .dataframe tbody tr th:only-of-type {\n",
       "        vertical-align: middle;\n",
       "    }\n",
       "\n",
       "    .dataframe tbody tr th {\n",
       "        vertical-align: top;\n",
       "    }\n",
       "\n",
       "    .dataframe thead th {\n",
       "        text-align: right;\n",
       "    }\n",
       "</style>\n",
       "<table border=\"1\" class=\"dataframe\">\n",
       "  <thead>\n",
       "    <tr style=\"text-align: right;\">\n",
       "      <th></th>\n",
       "      <th>Source</th>\n",
       "      <th>SS</th>\n",
       "      <th>DF</th>\n",
       "      <th>MS</th>\n",
       "      <th>F</th>\n",
       "      <th>p-unc</th>\n",
       "      <th>np2</th>\n",
       "    </tr>\n",
       "  </thead>\n",
       "  <tbody>\n",
       "    <tr>\n",
       "      <th>0</th>\n",
       "      <td>concentration</td>\n",
       "      <td>0.244911</td>\n",
       "      <td>3</td>\n",
       "      <td>0.081637</td>\n",
       "      <td>7.972733</td>\n",
       "      <td>0.00004</td>\n",
       "      <td>0.075951</td>\n",
       "    </tr>\n",
       "    <tr>\n",
       "      <th>1</th>\n",
       "      <td>Within</td>\n",
       "      <td>2.979699</td>\n",
       "      <td>291</td>\n",
       "      <td>0.010240</td>\n",
       "      <td>NaN</td>\n",
       "      <td>NaN</td>\n",
       "      <td>NaN</td>\n",
       "    </tr>\n",
       "  </tbody>\n",
       "</table>\n",
       "</div>"
      ],
      "text/plain": [
       "          Source        SS   DF        MS         F    p-unc       np2\n",
       "0  concentration  0.244911    3  0.081637  7.972733  0.00004  0.075951\n",
       "1         Within  2.979699  291  0.010240       NaN      NaN       NaN"
      ]
     },
     "execution_count": 90,
     "metadata": {},
     "output_type": "execute_result"
    }
   ],
   "source": [
    "### ANOVA: turbidity_YSI_1100ft(NTU+)\n",
    "\n",
    "# Se genera ANOVA a partir de la libreria Pingouin\n",
    "pg.anova(data=datos2_d2, dv=\"turbidity_YSI_1100ft(NTU+)\", between=\"concentration\", detailed=True)"
   ]
  }
 ],
 "metadata": {
  "kernelspec": {
   "display_name": "Python 3.9.13 64-bit",
   "language": "python",
   "name": "python3"
  },
  "language_info": {
   "codemirror_mode": {
    "name": "ipython",
    "version": 3
   },
   "file_extension": ".py",
   "mimetype": "text/x-python",
   "name": "python",
   "nbconvert_exporter": "python",
   "pygments_lexer": "ipython3",
   "version": "3.9.13"
  },
  "vscode": {
   "interpreter": {
    "hash": "aee8b7b246df8f9039afb4144a1f6fd8d2ca17a180786b69acc140d282b71a49"
   }
  }
 },
 "nbformat": 4,
 "nbformat_minor": 4
}
