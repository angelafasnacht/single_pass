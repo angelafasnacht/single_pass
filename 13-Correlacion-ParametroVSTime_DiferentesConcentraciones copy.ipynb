{
 "cells": [
  {
   "attachments": {},
   "cell_type": "markdown",
   "metadata": {},
   "source": [
    "#### Correlación por Parámetro 80ft y 1100ft por día VS Concentración del Glifosato (C= 0, 0.4, 1.5, 3 y juntos)\n",
    " "
   ]
  },
  {
   "cell_type": "markdown",
   "metadata": {},
   "source": [
    "### Se importan las librerias"
   ]
  },
  {
   "cell_type": "code",
   "execution_count": 1,
   "metadata": {},
   "outputs": [],
   "source": [
    "# Se importan las librerias\n",
    "import numpy as np\n",
    "import pandas as pd\n",
    "import seaborn as sb\n",
    "import matplotlib.pyplot as plt"
   ]
  },
  {
   "cell_type": "markdown",
   "metadata": {},
   "source": [
    "### Se cargan los datos"
   ]
  },
  {
   "cell_type": "code",
   "execution_count": 2,
   "metadata": {},
   "outputs": [
    {
     "data": {
      "text/html": [
       "<div>\n",
       "<style scoped>\n",
       "    .dataframe tbody tr th:only-of-type {\n",
       "        vertical-align: middle;\n",
       "    }\n",
       "\n",
       "    .dataframe tbody tr th {\n",
       "        vertical-align: top;\n",
       "    }\n",
       "\n",
       "    .dataframe thead th {\n",
       "        text-align: right;\n",
       "    }\n",
       "</style>\n",
       "<table border=\"1\" class=\"dataframe\">\n",
       "  <thead>\n",
       "    <tr style=\"text-align: right;\">\n",
       "      <th></th>\n",
       "      <th>date</th>\n",
       "      <th>date(m/d/y)</th>\n",
       "      <th>time</th>\n",
       "      <th>day</th>\n",
       "      <th>concentration</th>\n",
       "      <th>chloride_80ft(mg/L)</th>\n",
       "      <th>chloride_1100ft(mg/L)</th>\n",
       "      <th>difference_chloride</th>\n",
       "      <th>CL2_80ft(PPM)</th>\n",
       "      <th>CL2_1100ft(PPM)</th>\n",
       "      <th>...</th>\n",
       "      <th>difference_ORP_YSI</th>\n",
       "      <th>pH_YSI_80ft</th>\n",
       "      <th>pH_YSI_1100ft</th>\n",
       "      <th>difference_pH</th>\n",
       "      <th>sp_cond_YSI_80ft(µS/cm)</th>\n",
       "      <th>sp_cond_YSI_1100ft(µS/cm)</th>\n",
       "      <th>difference_sp_cond_YSI</th>\n",
       "      <th>turbidity_YSI_80ft(NTU+)</th>\n",
       "      <th>turbidity_YSI_1100ft(NTU+)</th>\n",
       "      <th>difference_turbidity</th>\n",
       "    </tr>\n",
       "  </thead>\n",
       "  <tbody>\n",
       "    <tr>\n",
       "      <th>0</th>\n",
       "      <td>25/01/05 12:30</td>\n",
       "      <td>25/01/05</td>\n",
       "      <td>12.30</td>\n",
       "      <td>1</td>\n",
       "      <td>0.0</td>\n",
       "      <td>16.33</td>\n",
       "      <td>17.02</td>\n",
       "      <td>0.69</td>\n",
       "      <td>1.02</td>\n",
       "      <td>1.05</td>\n",
       "      <td>...</td>\n",
       "      <td>75</td>\n",
       "      <td>7.23</td>\n",
       "      <td>8.68</td>\n",
       "      <td>1.45</td>\n",
       "      <td>281</td>\n",
       "      <td>284</td>\n",
       "      <td>3</td>\n",
       "      <td>0.5</td>\n",
       "      <td>0.1</td>\n",
       "      <td>-0.4</td>\n",
       "    </tr>\n",
       "    <tr>\n",
       "      <th>1</th>\n",
       "      <td>25/01/05 12:31</td>\n",
       "      <td>25/01/05</td>\n",
       "      <td>12.31</td>\n",
       "      <td>1</td>\n",
       "      <td>0.0</td>\n",
       "      <td>16.39</td>\n",
       "      <td>17.12</td>\n",
       "      <td>0.73</td>\n",
       "      <td>1.02</td>\n",
       "      <td>1.05</td>\n",
       "      <td>...</td>\n",
       "      <td>75</td>\n",
       "      <td>7.22</td>\n",
       "      <td>8.67</td>\n",
       "      <td>1.45</td>\n",
       "      <td>281</td>\n",
       "      <td>283</td>\n",
       "      <td>2</td>\n",
       "      <td>0.8</td>\n",
       "      <td>0.1</td>\n",
       "      <td>-0.7</td>\n",
       "    </tr>\n",
       "    <tr>\n",
       "      <th>2</th>\n",
       "      <td>25/01/05 12:32</td>\n",
       "      <td>25/01/05</td>\n",
       "      <td>12.32</td>\n",
       "      <td>1</td>\n",
       "      <td>0.0</td>\n",
       "      <td>16.39</td>\n",
       "      <td>17.12</td>\n",
       "      <td>0.73</td>\n",
       "      <td>1.02</td>\n",
       "      <td>1.05</td>\n",
       "      <td>...</td>\n",
       "      <td>75</td>\n",
       "      <td>7.22</td>\n",
       "      <td>8.68</td>\n",
       "      <td>1.46</td>\n",
       "      <td>281</td>\n",
       "      <td>283</td>\n",
       "      <td>2</td>\n",
       "      <td>0.8</td>\n",
       "      <td>0.1</td>\n",
       "      <td>-0.7</td>\n",
       "    </tr>\n",
       "    <tr>\n",
       "      <th>3</th>\n",
       "      <td>25/01/05 12:33</td>\n",
       "      <td>25/01/05</td>\n",
       "      <td>12.33</td>\n",
       "      <td>1</td>\n",
       "      <td>0.0</td>\n",
       "      <td>16.38</td>\n",
       "      <td>17.11</td>\n",
       "      <td>0.73</td>\n",
       "      <td>1.02</td>\n",
       "      <td>1.04</td>\n",
       "      <td>...</td>\n",
       "      <td>76</td>\n",
       "      <td>7.22</td>\n",
       "      <td>8.68</td>\n",
       "      <td>1.46</td>\n",
       "      <td>281</td>\n",
       "      <td>283</td>\n",
       "      <td>2</td>\n",
       "      <td>0.8</td>\n",
       "      <td>0.1</td>\n",
       "      <td>-0.7</td>\n",
       "    </tr>\n",
       "    <tr>\n",
       "      <th>4</th>\n",
       "      <td>25/01/05 12:34</td>\n",
       "      <td>25/01/05</td>\n",
       "      <td>12.34</td>\n",
       "      <td>1</td>\n",
       "      <td>0.0</td>\n",
       "      <td>16.39</td>\n",
       "      <td>17.03</td>\n",
       "      <td>0.64</td>\n",
       "      <td>1.02</td>\n",
       "      <td>1.04</td>\n",
       "      <td>...</td>\n",
       "      <td>76</td>\n",
       "      <td>7.22</td>\n",
       "      <td>8.68</td>\n",
       "      <td>1.46</td>\n",
       "      <td>281</td>\n",
       "      <td>284</td>\n",
       "      <td>3</td>\n",
       "      <td>0.7</td>\n",
       "      <td>0.1</td>\n",
       "      <td>-0.6</td>\n",
       "    </tr>\n",
       "    <tr>\n",
       "      <th>...</th>\n",
       "      <td>...</td>\n",
       "      <td>...</td>\n",
       "      <td>...</td>\n",
       "      <td>...</td>\n",
       "      <td>...</td>\n",
       "      <td>...</td>\n",
       "      <td>...</td>\n",
       "      <td>...</td>\n",
       "      <td>...</td>\n",
       "      <td>...</td>\n",
       "      <td>...</td>\n",
       "      <td>...</td>\n",
       "      <td>...</td>\n",
       "      <td>...</td>\n",
       "      <td>...</td>\n",
       "      <td>...</td>\n",
       "      <td>...</td>\n",
       "      <td>...</td>\n",
       "      <td>...</td>\n",
       "      <td>...</td>\n",
       "      <td>...</td>\n",
       "    </tr>\n",
       "    <tr>\n",
       "      <th>621</th>\n",
       "      <td>26/01/05 15:56</td>\n",
       "      <td>26/01/05</td>\n",
       "      <td>15.56</td>\n",
       "      <td>2</td>\n",
       "      <td>3.0</td>\n",
       "      <td>16.37</td>\n",
       "      <td>17.93</td>\n",
       "      <td>1.56</td>\n",
       "      <td>1.00</td>\n",
       "      <td>1.02</td>\n",
       "      <td>...</td>\n",
       "      <td>95</td>\n",
       "      <td>7.17</td>\n",
       "      <td>8.72</td>\n",
       "      <td>1.55</td>\n",
       "      <td>287</td>\n",
       "      <td>289</td>\n",
       "      <td>2</td>\n",
       "      <td>0.8</td>\n",
       "      <td>0.0</td>\n",
       "      <td>-0.8</td>\n",
       "    </tr>\n",
       "    <tr>\n",
       "      <th>622</th>\n",
       "      <td>26/01/05 15:57</td>\n",
       "      <td>26/01/05</td>\n",
       "      <td>15.57</td>\n",
       "      <td>2</td>\n",
       "      <td>3.0</td>\n",
       "      <td>16.38</td>\n",
       "      <td>17.92</td>\n",
       "      <td>1.54</td>\n",
       "      <td>1.00</td>\n",
       "      <td>1.01</td>\n",
       "      <td>...</td>\n",
       "      <td>96</td>\n",
       "      <td>7.17</td>\n",
       "      <td>8.72</td>\n",
       "      <td>1.55</td>\n",
       "      <td>287</td>\n",
       "      <td>289</td>\n",
       "      <td>2</td>\n",
       "      <td>0.9</td>\n",
       "      <td>0.0</td>\n",
       "      <td>-0.9</td>\n",
       "    </tr>\n",
       "    <tr>\n",
       "      <th>623</th>\n",
       "      <td>26/01/05 15:58</td>\n",
       "      <td>26/01/05</td>\n",
       "      <td>15.58</td>\n",
       "      <td>2</td>\n",
       "      <td>3.0</td>\n",
       "      <td>16.37</td>\n",
       "      <td>17.90</td>\n",
       "      <td>1.53</td>\n",
       "      <td>1.00</td>\n",
       "      <td>1.01</td>\n",
       "      <td>...</td>\n",
       "      <td>96</td>\n",
       "      <td>7.17</td>\n",
       "      <td>8.71</td>\n",
       "      <td>1.54</td>\n",
       "      <td>287</td>\n",
       "      <td>289</td>\n",
       "      <td>2</td>\n",
       "      <td>0.8</td>\n",
       "      <td>0.0</td>\n",
       "      <td>-0.8</td>\n",
       "    </tr>\n",
       "    <tr>\n",
       "      <th>624</th>\n",
       "      <td>26/01/05 15:59</td>\n",
       "      <td>26/01/05</td>\n",
       "      <td>15.59</td>\n",
       "      <td>2</td>\n",
       "      <td>3.0</td>\n",
       "      <td>16.35</td>\n",
       "      <td>17.91</td>\n",
       "      <td>1.56</td>\n",
       "      <td>1.00</td>\n",
       "      <td>1.01</td>\n",
       "      <td>...</td>\n",
       "      <td>97</td>\n",
       "      <td>7.16</td>\n",
       "      <td>8.71</td>\n",
       "      <td>1.55</td>\n",
       "      <td>287</td>\n",
       "      <td>289</td>\n",
       "      <td>2</td>\n",
       "      <td>0.9</td>\n",
       "      <td>0.0</td>\n",
       "      <td>-0.9</td>\n",
       "    </tr>\n",
       "    <tr>\n",
       "      <th>625</th>\n",
       "      <td>26/01/05 16:00</td>\n",
       "      <td>26/01/05</td>\n",
       "      <td>16.00</td>\n",
       "      <td>2</td>\n",
       "      <td>3.0</td>\n",
       "      <td>16.31</td>\n",
       "      <td>17.87</td>\n",
       "      <td>1.56</td>\n",
       "      <td>0.99</td>\n",
       "      <td>1.01</td>\n",
       "      <td>...</td>\n",
       "      <td>97</td>\n",
       "      <td>7.16</td>\n",
       "      <td>8.72</td>\n",
       "      <td>1.56</td>\n",
       "      <td>287</td>\n",
       "      <td>289</td>\n",
       "      <td>2</td>\n",
       "      <td>0.8</td>\n",
       "      <td>0.1</td>\n",
       "      <td>-0.7</td>\n",
       "    </tr>\n",
       "  </tbody>\n",
       "</table>\n",
       "<p>626 rows × 32 columns</p>\n",
       "</div>"
      ],
      "text/plain": [
       "               date date(m/d/y)   time  day  concentration  \\\n",
       "0    25/01/05 12:30    25/01/05  12.30    1            0.0   \n",
       "1    25/01/05 12:31    25/01/05  12.31    1            0.0   \n",
       "2    25/01/05 12:32    25/01/05  12.32    1            0.0   \n",
       "3    25/01/05 12:33    25/01/05  12.33    1            0.0   \n",
       "4    25/01/05 12:34    25/01/05  12.34    1            0.0   \n",
       "..              ...         ...    ...  ...            ...   \n",
       "621  26/01/05 15:56    26/01/05  15.56    2            3.0   \n",
       "622  26/01/05 15:57    26/01/05  15.57    2            3.0   \n",
       "623  26/01/05 15:58    26/01/05  15.58    2            3.0   \n",
       "624  26/01/05 15:59    26/01/05  15.59    2            3.0   \n",
       "625  26/01/05 16:00    26/01/05  16.00    2            3.0   \n",
       "\n",
       "     chloride_80ft(mg/L)  chloride_1100ft(mg/L)  difference_chloride  \\\n",
       "0                  16.33                  17.02                 0.69   \n",
       "1                  16.39                  17.12                 0.73   \n",
       "2                  16.39                  17.12                 0.73   \n",
       "3                  16.38                  17.11                 0.73   \n",
       "4                  16.39                  17.03                 0.64   \n",
       "..                   ...                    ...                  ...   \n",
       "621                16.37                  17.93                 1.56   \n",
       "622                16.38                  17.92                 1.54   \n",
       "623                16.37                  17.90                 1.53   \n",
       "624                16.35                  17.91                 1.56   \n",
       "625                16.31                  17.87                 1.56   \n",
       "\n",
       "     CL2_80ft(PPM)  CL2_1100ft(PPM)  ...  difference_ORP_YSI  pH_YSI_80ft  \\\n",
       "0             1.02             1.05  ...                  75         7.23   \n",
       "1             1.02             1.05  ...                  75         7.22   \n",
       "2             1.02             1.05  ...                  75         7.22   \n",
       "3             1.02             1.04  ...                  76         7.22   \n",
       "4             1.02             1.04  ...                  76         7.22   \n",
       "..             ...              ...  ...                 ...          ...   \n",
       "621           1.00             1.02  ...                  95         7.17   \n",
       "622           1.00             1.01  ...                  96         7.17   \n",
       "623           1.00             1.01  ...                  96         7.17   \n",
       "624           1.00             1.01  ...                  97         7.16   \n",
       "625           0.99             1.01  ...                  97         7.16   \n",
       "\n",
       "     pH_YSI_1100ft  difference_pH  sp_cond_YSI_80ft(µS/cm)  \\\n",
       "0             8.68           1.45                      281   \n",
       "1             8.67           1.45                      281   \n",
       "2             8.68           1.46                      281   \n",
       "3             8.68           1.46                      281   \n",
       "4             8.68           1.46                      281   \n",
       "..             ...            ...                      ...   \n",
       "621           8.72           1.55                      287   \n",
       "622           8.72           1.55                      287   \n",
       "623           8.71           1.54                      287   \n",
       "624           8.71           1.55                      287   \n",
       "625           8.72           1.56                      287   \n",
       "\n",
       "     sp_cond_YSI_1100ft(µS/cm)  difference_sp_cond_YSI  \\\n",
       "0                          284                       3   \n",
       "1                          283                       2   \n",
       "2                          283                       2   \n",
       "3                          283                       2   \n",
       "4                          284                       3   \n",
       "..                         ...                     ...   \n",
       "621                        289                       2   \n",
       "622                        289                       2   \n",
       "623                        289                       2   \n",
       "624                        289                       2   \n",
       "625                        289                       2   \n",
       "\n",
       "     turbidity_YSI_80ft(NTU+)  turbidity_YSI_1100ft(NTU+)  \\\n",
       "0                         0.5                         0.1   \n",
       "1                         0.8                         0.1   \n",
       "2                         0.8                         0.1   \n",
       "3                         0.8                         0.1   \n",
       "4                         0.7                         0.1   \n",
       "..                        ...                         ...   \n",
       "621                       0.8                         0.0   \n",
       "622                       0.9                         0.0   \n",
       "623                       0.8                         0.0   \n",
       "624                       0.9                         0.0   \n",
       "625                       0.8                         0.1   \n",
       "\n",
       "     difference_turbidity  \n",
       "0                    -0.4  \n",
       "1                    -0.7  \n",
       "2                    -0.7  \n",
       "3                    -0.7  \n",
       "4                    -0.6  \n",
       "..                    ...  \n",
       "621                  -0.8  \n",
       "622                  -0.9  \n",
       "623                  -0.8  \n",
       "624                  -0.9  \n",
       "625                  -0.7  \n",
       "\n",
       "[626 rows x 32 columns]"
      ]
     },
     "execution_count": 2,
     "metadata": {},
     "output_type": "execute_result"
    }
   ],
   "source": [
    "data = pd.read_csv(\"data/data_all.csv\", sep=\";\")\n",
    "\n",
    "data"
   ]
  },
  {
   "cell_type": "markdown",
   "metadata": {},
   "source": [
    "### Preprocesamiento"
   ]
  },
  {
   "cell_type": "code",
   "execution_count": 3,
   "metadata": {
    "scrolled": true
   },
   "outputs": [
    {
     "name": "stdout",
     "output_type": "stream",
     "text": [
      "Columna      Cantidad NaN\n",
      "date                           0\n",
      "date(m/d/y)                    0\n",
      "time                           0\n",
      "day                            0\n",
      "concentration                  0\n",
      "chloride_80ft(mg/L)            0\n",
      "chloride_1100ft(mg/L)          0\n",
      "difference_chloride            0\n",
      "CL2_80ft(PPM)                  0\n",
      "CL2_1100ft(PPM)                0\n",
      "difference_CL2                 0\n",
      "DO_YSI_80ft(mg/L)              0\n",
      "DO_YSI_1100ft(mg/L)            0\n",
      "difference_DO_YSI              0\n",
      "FreeClorine_ATI_80ft(PPM)      0\n",
      "FreeClorine_ATI_1100ft(PPM)    0\n",
      "difference_FreeClorine_ATI     0\n",
      "FreeClorine_X_80ft(PPM)        0\n",
      "FreeClorine_X_1100ft(PPM)      0\n",
      "difference_FreeClorine_X       0\n",
      "ORP_YSI_80ft(mV)               0\n",
      "ORP_YSI_1100ft(mV)             0\n",
      "difference_ORP_YSI             0\n",
      "pH_YSI_80ft                    0\n",
      "pH_YSI_1100ft                  0\n",
      "difference_pH                  0\n",
      "sp_cond_YSI_80ft(µS/cm)        0\n",
      "sp_cond_YSI_1100ft(µS/cm)      0\n",
      "difference_sp_cond_YSI         0\n",
      "turbidity_YSI_80ft(NTU+)       0\n",
      "turbidity_YSI_1100ft(NTU+)     0\n",
      "difference_turbidity           0\n",
      "dtype: int64\n",
      "(626, 32)\n"
     ]
    }
   ],
   "source": [
    "# Se buscan registros NaN para eliminarlos\n",
    "print('Columna      Cantidad NaN')\n",
    "print(data.isnull().sum(axis = 0))\n",
    "print(data.shape)"
   ]
  },
  {
   "cell_type": "code",
   "execution_count": 4,
   "metadata": {},
   "outputs": [],
   "source": [
    "# Se eliminan los registros NaN del DataFrame\n",
    "#data = data.dropna()"
   ]
  },
  {
   "cell_type": "code",
   "execution_count": 5,
   "metadata": {},
   "outputs": [
    {
     "data": {
      "text/html": [
       "<div>\n",
       "<style scoped>\n",
       "    .dataframe tbody tr th:only-of-type {\n",
       "        vertical-align: middle;\n",
       "    }\n",
       "\n",
       "    .dataframe tbody tr th {\n",
       "        vertical-align: top;\n",
       "    }\n",
       "\n",
       "    .dataframe thead th {\n",
       "        text-align: right;\n",
       "    }\n",
       "</style>\n",
       "<table border=\"1\" class=\"dataframe\">\n",
       "  <thead>\n",
       "    <tr style=\"text-align: right;\">\n",
       "      <th></th>\n",
       "      <th>time</th>\n",
       "      <th>day</th>\n",
       "      <th>concentration</th>\n",
       "      <th>chloride_80ft(mg/L)</th>\n",
       "      <th>chloride_1100ft(mg/L)</th>\n",
       "      <th>difference_chloride</th>\n",
       "      <th>CL2_80ft(PPM)</th>\n",
       "      <th>CL2_1100ft(PPM)</th>\n",
       "      <th>difference_CL2</th>\n",
       "      <th>DO_YSI_80ft(mg/L)</th>\n",
       "      <th>...</th>\n",
       "      <th>difference_ORP_YSI</th>\n",
       "      <th>pH_YSI_80ft</th>\n",
       "      <th>pH_YSI_1100ft</th>\n",
       "      <th>difference_pH</th>\n",
       "      <th>sp_cond_YSI_80ft(µS/cm)</th>\n",
       "      <th>sp_cond_YSI_1100ft(µS/cm)</th>\n",
       "      <th>difference_sp_cond_YSI</th>\n",
       "      <th>turbidity_YSI_80ft(NTU+)</th>\n",
       "      <th>turbidity_YSI_1100ft(NTU+)</th>\n",
       "      <th>difference_turbidity</th>\n",
       "    </tr>\n",
       "  </thead>\n",
       "  <tbody>\n",
       "    <tr>\n",
       "      <th>count</th>\n",
       "      <td>626.000000</td>\n",
       "      <td>626.000000</td>\n",
       "      <td>626.000000</td>\n",
       "      <td>626.000000</td>\n",
       "      <td>626.000000</td>\n",
       "      <td>626.000000</td>\n",
       "      <td>626.000000</td>\n",
       "      <td>626.000000</td>\n",
       "      <td>626.000000</td>\n",
       "      <td>626.000000</td>\n",
       "      <td>...</td>\n",
       "      <td>626.000000</td>\n",
       "      <td>626.000000</td>\n",
       "      <td>626.000000</td>\n",
       "      <td>626.000000</td>\n",
       "      <td>626.000000</td>\n",
       "      <td>626.000000</td>\n",
       "      <td>626.000000</td>\n",
       "      <td>626.000000</td>\n",
       "      <td>626.000000</td>\n",
       "      <td>626.000000</td>\n",
       "    </tr>\n",
       "    <tr>\n",
       "      <th>mean</th>\n",
       "      <td>13.869968</td>\n",
       "      <td>1.504792</td>\n",
       "      <td>1.161981</td>\n",
       "      <td>16.382061</td>\n",
       "      <td>17.323882</td>\n",
       "      <td>0.941821</td>\n",
       "      <td>0.932812</td>\n",
       "      <td>0.953690</td>\n",
       "      <td>0.020911</td>\n",
       "      <td>14.553035</td>\n",
       "      <td>...</td>\n",
       "      <td>103.948882</td>\n",
       "      <td>7.156677</td>\n",
       "      <td>8.652077</td>\n",
       "      <td>1.495399</td>\n",
       "      <td>283.683706</td>\n",
       "      <td>286.035144</td>\n",
       "      <td>2.351438</td>\n",
       "      <td>0.745367</td>\n",
       "      <td>0.068371</td>\n",
       "      <td>-0.676997</td>\n",
       "    </tr>\n",
       "    <tr>\n",
       "      <th>std</th>\n",
       "      <td>1.857436</td>\n",
       "      <td>0.500377</td>\n",
       "      <td>1.164567</td>\n",
       "      <td>0.285729</td>\n",
       "      <td>0.511636</td>\n",
       "      <td>0.600773</td>\n",
       "      <td>0.155687</td>\n",
       "      <td>0.158904</td>\n",
       "      <td>0.234459</td>\n",
       "      <td>0.145409</td>\n",
       "      <td>...</td>\n",
       "      <td>32.323375</td>\n",
       "      <td>0.050923</td>\n",
       "      <td>0.091153</td>\n",
       "      <td>0.110395</td>\n",
       "      <td>2.617900</td>\n",
       "      <td>2.224671</td>\n",
       "      <td>0.625695</td>\n",
       "      <td>0.167960</td>\n",
       "      <td>0.101617</td>\n",
       "      <td>0.192369</td>\n",
       "    </tr>\n",
       "    <tr>\n",
       "      <th>min</th>\n",
       "      <td>10.050000</td>\n",
       "      <td>1.000000</td>\n",
       "      <td>0.000000</td>\n",
       "      <td>15.620000</td>\n",
       "      <td>16.550000</td>\n",
       "      <td>-0.360000</td>\n",
       "      <td>0.470000</td>\n",
       "      <td>0.490000</td>\n",
       "      <td>-0.510000</td>\n",
       "      <td>14.130000</td>\n",
       "      <td>...</td>\n",
       "      <td>56.000000</td>\n",
       "      <td>6.980000</td>\n",
       "      <td>8.240000</td>\n",
       "      <td>1.060000</td>\n",
       "      <td>281.000000</td>\n",
       "      <td>283.000000</td>\n",
       "      <td>1.000000</td>\n",
       "      <td>0.000000</td>\n",
       "      <td>-0.100000</td>\n",
       "      <td>-2.500000</td>\n",
       "    </tr>\n",
       "    <tr>\n",
       "      <th>25%</th>\n",
       "      <td>12.562500</td>\n",
       "      <td>1.000000</td>\n",
       "      <td>0.000000</td>\n",
       "      <td>16.290000</td>\n",
       "      <td>16.880000</td>\n",
       "      <td>0.460000</td>\n",
       "      <td>0.982500</td>\n",
       "      <td>1.000000</td>\n",
       "      <td>0.000000</td>\n",
       "      <td>14.530000</td>\n",
       "      <td>...</td>\n",
       "      <td>79.000000</td>\n",
       "      <td>7.140000</td>\n",
       "      <td>8.650000</td>\n",
       "      <td>1.470000</td>\n",
       "      <td>281.000000</td>\n",
       "      <td>284.000000</td>\n",
       "      <td>2.000000</td>\n",
       "      <td>0.700000</td>\n",
       "      <td>0.000000</td>\n",
       "      <td>-0.800000</td>\n",
       "    </tr>\n",
       "    <tr>\n",
       "      <th>50%</th>\n",
       "      <td>14.120000</td>\n",
       "      <td>2.000000</td>\n",
       "      <td>0.400000</td>\n",
       "      <td>16.390000</td>\n",
       "      <td>17.105000</td>\n",
       "      <td>0.870000</td>\n",
       "      <td>1.000000</td>\n",
       "      <td>1.020000</td>\n",
       "      <td>0.020000</td>\n",
       "      <td>14.610000</td>\n",
       "      <td>...</td>\n",
       "      <td>100.000000</td>\n",
       "      <td>7.150000</td>\n",
       "      <td>8.670000</td>\n",
       "      <td>1.490000</td>\n",
       "      <td>285.000000</td>\n",
       "      <td>287.000000</td>\n",
       "      <td>2.000000</td>\n",
       "      <td>0.800000</td>\n",
       "      <td>0.000000</td>\n",
       "      <td>-0.700000</td>\n",
       "    </tr>\n",
       "    <tr>\n",
       "      <th>75%</th>\n",
       "      <td>15.287500</td>\n",
       "      <td>2.000000</td>\n",
       "      <td>1.500000</td>\n",
       "      <td>16.470000</td>\n",
       "      <td>17.880000</td>\n",
       "      <td>1.590000</td>\n",
       "      <td>1.010000</td>\n",
       "      <td>1.040000</td>\n",
       "      <td>0.030000</td>\n",
       "      <td>14.640000</td>\n",
       "      <td>...</td>\n",
       "      <td>114.000000</td>\n",
       "      <td>7.190000</td>\n",
       "      <td>8.700000</td>\n",
       "      <td>1.560000</td>\n",
       "      <td>286.000000</td>\n",
       "      <td>288.000000</td>\n",
       "      <td>3.000000</td>\n",
       "      <td>0.800000</td>\n",
       "      <td>0.100000</td>\n",
       "      <td>-0.600000</td>\n",
       "    </tr>\n",
       "    <tr>\n",
       "      <th>max</th>\n",
       "      <td>17.300000</td>\n",
       "      <td>2.000000</td>\n",
       "      <td>3.000000</td>\n",
       "      <td>17.120000</td>\n",
       "      <td>18.350000</td>\n",
       "      <td>1.930000</td>\n",
       "      <td>1.030000</td>\n",
       "      <td>1.050000</td>\n",
       "      <td>0.560000</td>\n",
       "      <td>14.740000</td>\n",
       "      <td>...</td>\n",
       "      <td>251.000000</td>\n",
       "      <td>7.230000</td>\n",
       "      <td>8.730000</td>\n",
       "      <td>1.750000</td>\n",
       "      <td>287.000000</td>\n",
       "      <td>289.000000</td>\n",
       "      <td>3.000000</td>\n",
       "      <td>2.600000</td>\n",
       "      <td>0.500000</td>\n",
       "      <td>0.100000</td>\n",
       "    </tr>\n",
       "  </tbody>\n",
       "</table>\n",
       "<p>8 rows × 30 columns</p>\n",
       "</div>"
      ],
      "text/plain": [
       "             time         day  concentration  chloride_80ft(mg/L)  \\\n",
       "count  626.000000  626.000000     626.000000           626.000000   \n",
       "mean    13.869968    1.504792       1.161981            16.382061   \n",
       "std      1.857436    0.500377       1.164567             0.285729   \n",
       "min     10.050000    1.000000       0.000000            15.620000   \n",
       "25%     12.562500    1.000000       0.000000            16.290000   \n",
       "50%     14.120000    2.000000       0.400000            16.390000   \n",
       "75%     15.287500    2.000000       1.500000            16.470000   \n",
       "max     17.300000    2.000000       3.000000            17.120000   \n",
       "\n",
       "       chloride_1100ft(mg/L)  difference_chloride  CL2_80ft(PPM)  \\\n",
       "count             626.000000           626.000000     626.000000   \n",
       "mean               17.323882             0.941821       0.932812   \n",
       "std                 0.511636             0.600773       0.155687   \n",
       "min                16.550000            -0.360000       0.470000   \n",
       "25%                16.880000             0.460000       0.982500   \n",
       "50%                17.105000             0.870000       1.000000   \n",
       "75%                17.880000             1.590000       1.010000   \n",
       "max                18.350000             1.930000       1.030000   \n",
       "\n",
       "       CL2_1100ft(PPM)  difference_CL2  DO_YSI_80ft(mg/L)  ...  \\\n",
       "count       626.000000      626.000000         626.000000  ...   \n",
       "mean          0.953690        0.020911          14.553035  ...   \n",
       "std           0.158904        0.234459           0.145409  ...   \n",
       "min           0.490000       -0.510000          14.130000  ...   \n",
       "25%           1.000000        0.000000          14.530000  ...   \n",
       "50%           1.020000        0.020000          14.610000  ...   \n",
       "75%           1.040000        0.030000          14.640000  ...   \n",
       "max           1.050000        0.560000          14.740000  ...   \n",
       "\n",
       "       difference_ORP_YSI  pH_YSI_80ft  pH_YSI_1100ft  difference_pH  \\\n",
       "count          626.000000   626.000000     626.000000     626.000000   \n",
       "mean           103.948882     7.156677       8.652077       1.495399   \n",
       "std             32.323375     0.050923       0.091153       0.110395   \n",
       "min             56.000000     6.980000       8.240000       1.060000   \n",
       "25%             79.000000     7.140000       8.650000       1.470000   \n",
       "50%            100.000000     7.150000       8.670000       1.490000   \n",
       "75%            114.000000     7.190000       8.700000       1.560000   \n",
       "max            251.000000     7.230000       8.730000       1.750000   \n",
       "\n",
       "       sp_cond_YSI_80ft(µS/cm)  sp_cond_YSI_1100ft(µS/cm)  \\\n",
       "count               626.000000                 626.000000   \n",
       "mean                283.683706                 286.035144   \n",
       "std                   2.617900                   2.224671   \n",
       "min                 281.000000                 283.000000   \n",
       "25%                 281.000000                 284.000000   \n",
       "50%                 285.000000                 287.000000   \n",
       "75%                 286.000000                 288.000000   \n",
       "max                 287.000000                 289.000000   \n",
       "\n",
       "       difference_sp_cond_YSI  turbidity_YSI_80ft(NTU+)  \\\n",
       "count              626.000000                626.000000   \n",
       "mean                 2.351438                  0.745367   \n",
       "std                  0.625695                  0.167960   \n",
       "min                  1.000000                  0.000000   \n",
       "25%                  2.000000                  0.700000   \n",
       "50%                  2.000000                  0.800000   \n",
       "75%                  3.000000                  0.800000   \n",
       "max                  3.000000                  2.600000   \n",
       "\n",
       "       turbidity_YSI_1100ft(NTU+)  difference_turbidity  \n",
       "count                  626.000000            626.000000  \n",
       "mean                     0.068371             -0.676997  \n",
       "std                      0.101617              0.192369  \n",
       "min                     -0.100000             -2.500000  \n",
       "25%                      0.000000             -0.800000  \n",
       "50%                      0.000000             -0.700000  \n",
       "75%                      0.100000             -0.600000  \n",
       "max                      0.500000              0.100000  \n",
       "\n",
       "[8 rows x 30 columns]"
      ]
     },
     "execution_count": 5,
     "metadata": {},
     "output_type": "execute_result"
    }
   ],
   "source": [
    "# Se genera las estadísticas del DataFrame\n",
    "data.describe()"
   ]
  },
  {
   "cell_type": "markdown",
   "metadata": {},
   "source": [
    "### -------------------------------------------------------------------------------\n",
    "\n",
    "## Correlaciones"
   ]
  },
  {
   "attachments": {},
   "cell_type": "markdown",
   "metadata": {},
   "source": [
    "### -------------------------------------------------------------------------------\n",
    "\n",
    "### Para Tiempo VS cada parámetro (Diferentes concentraciones)"
   ]
  },
  {
   "cell_type": "code",
   "execution_count": 6,
   "metadata": {},
   "outputs": [],
   "source": [
    "# Se selecciona la concentración\n",
    "data1 = data[data['concentration'] == 3.0]"
   ]
  },
  {
   "attachments": {},
   "cell_type": "markdown",
   "metadata": {},
   "source": [
    "### -------------------------------------------------------------------------------\n",
    "\n",
    "### Chloride"
   ]
  },
  {
   "cell_type": "code",
   "execution_count": 7,
   "metadata": {},
   "outputs": [
    {
     "data": {
      "text/plain": [
       "Text(0, 0.5, 'Chloride(mg/L)')"
      ]
     },
     "execution_count": 7,
     "metadata": {},
     "output_type": "execute_result"
    },
    {
     "data": {
      "image/png": "[encoded data removed]",
      "text/plain": [
       "<Figure size 720x576 with 1 Axes>"
      ]
     },
     "metadata": {
      "needs_background": "light"
     },
     "output_type": "display_data"
    }
   ],
   "source": [
    "# Gráfico de Dispersión\n",
    "fig, ax = plt.subplots(1, 1, figsize=(10,8))\n",
    "# Azul\n",
    "ax.scatter(x= data1['time'], y= data1['chloride_80ft(mg/L)'], alpha= 0.8)\n",
    "# Naranja\n",
    "ax.scatter(x= data1['time'], y= data1['chloride_1100ft(mg/L)'], alpha= 0.8)\n",
    "ax.set_xlabel('Time')\n",
    "ax.set_ylabel('Chloride(mg/L)')"
   ]
  },
  {
   "cell_type": "code",
   "execution_count": 8,
   "metadata": {},
   "outputs": [
    {
     "name": "stdout",
     "output_type": "stream",
     "text": [
      "*** Time VS Chloride 80ft (mg/L) ***\n",
      "Correlación Pearson:  -0.18890319020697494\n",
      "Correlación Spearman:  -0.2247484790298042\n",
      "Correlación Kendall:  -0.20183677617407855\n",
      "-------------------------------------------\n",
      "*** Time VS Chloride 1100 ft (mg/L) *** \n",
      "Correlación Pearson:  -0.8488410488176542\n",
      "Correlación Spearman:  -0.6831672722279637\n",
      "Correlación Kendall:  -0.44921620928032213\n",
      "-------------------------------------------\n"
     ]
    }
   ],
   "source": [
    "# Cálculo de correlaciones \n",
    "\n",
    "# Parametro 80ft\n",
    "print(\"*** Time VS Chloride 80ft (mg/L) ***\")\n",
    "print('Correlación Pearson: ', data1['time'].corr(data1['chloride_80ft(mg/L)'], method='pearson'))\n",
    "print('Correlación Spearman: ', data1['time'].corr(data1['chloride_80ft(mg/L)'], method='spearman'))\n",
    "print('Correlación Kendall: ', data1['time'].corr(data1['chloride_80ft(mg/L)'], method='kendall'))\n",
    "print(\"-------------------------------------------\")\n",
    "\n",
    "# Parametro 1100ft  \n",
    "print(\"*** Time VS Chloride 1100 ft (mg/L) *** \")\n",
    "print('Correlación Pearson: ', data1['time'].corr(data1['chloride_1100ft(mg/L)'], method='pearson'))\n",
    "print('Correlación Spearman: ', data1['time'].corr(data1['chloride_1100ft(mg/L)'], method='spearman'))\n",
    "print('Correlación Kendall: ', data1['time'].corr(data1['chloride_1100ft(mg/L)'], method='kendall'))\n",
    "print(\"-------------------------------------------\")\n"
   ]
  },
  {
   "attachments": {},
   "cell_type": "markdown",
   "metadata": {},
   "source": [
    "### -------------------------------------------------------------------------------\n",
    "\n",
    "### CL2"
   ]
  },
  {
   "cell_type": "code",
   "execution_count": 9,
   "metadata": {},
   "outputs": [
    {
     "data": {
      "text/plain": [
       "Text(0, 0.5, 'CL2 (PPM)')"
      ]
     },
     "execution_count": 9,
     "metadata": {},
     "output_type": "execute_result"
    },
    {
     "data": {
      "image/png": "[encoded data removed]",
      "text/plain": [
       "<Figure size 720x576 with 1 Axes>"
      ]
     },
     "metadata": {
      "needs_background": "light"
     },
     "output_type": "display_data"
    }
   ],
   "source": [
    "# Gráfico de Dispersión\n",
    "fig, ax = plt.subplots(1, 1, figsize=(10,8))\n",
    "# Azul\n",
    "ax.scatter(x= data1['time'], y= data1['CL2_80ft(PPM)'], alpha= 0.8)\n",
    "# Naranja\n",
    "ax.scatter(x= data1['time'], y= data1['CL2_1100ft(PPM)'], alpha= 0.8)\n",
    "ax.set_xlabel('Time')\n",
    "ax.set_ylabel('CL2 (PPM)')"
   ]
  },
  {
   "cell_type": "code",
   "execution_count": 10,
   "metadata": {},
   "outputs": [
    {
     "name": "stdout",
     "output_type": "stream",
     "text": [
      "*** Time VS CL2 80ft (PPM) ***\n",
      "Correlación Pearson:  0.2574532279208703\n",
      "Correlación Spearman:  0.5179593509404723\n",
      "Correlación Kendall:  0.3916832986955545\n",
      "-------------------------------------------\n",
      "*** Time VS CL2 1100ft (PPM) *** \n",
      "Correlación Pearson:  -0.018906252868903458\n",
      "Correlación Spearman:  0.08301476004356241\n",
      "Correlación Kendall:  0.08816756947853589\n",
      "-------------------------------------------\n"
     ]
    }
   ],
   "source": [
    "# Cálculo de correlaciones \n",
    "\n",
    "# Parametro 80ft\n",
    "print(\"*** Time VS CL2 80ft (PPM) ***\")\n",
    "print('Correlación Pearson: ', data1['time'].corr(data1['CL2_80ft(PPM)'], method='pearson'))\n",
    "print('Correlación Spearman: ', data1['time'].corr(data1['CL2_80ft(PPM)'], method='spearman'))\n",
    "print('Correlación Kendall: ', data1['time'].corr(data1['CL2_80ft(PPM)'], method='kendall'))\n",
    "print(\"-------------------------------------------\")\n",
    "\n",
    "# Parametro 1100ft \n",
    "print(\"*** Time VS CL2 1100ft (PPM) *** \")\n",
    "print('Correlación Pearson: ', data1['time'].corr(data1['CL2_1100ft(PPM)'], method='pearson'))\n",
    "print('Correlación Spearman: ', data1['time'].corr(data1['CL2_1100ft(PPM)'], method='spearman'))\n",
    "print('Correlación Kendall: ', data1['time'].corr(data1['CL2_1100ft(PPM)'], method='kendall'))\n",
    "print(\"-------------------------------------------\")\n"
   ]
  },
  {
   "attachments": {},
   "cell_type": "markdown",
   "metadata": {},
   "source": [
    "### -------------------------------------------------------------------------------\n",
    "\n",
    "### DO YSI"
   ]
  },
  {
   "cell_type": "code",
   "execution_count": 11,
   "metadata": {},
   "outputs": [
    {
     "data": {
      "text/plain": [
       "Text(0, 0.5, 'CL2 (PPM)')"
      ]
     },
     "execution_count": 11,
     "metadata": {},
     "output_type": "execute_result"
    },
    {
     "data": {
      "image/png": "[encoded data removed]",
      "text/plain": [
       "<Figure size 720x576 with 1 Axes>"
      ]
     },
     "metadata": {
      "needs_background": "light"
     },
     "output_type": "display_data"
    }
   ],
   "source": [
    "# Gráfico de Dispersión\n",
    "fig, ax = plt.subplots(1, 1, figsize=(10,8))\n",
    "# Azul\n",
    "ax.scatter(x= data1['time'], y= data1['DO_YSI_80ft(mg/L)'], alpha= 0.8)\n",
    "# Naranja\n",
    "ax.scatter(x= data1['time'], y= data1['DO_YSI_1100ft(mg/L)'], alpha= 0.8)\n",
    "ax.set_xlabel('Time')\n",
    "ax.set_ylabel('CL2 (PPM)')"
   ]
  },
  {
   "cell_type": "code",
   "execution_count": 12,
   "metadata": {},
   "outputs": [
    {
     "name": "stdout",
     "output_type": "stream",
     "text": [
      "*** Time VS DO_YSI 80ft (mg/L)  ***\n",
      "Correlación Pearson:  -0.37921919385005304\n",
      "Correlación Spearman:  -0.4167036259472031\n",
      "Correlación Kendall:  -0.2938386650857342\n",
      "-------------------------------------------\n",
      "*** Time VS DO_YSI 1100ft (mg/L) *** \n",
      "Correlación Pearson:  0.14067887490187647\n",
      "Correlación Spearman:  0.11890413641452477\n",
      "Correlación Kendall:  0.0871936537178695\n",
      "-------------------------------------------\n"
     ]
    }
   ],
   "source": [
    "# Cálculo de correlaciones \n",
    "\n",
    "# Parametro 80ft\n",
    "print(\"*** Time VS DO_YSI 80ft (mg/L)  ***\")\n",
    "print('Correlación Pearson: ', data1['time'].corr(data1['DO_YSI_80ft(mg/L)'], method='pearson'))\n",
    "print('Correlación Spearman: ', data1['time'].corr(data1['DO_YSI_80ft(mg/L)'], method='spearman'))\n",
    "print('Correlación Kendall: ', data1['time'].corr(data1['DO_YSI_80ft(mg/L)'], method='kendall'))\n",
    "print(\"-------------------------------------------\")\n",
    "\n",
    "# Parametro 1100ft \n",
    "print(\"*** Time VS DO_YSI 1100ft (mg/L) *** \")\n",
    "print('Correlación Pearson: ', data1['time'].corr(data1['DO_YSI_1100ft(mg/L)'], method='pearson'))\n",
    "print('Correlación Spearman: ', data1['time'].corr(data1['DO_YSI_1100ft(mg/L)'], method='spearman'))\n",
    "print('Correlación Kendall: ', data1['time'].corr(data1['DO_YSI_1100ft(mg/L)'], method='kendall'))\n",
    "print(\"-------------------------------------------\")"
   ]
  },
  {
   "attachments": {},
   "cell_type": "markdown",
   "metadata": {},
   "source": [
    "### -------------------------------------------------------------------------------\n",
    "\n",
    "### FreeClorine ATI"
   ]
  },
  {
   "cell_type": "code",
   "execution_count": 13,
   "metadata": {},
   "outputs": [
    {
     "data": {
      "text/plain": [
       "Text(0, 0.5, 'FreeClorine_ATI (PPM)')"
      ]
     },
     "execution_count": 13,
     "metadata": {},
     "output_type": "execute_result"
    },
    {
     "data": {
      "image/png": "[encoded data removed]",
      "text/plain": [
       "<Figure size 720x576 with 1 Axes>"
      ]
     },
     "metadata": {
      "needs_background": "light"
     },
     "output_type": "display_data"
    }
   ],
   "source": [
    "# Gráfico de Dispersión\n",
    "fig, ax = plt.subplots(1, 1, figsize=(10,8))\n",
    "# Azul\n",
    "ax.scatter(x= data1['time'], y= data1['FreeClorine_ATI_80ft(PPM)'], alpha= 0.8)\n",
    "# Naranja\n",
    "ax.scatter(x= data1['time'], y= data1['FreeClorine_ATI_1100ft(PPM)'], alpha= 0.8)\n",
    "ax.set_xlabel('Time')\n",
    "ax.set_ylabel('FreeClorine_ATI (PPM)')"
   ]
  },
  {
   "cell_type": "code",
   "execution_count": 14,
   "metadata": {},
   "outputs": [
    {
     "name": "stdout",
     "output_type": "stream",
     "text": [
      "*** Time VS FreeClorine_ATI 80ft (PPM) ***\n",
      "Correlación Pearson:  0.2702646422438517\n",
      "Correlación Spearman:  0.44624389737203635\n",
      "Correlación Kendall:  0.35267502973194087\n",
      "-------------------------------------------\n",
      "*** Time VS FreeClorine_ATI 1100ft (PPM)  *** \n",
      "Correlación Pearson:  -0.019125945013176635\n",
      "Correlación Spearman:  -0.3289763772806432\n",
      "Correlación Kendall:  -0.2186525851854724\n",
      "-------------------------------------------\n"
     ]
    }
   ],
   "source": [
    "# Cálculo de correlaciones \n",
    "\n",
    "# Parametro 80ft\n",
    "print(\"*** Time VS FreeClorine_ATI 80ft (PPM) ***\")\n",
    "print('Correlación Pearson: ', data1['time'].corr(data1['FreeClorine_ATI_80ft(PPM)'], method='pearson'))\n",
    "print('Correlación Spearman: ', data1['time'].corr(data1['FreeClorine_ATI_80ft(PPM)'], method='spearman'))\n",
    "print('Correlación Kendall: ', data1['time'].corr(data1['FreeClorine_ATI_80ft(PPM)'], method='kendall'))\n",
    "print(\"-------------------------------------------\")\n",
    "\n",
    "# Parametro 1100ft \n",
    "print(\"*** Time VS FreeClorine_ATI 1100ft (PPM)  *** \")\n",
    "print('Correlación Pearson: ', data1['time'].corr(data1['FreeClorine_ATI_1100ft(PPM)'], method='pearson'))\n",
    "print('Correlación Spearman: ', data1['time'].corr(data1['FreeClorine_ATI_1100ft(PPM)'], method='spearman'))\n",
    "print('Correlación Kendall: ', data1['time'].corr(data1['FreeClorine_ATI_1100ft(PPM)'], method='kendall'))\n",
    "print(\"-------------------------------------------\")"
   ]
  },
  {
   "attachments": {},
   "cell_type": "markdown",
   "metadata": {},
   "source": [
    "### -------------------------------------------------------------------------------\n",
    "\n",
    "### FreeClorine X"
   ]
  },
  {
   "cell_type": "code",
   "execution_count": 15,
   "metadata": {},
   "outputs": [
    {
     "data": {
      "text/plain": [
       "Text(0, 0.5, 'FreeClorine_X (PPM)')"
      ]
     },
     "execution_count": 15,
     "metadata": {},
     "output_type": "execute_result"
    },
    {
     "data": {
      "image/png": "[encoded data removed]",
      "text/plain": [
       "<Figure size 720x576 with 1 Axes>"
      ]
     },
     "metadata": {
      "needs_background": "light"
     },
     "output_type": "display_data"
    }
   ],
   "source": [
    "# Gráfico de Dispersión\n",
    "fig, ax = plt.subplots(1, 1, figsize=(10,8))\n",
    "# Azul\n",
    "ax.scatter(x= data1['time'], y= data1['FreeClorine_X_80ft(PPM)'], alpha= 0.8)\n",
    "# Naranja\n",
    "ax.scatter(x= data1['time'], y= data1['FreeClorine_X_1100ft(PPM)'], alpha= 0.8)\n",
    "ax.set_xlabel('Time')\n",
    "ax.set_ylabel('FreeClorine_X (PPM)')"
   ]
  },
  {
   "cell_type": "code",
   "execution_count": 16,
   "metadata": {},
   "outputs": [
    {
     "name": "stdout",
     "output_type": "stream",
     "text": [
      "*** Time VS FreeClorine X 80ft (PPM)  ***\n",
      "Correlación Pearson:  0.19855476024226618\n",
      "Correlación Spearman:  0.36800486703825214\n",
      "Correlación Kendall:  0.2806932915519241\n",
      "-------------------------------------------\n",
      "*** Time VS FreeClorine X 1100ft (PPM) *** \n",
      "Correlación Pearson:  -0.02262304174027251\n",
      "Correlación Spearman:  -0.37024409803258596\n",
      "Correlación Kendall:  -0.25591906928023983\n",
      "-------------------------------------------\n"
     ]
    }
   ],
   "source": [
    "# Cálculo de correlaciones \n",
    "\n",
    "# Parametro 80ft\n",
    "print(\"*** Time VS FreeClorine X 80ft (PPM)  ***\")\n",
    "print('Correlación Pearson: ', data1['time'].corr(data1['FreeClorine_X_80ft(PPM)'], method='pearson'))\n",
    "print('Correlación Spearman: ', data1['time'].corr(data1['FreeClorine_X_80ft(PPM)'], method='spearman'))\n",
    "print('Correlación Kendall: ', data1['time'].corr(data1['FreeClorine_X_80ft(PPM)'], method='kendall'))\n",
    "print(\"-------------------------------------------\")\n",
    "\n",
    "# Parametro 1100ft \n",
    "print(\"*** Time VS FreeClorine X 1100ft (PPM) *** \")\n",
    "print('Correlación Pearson: ', data1['time'].corr(data1['FreeClorine_X_1100ft(PPM)'], method='pearson'))\n",
    "print('Correlación Spearman: ', data1['time'].corr(data1['FreeClorine_X_1100ft(PPM)'], method='spearman'))\n",
    "print('Correlación Kendall: ', data1['time'].corr(data1['FreeClorine_X_1100ft(PPM)'], method='kendall'))\n",
    "print(\"-------------------------------------------\")"
   ]
  },
  {
   "attachments": {},
   "cell_type": "markdown",
   "metadata": {},
   "source": [
    "### -------------------------------------------------------------------------------\n",
    "\n",
    "### ORP YSI"
   ]
  },
  {
   "cell_type": "code",
   "execution_count": 17,
   "metadata": {},
   "outputs": [
    {
     "data": {
      "text/plain": [
       "Text(0, 0.5, 'ORP_YSI (mV)')"
      ]
     },
     "execution_count": 17,
     "metadata": {},
     "output_type": "execute_result"
    },
    {
     "data": {
      "image/png": "[encoded data removed]",
      "text/plain": [
       "<Figure size 720x576 with 1 Axes>"
      ]
     },
     "metadata": {
      "needs_background": "light"
     },
     "output_type": "display_data"
    }
   ],
   "source": [
    "# Gráfico de Dispersión\n",
    "fig, ax = plt.subplots(1, 1, figsize=(10,8))\n",
    "# Azul\n",
    "ax.scatter(x= data1['time'], y= data1['ORP_YSI_80ft(mV)'], alpha= 0.8)\n",
    "# Naranja\n",
    "ax.scatter(x= data1['time'], y= data1['ORP_YSI_1100ft(mV)'], alpha= 0.8)\n",
    "ax.set_xlabel('Time')\n",
    "ax.set_ylabel('ORP_YSI (mV)')"
   ]
  },
  {
   "cell_type": "code",
   "execution_count": 18,
   "metadata": {},
   "outputs": [
    {
     "name": "stdout",
     "output_type": "stream",
     "text": [
      "*** Time VS ORP_YSI 80ft (mV) VS  ***\n",
      "Correlación Pearson:  0.6016227407113907\n",
      "Correlación Spearman:  0.6286175375470687\n",
      "Correlación Kendall:  0.4862674608365746\n",
      "-------------------------------------------\n",
      "*** Time VS ORP_YSI 1100ft (mV)  *** \n",
      "Correlación Pearson:  -0.11286538205170595\n",
      "Correlación Spearman:  -0.039128531526816224\n",
      "Correlación Kendall:  0.033395950874831534\n",
      "-------------------------------------------\n"
     ]
    }
   ],
   "source": [
    "# Cálculo de correlaciones \n",
    "\n",
    "# Parametro 80ft\n",
    "print(\"*** Time VS ORP_YSI 80ft (mV) VS  ***\")\n",
    "print('Correlación Pearson: ', data1['time'].corr(data1['ORP_YSI_80ft(mV)'], method='pearson'))\n",
    "print('Correlación Spearman: ', data1['time'].corr(data1['ORP_YSI_80ft(mV)'], method='spearman'))\n",
    "print('Correlación Kendall: ', data1['time'].corr(data1['ORP_YSI_80ft(mV)'], method='kendall'))\n",
    "print(\"-------------------------------------------\")\n",
    "\n",
    "# Parametro 1100ft \n",
    "print(\"*** Time VS ORP_YSI 1100ft (mV)  *** \")\n",
    "print('Correlación Pearson: ', data1['time'].corr(data1['ORP_YSI_1100ft(mV)'], method='pearson'))\n",
    "print('Correlación Spearman: ', data1['time'].corr(data1['ORP_YSI_1100ft(mV)'], method='spearman'))\n",
    "print('Correlación Kendall: ', data1['time'].corr(data1['ORP_YSI_1100ft(mV)'], method='kendall'))\n",
    "print(\"-------------------------------------------\")"
   ]
  },
  {
   "attachments": {},
   "cell_type": "markdown",
   "metadata": {},
   "source": [
    "### -------------------------------------------------------------------------------\n",
    "\n",
    "### pH YSI"
   ]
  },
  {
   "cell_type": "code",
   "execution_count": 19,
   "metadata": {},
   "outputs": [
    {
     "data": {
      "text/plain": [
       "Text(0, 0.5, 'pH_YSI')"
      ]
     },
     "execution_count": 19,
     "metadata": {},
     "output_type": "execute_result"
    },
    {
     "data": {
      "image/png": "[encoded data removed]",
      "text/plain": [
       "<Figure size 720x576 with 1 Axes>"
      ]
     },
     "metadata": {
      "needs_background": "light"
     },
     "output_type": "display_data"
    }
   ],
   "source": [
    "# Gráfico de Dispersión\n",
    "fig, ax = plt.subplots(1, 1, figsize=(10,8))\n",
    "# Azul\n",
    "ax.scatter(x= data1['time'], y= data1['pH_YSI_80ft'], alpha= 0.8)\n",
    "# Naranja\n",
    "ax.scatter(x= data1['time'], y= data1['pH_YSI_1100ft'], alpha= 0.8)\n",
    "ax.set_xlabel('Time')\n",
    "ax.set_ylabel('pH_YSI')"
   ]
  },
  {
   "cell_type": "code",
   "execution_count": 20,
   "metadata": {},
   "outputs": [
    {
     "name": "stdout",
     "output_type": "stream",
     "text": [
      "*** Time VS pH_YSI 80ft (mV) ***\n",
      "Correlación Pearson:  0.3197688892847615\n",
      "Correlación Spearman:  0.6087177667701167\n",
      "Correlación Kendall:  0.46577543822564843\n",
      "-------------------------------------------\n",
      "*** Time VS pH_YSI 1100ft (mV) *** \n",
      "Correlación Pearson:  -0.24756784248817218\n",
      "Correlación Spearman:  -0.5183042351223086\n",
      "Correlación Kendall:  -0.3791187786953688\n",
      "-------------------------------------------\n"
     ]
    }
   ],
   "source": [
    "# Cálculo de correlaciones \n",
    "\n",
    "# Parametro 80ft\n",
    "print(\"*** Time VS pH_YSI 80ft (mV) ***\")\n",
    "print('Correlación Pearson: ', data1['time'].corr(data1['pH_YSI_80ft'], method='pearson'))\n",
    "print('Correlación Spearman: ', data1['time'].corr(data1['pH_YSI_80ft'], method='spearman'))\n",
    "print('Correlación Kendall: ', data1['time'].corr(data1['pH_YSI_80ft'], method='kendall'))\n",
    "print(\"-------------------------------------------\")\n",
    "\n",
    "# Parametro 1100ft \n",
    "print(\"*** Time VS pH_YSI 1100ft (mV) *** \")\n",
    "print('Correlación Pearson: ', data1['time'].corr(data1['pH_YSI_1100ft'], method='pearson'))\n",
    "print('Correlación Spearman: ', data1['time'].corr(data1['pH_YSI_1100ft'], method='spearman'))\n",
    "print('Correlación Kendall: ', data1['time'].corr(data1['pH_YSI_1100ft'], method='kendall'))\n",
    "print(\"-------------------------------------------\")"
   ]
  },
  {
   "attachments": {},
   "cell_type": "markdown",
   "metadata": {},
   "source": [
    "### -------------------------------------------------------------------------------\n",
    "\n",
    "### sp_cond"
   ]
  },
  {
   "cell_type": "code",
   "execution_count": 21,
   "metadata": {},
   "outputs": [
    {
     "data": {
      "text/plain": [
       "Text(0, 0.5, 'sp_cond_YSI')"
      ]
     },
     "execution_count": 21,
     "metadata": {},
     "output_type": "execute_result"
    },
    {
     "data": {
      "image/png": "[encoded data removed]",
      "text/plain": [
       "<Figure size 720x576 with 1 Axes>"
      ]
     },
     "metadata": {
      "needs_background": "light"
     },
     "output_type": "display_data"
    }
   ],
   "source": [
    "# Gráfico de Dispersión\n",
    "fig, ax = plt.subplots(1, 1, figsize=(10,8))\n",
    "# Azul\n",
    "ax.scatter(x= data1['time'], y= data1['sp_cond_YSI_80ft(µS/cm)'], alpha= 0.8)\n",
    "# Naranja\n",
    "ax.scatter(x= data1['time'], y= data1['sp_cond_YSI_1100ft(µS/cm)'], alpha= 0.8)\n",
    "ax.set_xlabel('Time')\n",
    "ax.set_ylabel('sp_cond_YSI')"
   ]
  },
  {
   "cell_type": "code",
   "execution_count": 22,
   "metadata": {},
   "outputs": [
    {
     "name": "stdout",
     "output_type": "stream",
     "text": [
      "*** Time VS sp_cond_YSI 80ft (µS/cm) ***\n",
      "Correlación Pearson:  -0.9068460560553078\n",
      "Correlación Spearman:  -0.8580899118634199\n",
      "Correlación Kendall:  -0.7016867939037196\n",
      "-------------------------------------------\n",
      "*** Time VS sp_cond_YSI 1100ft (µS/cm) *** \n",
      "Correlación Pearson:  -0.8742399694799841\n",
      "Correlación Spearman:  -0.76288096086589\n",
      "Correlación Kendall:  -0.5542070024056206\n",
      "-------------------------------------------\n"
     ]
    }
   ],
   "source": [
    "# Cálculo de correlaciones \n",
    "\n",
    "# Parametro 80ft\n",
    "print(\"*** Time VS sp_cond_YSI 80ft (µS/cm) ***\")\n",
    "print('Correlación Pearson: ', data1['time'].corr(data1['sp_cond_YSI_80ft(µS/cm)'], method='pearson'))\n",
    "print('Correlación Spearman: ', data1['time'].corr(data1['sp_cond_YSI_80ft(µS/cm)'], method='spearman'))\n",
    "print('Correlación Kendall: ', data1['time'].corr(data1['sp_cond_YSI_80ft(µS/cm)'], method='kendall'))\n",
    "print(\"-------------------------------------------\")\n",
    "\n",
    "# Parametro 1100ft \n",
    "print(\"*** Time VS sp_cond_YSI 1100ft (µS/cm) *** \")\n",
    "print('Correlación Pearson: ', data1['time'].corr(data1['sp_cond_YSI_1100ft(µS/cm)'], method='pearson'))\n",
    "print('Correlación Spearman: ', data1['time'].corr(data1['sp_cond_YSI_1100ft(µS/cm)'], method='spearman'))\n",
    "print('Correlación Kendall: ', data1['time'].corr(data1['sp_cond_YSI_1100ft(µS/cm)'], method='kendall'))\n",
    "print(\"-------------------------------------------\")"
   ]
  },
  {
   "attachments": {},
   "cell_type": "markdown",
   "metadata": {},
   "source": [
    "### -------------------------------------------------------------------------------\n",
    "\n",
    "### Turbidity YSI"
   ]
  },
  {
   "cell_type": "code",
   "execution_count": 23,
   "metadata": {},
   "outputs": [
    {
     "data": {
      "text/plain": [
       "Text(0, 0.5, 'turbidity_YSI')"
      ]
     },
     "execution_count": 23,
     "metadata": {},
     "output_type": "execute_result"
    },
    {
     "data": {
      "image/png": "[encoded data removed]",
      "text/plain": [
       "<Figure size 720x576 with 1 Axes>"
      ]
     },
     "metadata": {
      "needs_background": "light"
     },
     "output_type": "display_data"
    }
   ],
   "source": [
    "# Gráfico de Dispersión\n",
    "fig, ax = plt.subplots(1, 1, figsize=(10,8))\n",
    "# Azul\n",
    "ax.scatter(x= data1['time'], y= data1['turbidity_YSI_80ft(NTU+)'], alpha= 0.8)\n",
    "# Naranja\n",
    "ax.scatter(x= data1['time'], y= data1['turbidity_YSI_1100ft(NTU+)'], alpha= 0.8)\n",
    "ax.set_xlabel('time')\n",
    "ax.set_ylabel('turbidity_YSI')"
   ]
  },
  {
   "cell_type": "code",
   "execution_count": 24,
   "metadata": {},
   "outputs": [
    {
     "name": "stdout",
     "output_type": "stream",
     "text": [
      "*** Time VS turbidity_YSI 80ft (NTU+)  ***\n",
      "Correlación Pearson:  -0.08379538510378744\n",
      "Correlación Spearman:  -0.42190415864956327\n",
      "Correlación Kendall:  -0.31065988177615317\n",
      "-------------------------------------------\n",
      "*** Time VS turbidity_YSI 1100ft (NTU+)  *** \n",
      "Correlación Pearson:  -0.0624196188262156\n",
      "Correlación Spearman:  -0.06362806231739739\n",
      "Correlación Kendall:  -0.052653330538376106\n",
      "-------------------------------------------\n"
     ]
    }
   ],
   "source": [
    "# Cálculo de correlaciones \n",
    "\n",
    "# Parametro 80ft\n",
    "print(\"*** Time VS turbidity_YSI 80ft (NTU+)  ***\")\n",
    "print('Correlación Pearson: ', data1['time'].corr(data1['turbidity_YSI_80ft(NTU+)'], method='pearson'))\n",
    "print('Correlación Spearman: ', data1['time'].corr(data1['turbidity_YSI_80ft(NTU+)'], method='spearman'))\n",
    "print('Correlación Kendall: ', data1['time'].corr(data1['turbidity_YSI_80ft(NTU+)'], method='kendall'))\n",
    "print(\"-------------------------------------------\")\n",
    "\n",
    "# Parametro 1100ft \n",
    "print(\"*** Time VS turbidity_YSI 1100ft (NTU+)  *** \")\n",
    "print('Correlación Pearson: ', data1['time'].corr(data1['turbidity_YSI_1100ft(NTU+)'], method='pearson'))\n",
    "print('Correlación Spearman: ', data1['time'].corr(data1['turbidity_YSI_1100ft(NTU+)'], method='spearman'))\n",
    "print('Correlación Kendall: ', data1['time'].corr(data1['turbidity_YSI_1100ft(NTU+)'], method='kendall'))\n",
    "print(\"-------------------------------------------\")"
   ]
  }
 ],
 "metadata": {
  "kernelspec": {
   "display_name": "Python 3.9.13 64-bit",
   "language": "python",
   "name": "python3"
  },
  "language_info": {
   "codemirror_mode": {
    "name": "ipython",
    "version": 3
   },
   "file_extension": ".py",
   "mimetype": "text/x-python",
   "name": "python",
   "nbconvert_exporter": "python",
   "pygments_lexer": "ipython3",
   "version": "3.9.13"
  },
  "vscode": {
   "interpreter": {
    "hash": "aee8b7b246df8f9039afb4144a1f6fd8d2ca17a180786b69acc140d282b71a49"
   }
  }
 },
 "nbformat": 4,
 "nbformat_minor": 4
}
