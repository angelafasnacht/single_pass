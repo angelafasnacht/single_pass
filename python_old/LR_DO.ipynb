{
 "cells": [
  {
   "cell_type": "markdown",
   "metadata": {},
   "source": [
    "#### Lineal Regression: Chloride Statistic"
   ]
  },
  {
   "cell_type": "markdown",
   "metadata": {},
   "source": [
    "### Se importan las librerias"
   ]
  },
  {
   "cell_type": "code",
   "execution_count": 1,
   "metadata": {},
   "outputs": [],
   "source": [
    "# Importo las librerias\n",
    "import numpy as np\n",
    "import pandas as pd\n",
    "import seaborn as sb\n",
    "import matplotlib.pyplot as plt\n",
    "from mpl_toolkits.mplot3d import Axes3D\n",
    "from matplotlib import cm\n",
    "plt.rcParams['figure.figsize'] = (16,9)\n",
    "plt.style.use('ggplot')\n",
    "from sklearn import linear_model\n",
    "from sklearn.metrics import mean_squared_error, r2_score"
   ]
  },
  {
   "cell_type": "markdown",
   "metadata": {},
   "source": [
    "### Se cargan los datos"
   ]
  },
  {
   "cell_type": "code",
   "execution_count": 2,
   "metadata": {},
   "outputs": [
    {
     "data": {
      "text/html": [
       "<div>\n",
       "<style scoped>\n",
       "    .dataframe tbody tr th:only-of-type {\n",
       "        vertical-align: middle;\n",
       "    }\n",
       "\n",
       "    .dataframe tbody tr th {\n",
       "        vertical-align: top;\n",
       "    }\n",
       "\n",
       "    .dataframe thead th {\n",
       "        text-align: right;\n",
       "    }\n",
       "</style>\n",
       "<table border=\"1\" class=\"dataframe\">\n",
       "  <thead>\n",
       "    <tr style=\"text-align: right;\">\n",
       "      <th></th>\n",
       "      <th>Date (m/d/y)</th>\n",
       "      <th>Day</th>\n",
       "      <th>Time</th>\n",
       "      <th>Sample</th>\n",
       "      <th>DO 80ft (mg/L)</th>\n",
       "      <th>DO 1100 ft (mg/L)</th>\n",
       "      <th>Difference</th>\n",
       "    </tr>\n",
       "  </thead>\n",
       "  <tbody>\n",
       "    <tr>\n",
       "      <th>0</th>\n",
       "      <td>25/01/05</td>\n",
       "      <td>1</td>\n",
       "      <td>12:30</td>\n",
       "      <td>1</td>\n",
       "      <td>14.39</td>\n",
       "      <td>13.17</td>\n",
       "      <td>-1.22</td>\n",
       "    </tr>\n",
       "    <tr>\n",
       "      <th>1</th>\n",
       "      <td>25/01/05</td>\n",
       "      <td>1</td>\n",
       "      <td>12:31</td>\n",
       "      <td>2</td>\n",
       "      <td>14.47</td>\n",
       "      <td>13.20</td>\n",
       "      <td>-1.27</td>\n",
       "    </tr>\n",
       "    <tr>\n",
       "      <th>2</th>\n",
       "      <td>25/01/05</td>\n",
       "      <td>1</td>\n",
       "      <td>12:32</td>\n",
       "      <td>3</td>\n",
       "      <td>14.41</td>\n",
       "      <td>13.25</td>\n",
       "      <td>-1.16</td>\n",
       "    </tr>\n",
       "    <tr>\n",
       "      <th>3</th>\n",
       "      <td>25/01/05</td>\n",
       "      <td>1</td>\n",
       "      <td>12:33</td>\n",
       "      <td>4</td>\n",
       "      <td>14.46</td>\n",
       "      <td>13.19</td>\n",
       "      <td>-1.27</td>\n",
       "    </tr>\n",
       "    <tr>\n",
       "      <th>4</th>\n",
       "      <td>25/01/05</td>\n",
       "      <td>1</td>\n",
       "      <td>12:34</td>\n",
       "      <td>5</td>\n",
       "      <td>14.49</td>\n",
       "      <td>13.20</td>\n",
       "      <td>-1.29</td>\n",
       "    </tr>\n",
       "    <tr>\n",
       "      <th>...</th>\n",
       "      <td>...</td>\n",
       "      <td>...</td>\n",
       "      <td>...</td>\n",
       "      <td>...</td>\n",
       "      <td>...</td>\n",
       "      <td>...</td>\n",
       "      <td>...</td>\n",
       "    </tr>\n",
       "    <tr>\n",
       "      <th>613</th>\n",
       "      <td>26/01/05</td>\n",
       "      <td>2</td>\n",
       "      <td>3:56</td>\n",
       "      <td>313</td>\n",
       "      <td>14.61</td>\n",
       "      <td>13.39</td>\n",
       "      <td>-1.22</td>\n",
       "    </tr>\n",
       "    <tr>\n",
       "      <th>614</th>\n",
       "      <td>26/01/05</td>\n",
       "      <td>2</td>\n",
       "      <td>3:57</td>\n",
       "      <td>314</td>\n",
       "      <td>14.58</td>\n",
       "      <td>13.37</td>\n",
       "      <td>-1.21</td>\n",
       "    </tr>\n",
       "    <tr>\n",
       "      <th>615</th>\n",
       "      <td>26/01/05</td>\n",
       "      <td>2</td>\n",
       "      <td>3:58</td>\n",
       "      <td>315</td>\n",
       "      <td>14.59</td>\n",
       "      <td>13.42</td>\n",
       "      <td>-1.17</td>\n",
       "    </tr>\n",
       "    <tr>\n",
       "      <th>616</th>\n",
       "      <td>26/01/05</td>\n",
       "      <td>2</td>\n",
       "      <td>3:59</td>\n",
       "      <td>316</td>\n",
       "      <td>14.62</td>\n",
       "      <td>13.39</td>\n",
       "      <td>-1.23</td>\n",
       "    </tr>\n",
       "    <tr>\n",
       "      <th>617</th>\n",
       "      <td>26/01/05</td>\n",
       "      <td>2</td>\n",
       "      <td>4:00</td>\n",
       "      <td>317</td>\n",
       "      <td>14.61</td>\n",
       "      <td>13.39</td>\n",
       "      <td>-1.22</td>\n",
       "    </tr>\n",
       "  </tbody>\n",
       "</table>\n",
       "<p>618 rows × 7 columns</p>\n",
       "</div>"
      ],
      "text/plain": [
       "    Date (m/d/y)  Day   Time  Sample  DO 80ft (mg/L)  DO 1100 ft (mg/L)  \\\n",
       "0       25/01/05    1  12:30       1           14.39              13.17   \n",
       "1       25/01/05    1  12:31       2           14.47              13.20   \n",
       "2       25/01/05    1  12:32       3           14.41              13.25   \n",
       "3       25/01/05    1  12:33       4           14.46              13.19   \n",
       "4       25/01/05    1  12:34       5           14.49              13.20   \n",
       "..           ...  ...    ...     ...             ...                ...   \n",
       "613     26/01/05    2   3:56     313           14.61              13.39   \n",
       "614     26/01/05    2   3:57     314           14.58              13.37   \n",
       "615     26/01/05    2   3:58     315           14.59              13.42   \n",
       "616     26/01/05    2   3:59     316           14.62              13.39   \n",
       "617     26/01/05    2   4:00     317           14.61              13.39   \n",
       "\n",
       "     Difference  \n",
       "0         -1.22  \n",
       "1         -1.27  \n",
       "2         -1.16  \n",
       "3         -1.27  \n",
       "4         -1.29  \n",
       "..          ...  \n",
       "613       -1.22  \n",
       "614       -1.21  \n",
       "615       -1.17  \n",
       "616       -1.23  \n",
       "617       -1.22  \n",
       "\n",
       "[618 rows x 7 columns]"
      ]
     },
     "execution_count": 2,
     "metadata": {},
     "output_type": "execute_result"
    }
   ],
   "source": [
    "datos = pd.read_csv(\"data/DO.csv\", sep=\";\")\n",
    "\n",
    "datos"
   ]
  },
  {
   "cell_type": "code",
   "execution_count": 3,
   "metadata": {},
   "outputs": [
    {
     "data": {
      "text/html": [
       "<div>\n",
       "<style scoped>\n",
       "    .dataframe tbody tr th:only-of-type {\n",
       "        vertical-align: middle;\n",
       "    }\n",
       "\n",
       "    .dataframe tbody tr th {\n",
       "        vertical-align: top;\n",
       "    }\n",
       "\n",
       "    .dataframe thead th {\n",
       "        text-align: right;\n",
       "    }\n",
       "</style>\n",
       "<table border=\"1\" class=\"dataframe\">\n",
       "  <thead>\n",
       "    <tr style=\"text-align: right;\">\n",
       "      <th></th>\n",
       "      <th>Day</th>\n",
       "      <th>Sample</th>\n",
       "      <th>DO 80ft (mg/L)</th>\n",
       "      <th>DO 1100 ft (mg/L)</th>\n",
       "      <th>Difference</th>\n",
       "    </tr>\n",
       "  </thead>\n",
       "  <tbody>\n",
       "    <tr>\n",
       "      <th>count</th>\n",
       "      <td>618.000000</td>\n",
       "      <td>618.000000</td>\n",
       "      <td>618.000000</td>\n",
       "      <td>618.000000</td>\n",
       "      <td>618.000000</td>\n",
       "    </tr>\n",
       "    <tr>\n",
       "      <th>mean</th>\n",
       "      <td>1.512945</td>\n",
       "      <td>155.103560</td>\n",
       "      <td>14.550000</td>\n",
       "      <td>13.345518</td>\n",
       "      <td>-1.204482</td>\n",
       "    </tr>\n",
       "    <tr>\n",
       "      <th>std</th>\n",
       "      <td>0.500237</td>\n",
       "      <td>89.451683</td>\n",
       "      <td>0.146213</td>\n",
       "      <td>0.134359</td>\n",
       "      <td>0.059494</td>\n",
       "    </tr>\n",
       "    <tr>\n",
       "      <th>min</th>\n",
       "      <td>1.000000</td>\n",
       "      <td>1.000000</td>\n",
       "      <td>14.130000</td>\n",
       "      <td>12.980000</td>\n",
       "      <td>-1.390000</td>\n",
       "    </tr>\n",
       "    <tr>\n",
       "      <th>25%</th>\n",
       "      <td>1.000000</td>\n",
       "      <td>78.000000</td>\n",
       "      <td>14.520000</td>\n",
       "      <td>13.260000</td>\n",
       "      <td>-1.240000</td>\n",
       "    </tr>\n",
       "    <tr>\n",
       "      <th>50%</th>\n",
       "      <td>2.000000</td>\n",
       "      <td>155.000000</td>\n",
       "      <td>14.610000</td>\n",
       "      <td>13.400000</td>\n",
       "      <td>-1.200000</td>\n",
       "    </tr>\n",
       "    <tr>\n",
       "      <th>75%</th>\n",
       "      <td>2.000000</td>\n",
       "      <td>232.000000</td>\n",
       "      <td>14.640000</td>\n",
       "      <td>13.450000</td>\n",
       "      <td>-1.160000</td>\n",
       "    </tr>\n",
       "    <tr>\n",
       "      <th>max</th>\n",
       "      <td>2.000000</td>\n",
       "      <td>317.000000</td>\n",
       "      <td>14.740000</td>\n",
       "      <td>13.530000</td>\n",
       "      <td>-1.050000</td>\n",
       "    </tr>\n",
       "  </tbody>\n",
       "</table>\n",
       "</div>"
      ],
      "text/plain": [
       "              Day      Sample  DO 80ft (mg/L)  DO 1100 ft (mg/L)  Difference\n",
       "count  618.000000  618.000000      618.000000         618.000000  618.000000\n",
       "mean     1.512945  155.103560       14.550000          13.345518   -1.204482\n",
       "std      0.500237   89.451683        0.146213           0.134359    0.059494\n",
       "min      1.000000    1.000000       14.130000          12.980000   -1.390000\n",
       "25%      1.000000   78.000000       14.520000          13.260000   -1.240000\n",
       "50%      2.000000  155.000000       14.610000          13.400000   -1.200000\n",
       "75%      2.000000  232.000000       14.640000          13.450000   -1.160000\n",
       "max      2.000000  317.000000       14.740000          13.530000   -1.050000"
      ]
     },
     "execution_count": 3,
     "metadata": {},
     "output_type": "execute_result"
    }
   ],
   "source": [
    "# Se observan las estadísticas\n",
    "datos.describe()"
   ]
  },
  {
   "cell_type": "code",
   "execution_count": 4,
   "metadata": {},
   "outputs": [],
   "source": [
    "dia1 = datos[datos['Day'] == 1]\n",
    "dia2 = datos[datos['Day'] == 2]"
   ]
  },
  {
   "cell_type": "code",
   "execution_count": 5,
   "metadata": {},
   "outputs": [
    {
     "data": {
      "image/png": "[encoded data removed]",
      "text/plain": [
       "<Figure size 432x288 with 1 Axes>"
      ]
     },
     "metadata": {
      "needs_background": "light"
     },
     "output_type": "display_data"
    }
   ],
   "source": [
    "# Defino el tamaño de la gráfica\n",
    "tamanio = [20,40]\n",
    "\n",
    "# Traigo los valores del dia 1\n",
    "x1= dia1['Sample'].values\n",
    "# Traigo los valores de # Shares\n",
    "y1 = dia1['DO 80ft (mg/L)'].values\n",
    "\n",
    "# Genero la gráfica\n",
    "plt.scatter(x1, y1, s=tamanio[0])\n",
    "plt.show()"
   ]
  },
  {
   "cell_type": "markdown",
   "metadata": {},
   "source": [
    "#### Regresión Lineal Chloride 80ft (mg/L) - Día 1"
   ]
  },
  {
   "cell_type": "code",
   "execution_count": 6,
   "metadata": {},
   "outputs": [
    {
     "name": "stdout",
     "output_type": "stream",
     "text": [
      "Coeficiente: [[0.00036752]]\n",
      "Intercepción: [14.54603322]\n",
      "Error Cuadrático Medio: 0.00\n",
      "R2: 0.35\n"
     ]
    }
   ],
   "source": [
    "# Asigno la variable de entrada X para entrenamiento y las etiquetas Y\n",
    "X_train = dia1[['Sample']].values\n",
    "y_train = dia1[['DO 80ft (mg/L)']].values\n",
    "\n",
    "# Se crea un objeto de regresión lineal\n",
    "reg_lineal = linear_model.LinearRegression()\n",
    "\n",
    "# Se entrena el modelo\n",
    "reg_lineal.fit(X_train, y_train)\n",
    "\n",
    "# Se hace las predicciones (linea en 2D)\n",
    "y_pred = reg_lineal.predict(X_train)\n",
    "\n",
    "# Se obtienen los coeficiones, según la Tangente\n",
    "print('Coeficiente:', reg_lineal.coef_)\n",
    "# Valor de la intercepción (valor donde corta el eje Y en X=0)\n",
    "print('Intercepción:', reg_lineal.intercept_)\n",
    "# Error cuadrático medio\n",
    "print('Error Cuadrático Medio: %.2f' % mean_squared_error(y_train, y_pred))\n",
    "# Puntaje de varianza, el mejor puntaje es un 1.0\n",
    "print('R2: %.2f' % r2_score(y_train, y_pred))"
   ]
  },
  {
   "cell_type": "code",
   "execution_count": 7,
   "metadata": {},
   "outputs": [
    {
     "data": {
      "image/png": "[encoded data removed]",
      "text/plain": [
       "<Figure size 432x288 with 1 Axes>"
      ]
     },
     "metadata": {
      "needs_background": "light"
     },
     "output_type": "display_data"
    }
   ],
   "source": [
    "plt.scatter(X_train[:,0], y_train, s=tamanio[0])\n",
    "plt.plot(X_train[:,0], y_pred, color='blue', linewidth=3)\n",
    "\n",
    "plt.xlabel('Day 1')\n",
    "plt.ylabel('DO 80ft (mg/L)')\n",
    "plt.title('Lineal Regression')\n",
    "\n",
    "plt.show()"
   ]
  },
  {
   "cell_type": "markdown",
   "metadata": {},
   "source": [
    "#### Regresión Lineal Chloride 80ft (mg/L) - Día 2"
   ]
  },
  {
   "cell_type": "code",
   "execution_count": 8,
   "metadata": {},
   "outputs": [
    {
     "name": "stdout",
     "output_type": "stream",
     "text": [
      "Coeficiente: [[0.0017273]]\n",
      "Intercepción: [14.22643234]\n",
      "Error Cuadrático Medio: 0.01\n",
      "R2: 0.74\n"
     ]
    }
   ],
   "source": [
    "# Asigno la variable de entrada X para entrenamiento y las etiquetas Y\n",
    "X_train = dia2[['Sample']].values\n",
    "y_train = dia2[['DO 80ft (mg/L)']].values\n",
    "\n",
    "# Se crea un objeto de regresión lineal\n",
    "reg_lineal = linear_model.LinearRegression()\n",
    "\n",
    "# Se entrena el modelo\n",
    "reg_lineal.fit(X_train, y_train)\n",
    "\n",
    "# Se hace las predicciones (linea en 2D)\n",
    "y_pred = reg_lineal.predict(X_train)\n",
    "\n",
    "# Se obtienen los coeficiones, según la Tangente\n",
    "print('Coeficiente:', reg_lineal.coef_)\n",
    "# Valor de la intercepción (valor donde corta el eje Y en X=0)\n",
    "print('Intercepción:', reg_lineal.intercept_)\n",
    "# Error cuadrático medio\n",
    "print('Error Cuadrático Medio: %.2f' % mean_squared_error(y_train, y_pred))\n",
    "# Puntaje de varianza, el mejor puntaje es un 1.0\n",
    "print('R2: %.2f' % r2_score(y_train, y_pred))"
   ]
  },
  {
   "cell_type": "code",
   "execution_count": 9,
   "metadata": {},
   "outputs": [
    {
     "data": {
      "image/png": "[encoded data removed]",
      "text/plain": [
       "<Figure size 432x288 with 1 Axes>"
      ]
     },
     "metadata": {
      "needs_background": "light"
     },
     "output_type": "display_data"
    }
   ],
   "source": [
    "plt.scatter(X_train[:,0], y_train, s=tamanio[0])\n",
    "plt.plot(X_train[:,0], y_pred, color='blue', linewidth=3)\n",
    "\n",
    "plt.xlabel('Day 2')\n",
    "plt.ylabel('DO 80ft (mg/L)')\n",
    "plt.title('Lineal Regression')\n",
    "\n",
    "plt.show()"
   ]
  },
  {
   "cell_type": "markdown",
   "metadata": {},
   "source": [
    "#### Regresión Lineal Chloride 1100ft (mg/L) - Día 1"
   ]
  },
  {
   "cell_type": "code",
   "execution_count": 10,
   "metadata": {},
   "outputs": [
    {
     "name": "stdout",
     "output_type": "stream",
     "text": [
      "Coeficiente: [[0.00067193]]\n",
      "Intercepción: [13.29754153]\n",
      "Error Cuadrático Medio: 0.00\n",
      "R2: 0.59\n"
     ]
    }
   ],
   "source": [
    "# Asigno la variable de entrada X para entrenamiento y las etiquetas Y\n",
    "X_train = dia1[['Sample']].values\n",
    "y_train = dia1[['DO 1100 ft (mg/L)']].values\n",
    "\n",
    "# Se crea un objeto de regresión lineal\n",
    "reg_lineal = linear_model.LinearRegression()\n",
    "\n",
    "# Se entrena el modelo\n",
    "reg_lineal.fit(X_train, y_train)\n",
    "\n",
    "# Se hace las predicciones (linea en 2D)\n",
    "y_pred = reg_lineal.predict(X_train)\n",
    "\n",
    "# Se obtienen los coeficiones, según la Tangente\n",
    "print('Coeficiente:', reg_lineal.coef_)\n",
    "# Valor de la intercepción (valor donde corta el eje Y en X=0)\n",
    "print('Intercepción:', reg_lineal.intercept_)\n",
    "# Error cuadrático medio\n",
    "print('Error Cuadrático Medio: %.2f' % mean_squared_error(y_train, y_pred))\n",
    "# Puntaje de varianza, el mejor puntaje es un 1.0\n",
    "print('R2: %.2f' % r2_score(y_train, y_pred))"
   ]
  },
  {
   "cell_type": "code",
   "execution_count": 11,
   "metadata": {},
   "outputs": [
    {
     "data": {
      "image/png": "[encoded data removed]",
      "text/plain": [
       "<Figure size 432x288 with 1 Axes>"
      ]
     },
     "metadata": {
      "needs_background": "light"
     },
     "output_type": "display_data"
    }
   ],
   "source": [
    "plt.scatter(X_train[:,0], y_train, s=tamanio[0])\n",
    "plt.plot(X_train[:,0], y_pred, color='blue', linewidth=3)\n",
    "\n",
    "plt.xlabel('Day 1')\n",
    "plt.ylabel('DO 1100 ft (mg/L)')\n",
    "plt.title('Lineal Regression')\n",
    "\n",
    "plt.show()"
   ]
  },
  {
   "cell_type": "markdown",
   "metadata": {},
   "source": [
    "#### Regresión Lineal Chloride 1100ft (mg/L) - Día 2"
   ]
  },
  {
   "cell_type": "code",
   "execution_count": 12,
   "metadata": {},
   "outputs": [
    {
     "name": "stdout",
     "output_type": "stream",
     "text": [
      "Coeficiente: [[0.00156206]]\n",
      "Intercepción: [13.04636365]\n",
      "Error Cuadrático Medio: 0.00\n",
      "R2: 0.84\n"
     ]
    }
   ],
   "source": [
    "# Asigno la variable de entrada X para entrenamiento y las etiquetas Y\n",
    "X_train = dia2[['Sample']].values\n",
    "y_train = dia2[['DO 1100 ft (mg/L)']].values\n",
    "\n",
    "# Se crea un objeto de regresión lineal\n",
    "reg_lineal = linear_model.LinearRegression()\n",
    "\n",
    "# Se entrena el modelo\n",
    "reg_lineal.fit(X_train, y_train)\n",
    "\n",
    "# Se hace las predicciones (linea en 2D)\n",
    "y_pred = reg_lineal.predict(X_train)\n",
    "\n",
    "# Se obtienen los coeficiones, según la Tangente\n",
    "print('Coeficiente:', reg_lineal.coef_)\n",
    "# Valor de la intercepción (valor donde corta el eje Y en X=0)\n",
    "print('Intercepción:', reg_lineal.intercept_)\n",
    "# Error cuadrático medio\n",
    "print('Error Cuadrático Medio: %.2f' % mean_squared_error(y_train, y_pred))\n",
    "# Puntaje de varianza, el mejor puntaje es un 1.0\n",
    "print('R2: %.2f' % r2_score(y_train, y_pred))"
   ]
  },
  {
   "cell_type": "code",
   "execution_count": 13,
   "metadata": {},
   "outputs": [
    {
     "data": {
      "image/png": "[encoded data removed]",
      "text/plain": [
       "<Figure size 432x288 with 1 Axes>"
      ]
     },
     "metadata": {
      "needs_background": "light"
     },
     "output_type": "display_data"
    }
   ],
   "source": [
    "plt.scatter(X_train[:,0], y_train, s=tamanio[0])\n",
    "plt.plot(X_train[:,0], y_pred, color='blue', linewidth=3)\n",
    "\n",
    "plt.xlabel('Day 2')\n",
    "plt.ylabel('DO 1100 ft (mg/L)')\n",
    "plt.title('Lineal Regression')\n",
    "\n",
    "plt.show()"
   ]
  }
 ],
 "metadata": {
  "kernelspec": {
   "display_name": "Python 3.9.13 64-bit",
   "language": "python",
   "name": "python3"
  },
  "language_info": {
   "codemirror_mode": {
    "name": "ipython",
    "version": 3
   },
   "file_extension": ".py",
   "mimetype": "text/x-python",
   "name": "python",
   "nbconvert_exporter": "python",
   "pygments_lexer": "ipython3",
   "version": "3.9.13"
  },
  "vscode": {
   "interpreter": {
    "hash": "aee8b7b246df8f9039afb4144a1f6fd8d2ca17a180786b69acc140d282b71a49"
   }
  }
 },
 "nbformat": 4,
 "nbformat_minor": 4
}
