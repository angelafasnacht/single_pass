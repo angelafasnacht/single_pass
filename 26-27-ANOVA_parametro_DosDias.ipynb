{
 "cells": [
  {
   "attachments": {},
   "cell_type": "markdown",
   "metadata": {},
   "source": [
    "#### ANOVA\n",
    "\n",
    "Todos los datos, por parámetro y los dos días"
   ]
  },
  {
   "cell_type": "markdown",
   "metadata": {},
   "source": [
    "### Se importan las librerias"
   ]
  },
  {
   "cell_type": "code",
   "execution_count": 1,
   "metadata": {},
   "outputs": [
    {
     "name": "stderr",
     "output_type": "stream",
     "text": [
      "/Library/Frameworks/Python.framework/Versions/3.9/lib/python3.9/site-packages/outdated/utils.py:14: OutdatedPackageWarning: The package pingouin is out of date. Your version is 0.5.2, the latest is 0.5.3.\n",
      "Set the environment variable OUTDATED_IGNORE=1 to disable these warnings.\n",
      "  return warn(\n"
     ]
    }
   ],
   "source": [
    "# Se importan las librerias\n",
    "import pandas as pd\n",
    "import numpy as np\n",
    "import matplotlib.pyplot as plt\n",
    "import seaborn as sns\n",
    "import pingouin as pg\n",
    "from statsmodels.graphics.factorplots import interaction_plot"
   ]
  },
  {
   "cell_type": "markdown",
   "metadata": {},
   "source": [
    "### Se cargan los datos"
   ]
  },
  {
   "cell_type": "code",
   "execution_count": 2,
   "metadata": {},
   "outputs": [
    {
     "data": {
      "text/html": [
       "<div>\n",
       "<style scoped>\n",
       "    .dataframe tbody tr th:only-of-type {\n",
       "        vertical-align: middle;\n",
       "    }\n",
       "\n",
       "    .dataframe tbody tr th {\n",
       "        vertical-align: top;\n",
       "    }\n",
       "\n",
       "    .dataframe thead th {\n",
       "        text-align: right;\n",
       "    }\n",
       "</style>\n",
       "<table border=\"1\" class=\"dataframe\">\n",
       "  <thead>\n",
       "    <tr style=\"text-align: right;\">\n",
       "      <th></th>\n",
       "      <th>date</th>\n",
       "      <th>date(m/d/y)</th>\n",
       "      <th>time</th>\n",
       "      <th>day</th>\n",
       "      <th>concentration</th>\n",
       "      <th>chloride_80ft(mg/L)</th>\n",
       "      <th>chloride_1100ft(mg/L)</th>\n",
       "      <th>difference_chloride</th>\n",
       "      <th>CL2_80ft(PPM)</th>\n",
       "      <th>CL2_1100ft(PPM)</th>\n",
       "      <th>...</th>\n",
       "      <th>difference_ORP_YSI</th>\n",
       "      <th>pH_YSI_80ft</th>\n",
       "      <th>pH_YSI_1100ft</th>\n",
       "      <th>difference_pH</th>\n",
       "      <th>sp_cond_YSI_80ft(µS/cm)</th>\n",
       "      <th>sp_cond_YSI_1100ft(µS/cm)</th>\n",
       "      <th>difference_sp_cond_YSI</th>\n",
       "      <th>turbidity_YSI_80ft(NTU+)</th>\n",
       "      <th>turbidity_YSI_1100ft(NTU+)</th>\n",
       "      <th>difference_turbidity</th>\n",
       "    </tr>\n",
       "  </thead>\n",
       "  <tbody>\n",
       "    <tr>\n",
       "      <th>0</th>\n",
       "      <td>25/01/05 12:30</td>\n",
       "      <td>25/01/05</td>\n",
       "      <td>12.30</td>\n",
       "      <td>1</td>\n",
       "      <td>0.0</td>\n",
       "      <td>16.33</td>\n",
       "      <td>17.02</td>\n",
       "      <td>0.69</td>\n",
       "      <td>1.02</td>\n",
       "      <td>1.05</td>\n",
       "      <td>...</td>\n",
       "      <td>75</td>\n",
       "      <td>7.23</td>\n",
       "      <td>8.68</td>\n",
       "      <td>1.45</td>\n",
       "      <td>281</td>\n",
       "      <td>284</td>\n",
       "      <td>3</td>\n",
       "      <td>0.5</td>\n",
       "      <td>0.1</td>\n",
       "      <td>-0.4</td>\n",
       "    </tr>\n",
       "    <tr>\n",
       "      <th>1</th>\n",
       "      <td>25/01/05 12:31</td>\n",
       "      <td>25/01/05</td>\n",
       "      <td>12.31</td>\n",
       "      <td>1</td>\n",
       "      <td>0.0</td>\n",
       "      <td>16.39</td>\n",
       "      <td>17.12</td>\n",
       "      <td>0.73</td>\n",
       "      <td>1.02</td>\n",
       "      <td>1.05</td>\n",
       "      <td>...</td>\n",
       "      <td>75</td>\n",
       "      <td>7.22</td>\n",
       "      <td>8.67</td>\n",
       "      <td>1.45</td>\n",
       "      <td>281</td>\n",
       "      <td>283</td>\n",
       "      <td>2</td>\n",
       "      <td>0.8</td>\n",
       "      <td>0.1</td>\n",
       "      <td>-0.7</td>\n",
       "    </tr>\n",
       "    <tr>\n",
       "      <th>2</th>\n",
       "      <td>25/01/05 12:32</td>\n",
       "      <td>25/01/05</td>\n",
       "      <td>12.32</td>\n",
       "      <td>1</td>\n",
       "      <td>0.0</td>\n",
       "      <td>16.39</td>\n",
       "      <td>17.12</td>\n",
       "      <td>0.73</td>\n",
       "      <td>1.02</td>\n",
       "      <td>1.05</td>\n",
       "      <td>...</td>\n",
       "      <td>75</td>\n",
       "      <td>7.22</td>\n",
       "      <td>8.68</td>\n",
       "      <td>1.46</td>\n",
       "      <td>281</td>\n",
       "      <td>283</td>\n",
       "      <td>2</td>\n",
       "      <td>0.8</td>\n",
       "      <td>0.1</td>\n",
       "      <td>-0.7</td>\n",
       "    </tr>\n",
       "    <tr>\n",
       "      <th>3</th>\n",
       "      <td>25/01/05 12:33</td>\n",
       "      <td>25/01/05</td>\n",
       "      <td>12.33</td>\n",
       "      <td>1</td>\n",
       "      <td>0.0</td>\n",
       "      <td>16.38</td>\n",
       "      <td>17.11</td>\n",
       "      <td>0.73</td>\n",
       "      <td>1.02</td>\n",
       "      <td>1.04</td>\n",
       "      <td>...</td>\n",
       "      <td>76</td>\n",
       "      <td>7.22</td>\n",
       "      <td>8.68</td>\n",
       "      <td>1.46</td>\n",
       "      <td>281</td>\n",
       "      <td>283</td>\n",
       "      <td>2</td>\n",
       "      <td>0.8</td>\n",
       "      <td>0.1</td>\n",
       "      <td>-0.7</td>\n",
       "    </tr>\n",
       "    <tr>\n",
       "      <th>4</th>\n",
       "      <td>25/01/05 12:34</td>\n",
       "      <td>25/01/05</td>\n",
       "      <td>12.34</td>\n",
       "      <td>1</td>\n",
       "      <td>0.0</td>\n",
       "      <td>16.39</td>\n",
       "      <td>17.03</td>\n",
       "      <td>0.64</td>\n",
       "      <td>1.02</td>\n",
       "      <td>1.04</td>\n",
       "      <td>...</td>\n",
       "      <td>76</td>\n",
       "      <td>7.22</td>\n",
       "      <td>8.68</td>\n",
       "      <td>1.46</td>\n",
       "      <td>281</td>\n",
       "      <td>284</td>\n",
       "      <td>3</td>\n",
       "      <td>0.7</td>\n",
       "      <td>0.1</td>\n",
       "      <td>-0.6</td>\n",
       "    </tr>\n",
       "    <tr>\n",
       "      <th>...</th>\n",
       "      <td>...</td>\n",
       "      <td>...</td>\n",
       "      <td>...</td>\n",
       "      <td>...</td>\n",
       "      <td>...</td>\n",
       "      <td>...</td>\n",
       "      <td>...</td>\n",
       "      <td>...</td>\n",
       "      <td>...</td>\n",
       "      <td>...</td>\n",
       "      <td>...</td>\n",
       "      <td>...</td>\n",
       "      <td>...</td>\n",
       "      <td>...</td>\n",
       "      <td>...</td>\n",
       "      <td>...</td>\n",
       "      <td>...</td>\n",
       "      <td>...</td>\n",
       "      <td>...</td>\n",
       "      <td>...</td>\n",
       "      <td>...</td>\n",
       "    </tr>\n",
       "    <tr>\n",
       "      <th>621</th>\n",
       "      <td>26/01/05 15:56</td>\n",
       "      <td>26/01/05</td>\n",
       "      <td>15.56</td>\n",
       "      <td>2</td>\n",
       "      <td>3.0</td>\n",
       "      <td>16.37</td>\n",
       "      <td>17.93</td>\n",
       "      <td>1.56</td>\n",
       "      <td>1.00</td>\n",
       "      <td>1.02</td>\n",
       "      <td>...</td>\n",
       "      <td>95</td>\n",
       "      <td>7.17</td>\n",
       "      <td>8.72</td>\n",
       "      <td>1.55</td>\n",
       "      <td>287</td>\n",
       "      <td>289</td>\n",
       "      <td>2</td>\n",
       "      <td>0.8</td>\n",
       "      <td>0.0</td>\n",
       "      <td>-0.8</td>\n",
       "    </tr>\n",
       "    <tr>\n",
       "      <th>622</th>\n",
       "      <td>26/01/05 15:57</td>\n",
       "      <td>26/01/05</td>\n",
       "      <td>15.57</td>\n",
       "      <td>2</td>\n",
       "      <td>3.0</td>\n",
       "      <td>16.38</td>\n",
       "      <td>17.92</td>\n",
       "      <td>1.54</td>\n",
       "      <td>1.00</td>\n",
       "      <td>1.01</td>\n",
       "      <td>...</td>\n",
       "      <td>96</td>\n",
       "      <td>7.17</td>\n",
       "      <td>8.72</td>\n",
       "      <td>1.55</td>\n",
       "      <td>287</td>\n",
       "      <td>289</td>\n",
       "      <td>2</td>\n",
       "      <td>0.9</td>\n",
       "      <td>0.0</td>\n",
       "      <td>-0.9</td>\n",
       "    </tr>\n",
       "    <tr>\n",
       "      <th>623</th>\n",
       "      <td>26/01/05 15:58</td>\n",
       "      <td>26/01/05</td>\n",
       "      <td>15.58</td>\n",
       "      <td>2</td>\n",
       "      <td>3.0</td>\n",
       "      <td>16.37</td>\n",
       "      <td>17.90</td>\n",
       "      <td>1.53</td>\n",
       "      <td>1.00</td>\n",
       "      <td>1.01</td>\n",
       "      <td>...</td>\n",
       "      <td>96</td>\n",
       "      <td>7.17</td>\n",
       "      <td>8.71</td>\n",
       "      <td>1.54</td>\n",
       "      <td>287</td>\n",
       "      <td>289</td>\n",
       "      <td>2</td>\n",
       "      <td>0.8</td>\n",
       "      <td>0.0</td>\n",
       "      <td>-0.8</td>\n",
       "    </tr>\n",
       "    <tr>\n",
       "      <th>624</th>\n",
       "      <td>26/01/05 15:59</td>\n",
       "      <td>26/01/05</td>\n",
       "      <td>15.59</td>\n",
       "      <td>2</td>\n",
       "      <td>3.0</td>\n",
       "      <td>16.35</td>\n",
       "      <td>17.91</td>\n",
       "      <td>1.56</td>\n",
       "      <td>1.00</td>\n",
       "      <td>1.01</td>\n",
       "      <td>...</td>\n",
       "      <td>97</td>\n",
       "      <td>7.16</td>\n",
       "      <td>8.71</td>\n",
       "      <td>1.55</td>\n",
       "      <td>287</td>\n",
       "      <td>289</td>\n",
       "      <td>2</td>\n",
       "      <td>0.9</td>\n",
       "      <td>0.0</td>\n",
       "      <td>-0.9</td>\n",
       "    </tr>\n",
       "    <tr>\n",
       "      <th>625</th>\n",
       "      <td>26/01/05 16:00</td>\n",
       "      <td>26/01/05</td>\n",
       "      <td>16.00</td>\n",
       "      <td>2</td>\n",
       "      <td>3.0</td>\n",
       "      <td>16.31</td>\n",
       "      <td>17.87</td>\n",
       "      <td>1.56</td>\n",
       "      <td>0.99</td>\n",
       "      <td>1.01</td>\n",
       "      <td>...</td>\n",
       "      <td>97</td>\n",
       "      <td>7.16</td>\n",
       "      <td>8.72</td>\n",
       "      <td>1.56</td>\n",
       "      <td>287</td>\n",
       "      <td>289</td>\n",
       "      <td>2</td>\n",
       "      <td>0.8</td>\n",
       "      <td>0.1</td>\n",
       "      <td>-0.7</td>\n",
       "    </tr>\n",
       "  </tbody>\n",
       "</table>\n",
       "<p>626 rows × 32 columns</p>\n",
       "</div>"
      ],
      "text/plain": [
       "               date date(m/d/y)   time  day  concentration  \\\n",
       "0    25/01/05 12:30    25/01/05  12.30    1            0.0   \n",
       "1    25/01/05 12:31    25/01/05  12.31    1            0.0   \n",
       "2    25/01/05 12:32    25/01/05  12.32    1            0.0   \n",
       "3    25/01/05 12:33    25/01/05  12.33    1            0.0   \n",
       "4    25/01/05 12:34    25/01/05  12.34    1            0.0   \n",
       "..              ...         ...    ...  ...            ...   \n",
       "621  26/01/05 15:56    26/01/05  15.56    2            3.0   \n",
       "622  26/01/05 15:57    26/01/05  15.57    2            3.0   \n",
       "623  26/01/05 15:58    26/01/05  15.58    2            3.0   \n",
       "624  26/01/05 15:59    26/01/05  15.59    2            3.0   \n",
       "625  26/01/05 16:00    26/01/05  16.00    2            3.0   \n",
       "\n",
       "     chloride_80ft(mg/L)  chloride_1100ft(mg/L)  difference_chloride  \\\n",
       "0                  16.33                  17.02                 0.69   \n",
       "1                  16.39                  17.12                 0.73   \n",
       "2                  16.39                  17.12                 0.73   \n",
       "3                  16.38                  17.11                 0.73   \n",
       "4                  16.39                  17.03                 0.64   \n",
       "..                   ...                    ...                  ...   \n",
       "621                16.37                  17.93                 1.56   \n",
       "622                16.38                  17.92                 1.54   \n",
       "623                16.37                  17.90                 1.53   \n",
       "624                16.35                  17.91                 1.56   \n",
       "625                16.31                  17.87                 1.56   \n",
       "\n",
       "     CL2_80ft(PPM)  CL2_1100ft(PPM)  ...  difference_ORP_YSI  pH_YSI_80ft  \\\n",
       "0             1.02             1.05  ...                  75         7.23   \n",
       "1             1.02             1.05  ...                  75         7.22   \n",
       "2             1.02             1.05  ...                  75         7.22   \n",
       "3             1.02             1.04  ...                  76         7.22   \n",
       "4             1.02             1.04  ...                  76         7.22   \n",
       "..             ...              ...  ...                 ...          ...   \n",
       "621           1.00             1.02  ...                  95         7.17   \n",
       "622           1.00             1.01  ...                  96         7.17   \n",
       "623           1.00             1.01  ...                  96         7.17   \n",
       "624           1.00             1.01  ...                  97         7.16   \n",
       "625           0.99             1.01  ...                  97         7.16   \n",
       "\n",
       "     pH_YSI_1100ft  difference_pH  sp_cond_YSI_80ft(µS/cm)  \\\n",
       "0             8.68           1.45                      281   \n",
       "1             8.67           1.45                      281   \n",
       "2             8.68           1.46                      281   \n",
       "3             8.68           1.46                      281   \n",
       "4             8.68           1.46                      281   \n",
       "..             ...            ...                      ...   \n",
       "621           8.72           1.55                      287   \n",
       "622           8.72           1.55                      287   \n",
       "623           8.71           1.54                      287   \n",
       "624           8.71           1.55                      287   \n",
       "625           8.72           1.56                      287   \n",
       "\n",
       "     sp_cond_YSI_1100ft(µS/cm)  difference_sp_cond_YSI  \\\n",
       "0                          284                       3   \n",
       "1                          283                       2   \n",
       "2                          283                       2   \n",
       "3                          283                       2   \n",
       "4                          284                       3   \n",
       "..                         ...                     ...   \n",
       "621                        289                       2   \n",
       "622                        289                       2   \n",
       "623                        289                       2   \n",
       "624                        289                       2   \n",
       "625                        289                       2   \n",
       "\n",
       "     turbidity_YSI_80ft(NTU+)  turbidity_YSI_1100ft(NTU+)  \\\n",
       "0                         0.5                         0.1   \n",
       "1                         0.8                         0.1   \n",
       "2                         0.8                         0.1   \n",
       "3                         0.8                         0.1   \n",
       "4                         0.7                         0.1   \n",
       "..                        ...                         ...   \n",
       "621                       0.8                         0.0   \n",
       "622                       0.9                         0.0   \n",
       "623                       0.8                         0.0   \n",
       "624                       0.9                         0.0   \n",
       "625                       0.8                         0.1   \n",
       "\n",
       "     difference_turbidity  \n",
       "0                    -0.4  \n",
       "1                    -0.7  \n",
       "2                    -0.7  \n",
       "3                    -0.7  \n",
       "4                    -0.6  \n",
       "..                    ...  \n",
       "621                  -0.8  \n",
       "622                  -0.9  \n",
       "623                  -0.8  \n",
       "624                  -0.9  \n",
       "625                  -0.7  \n",
       "\n",
       "[626 rows x 32 columns]"
      ]
     },
     "execution_count": 2,
     "metadata": {},
     "output_type": "execute_result"
    }
   ],
   "source": [
    "datos = pd.read_csv(\"data/data_all.csv\", sep=\";\")\n",
    "\n",
    "datos"
   ]
  },
  {
   "cell_type": "markdown",
   "metadata": {},
   "source": [
    "### Número de grupos, observaciones por grupo y distribución de las observaciones"
   ]
  },
  {
   "cell_type": "code",
   "execution_count": 3,
   "metadata": {},
   "outputs": [
    {
     "data": {
      "text/plain": [
       "concentration\n",
       "0.0    182\n",
       "0.4    146\n",
       "1.5    150\n",
       "3.0    148\n",
       "dtype: int64"
      ]
     },
     "execution_count": 3,
     "metadata": {},
     "output_type": "execute_result"
    }
   ],
   "source": [
    "# Número de observaciones por grupo\n",
    "datos.groupby('concentration').size()"
   ]
  },
  {
   "cell_type": "code",
   "execution_count": 4,
   "metadata": {},
   "outputs": [
    {
     "data": {
      "text/plain": [
       "0.0    146\n",
       "0.4    146\n",
       "1.5    146\n",
       "3.0    146\n",
       "Name: concentration, dtype: int64"
      ]
     },
     "execution_count": 4,
     "metadata": {},
     "output_type": "execute_result"
    }
   ],
   "source": [
    "# Se balancean el número de observaciones por grupo (técnica resample)\n",
    "from sklearn.utils import resample\n",
    "\n",
    "data00 = datos[datos['concentration'] == 0.0]\n",
    "data04 = datos[datos['concentration'] == 0.4] # Base del resample 146 registros\n",
    "data15 = datos[datos['concentration'] == 1.5]\n",
    "data30 = datos[datos['concentration'] == 3.0]\n",
    "\n",
    "data_resample_00 = resample(data00,\n",
    "                            replace = True,\n",
    "                            n_samples = 146,\n",
    "                            random_state= 1)\n",
    "\n",
    "data_resample_15 = resample(data15,\n",
    "                            replace = True,\n",
    "                            n_samples = 146,\n",
    "                            random_state= 1)\n",
    "\n",
    "data_resample_30 = resample(data30,\n",
    "                            replace = True,\n",
    "                            n_samples = 146,\n",
    "                            random_state= 1)\n",
    "\n",
    "datos2 = pd.concat([data_resample_00, data04, data_resample_15, data_resample_30])\n",
    "\n",
    "datos2['concentration'].value_counts()\n"
   ]
  },
  {
   "cell_type": "code",
   "execution_count": 5,
   "metadata": {},
   "outputs": [
    {
     "name": "stderr",
     "output_type": "stream",
     "text": [
      "/var/folders/0m/xmkg_d4s05j9zcbpwwncd19w0000gn/T/ipykernel_13957/1821354023.py:2: FutureWarning: ['date', 'date(m/d/y)'] did not aggregate successfully. If any error is raised this will raise in a future version of pandas. Drop these columns/ops to avoid this warning.\n",
      "  datos.groupby('concentration').agg(['mean','std'])\n"
     ]
    },
    {
     "data": {
      "text/html": [
       "<div>\n",
       "<style scoped>\n",
       "    .dataframe tbody tr th:only-of-type {\n",
       "        vertical-align: middle;\n",
       "    }\n",
       "\n",
       "    .dataframe tbody tr th {\n",
       "        vertical-align: top;\n",
       "    }\n",
       "\n",
       "    .dataframe thead tr th {\n",
       "        text-align: left;\n",
       "    }\n",
       "\n",
       "    .dataframe thead tr:last-of-type th {\n",
       "        text-align: right;\n",
       "    }\n",
       "</style>\n",
       "<table border=\"1\" class=\"dataframe\">\n",
       "  <thead>\n",
       "    <tr>\n",
       "      <th></th>\n",
       "      <th colspan=\"2\" halign=\"left\">time</th>\n",
       "      <th colspan=\"2\" halign=\"left\">day</th>\n",
       "      <th colspan=\"2\" halign=\"left\">chloride_80ft(mg/L)</th>\n",
       "      <th colspan=\"2\" halign=\"left\">chloride_1100ft(mg/L)</th>\n",
       "      <th colspan=\"2\" halign=\"left\">difference_chloride</th>\n",
       "      <th>...</th>\n",
       "      <th colspan=\"2\" halign=\"left\">sp_cond_YSI_1100ft(µS/cm)</th>\n",
       "      <th colspan=\"2\" halign=\"left\">difference_sp_cond_YSI</th>\n",
       "      <th colspan=\"2\" halign=\"left\">turbidity_YSI_80ft(NTU+)</th>\n",
       "      <th colspan=\"2\" halign=\"left\">turbidity_YSI_1100ft(NTU+)</th>\n",
       "      <th colspan=\"2\" halign=\"left\">difference_turbidity</th>\n",
       "    </tr>\n",
       "    <tr>\n",
       "      <th></th>\n",
       "      <th>mean</th>\n",
       "      <th>std</th>\n",
       "      <th>mean</th>\n",
       "      <th>std</th>\n",
       "      <th>mean</th>\n",
       "      <th>std</th>\n",
       "      <th>mean</th>\n",
       "      <th>std</th>\n",
       "      <th>mean</th>\n",
       "      <th>std</th>\n",
       "      <th>...</th>\n",
       "      <th>mean</th>\n",
       "      <th>std</th>\n",
       "      <th>mean</th>\n",
       "      <th>std</th>\n",
       "      <th>mean</th>\n",
       "      <th>std</th>\n",
       "      <th>mean</th>\n",
       "      <th>std</th>\n",
       "      <th>mean</th>\n",
       "      <th>std</th>\n",
       "    </tr>\n",
       "    <tr>\n",
       "      <th>concentration</th>\n",
       "      <th></th>\n",
       "      <th></th>\n",
       "      <th></th>\n",
       "      <th></th>\n",
       "      <th></th>\n",
       "      <th></th>\n",
       "      <th></th>\n",
       "      <th></th>\n",
       "      <th></th>\n",
       "      <th></th>\n",
       "      <th></th>\n",
       "      <th></th>\n",
       "      <th></th>\n",
       "      <th></th>\n",
       "      <th></th>\n",
       "      <th></th>\n",
       "      <th></th>\n",
       "      <th></th>\n",
       "      <th></th>\n",
       "      <th></th>\n",
       "      <th></th>\n",
       "    </tr>\n",
       "  </thead>\n",
       "  <tbody>\n",
       "    <tr>\n",
       "      <th>0.0</th>\n",
       "      <td>13.219505</td>\n",
       "      <td>1.801482</td>\n",
       "      <td>1.510989</td>\n",
       "      <td>0.501258</td>\n",
       "      <td>16.231978</td>\n",
       "      <td>0.239536</td>\n",
       "      <td>17.208352</td>\n",
       "      <td>0.492617</td>\n",
       "      <td>0.976374</td>\n",
       "      <td>0.519210</td>\n",
       "      <td>...</td>\n",
       "      <td>285.906593</td>\n",
       "      <td>2.153517</td>\n",
       "      <td>2.379121</td>\n",
       "      <td>0.598528</td>\n",
       "      <td>0.737363</td>\n",
       "      <td>0.154954</td>\n",
       "      <td>0.063187</td>\n",
       "      <td>0.087423</td>\n",
       "      <td>-0.674176</td>\n",
       "      <td>0.173502</td>\n",
       "    </tr>\n",
       "    <tr>\n",
       "      <th>0.4</th>\n",
       "      <td>12.232534</td>\n",
       "      <td>1.297871</td>\n",
       "      <td>1.500000</td>\n",
       "      <td>0.501721</td>\n",
       "      <td>16.247877</td>\n",
       "      <td>0.250189</td>\n",
       "      <td>17.231027</td>\n",
       "      <td>0.297888</td>\n",
       "      <td>0.983151</td>\n",
       "      <td>0.507066</td>\n",
       "      <td>...</td>\n",
       "      <td>285.931507</td>\n",
       "      <td>2.076660</td>\n",
       "      <td>2.458904</td>\n",
       "      <td>0.500024</td>\n",
       "      <td>0.736986</td>\n",
       "      <td>0.132360</td>\n",
       "      <td>0.096575</td>\n",
       "      <td>0.141623</td>\n",
       "      <td>-0.640411</td>\n",
       "      <td>0.193900</td>\n",
       "    </tr>\n",
       "    <tr>\n",
       "      <th>1.5</th>\n",
       "      <td>14.233667</td>\n",
       "      <td>0.854822</td>\n",
       "      <td>1.500000</td>\n",
       "      <td>0.501675</td>\n",
       "      <td>16.513533</td>\n",
       "      <td>0.232374</td>\n",
       "      <td>17.441267</td>\n",
       "      <td>0.535817</td>\n",
       "      <td>0.927733</td>\n",
       "      <td>0.678965</td>\n",
       "      <td>...</td>\n",
       "      <td>285.973333</td>\n",
       "      <td>2.151780</td>\n",
       "      <td>2.273333</td>\n",
       "      <td>0.694143</td>\n",
       "      <td>0.749333</td>\n",
       "      <td>0.170961</td>\n",
       "      <td>0.073333</td>\n",
       "      <td>0.098762</td>\n",
       "      <td>-0.676000</td>\n",
       "      <td>0.185255</td>\n",
       "    </tr>\n",
       "    <tr>\n",
       "      <th>3.0</th>\n",
       "      <td>15.916554</td>\n",
       "      <td>0.855403</td>\n",
       "      <td>1.506757</td>\n",
       "      <td>0.501652</td>\n",
       "      <td>16.565743</td>\n",
       "      <td>0.250227</td>\n",
       "      <td>17.438581</td>\n",
       "      <td>0.619067</td>\n",
       "      <td>0.872838</td>\n",
       "      <td>0.688168</td>\n",
       "      <td>...</td>\n",
       "      <td>286.358108</td>\n",
       "      <td>2.499007</td>\n",
       "      <td>2.290541</td>\n",
       "      <td>0.682666</td>\n",
       "      <td>0.759459</td>\n",
       "      <td>0.207623</td>\n",
       "      <td>0.041892</td>\n",
       "      <td>0.057159</td>\n",
       "      <td>-0.717568</td>\n",
       "      <td>0.213081</td>\n",
       "    </tr>\n",
       "  </tbody>\n",
       "</table>\n",
       "<p>4 rows × 58 columns</p>\n",
       "</div>"
      ],
      "text/plain": [
       "                    time                 day           chloride_80ft(mg/L)  \\\n",
       "                    mean       std      mean       std                mean   \n",
       "concentration                                                                \n",
       "0.0            13.219505  1.801482  1.510989  0.501258           16.231978   \n",
       "0.4            12.232534  1.297871  1.500000  0.501721           16.247877   \n",
       "1.5            14.233667  0.854822  1.500000  0.501675           16.513533   \n",
       "3.0            15.916554  0.855403  1.506757  0.501652           16.565743   \n",
       "\n",
       "                        chloride_1100ft(mg/L)           difference_chloride  \\\n",
       "                    std                  mean       std                mean   \n",
       "concentration                                                                 \n",
       "0.0            0.239536             17.208352  0.492617            0.976374   \n",
       "0.4            0.250189             17.231027  0.297888            0.983151   \n",
       "1.5            0.232374             17.441267  0.535817            0.927733   \n",
       "3.0            0.250227             17.438581  0.619067            0.872838   \n",
       "\n",
       "                         ... sp_cond_YSI_1100ft(µS/cm)            \\\n",
       "                    std  ...                      mean       std   \n",
       "concentration            ...                                       \n",
       "0.0            0.519210  ...                285.906593  2.153517   \n",
       "0.4            0.507066  ...                285.931507  2.076660   \n",
       "1.5            0.678965  ...                285.973333  2.151780   \n",
       "3.0            0.688168  ...                286.358108  2.499007   \n",
       "\n",
       "              difference_sp_cond_YSI           turbidity_YSI_80ft(NTU+)  \\\n",
       "                                mean       std                     mean   \n",
       "concentration                                                             \n",
       "0.0                         2.379121  0.598528                 0.737363   \n",
       "0.4                         2.458904  0.500024                 0.736986   \n",
       "1.5                         2.273333  0.694143                 0.749333   \n",
       "3.0                         2.290541  0.682666                 0.759459   \n",
       "\n",
       "                        turbidity_YSI_1100ft(NTU+)            \\\n",
       "                    std                       mean       std   \n",
       "concentration                                                  \n",
       "0.0            0.154954                   0.063187  0.087423   \n",
       "0.4            0.132360                   0.096575  0.141623   \n",
       "1.5            0.170961                   0.073333  0.098762   \n",
       "3.0            0.207623                   0.041892  0.057159   \n",
       "\n",
       "              difference_turbidity            \n",
       "                              mean       std  \n",
       "concentration                                 \n",
       "0.0                      -0.674176  0.173502  \n",
       "0.4                      -0.640411  0.193900  \n",
       "1.5                      -0.676000  0.185255  \n",
       "3.0                      -0.717568  0.213081  \n",
       "\n",
       "[4 rows x 58 columns]"
      ]
     },
     "execution_count": 5,
     "metadata": {},
     "output_type": "execute_result"
    }
   ],
   "source": [
    "# Media y desviación típica por grupo\n",
    "datos.groupby('concentration').agg(['mean','std'])"
   ]
  },
  {
   "attachments": {},
   "cell_type": "markdown",
   "metadata": {},
   "source": [
    "### Chloride"
   ]
  },
  {
   "cell_type": "code",
   "execution_count": 8,
   "metadata": {},
   "outputs": [
    {
     "data": {
      "text/plain": [
       "<AxesSubplot:xlabel='concentration', ylabel='chloride_80ft(mg/L)'>"
      ]
     },
     "execution_count": 8,
     "metadata": {},
     "output_type": "execute_result"
    },
    {
     "data": {
      "image/png": "[encoded data removed]",
      "text/plain": [
       "<Figure size 576x288 with 1 Axes>"
      ]
     },
     "metadata": {
      "needs_background": "light"
     },
     "output_type": "display_data"
    }
   ],
   "source": [
    "### chloride_80ft(mg/L)\n",
    "fig, ax = plt.subplots(1, 1, figsize=(8, 4))\n",
    "sns.boxplot(x=\"concentration\", y=\"chloride_80ft(mg/L)\", data=datos2, ax=ax)\n",
    "#sns.swarmplot(x=\"concentration\", y=\"chloride_80ft(mg/L)\", data=datos2, color='black', alpha = 0.5, ax=ax);"
   ]
  },
  {
   "cell_type": "code",
   "execution_count": 9,
   "metadata": {},
   "outputs": [
    {
     "data": {
      "text/html": [
       "<div>\n",
       "<style scoped>\n",
       "    .dataframe tbody tr th:only-of-type {\n",
       "        vertical-align: middle;\n",
       "    }\n",
       "\n",
       "    .dataframe tbody tr th {\n",
       "        vertical-align: top;\n",
       "    }\n",
       "\n",
       "    .dataframe thead th {\n",
       "        text-align: right;\n",
       "    }\n",
       "</style>\n",
       "<table border=\"1\" class=\"dataframe\">\n",
       "  <thead>\n",
       "    <tr style=\"text-align: right;\">\n",
       "      <th></th>\n",
       "      <th>Source</th>\n",
       "      <th>SS</th>\n",
       "      <th>DF</th>\n",
       "      <th>MS</th>\n",
       "      <th>F</th>\n",
       "      <th>p-unc</th>\n",
       "      <th>np2</th>\n",
       "    </tr>\n",
       "  </thead>\n",
       "  <tbody>\n",
       "    <tr>\n",
       "      <th>0</th>\n",
       "      <td>concentration</td>\n",
       "      <td>14.299768</td>\n",
       "      <td>3</td>\n",
       "      <td>4.766589</td>\n",
       "      <td>73.04007</td>\n",
       "      <td>4.383459e-40</td>\n",
       "      <td>0.274202</td>\n",
       "    </tr>\n",
       "    <tr>\n",
       "      <th>1</th>\n",
       "      <td>Within</td>\n",
       "      <td>37.850754</td>\n",
       "      <td>580</td>\n",
       "      <td>0.065260</td>\n",
       "      <td>NaN</td>\n",
       "      <td>NaN</td>\n",
       "      <td>NaN</td>\n",
       "    </tr>\n",
       "  </tbody>\n",
       "</table>\n",
       "</div>"
      ],
      "text/plain": [
       "          Source         SS   DF        MS         F         p-unc       np2\n",
       "0  concentration  14.299768    3  4.766589  73.04007  4.383459e-40  0.274202\n",
       "1         Within  37.850754  580  0.065260       NaN           NaN       NaN"
      ]
     },
     "execution_count": 9,
     "metadata": {},
     "output_type": "execute_result"
    }
   ],
   "source": [
    "### ANOVA: chloride_80ft(mg/L)\n",
    "\n",
    "# Se genera ANOVA a partir de la libreria Pingouin\n",
    "pg.anova(data=datos2, dv=\"chloride_80ft(mg/L)\", between=\"concentration\", detailed=True)"
   ]
  },
  {
   "cell_type": "code",
   "execution_count": 11,
   "metadata": {},
   "outputs": [
    {
     "data": {
      "text/plain": [
       "<AxesSubplot:xlabel='concentration', ylabel='chloride_1100ft(mg/L)'>"
      ]
     },
     "execution_count": 11,
     "metadata": {},
     "output_type": "execute_result"
    },
    {
     "data": {
      "image/png": "[encoded data removed]",
      "text/plain": [
       "<Figure size 576x288 with 1 Axes>"
      ]
     },
     "metadata": {
      "needs_background": "light"
     },
     "output_type": "display_data"
    }
   ],
   "source": [
    "### chloride_1100ft(mg/L)\n",
    "fig, ax = plt.subplots(1, 1, figsize=(8, 4))\n",
    "sns.boxplot(x=\"concentration\", y=\"chloride_1100ft(mg/L)\", data=datos2, ax=ax)"
   ]
  },
  {
   "cell_type": "code",
   "execution_count": 12,
   "metadata": {},
   "outputs": [
    {
     "data": {
      "text/html": [
       "<div>\n",
       "<style scoped>\n",
       "    .dataframe tbody tr th:only-of-type {\n",
       "        vertical-align: middle;\n",
       "    }\n",
       "\n",
       "    .dataframe tbody tr th {\n",
       "        vertical-align: top;\n",
       "    }\n",
       "\n",
       "    .dataframe thead th {\n",
       "        text-align: right;\n",
       "    }\n",
       "</style>\n",
       "<table border=\"1\" class=\"dataframe\">\n",
       "  <thead>\n",
       "    <tr style=\"text-align: right;\">\n",
       "      <th></th>\n",
       "      <th>Source</th>\n",
       "      <th>SS</th>\n",
       "      <th>DF</th>\n",
       "      <th>MS</th>\n",
       "      <th>F</th>\n",
       "      <th>p-unc</th>\n",
       "      <th>np2</th>\n",
       "    </tr>\n",
       "  </thead>\n",
       "  <tbody>\n",
       "    <tr>\n",
       "      <th>0</th>\n",
       "      <td>concentration</td>\n",
       "      <td>6.472763</td>\n",
       "      <td>3</td>\n",
       "      <td>2.157588</td>\n",
       "      <td>8.813227</td>\n",
       "      <td>0.00001</td>\n",
       "      <td>0.043598</td>\n",
       "    </tr>\n",
       "    <tr>\n",
       "      <th>1</th>\n",
       "      <td>Within</td>\n",
       "      <td>141.991221</td>\n",
       "      <td>580</td>\n",
       "      <td>0.244812</td>\n",
       "      <td>NaN</td>\n",
       "      <td>NaN</td>\n",
       "      <td>NaN</td>\n",
       "    </tr>\n",
       "  </tbody>\n",
       "</table>\n",
       "</div>"
      ],
      "text/plain": [
       "          Source          SS   DF        MS         F    p-unc       np2\n",
       "0  concentration    6.472763    3  2.157588  8.813227  0.00001  0.043598\n",
       "1         Within  141.991221  580  0.244812       NaN      NaN       NaN"
      ]
     },
     "execution_count": 12,
     "metadata": {},
     "output_type": "execute_result"
    }
   ],
   "source": [
    "### ANOVA: chloride_1100ft(mg/L)\n",
    "\n",
    "# Se genera ANOVA a partir de la libreria Pingouin\n",
    "pg.anova(data=datos2, dv=\"chloride_1100ft(mg/L)\", between=\"concentration\", detailed=True)"
   ]
  },
  {
   "attachments": {},
   "cell_type": "markdown",
   "metadata": {},
   "source": [
    "### CL2"
   ]
  },
  {
   "cell_type": "code",
   "execution_count": 14,
   "metadata": {},
   "outputs": [
    {
     "data": {
      "text/plain": [
       "<AxesSubplot:xlabel='concentration', ylabel='CL2_80ft(PPM)'>"
      ]
     },
     "execution_count": 14,
     "metadata": {},
     "output_type": "execute_result"
    },
    {
     "data": {
      "image/png": "[encoded data removed]",
      "text/plain": [
       "<Figure size 576x288 with 1 Axes>"
      ]
     },
     "metadata": {
      "needs_background": "light"
     },
     "output_type": "display_data"
    }
   ],
   "source": [
    "### CL2_80ft(PPM)\n",
    "fig, ax = plt.subplots(1, 1, figsize=(8, 4))\n",
    "sns.boxplot(x=\"concentration\", y=\"CL2_80ft(PPM)\", data=datos2, ax=ax)"
   ]
  },
  {
   "cell_type": "code",
   "execution_count": 15,
   "metadata": {},
   "outputs": [
    {
     "data": {
      "text/html": [
       "<div>\n",
       "<style scoped>\n",
       "    .dataframe tbody tr th:only-of-type {\n",
       "        vertical-align: middle;\n",
       "    }\n",
       "\n",
       "    .dataframe tbody tr th {\n",
       "        vertical-align: top;\n",
       "    }\n",
       "\n",
       "    .dataframe thead th {\n",
       "        text-align: right;\n",
       "    }\n",
       "</style>\n",
       "<table border=\"1\" class=\"dataframe\">\n",
       "  <thead>\n",
       "    <tr style=\"text-align: right;\">\n",
       "      <th></th>\n",
       "      <th>Source</th>\n",
       "      <th>SS</th>\n",
       "      <th>DF</th>\n",
       "      <th>MS</th>\n",
       "      <th>F</th>\n",
       "      <th>p-unc</th>\n",
       "      <th>np2</th>\n",
       "    </tr>\n",
       "  </thead>\n",
       "  <tbody>\n",
       "    <tr>\n",
       "      <th>0</th>\n",
       "      <td>concentration</td>\n",
       "      <td>2.900102</td>\n",
       "      <td>3</td>\n",
       "      <td>0.966701</td>\n",
       "      <td>40.814609</td>\n",
       "      <td>6.097111e-24</td>\n",
       "      <td>0.174311</td>\n",
       "    </tr>\n",
       "    <tr>\n",
       "      <th>1</th>\n",
       "      <td>Within</td>\n",
       "      <td>13.737394</td>\n",
       "      <td>580</td>\n",
       "      <td>0.023685</td>\n",
       "      <td>NaN</td>\n",
       "      <td>NaN</td>\n",
       "      <td>NaN</td>\n",
       "    </tr>\n",
       "  </tbody>\n",
       "</table>\n",
       "</div>"
      ],
      "text/plain": [
       "          Source         SS   DF        MS          F         p-unc       np2\n",
       "0  concentration   2.900102    3  0.966701  40.814609  6.097111e-24  0.174311\n",
       "1         Within  13.737394  580  0.023685        NaN           NaN       NaN"
      ]
     },
     "execution_count": 15,
     "metadata": {},
     "output_type": "execute_result"
    }
   ],
   "source": [
    "### ANOVA: CL2_80ft(PPM)\n",
    "\n",
    "# Se genera ANOVA a partir de la libreria Pingouin\n",
    "pg.anova(data=datos2, dv=\"CL2_80ft(PPM)\", between=\"concentration\", detailed=True)"
   ]
  },
  {
   "cell_type": "code",
   "execution_count": 16,
   "metadata": {},
   "outputs": [
    {
     "data": {
      "text/plain": [
       "<AxesSubplot:xlabel='concentration', ylabel='CL2_1100ft(PPM)'>"
      ]
     },
     "execution_count": 16,
     "metadata": {},
     "output_type": "execute_result"
    },
    {
     "data": {
      "image/png": "[encoded data removed]",
      "text/plain": [
       "<Figure size 576x288 with 1 Axes>"
      ]
     },
     "metadata": {
      "needs_background": "light"
     },
     "output_type": "display_data"
    }
   ],
   "source": [
    "### CL2_1100ft(PPM)\n",
    "fig, ax = plt.subplots(1, 1, figsize=(8, 4))\n",
    "sns.boxplot(x=\"concentration\", y=\"CL2_1100ft(PPM)\", data=datos2, ax=ax)"
   ]
  },
  {
   "cell_type": "code",
   "execution_count": 17,
   "metadata": {},
   "outputs": [
    {
     "data": {
      "text/html": [
       "<div>\n",
       "<style scoped>\n",
       "    .dataframe tbody tr th:only-of-type {\n",
       "        vertical-align: middle;\n",
       "    }\n",
       "\n",
       "    .dataframe tbody tr th {\n",
       "        vertical-align: top;\n",
       "    }\n",
       "\n",
       "    .dataframe thead th {\n",
       "        text-align: right;\n",
       "    }\n",
       "</style>\n",
       "<table border=\"1\" class=\"dataframe\">\n",
       "  <thead>\n",
       "    <tr style=\"text-align: right;\">\n",
       "      <th></th>\n",
       "      <th>Source</th>\n",
       "      <th>SS</th>\n",
       "      <th>DF</th>\n",
       "      <th>MS</th>\n",
       "      <th>F</th>\n",
       "      <th>p-unc</th>\n",
       "      <th>np2</th>\n",
       "    </tr>\n",
       "  </thead>\n",
       "  <tbody>\n",
       "    <tr>\n",
       "      <th>0</th>\n",
       "      <td>concentration</td>\n",
       "      <td>1.009890</td>\n",
       "      <td>3</td>\n",
       "      <td>0.33663</td>\n",
       "      <td>19.848624</td>\n",
       "      <td>2.931733e-12</td>\n",
       "      <td>0.093106</td>\n",
       "    </tr>\n",
       "    <tr>\n",
       "      <th>1</th>\n",
       "      <td>Within</td>\n",
       "      <td>9.836726</td>\n",
       "      <td>580</td>\n",
       "      <td>0.01696</td>\n",
       "      <td>NaN</td>\n",
       "      <td>NaN</td>\n",
       "      <td>NaN</td>\n",
       "    </tr>\n",
       "  </tbody>\n",
       "</table>\n",
       "</div>"
      ],
      "text/plain": [
       "          Source        SS   DF       MS          F         p-unc       np2\n",
       "0  concentration  1.009890    3  0.33663  19.848624  2.931733e-12  0.093106\n",
       "1         Within  9.836726  580  0.01696        NaN           NaN       NaN"
      ]
     },
     "execution_count": 17,
     "metadata": {},
     "output_type": "execute_result"
    }
   ],
   "source": [
    "### ANOVA: CL2_1100ft(PPM)\n",
    "\n",
    "# Se genera ANOVA a partir de la libreria Pingouin\n",
    "pg.anova(data=datos2, dv=\"CL2_1100ft(PPM)\", between=\"concentration\", detailed=True)"
   ]
  },
  {
   "attachments": {},
   "cell_type": "markdown",
   "metadata": {},
   "source": [
    "### DO_YSI"
   ]
  },
  {
   "cell_type": "code",
   "execution_count": 18,
   "metadata": {},
   "outputs": [
    {
     "data": {
      "text/plain": [
       "<AxesSubplot:xlabel='concentration', ylabel='DO_YSI_80ft(mg/L)'>"
      ]
     },
     "execution_count": 18,
     "metadata": {},
     "output_type": "execute_result"
    },
    {
     "data": {
      "image/png": "[encoded data removed]",
      "text/plain": [
       "<Figure size 576x288 with 1 Axes>"
      ]
     },
     "metadata": {
      "needs_background": "light"
     },
     "output_type": "display_data"
    }
   ],
   "source": [
    "### DO_YSI_80ft(mg/L)\n",
    "fig, ax = plt.subplots(1, 1, figsize=(8, 4))\n",
    "sns.boxplot(x=\"concentration\", y=\"DO_YSI_80ft(mg/L)\", data=datos2, ax=ax)"
   ]
  },
  {
   "cell_type": "code",
   "execution_count": 22,
   "metadata": {},
   "outputs": [
    {
     "data": {
      "text/html": [
       "<div>\n",
       "<style scoped>\n",
       "    .dataframe tbody tr th:only-of-type {\n",
       "        vertical-align: middle;\n",
       "    }\n",
       "\n",
       "    .dataframe tbody tr th {\n",
       "        vertical-align: top;\n",
       "    }\n",
       "\n",
       "    .dataframe thead th {\n",
       "        text-align: right;\n",
       "    }\n",
       "</style>\n",
       "<table border=\"1\" class=\"dataframe\">\n",
       "  <thead>\n",
       "    <tr style=\"text-align: right;\">\n",
       "      <th></th>\n",
       "      <th>Source</th>\n",
       "      <th>SS</th>\n",
       "      <th>DF</th>\n",
       "      <th>MS</th>\n",
       "      <th>F</th>\n",
       "      <th>p-unc</th>\n",
       "      <th>np2</th>\n",
       "    </tr>\n",
       "  </thead>\n",
       "  <tbody>\n",
       "    <tr>\n",
       "      <th>0</th>\n",
       "      <td>concentration</td>\n",
       "      <td>4.102637</td>\n",
       "      <td>3</td>\n",
       "      <td>1.367546</td>\n",
       "      <td>105.080301</td>\n",
       "      <td>2.457396e-54</td>\n",
       "      <td>0.35213</td>\n",
       "    </tr>\n",
       "    <tr>\n",
       "      <th>1</th>\n",
       "      <td>Within</td>\n",
       "      <td>7.548289</td>\n",
       "      <td>580</td>\n",
       "      <td>0.013014</td>\n",
       "      <td>NaN</td>\n",
       "      <td>NaN</td>\n",
       "      <td>NaN</td>\n",
       "    </tr>\n",
       "  </tbody>\n",
       "</table>\n",
       "</div>"
      ],
      "text/plain": [
       "          Source        SS   DF        MS           F         p-unc      np2\n",
       "0  concentration  4.102637    3  1.367546  105.080301  2.457396e-54  0.35213\n",
       "1         Within  7.548289  580  0.013014         NaN           NaN      NaN"
      ]
     },
     "execution_count": 22,
     "metadata": {},
     "output_type": "execute_result"
    }
   ],
   "source": [
    "### ANOVA: DO_YSI_80ft(mg/L)\n",
    "\n",
    "# Se genera ANOVA a partir de la libreria Pingouin\n",
    "pg.anova(data=datos2, dv=\"DO_YSI_80ft(mg/L)\", between=\"concentration\", detailed=True)"
   ]
  },
  {
   "cell_type": "code",
   "execution_count": 20,
   "metadata": {},
   "outputs": [
    {
     "data": {
      "text/plain": [
       "<AxesSubplot:xlabel='concentration', ylabel='DO_YSI_1100ft(mg/L)'>"
      ]
     },
     "execution_count": 20,
     "metadata": {},
     "output_type": "execute_result"
    },
    {
     "data": {
      "image/png": "[encoded data removed]",
      "text/plain": [
       "<Figure size 576x288 with 1 Axes>"
      ]
     },
     "metadata": {
      "needs_background": "light"
     },
     "output_type": "display_data"
    }
   ],
   "source": [
    "### DO_YSI_1100ft(mg/L)\n",
    "fig, ax = plt.subplots(1, 1, figsize=(8, 4))\n",
    "sns.boxplot(x=\"concentration\", y=\"DO_YSI_1100ft(mg/L)\", data=datos2, ax=ax)"
   ]
  },
  {
   "cell_type": "code",
   "execution_count": 23,
   "metadata": {},
   "outputs": [
    {
     "data": {
      "text/html": [
       "<div>\n",
       "<style scoped>\n",
       "    .dataframe tbody tr th:only-of-type {\n",
       "        vertical-align: middle;\n",
       "    }\n",
       "\n",
       "    .dataframe tbody tr th {\n",
       "        vertical-align: top;\n",
       "    }\n",
       "\n",
       "    .dataframe thead th {\n",
       "        text-align: right;\n",
       "    }\n",
       "</style>\n",
       "<table border=\"1\" class=\"dataframe\">\n",
       "  <thead>\n",
       "    <tr style=\"text-align: right;\">\n",
       "      <th></th>\n",
       "      <th>Source</th>\n",
       "      <th>SS</th>\n",
       "      <th>DF</th>\n",
       "      <th>MS</th>\n",
       "      <th>F</th>\n",
       "      <th>p-unc</th>\n",
       "      <th>np2</th>\n",
       "    </tr>\n",
       "  </thead>\n",
       "  <tbody>\n",
       "    <tr>\n",
       "      <th>0</th>\n",
       "      <td>concentration</td>\n",
       "      <td>4.260888</td>\n",
       "      <td>3</td>\n",
       "      <td>1.420296</td>\n",
       "      <td>143.410585</td>\n",
       "      <td>1.628853e-69</td>\n",
       "      <td>0.425874</td>\n",
       "    </tr>\n",
       "    <tr>\n",
       "      <th>1</th>\n",
       "      <td>Within</td>\n",
       "      <td>5.744149</td>\n",
       "      <td>580</td>\n",
       "      <td>0.009904</td>\n",
       "      <td>NaN</td>\n",
       "      <td>NaN</td>\n",
       "      <td>NaN</td>\n",
       "    </tr>\n",
       "  </tbody>\n",
       "</table>\n",
       "</div>"
      ],
      "text/plain": [
       "          Source        SS   DF        MS           F         p-unc       np2\n",
       "0  concentration  4.260888    3  1.420296  143.410585  1.628853e-69  0.425874\n",
       "1         Within  5.744149  580  0.009904         NaN           NaN       NaN"
      ]
     },
     "execution_count": 23,
     "metadata": {},
     "output_type": "execute_result"
    }
   ],
   "source": [
    "### ANOVA: DO_YSI_1100ft(mg/L)\n",
    "\n",
    "# Se genera ANOVA a partir de la libreria Pingouin\n",
    "pg.anova(data=datos2, dv=\"DO_YSI_1100ft(mg/L)\", between=\"concentration\", detailed=True)"
   ]
  },
  {
   "attachments": {},
   "cell_type": "markdown",
   "metadata": {},
   "source": [
    "### FreeClorine_ATI"
   ]
  },
  {
   "cell_type": "code",
   "execution_count": 24,
   "metadata": {},
   "outputs": [
    {
     "data": {
      "text/plain": [
       "<AxesSubplot:xlabel='concentration', ylabel='FreeClorine_ATI_80ft(PPM)'>"
      ]
     },
     "execution_count": 24,
     "metadata": {},
     "output_type": "execute_result"
    },
    {
     "data": {
      "image/png": "[encoded data removed]",
      "text/plain": [
       "<Figure size 576x288 with 1 Axes>"
      ]
     },
     "metadata": {
      "needs_background": "light"
     },
     "output_type": "display_data"
    }
   ],
   "source": [
    "### FreeClorine_ATI_80ft(PPM)\n",
    "fig, ax = plt.subplots(1, 1, figsize=(8, 4))\n",
    "sns.boxplot(x=\"concentration\", y=\"FreeClorine_ATI_80ft(PPM)\", data=datos2, ax=ax)"
   ]
  },
  {
   "cell_type": "code",
   "execution_count": 25,
   "metadata": {},
   "outputs": [
    {
     "data": {
      "text/html": [
       "<div>\n",
       "<style scoped>\n",
       "    .dataframe tbody tr th:only-of-type {\n",
       "        vertical-align: middle;\n",
       "    }\n",
       "\n",
       "    .dataframe tbody tr th {\n",
       "        vertical-align: top;\n",
       "    }\n",
       "\n",
       "    .dataframe thead th {\n",
       "        text-align: right;\n",
       "    }\n",
       "</style>\n",
       "<table border=\"1\" class=\"dataframe\">\n",
       "  <thead>\n",
       "    <tr style=\"text-align: right;\">\n",
       "      <th></th>\n",
       "      <th>Source</th>\n",
       "      <th>SS</th>\n",
       "      <th>DF</th>\n",
       "      <th>MS</th>\n",
       "      <th>F</th>\n",
       "      <th>p-unc</th>\n",
       "      <th>np2</th>\n",
       "    </tr>\n",
       "  </thead>\n",
       "  <tbody>\n",
       "    <tr>\n",
       "      <th>0</th>\n",
       "      <td>concentration</td>\n",
       "      <td>6.240795</td>\n",
       "      <td>3</td>\n",
       "      <td>2.080265</td>\n",
       "      <td>32.534848</td>\n",
       "      <td>1.900283e-19</td>\n",
       "      <td>0.144044</td>\n",
       "    </tr>\n",
       "    <tr>\n",
       "      <th>1</th>\n",
       "      <td>Within</td>\n",
       "      <td>37.084966</td>\n",
       "      <td>580</td>\n",
       "      <td>0.063940</td>\n",
       "      <td>NaN</td>\n",
       "      <td>NaN</td>\n",
       "      <td>NaN</td>\n",
       "    </tr>\n",
       "  </tbody>\n",
       "</table>\n",
       "</div>"
      ],
      "text/plain": [
       "          Source         SS   DF        MS          F         p-unc       np2\n",
       "0  concentration   6.240795    3  2.080265  32.534848  1.900283e-19  0.144044\n",
       "1         Within  37.084966  580  0.063940        NaN           NaN       NaN"
      ]
     },
     "execution_count": 25,
     "metadata": {},
     "output_type": "execute_result"
    }
   ],
   "source": [
    "### ANOVA: FreeClorine_ATI_80ft(PPM)\n",
    "\n",
    "# Se genera ANOVA a partir de la libreria Pingouin\n",
    "pg.anova(data=datos2, dv=\"FreeClorine_ATI_80ft(PPM)\", between=\"concentration\", detailed=True)"
   ]
  },
  {
   "cell_type": "code",
   "execution_count": 26,
   "metadata": {},
   "outputs": [
    {
     "data": {
      "text/plain": [
       "<AxesSubplot:xlabel='concentration', ylabel='FreeClorine_ATI_1100ft(PPM)'>"
      ]
     },
     "execution_count": 26,
     "metadata": {},
     "output_type": "execute_result"
    },
    {
     "data": {
      "image/png": "[encoded data removed]",
      "text/plain": [
       "<Figure size 576x288 with 1 Axes>"
      ]
     },
     "metadata": {
      "needs_background": "light"
     },
     "output_type": "display_data"
    }
   ],
   "source": [
    "### FreeClorine_ATI_1100ft(PPM)\n",
    "fig, ax = plt.subplots(1, 1, figsize=(8, 4))\n",
    "sns.boxplot(x=\"concentration\", y=\"FreeClorine_ATI_1100ft(PPM)\", data=datos2, ax=ax)"
   ]
  },
  {
   "cell_type": "code",
   "execution_count": 27,
   "metadata": {},
   "outputs": [
    {
     "data": {
      "text/html": [
       "<div>\n",
       "<style scoped>\n",
       "    .dataframe tbody tr th:only-of-type {\n",
       "        vertical-align: middle;\n",
       "    }\n",
       "\n",
       "    .dataframe tbody tr th {\n",
       "        vertical-align: top;\n",
       "    }\n",
       "\n",
       "    .dataframe thead th {\n",
       "        text-align: right;\n",
       "    }\n",
       "</style>\n",
       "<table border=\"1\" class=\"dataframe\">\n",
       "  <thead>\n",
       "    <tr style=\"text-align: right;\">\n",
       "      <th></th>\n",
       "      <th>Source</th>\n",
       "      <th>SS</th>\n",
       "      <th>DF</th>\n",
       "      <th>MS</th>\n",
       "      <th>F</th>\n",
       "      <th>p-unc</th>\n",
       "      <th>np2</th>\n",
       "    </tr>\n",
       "  </thead>\n",
       "  <tbody>\n",
       "    <tr>\n",
       "      <th>0</th>\n",
       "      <td>concentration</td>\n",
       "      <td>4.177991</td>\n",
       "      <td>3</td>\n",
       "      <td>1.392664</td>\n",
       "      <td>31.394155</td>\n",
       "      <td>8.128171e-19</td>\n",
       "      <td>0.139699</td>\n",
       "    </tr>\n",
       "    <tr>\n",
       "      <th>1</th>\n",
       "      <td>Within</td>\n",
       "      <td>25.729151</td>\n",
       "      <td>580</td>\n",
       "      <td>0.044361</td>\n",
       "      <td>NaN</td>\n",
       "      <td>NaN</td>\n",
       "      <td>NaN</td>\n",
       "    </tr>\n",
       "  </tbody>\n",
       "</table>\n",
       "</div>"
      ],
      "text/plain": [
       "          Source         SS   DF        MS          F         p-unc       np2\n",
       "0  concentration   4.177991    3  1.392664  31.394155  8.128171e-19  0.139699\n",
       "1         Within  25.729151  580  0.044361        NaN           NaN       NaN"
      ]
     },
     "execution_count": 27,
     "metadata": {},
     "output_type": "execute_result"
    }
   ],
   "source": [
    "### ANOVA: FreeClorine_ATI_1100ft(PPM)\n",
    "\n",
    "# Se genera ANOVA a partir de la libreria Pingouin\n",
    "pg.anova(data=datos2, dv=\"FreeClorine_ATI_1100ft(PPM)\", between=\"concentration\", detailed=True)"
   ]
  },
  {
   "attachments": {},
   "cell_type": "markdown",
   "metadata": {},
   "source": [
    "### FreeClorine_X"
   ]
  },
  {
   "cell_type": "code",
   "execution_count": 28,
   "metadata": {},
   "outputs": [
    {
     "data": {
      "text/plain": [
       "<AxesSubplot:xlabel='concentration', ylabel='FreeClorine_X_80ft(PPM)'>"
      ]
     },
     "execution_count": 28,
     "metadata": {},
     "output_type": "execute_result"
    },
    {
     "data": {
      "image/png": "[encoded data removed]",
      "text/plain": [
       "<Figure size 576x288 with 1 Axes>"
      ]
     },
     "metadata": {
      "needs_background": "light"
     },
     "output_type": "display_data"
    }
   ],
   "source": [
    "### FreeClorine_X_80ft(PPM)\n",
    "fig, ax = plt.subplots(1, 1, figsize=(8, 4))\n",
    "sns.boxplot(x=\"concentration\", y=\"FreeClorine_X_80ft(PPM)\", data=datos2, ax=ax)"
   ]
  },
  {
   "cell_type": "code",
   "execution_count": 29,
   "metadata": {},
   "outputs": [
    {
     "data": {
      "text/html": [
       "<div>\n",
       "<style scoped>\n",
       "    .dataframe tbody tr th:only-of-type {\n",
       "        vertical-align: middle;\n",
       "    }\n",
       "\n",
       "    .dataframe tbody tr th {\n",
       "        vertical-align: top;\n",
       "    }\n",
       "\n",
       "    .dataframe thead th {\n",
       "        text-align: right;\n",
       "    }\n",
       "</style>\n",
       "<table border=\"1\" class=\"dataframe\">\n",
       "  <thead>\n",
       "    <tr style=\"text-align: right;\">\n",
       "      <th></th>\n",
       "      <th>Source</th>\n",
       "      <th>SS</th>\n",
       "      <th>DF</th>\n",
       "      <th>MS</th>\n",
       "      <th>F</th>\n",
       "      <th>p-unc</th>\n",
       "      <th>np2</th>\n",
       "    </tr>\n",
       "  </thead>\n",
       "  <tbody>\n",
       "    <tr>\n",
       "      <th>0</th>\n",
       "      <td>concentration</td>\n",
       "      <td>2.132012</td>\n",
       "      <td>3</td>\n",
       "      <td>0.710671</td>\n",
       "      <td>22.463133</td>\n",
       "      <td>9.022204e-14</td>\n",
       "      <td>0.104094</td>\n",
       "    </tr>\n",
       "    <tr>\n",
       "      <th>1</th>\n",
       "      <td>Within</td>\n",
       "      <td>18.349579</td>\n",
       "      <td>580</td>\n",
       "      <td>0.031637</td>\n",
       "      <td>NaN</td>\n",
       "      <td>NaN</td>\n",
       "      <td>NaN</td>\n",
       "    </tr>\n",
       "  </tbody>\n",
       "</table>\n",
       "</div>"
      ],
      "text/plain": [
       "          Source         SS   DF        MS          F         p-unc       np2\n",
       "0  concentration   2.132012    3  0.710671  22.463133  9.022204e-14  0.104094\n",
       "1         Within  18.349579  580  0.031637        NaN           NaN       NaN"
      ]
     },
     "execution_count": 29,
     "metadata": {},
     "output_type": "execute_result"
    }
   ],
   "source": [
    "### ANOVA: FreeClorine_X_80ft(PPM)\n",
    "\n",
    "# Se genera ANOVA a partir de la libreria Pingouin\n",
    "pg.anova(data=datos2, dv=\"FreeClorine_X_80ft(PPM)\", between=\"concentration\", detailed=True)"
   ]
  },
  {
   "cell_type": "code",
   "execution_count": 30,
   "metadata": {},
   "outputs": [
    {
     "data": {
      "text/plain": [
       "<AxesSubplot:xlabel='concentration', ylabel='FreeClorine_X_1100ft(PPM)'>"
      ]
     },
     "execution_count": 30,
     "metadata": {},
     "output_type": "execute_result"
    },
    {
     "data": {
      "image/png": "[encoded data removed]",
      "text/plain": [
       "<Figure size 576x288 with 1 Axes>"
      ]
     },
     "metadata": {
      "needs_background": "light"
     },
     "output_type": "display_data"
    }
   ],
   "source": [
    "### FreeClorine_X_1100ft(PPM)\n",
    "fig, ax = plt.subplots(1, 1, figsize=(8, 4))\n",
    "sns.boxplot(x=\"concentration\", y=\"FreeClorine_X_1100ft(PPM)\", data=datos2, ax=ax)"
   ]
  },
  {
   "cell_type": "code",
   "execution_count": 31,
   "metadata": {},
   "outputs": [
    {
     "data": {
      "text/html": [
       "<div>\n",
       "<style scoped>\n",
       "    .dataframe tbody tr th:only-of-type {\n",
       "        vertical-align: middle;\n",
       "    }\n",
       "\n",
       "    .dataframe tbody tr th {\n",
       "        vertical-align: top;\n",
       "    }\n",
       "\n",
       "    .dataframe thead th {\n",
       "        text-align: right;\n",
       "    }\n",
       "</style>\n",
       "<table border=\"1\" class=\"dataframe\">\n",
       "  <thead>\n",
       "    <tr style=\"text-align: right;\">\n",
       "      <th></th>\n",
       "      <th>Source</th>\n",
       "      <th>SS</th>\n",
       "      <th>DF</th>\n",
       "      <th>MS</th>\n",
       "      <th>F</th>\n",
       "      <th>p-unc</th>\n",
       "      <th>np2</th>\n",
       "    </tr>\n",
       "  </thead>\n",
       "  <tbody>\n",
       "    <tr>\n",
       "      <th>0</th>\n",
       "      <td>concentration</td>\n",
       "      <td>3.991875</td>\n",
       "      <td>3</td>\n",
       "      <td>1.330625</td>\n",
       "      <td>25.249901</td>\n",
       "      <td>2.297259e-15</td>\n",
       "      <td>0.115516</td>\n",
       "    </tr>\n",
       "    <tr>\n",
       "      <th>1</th>\n",
       "      <td>Within</td>\n",
       "      <td>30.564974</td>\n",
       "      <td>580</td>\n",
       "      <td>0.052698</td>\n",
       "      <td>NaN</td>\n",
       "      <td>NaN</td>\n",
       "      <td>NaN</td>\n",
       "    </tr>\n",
       "  </tbody>\n",
       "</table>\n",
       "</div>"
      ],
      "text/plain": [
       "          Source         SS   DF        MS          F         p-unc       np2\n",
       "0  concentration   3.991875    3  1.330625  25.249901  2.297259e-15  0.115516\n",
       "1         Within  30.564974  580  0.052698        NaN           NaN       NaN"
      ]
     },
     "execution_count": 31,
     "metadata": {},
     "output_type": "execute_result"
    }
   ],
   "source": [
    "### ANOVA: FreeClorine_X_1100ft(PPM)\n",
    "\n",
    "# Se genera ANOVA a partir de la libreria Pingouin\n",
    "pg.anova(data=datos2, dv=\"FreeClorine_X_1100ft(PPM)\", between=\"concentration\", detailed=True)"
   ]
  },
  {
   "attachments": {},
   "cell_type": "markdown",
   "metadata": {},
   "source": [
    "### ORP_YSI"
   ]
  },
  {
   "cell_type": "code",
   "execution_count": 32,
   "metadata": {},
   "outputs": [
    {
     "data": {
      "text/plain": [
       "<AxesSubplot:xlabel='concentration', ylabel='ORP_YSI_80ft(mV)'>"
      ]
     },
     "execution_count": 32,
     "metadata": {},
     "output_type": "execute_result"
    },
    {
     "data": {
      "image/png": "[encoded data removed]",
      "text/plain": [
       "<Figure size 576x288 with 1 Axes>"
      ]
     },
     "metadata": {
      "needs_background": "light"
     },
     "output_type": "display_data"
    }
   ],
   "source": [
    "### ORP_YSI_80ft(mV)\n",
    "fig, ax = plt.subplots(1, 1, figsize=(8, 4))\n",
    "sns.boxplot(x=\"concentration\", y=\"ORP_YSI_80ft(mV)\", data=datos2, ax=ax)"
   ]
  },
  {
   "cell_type": "code",
   "execution_count": 33,
   "metadata": {},
   "outputs": [
    {
     "data": {
      "text/html": [
       "<div>\n",
       "<style scoped>\n",
       "    .dataframe tbody tr th:only-of-type {\n",
       "        vertical-align: middle;\n",
       "    }\n",
       "\n",
       "    .dataframe tbody tr th {\n",
       "        vertical-align: top;\n",
       "    }\n",
       "\n",
       "    .dataframe thead th {\n",
       "        text-align: right;\n",
       "    }\n",
       "</style>\n",
       "<table border=\"1\" class=\"dataframe\">\n",
       "  <thead>\n",
       "    <tr style=\"text-align: right;\">\n",
       "      <th></th>\n",
       "      <th>Source</th>\n",
       "      <th>SS</th>\n",
       "      <th>DF</th>\n",
       "      <th>MS</th>\n",
       "      <th>F</th>\n",
       "      <th>p-unc</th>\n",
       "      <th>np2</th>\n",
       "    </tr>\n",
       "  </thead>\n",
       "  <tbody>\n",
       "    <tr>\n",
       "      <th>0</th>\n",
       "      <td>concentration</td>\n",
       "      <td>114941.376712</td>\n",
       "      <td>3</td>\n",
       "      <td>38313.792237</td>\n",
       "      <td>46.88918</td>\n",
       "      <td>3.832382e-27</td>\n",
       "      <td>0.195191</td>\n",
       "    </tr>\n",
       "    <tr>\n",
       "      <th>1</th>\n",
       "      <td>Within</td>\n",
       "      <td>473925.958904</td>\n",
       "      <td>580</td>\n",
       "      <td>817.113722</td>\n",
       "      <td>NaN</td>\n",
       "      <td>NaN</td>\n",
       "      <td>NaN</td>\n",
       "    </tr>\n",
       "  </tbody>\n",
       "</table>\n",
       "</div>"
      ],
      "text/plain": [
       "          Source             SS   DF            MS         F         p-unc  \\\n",
       "0  concentration  114941.376712    3  38313.792237  46.88918  3.832382e-27   \n",
       "1         Within  473925.958904  580    817.113722       NaN           NaN   \n",
       "\n",
       "        np2  \n",
       "0  0.195191  \n",
       "1       NaN  "
      ]
     },
     "execution_count": 33,
     "metadata": {},
     "output_type": "execute_result"
    }
   ],
   "source": [
    "### ANOVA: ORP_YSI_80ft(mV)\n",
    "\n",
    "# Se genera ANOVA a partir de la libreria Pingouin\n",
    "pg.anova(data=datos2, dv=\"ORP_YSI_80ft(mV)\", between=\"concentration\", detailed=True)"
   ]
  },
  {
   "cell_type": "code",
   "execution_count": 34,
   "metadata": {},
   "outputs": [
    {
     "data": {
      "text/plain": [
       "<AxesSubplot:xlabel='concentration', ylabel='ORP_YSI_1100ft(mV)'>"
      ]
     },
     "execution_count": 34,
     "metadata": {},
     "output_type": "execute_result"
    },
    {
     "data": {
      "image/png": "[encoded data removed]",
      "text/plain": [
       "<Figure size 576x288 with 1 Axes>"
      ]
     },
     "metadata": {
      "needs_background": "light"
     },
     "output_type": "display_data"
    }
   ],
   "source": [
    "### ORP_YSI_1100ft(mV)\n",
    "fig, ax = plt.subplots(1, 1, figsize=(8, 4))\n",
    "sns.boxplot(x=\"concentration\", y=\"ORP_YSI_1100ft(mV)\", data=datos2, ax=ax)"
   ]
  },
  {
   "cell_type": "code",
   "execution_count": 35,
   "metadata": {},
   "outputs": [
    {
     "data": {
      "text/html": [
       "<div>\n",
       "<style scoped>\n",
       "    .dataframe tbody tr th:only-of-type {\n",
       "        vertical-align: middle;\n",
       "    }\n",
       "\n",
       "    .dataframe tbody tr th {\n",
       "        vertical-align: top;\n",
       "    }\n",
       "\n",
       "    .dataframe thead th {\n",
       "        text-align: right;\n",
       "    }\n",
       "</style>\n",
       "<table border=\"1\" class=\"dataframe\">\n",
       "  <thead>\n",
       "    <tr style=\"text-align: right;\">\n",
       "      <th></th>\n",
       "      <th>Source</th>\n",
       "      <th>SS</th>\n",
       "      <th>DF</th>\n",
       "      <th>MS</th>\n",
       "      <th>F</th>\n",
       "      <th>p-unc</th>\n",
       "      <th>np2</th>\n",
       "    </tr>\n",
       "  </thead>\n",
       "  <tbody>\n",
       "    <tr>\n",
       "      <th>0</th>\n",
       "      <td>concentration</td>\n",
       "      <td>10939.595890</td>\n",
       "      <td>3</td>\n",
       "      <td>3646.531963</td>\n",
       "      <td>88.905132</td>\n",
       "      <td>2.427950e-47</td>\n",
       "      <td>0.315</td>\n",
       "    </tr>\n",
       "    <tr>\n",
       "      <th>1</th>\n",
       "      <td>Within</td>\n",
       "      <td>23789.273973</td>\n",
       "      <td>580</td>\n",
       "      <td>41.015990</td>\n",
       "      <td>NaN</td>\n",
       "      <td>NaN</td>\n",
       "      <td>NaN</td>\n",
       "    </tr>\n",
       "  </tbody>\n",
       "</table>\n",
       "</div>"
      ],
      "text/plain": [
       "          Source            SS   DF           MS          F         p-unc  \\\n",
       "0  concentration  10939.595890    3  3646.531963  88.905132  2.427950e-47   \n",
       "1         Within  23789.273973  580    41.015990        NaN           NaN   \n",
       "\n",
       "     np2  \n",
       "0  0.315  \n",
       "1    NaN  "
      ]
     },
     "execution_count": 35,
     "metadata": {},
     "output_type": "execute_result"
    }
   ],
   "source": [
    "### ANOVA: ORP_YSI_1100ft(mV)\n",
    "\n",
    "# Se genera ANOVA a partir de la libreria Pingouin\n",
    "pg.anova(data=datos2, dv=\"ORP_YSI_1100ft(mV)\", between=\"concentration\", detailed=True)"
   ]
  },
  {
   "attachments": {},
   "cell_type": "markdown",
   "metadata": {},
   "source": [
    "### pH_YSI"
   ]
  },
  {
   "cell_type": "code",
   "execution_count": 36,
   "metadata": {},
   "outputs": [
    {
     "data": {
      "text/plain": [
       "<AxesSubplot:xlabel='concentration', ylabel='pH_YSI_80ft'>"
      ]
     },
     "execution_count": 36,
     "metadata": {},
     "output_type": "execute_result"
    },
    {
     "data": {
      "image/png": "[encoded data removed]",
      "text/plain": [
       "<Figure size 576x288 with 1 Axes>"
      ]
     },
     "metadata": {
      "needs_background": "light"
     },
     "output_type": "display_data"
    }
   ],
   "source": [
    "### pH_YSI_80ft\n",
    "fig, ax = plt.subplots(1, 1, figsize=(8, 4))\n",
    "sns.boxplot(x=\"concentration\", y=\"pH_YSI_80ft\", data=datos2, ax=ax)"
   ]
  },
  {
   "cell_type": "code",
   "execution_count": 37,
   "metadata": {},
   "outputs": [
    {
     "data": {
      "text/html": [
       "<div>\n",
       "<style scoped>\n",
       "    .dataframe tbody tr th:only-of-type {\n",
       "        vertical-align: middle;\n",
       "    }\n",
       "\n",
       "    .dataframe tbody tr th {\n",
       "        vertical-align: top;\n",
       "    }\n",
       "\n",
       "    .dataframe thead th {\n",
       "        text-align: right;\n",
       "    }\n",
       "</style>\n",
       "<table border=\"1\" class=\"dataframe\">\n",
       "  <thead>\n",
       "    <tr style=\"text-align: right;\">\n",
       "      <th></th>\n",
       "      <th>Source</th>\n",
       "      <th>SS</th>\n",
       "      <th>DF</th>\n",
       "      <th>MS</th>\n",
       "      <th>F</th>\n",
       "      <th>p-unc</th>\n",
       "      <th>np2</th>\n",
       "    </tr>\n",
       "  </thead>\n",
       "  <tbody>\n",
       "    <tr>\n",
       "      <th>0</th>\n",
       "      <td>concentration</td>\n",
       "      <td>0.334490</td>\n",
       "      <td>3</td>\n",
       "      <td>0.111497</td>\n",
       "      <td>47.778507</td>\n",
       "      <td>1.322175e-27</td>\n",
       "      <td>0.198159</td>\n",
       "    </tr>\n",
       "    <tr>\n",
       "      <th>1</th>\n",
       "      <td>Within</td>\n",
       "      <td>1.353495</td>\n",
       "      <td>580</td>\n",
       "      <td>0.002334</td>\n",
       "      <td>NaN</td>\n",
       "      <td>NaN</td>\n",
       "      <td>NaN</td>\n",
       "    </tr>\n",
       "  </tbody>\n",
       "</table>\n",
       "</div>"
      ],
      "text/plain": [
       "          Source        SS   DF        MS          F         p-unc       np2\n",
       "0  concentration  0.334490    3  0.111497  47.778507  1.322175e-27  0.198159\n",
       "1         Within  1.353495  580  0.002334        NaN           NaN       NaN"
      ]
     },
     "execution_count": 37,
     "metadata": {},
     "output_type": "execute_result"
    }
   ],
   "source": [
    "### ANOVA: pH_YSI_80ft\n",
    "\n",
    "# Se genera ANOVA a partir de la libreria Pingouin\n",
    "pg.anova(data=datos2, dv=\"pH_YSI_80ft\", between=\"concentration\", detailed=True)"
   ]
  },
  {
   "cell_type": "code",
   "execution_count": 38,
   "metadata": {},
   "outputs": [
    {
     "data": {
      "text/plain": [
       "<AxesSubplot:xlabel='concentration', ylabel='pH_YSI_1100ft'>"
      ]
     },
     "execution_count": 38,
     "metadata": {},
     "output_type": "execute_result"
    },
    {
     "data": {
      "image/png": "[encoded data removed]",
      "text/plain": [
       "<Figure size 576x288 with 1 Axes>"
      ]
     },
     "metadata": {
      "needs_background": "light"
     },
     "output_type": "display_data"
    }
   ],
   "source": [
    "### pH_YSI_1100ft\n",
    "fig, ax = plt.subplots(1, 1, figsize=(8, 4))\n",
    "sns.boxplot(x=\"concentration\", y=\"pH_YSI_1100ft\", data=datos2, ax=ax)"
   ]
  },
  {
   "cell_type": "code",
   "execution_count": 39,
   "metadata": {},
   "outputs": [
    {
     "data": {
      "text/html": [
       "<div>\n",
       "<style scoped>\n",
       "    .dataframe tbody tr th:only-of-type {\n",
       "        vertical-align: middle;\n",
       "    }\n",
       "\n",
       "    .dataframe tbody tr th {\n",
       "        vertical-align: top;\n",
       "    }\n",
       "\n",
       "    .dataframe thead th {\n",
       "        text-align: right;\n",
       "    }\n",
       "</style>\n",
       "<table border=\"1\" class=\"dataframe\">\n",
       "  <thead>\n",
       "    <tr style=\"text-align: right;\">\n",
       "      <th></th>\n",
       "      <th>Source</th>\n",
       "      <th>SS</th>\n",
       "      <th>DF</th>\n",
       "      <th>MS</th>\n",
       "      <th>F</th>\n",
       "      <th>p-unc</th>\n",
       "      <th>np2</th>\n",
       "    </tr>\n",
       "  </thead>\n",
       "  <tbody>\n",
       "    <tr>\n",
       "      <th>0</th>\n",
       "      <td>concentration</td>\n",
       "      <td>0.326731</td>\n",
       "      <td>3</td>\n",
       "      <td>0.108910</td>\n",
       "      <td>19.315632</td>\n",
       "      <td>5.987258e-12</td>\n",
       "      <td>0.090833</td>\n",
       "    </tr>\n",
       "    <tr>\n",
       "      <th>1</th>\n",
       "      <td>Within</td>\n",
       "      <td>3.270301</td>\n",
       "      <td>580</td>\n",
       "      <td>0.005638</td>\n",
       "      <td>NaN</td>\n",
       "      <td>NaN</td>\n",
       "      <td>NaN</td>\n",
       "    </tr>\n",
       "  </tbody>\n",
       "</table>\n",
       "</div>"
      ],
      "text/plain": [
       "          Source        SS   DF        MS          F         p-unc       np2\n",
       "0  concentration  0.326731    3  0.108910  19.315632  5.987258e-12  0.090833\n",
       "1         Within  3.270301  580  0.005638        NaN           NaN       NaN"
      ]
     },
     "execution_count": 39,
     "metadata": {},
     "output_type": "execute_result"
    }
   ],
   "source": [
    "### ANOVA: pH_YSI_1100ft\n",
    "\n",
    "# Se genera ANOVA a partir de la libreria Pingouin\n",
    "pg.anova(data=datos2, dv=\"pH_YSI_1100ft\", between=\"concentration\", detailed=True)"
   ]
  },
  {
   "attachments": {},
   "cell_type": "markdown",
   "metadata": {},
   "source": [
    "### Sp_cond_YSI"
   ]
  },
  {
   "cell_type": "code",
   "execution_count": 40,
   "metadata": {},
   "outputs": [
    {
     "data": {
      "text/plain": [
       "<AxesSubplot:xlabel='concentration', ylabel='sp_cond_YSI_80ft(µS/cm)'>"
      ]
     },
     "execution_count": 40,
     "metadata": {},
     "output_type": "execute_result"
    },
    {
     "data": {
      "image/png": "[encoded data removed]",
      "text/plain": [
       "<Figure size 576x288 with 1 Axes>"
      ]
     },
     "metadata": {
      "needs_background": "light"
     },
     "output_type": "display_data"
    }
   ],
   "source": [
    "### sp_cond_YSI_80ft(µS/cm)\n",
    "fig, ax = plt.subplots(1, 1, figsize=(8, 4))\n",
    "sns.boxplot(x=\"concentration\", y=\"sp_cond_YSI_80ft(µS/cm)\", data=datos2, ax=ax)"
   ]
  },
  {
   "cell_type": "code",
   "execution_count": 41,
   "metadata": {},
   "outputs": [
    {
     "data": {
      "text/html": [
       "<div>\n",
       "<style scoped>\n",
       "    .dataframe tbody tr th:only-of-type {\n",
       "        vertical-align: middle;\n",
       "    }\n",
       "\n",
       "    .dataframe tbody tr th {\n",
       "        vertical-align: top;\n",
       "    }\n",
       "\n",
       "    .dataframe thead th {\n",
       "        text-align: right;\n",
       "    }\n",
       "</style>\n",
       "<table border=\"1\" class=\"dataframe\">\n",
       "  <thead>\n",
       "    <tr style=\"text-align: right;\">\n",
       "      <th></th>\n",
       "      <th>Source</th>\n",
       "      <th>SS</th>\n",
       "      <th>DF</th>\n",
       "      <th>MS</th>\n",
       "      <th>F</th>\n",
       "      <th>p-unc</th>\n",
       "      <th>np2</th>\n",
       "    </tr>\n",
       "  </thead>\n",
       "  <tbody>\n",
       "    <tr>\n",
       "      <th>0</th>\n",
       "      <td>concentration</td>\n",
       "      <td>54.388699</td>\n",
       "      <td>3</td>\n",
       "      <td>18.129566</td>\n",
       "      <td>2.71754</td>\n",
       "      <td>0.043934</td>\n",
       "      <td>0.013861</td>\n",
       "    </tr>\n",
       "    <tr>\n",
       "      <th>1</th>\n",
       "      <td>Within</td>\n",
       "      <td>3869.363014</td>\n",
       "      <td>580</td>\n",
       "      <td>6.671316</td>\n",
       "      <td>NaN</td>\n",
       "      <td>NaN</td>\n",
       "      <td>NaN</td>\n",
       "    </tr>\n",
       "  </tbody>\n",
       "</table>\n",
       "</div>"
      ],
      "text/plain": [
       "          Source           SS   DF         MS        F     p-unc       np2\n",
       "0  concentration    54.388699    3  18.129566  2.71754  0.043934  0.013861\n",
       "1         Within  3869.363014  580   6.671316      NaN       NaN       NaN"
      ]
     },
     "execution_count": 41,
     "metadata": {},
     "output_type": "execute_result"
    }
   ],
   "source": [
    "### ANOVA: sp_cond_YSI_80ft(µS/cm)\n",
    "\n",
    "# Se genera ANOVA a partir de la libreria Pingouin\n",
    "pg.anova(data=datos2, dv=\"sp_cond_YSI_80ft(µS/cm)\", between=\"concentration\", detailed=True)"
   ]
  },
  {
   "cell_type": "code",
   "execution_count": 42,
   "metadata": {},
   "outputs": [
    {
     "data": {
      "text/plain": [
       "<AxesSubplot:xlabel='concentration', ylabel='sp_cond_YSI_1100ft(µS/cm)'>"
      ]
     },
     "execution_count": 42,
     "metadata": {},
     "output_type": "execute_result"
    },
    {
     "data": {
      "image/png": "[encoded data removed]",
      "text/plain": [
       "<Figure size 576x288 with 1 Axes>"
      ]
     },
     "metadata": {
      "needs_background": "light"
     },
     "output_type": "display_data"
    }
   ],
   "source": [
    "### sp_cond_YSI_1100ft(µS/cm)\n",
    "fig, ax = plt.subplots(1, 1, figsize=(8, 4))\n",
    "sns.boxplot(x=\"concentration\", y=\"sp_cond_YSI_1100ft(µS/cm)\", data=datos2, ax=ax)"
   ]
  },
  {
   "cell_type": "code",
   "execution_count": 43,
   "metadata": {},
   "outputs": [
    {
     "data": {
      "text/html": [
       "<div>\n",
       "<style scoped>\n",
       "    .dataframe tbody tr th:only-of-type {\n",
       "        vertical-align: middle;\n",
       "    }\n",
       "\n",
       "    .dataframe tbody tr th {\n",
       "        vertical-align: top;\n",
       "    }\n",
       "\n",
       "    .dataframe thead th {\n",
       "        text-align: right;\n",
       "    }\n",
       "</style>\n",
       "<table border=\"1\" class=\"dataframe\">\n",
       "  <thead>\n",
       "    <tr style=\"text-align: right;\">\n",
       "      <th></th>\n",
       "      <th>Source</th>\n",
       "      <th>SS</th>\n",
       "      <th>DF</th>\n",
       "      <th>MS</th>\n",
       "      <th>F</th>\n",
       "      <th>p-unc</th>\n",
       "      <th>np2</th>\n",
       "    </tr>\n",
       "  </thead>\n",
       "  <tbody>\n",
       "    <tr>\n",
       "      <th>0</th>\n",
       "      <td>concentration</td>\n",
       "      <td>29.950342</td>\n",
       "      <td>3</td>\n",
       "      <td>9.983447</td>\n",
       "      <td>1.989533</td>\n",
       "      <td>0.114406</td>\n",
       "      <td>0.010186</td>\n",
       "    </tr>\n",
       "    <tr>\n",
       "      <th>1</th>\n",
       "      <td>Within</td>\n",
       "      <td>2910.431507</td>\n",
       "      <td>580</td>\n",
       "      <td>5.017985</td>\n",
       "      <td>NaN</td>\n",
       "      <td>NaN</td>\n",
       "      <td>NaN</td>\n",
       "    </tr>\n",
       "  </tbody>\n",
       "</table>\n",
       "</div>"
      ],
      "text/plain": [
       "          Source           SS   DF        MS         F     p-unc       np2\n",
       "0  concentration    29.950342    3  9.983447  1.989533  0.114406  0.010186\n",
       "1         Within  2910.431507  580  5.017985       NaN       NaN       NaN"
      ]
     },
     "execution_count": 43,
     "metadata": {},
     "output_type": "execute_result"
    }
   ],
   "source": [
    "### ANOVA: sp_cond_YSI_1100ft(µS/cm)\n",
    "\n",
    "# Se genera ANOVA a partir de la libreria Pingouin\n",
    "pg.anova(data=datos2, dv=\"sp_cond_YSI_1100ft(µS/cm)\", between=\"concentration\", detailed=True)"
   ]
  },
  {
   "attachments": {},
   "cell_type": "markdown",
   "metadata": {},
   "source": [
    "### Turbidity YSI"
   ]
  },
  {
   "cell_type": "code",
   "execution_count": 44,
   "metadata": {},
   "outputs": [
    {
     "data": {
      "text/plain": [
       "<AxesSubplot:xlabel='concentration', ylabel='turbidity_YSI_80ft(NTU+)'>"
      ]
     },
     "execution_count": 44,
     "metadata": {},
     "output_type": "execute_result"
    },
    {
     "data": {
      "image/png": "[encoded data removed]",
      "text/plain": [
       "<Figure size 576x288 with 1 Axes>"
      ]
     },
     "metadata": {
      "needs_background": "light"
     },
     "output_type": "display_data"
    }
   ],
   "source": [
    "### turbidity_YSI_80ft(NTU+)\n",
    "fig, ax = plt.subplots(1, 1, figsize=(8, 4))\n",
    "sns.boxplot(x=\"concentration\", y=\"turbidity_YSI_80ft(NTU+)\", data=datos2, ax=ax)"
   ]
  },
  {
   "cell_type": "code",
   "execution_count": 45,
   "metadata": {},
   "outputs": [
    {
     "data": {
      "text/html": [
       "<div>\n",
       "<style scoped>\n",
       "    .dataframe tbody tr th:only-of-type {\n",
       "        vertical-align: middle;\n",
       "    }\n",
       "\n",
       "    .dataframe tbody tr th {\n",
       "        vertical-align: top;\n",
       "    }\n",
       "\n",
       "    .dataframe thead th {\n",
       "        text-align: right;\n",
       "    }\n",
       "</style>\n",
       "<table border=\"1\" class=\"dataframe\">\n",
       "  <thead>\n",
       "    <tr style=\"text-align: right;\">\n",
       "      <th></th>\n",
       "      <th>Source</th>\n",
       "      <th>SS</th>\n",
       "      <th>DF</th>\n",
       "      <th>MS</th>\n",
       "      <th>F</th>\n",
       "      <th>p-unc</th>\n",
       "      <th>np2</th>\n",
       "    </tr>\n",
       "  </thead>\n",
       "  <tbody>\n",
       "    <tr>\n",
       "      <th>0</th>\n",
       "      <td>concentration</td>\n",
       "      <td>0.034863</td>\n",
       "      <td>3</td>\n",
       "      <td>0.011621</td>\n",
       "      <td>0.60153</td>\n",
       "      <td>0.614208</td>\n",
       "      <td>0.003102</td>\n",
       "    </tr>\n",
       "    <tr>\n",
       "      <th>1</th>\n",
       "      <td>Within</td>\n",
       "      <td>11.205068</td>\n",
       "      <td>580</td>\n",
       "      <td>0.019319</td>\n",
       "      <td>NaN</td>\n",
       "      <td>NaN</td>\n",
       "      <td>NaN</td>\n",
       "    </tr>\n",
       "  </tbody>\n",
       "</table>\n",
       "</div>"
      ],
      "text/plain": [
       "          Source         SS   DF        MS        F     p-unc       np2\n",
       "0  concentration   0.034863    3  0.011621  0.60153  0.614208  0.003102\n",
       "1         Within  11.205068  580  0.019319      NaN       NaN       NaN"
      ]
     },
     "execution_count": 45,
     "metadata": {},
     "output_type": "execute_result"
    }
   ],
   "source": [
    "### ANOVA: turbidity_YSI_80ft(NTU+)\n",
    "\n",
    "# Se genera ANOVA a partir de la libreria Pingouin\n",
    "pg.anova(data=datos2, dv=\"turbidity_YSI_80ft(NTU+)\", between=\"concentration\", detailed=True)"
   ]
  },
  {
   "cell_type": "code",
   "execution_count": 46,
   "metadata": {},
   "outputs": [
    {
     "data": {
      "text/plain": [
       "<AxesSubplot:xlabel='concentration', ylabel='turbidity_YSI_1100ft(NTU+)'>"
      ]
     },
     "execution_count": 46,
     "metadata": {},
     "output_type": "execute_result"
    },
    {
     "data": {
      "image/png": "[encoded data removed]",
      "text/plain": [
       "<Figure size 576x288 with 1 Axes>"
      ]
     },
     "metadata": {
      "needs_background": "light"
     },
     "output_type": "display_data"
    }
   ],
   "source": [
    "### turbidity_YSI_1100ft(NTU+)\n",
    "fig, ax = plt.subplots(1, 1, figsize=(8, 4))\n",
    "sns.boxplot(x=\"concentration\", y=\"turbidity_YSI_1100ft(NTU+)\", data=datos2, ax=ax)"
   ]
  },
  {
   "cell_type": "code",
   "execution_count": 47,
   "metadata": {},
   "outputs": [
    {
     "data": {
      "text/html": [
       "<div>\n",
       "<style scoped>\n",
       "    .dataframe tbody tr th:only-of-type {\n",
       "        vertical-align: middle;\n",
       "    }\n",
       "\n",
       "    .dataframe tbody tr th {\n",
       "        vertical-align: top;\n",
       "    }\n",
       "\n",
       "    .dataframe thead th {\n",
       "        text-align: right;\n",
       "    }\n",
       "</style>\n",
       "<table border=\"1\" class=\"dataframe\">\n",
       "  <thead>\n",
       "    <tr style=\"text-align: right;\">\n",
       "      <th></th>\n",
       "      <th>Source</th>\n",
       "      <th>SS</th>\n",
       "      <th>DF</th>\n",
       "      <th>MS</th>\n",
       "      <th>F</th>\n",
       "      <th>p-unc</th>\n",
       "      <th>np2</th>\n",
       "    </tr>\n",
       "  </thead>\n",
       "  <tbody>\n",
       "    <tr>\n",
       "      <th>0</th>\n",
       "      <td>concentration</td>\n",
       "      <td>0.248818</td>\n",
       "      <td>3</td>\n",
       "      <td>0.082939</td>\n",
       "      <td>8.353235</td>\n",
       "      <td>0.000019</td>\n",
       "      <td>0.041417</td>\n",
       "    </tr>\n",
       "    <tr>\n",
       "      <th>1</th>\n",
       "      <td>Within</td>\n",
       "      <td>5.758836</td>\n",
       "      <td>580</td>\n",
       "      <td>0.009929</td>\n",
       "      <td>NaN</td>\n",
       "      <td>NaN</td>\n",
       "      <td>NaN</td>\n",
       "    </tr>\n",
       "  </tbody>\n",
       "</table>\n",
       "</div>"
      ],
      "text/plain": [
       "          Source        SS   DF        MS         F     p-unc       np2\n",
       "0  concentration  0.248818    3  0.082939  8.353235  0.000019  0.041417\n",
       "1         Within  5.758836  580  0.009929       NaN       NaN       NaN"
      ]
     },
     "execution_count": 47,
     "metadata": {},
     "output_type": "execute_result"
    }
   ],
   "source": [
    "### ANOVA: turbidity_YSI_1100ft(NTU+)\n",
    "\n",
    "# Se genera ANOVA a partir de la libreria Pingouin\n",
    "pg.anova(data=datos2, dv=\"turbidity_YSI_1100ft(NTU+)\", between=\"concentration\", detailed=True)"
   ]
  }
 ],
 "metadata": {
  "kernelspec": {
   "display_name": "Python 3.9.13 64-bit",
   "language": "python",
   "name": "python3"
  },
  "language_info": {
   "codemirror_mode": {
    "name": "ipython",
    "version": 3
   },
   "file_extension": ".py",
   "mimetype": "text/x-python",
   "name": "python",
   "nbconvert_exporter": "python",
   "pygments_lexer": "ipython3",
   "version": "3.9.13"
  },
  "vscode": {
   "interpreter": {
    "hash": "aee8b7b246df8f9039afb4144a1f6fd8d2ca17a180786b69acc140d282b71a49"
   }
  }
 },
 "nbformat": 4,
 "nbformat_minor": 4
}
